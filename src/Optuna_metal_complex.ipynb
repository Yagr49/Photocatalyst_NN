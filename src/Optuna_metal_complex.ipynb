{
 "cells": [
  {
   "cell_type": "markdown",
   "metadata": {},
   "source": [
    "# Import libraries"
   ]
  },
  {
   "cell_type": "code",
   "execution_count": 1,
   "metadata": {},
   "outputs": [],
   "source": [
    "import catboost\n",
    "import numpy as np\n",
    "import optuna\n",
    "import pandas as pd\n",
    "import xgboost\n",
    "from scipy import stats\n",
    "from sklearn.model_selection import train_test_split\n",
    "from sklearn.preprocessing import StandardScaler\n",
    "import shap\n",
    "from sklearn.metrics import mean_absolute_error\n",
    "from sklearn.metrics import mean_squared_error\n",
    "from sklearn.metrics import mean_absolute_percentage_error"
   ]
  },
  {
   "cell_type": "markdown",
   "metadata": {},
   "source": [
    "# Preparing datasets\n"
   ]
  },
  {
   "cell_type": "code",
   "execution_count": 19,
   "metadata": {},
   "outputs": [],
   "source": [
    "start_db = pd.read_csv(\"C:\\Python1\\Project\\dataset_fin.csv\") # load organic compounds dataset\n",
    "change_nm = start_db['Absorption max (nm)']\n",
    "change_em = start_db['Emission max (nm)']\n",
    "change_y = start_db['Quantum yield']"
   ]
  },
  {
   "cell_type": "code",
   "execution_count": 22,
   "metadata": {},
   "outputs": [],
   "source": [
    "metal = pd.read_excel(\"C:\\\\Python1\\\\Project\\\\Metalls_db.xlsx\")\n",
    "change_nm_metal = metal['Absorption_nm']\n",
    "change_em_metal = metal['Emission_nm']"
   ]
  },
  {
   "cell_type": "code",
   "execution_count": 17,
   "metadata": {},
   "outputs": [],
   "source": [
    "CM_comp = [f'CM_{i}' for i in range(100)]\n",
    "CM_solv = [f'CM_solv_{i}' for i in range(100)]\n",
    "morgan_lig_1 = [f'Morgan_lig_1_{i}' for i in range(2048)]\n",
    "morgan_lig_2 = [f'Morgan_lig_2_{i}' for i in range(2048)]\n",
    "morgan_solv = [f'Morgan_solv_{i}' for i in range(2048)]\n",
    "tda_comp = [f'Topol_{i}' for i in range(12)]\n",
    "tda_solv = [f'Topol_solv_{i}' for i in range(12)]\n",
    "cm_col = CM_comp + CM_solv + morgan_lig_1 + morgan_lig_2 + morgan_solv + tda_comp + tda_solv "
   ]
  },
  {
   "cell_type": "code",
   "execution_count": null,
   "metadata": {},
   "outputs": [],
   "source": [
    "CM_small = pd.read_csv(\"C:\\Python1\\Project\\CM_small_db.csv\") # load datasets CM 10*10 for organic compounds dataset\n",
    "tda_full = pd.read_csv(\"C:\\Python1\\Project\\\\tda_db.csv\") # load topologies feature for organic compounds dataset\n",
    "morgan_org = pd.read_csv(\"C:\\Python1\\Project\\morgan_db.csv\") # load morgan fingerprints for organic compounds dataset"
   ]
  },
  {
   "cell_type": "code",
   "execution_count": null,
   "metadata": {},
   "outputs": [],
   "source": [
    "CM_small_metal = pd.read_csv('C:\\Python1\\Project\\CM_small_metall_db.csv') # load datasets CM 10*10 for metal complexs dataset\n",
    "tda_metal = pd.read_csv(\"C:\\Python1\\Project\\tda_metal_db.csv\")  # load topologies feature for metal complexs dataset\n",
    "morgan_ligand = pd.read_csv('C:\\Python1\\Project\\ligand_db.csv') # load morgan fingerprints for metal complexs dataset"
   ]
  },
  {
   "cell_type": "code",
   "execution_count": null,
   "metadata": {},
   "outputs": [],
   "source": [
    "CM_small_morgan_tda_db = pd.concat([CM_small, morgan_org, tda_full], columns = cm_col).drop(['Unnamed: 0'],axis=1)\n",
    "CM_small_morgan_tda_db_abs = pd.concat([CM_small_morgan_tda_db, pd.DataFrame({'Absorption':change_nm}),pd.DataFrame(start_db['Molecular weight (g mol-1)'])], axis=1).drop_duplicates()\n"
   ]
  },
  {
   "cell_type": "code",
   "execution_count": null,
   "metadata": {},
   "outputs": [],
   "source": [
    "    \"morgan_db = pd.DataFrame(np.array(list_morgan_fp), columns = [f'Morgan_lig_{i}' for i in range(2048)])\\n\",\n",
    "    \"morgan_db_2 = pd.DataFrame(np.array(list_morgan_fp), columns = [f'Morgan_lig_2_{i}' for i in range(2048)])\\n\",\n",
    "    \"morgan_db_solv = pd.DataFrame(np.array(list_morgan_fp_solv), columns = [f'Morgan_solv_{i}' for i in range(2048)])\""
   ]
  },
  {
   "cell_type": "code",
   "execution_count": null,
   "metadata": {},
   "outputs": [],
   "source": []
  }
 ],
 "metadata": {
  "kernelspec": {
   "display_name": "base",
   "language": "python",
   "name": "python3"
  },
  "language_info": {
   "codemirror_mode": {
    "name": "ipython",
    "version": 3
   },
   "file_extension": ".py",
   "mimetype": "text/x-python",
   "name": "python",
   "nbconvert_exporter": "python",
   "pygments_lexer": "ipython3",
   "version": "3.11.3"
  }
 },
 "nbformat": 4,
 "nbformat_minor": 2
}
