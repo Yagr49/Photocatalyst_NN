{
  "nbformat": 4,
  "nbformat_minor": 0,
  "metadata": {
    "colab": {
      "provenance": [],
      "include_colab_link": true
    },
    "kernelspec": {
      "name": "python3",
      "display_name": "Python 3"
    },
    "language_info": {
      "name": "python"
    }
  },
  "cells": [
    {
      "cell_type": "markdown",
      "metadata": {
        "id": "view-in-github",
        "colab_type": "text"
      },
      "source": [
        "<a href=\"https://colab.research.google.com/github/Yagr49/Photocatalyst_NN/blob/Photocatal/notebooks/preparing_datasets/Preparation_of_metal_complexes_descriptors_datasets.ipynb\" target=\"_parent\"><img src=\"https://colab.research.google.com/assets/colab-badge.svg\" alt=\"Open In Colab\"/></a>"
      ]
    },
    {
      "cell_type": "markdown",
      "source": [
        "# Install libraries"
      ],
      "metadata": {
        "id": "0_MFT1r9WUkO"
      }
    },
    {
      "cell_type": "code",
      "source": [
        "#Install Condacolab (Will crash kernel once, just execute the next cell)\n",
        "!pip install -q condacolab\n",
        "import condacolab\n",
        "condacolab.install()"
      ],
      "metadata": {
        "id": "TPVaAkj5Wdsn",
        "colab": {
          "base_uri": "https://localhost:8080/"
        },
        "outputId": "6a9a15af-b275-4096-ef94-c6513e54cb6b"
      },
      "execution_count": 1,
      "outputs": [
        {
          "output_type": "stream",
          "name": "stdout",
          "text": [
            "\u001b[33mWARNING: Running pip as the 'root' user can result in broken permissions and conflicting behaviour with the system package manager. It is recommended to use a virtual environment instead: https://pip.pypa.io/warnings/venv\u001b[0m\u001b[33m\n",
            "\u001b[0m✨🍰✨ Everything looks OK!\n"
          ]
        }
      ]
    },
    {
      "cell_type": "code",
      "source": [
        "!pip install rdkit"
      ],
      "metadata": {
        "id": "ElG5IzjVWR64",
        "colab": {
          "base_uri": "https://localhost:8080/"
        },
        "outputId": "f78936b6-fa82-4913-c84d-e2b1e5ce14d0"
      },
      "execution_count": 5,
      "outputs": [
        {
          "output_type": "stream",
          "name": "stdout",
          "text": [
            "Requirement already satisfied: rdkit in /usr/local/lib/python3.10/site-packages (2023.9.1)\n",
            "Requirement already satisfied: Pillow in /usr/local/lib/python3.10/site-packages (from rdkit) (10.1.0)\n",
            "Requirement already satisfied: numpy in /usr/local/lib/python3.10/site-packages (from rdkit) (1.26.2)\n",
            "\u001b[33mWARNING: Running pip as the 'root' user can result in broken permissions and conflicting behaviour with the system package manager. It is recommended to use a virtual environment instead: https://pip.pypa.io/warnings/venv\u001b[0m\u001b[33m\n",
            "\u001b[0m"
          ]
        }
      ]
    },
    {
      "cell_type": "code",
      "source": [
        "# uncomment this if running locally or on Google Colab\n",
        "!pip install --upgrade hepml"
      ],
      "metadata": {
        "id": "GfmptC4LPrbu",
        "colab": {
          "base_uri": "https://localhost:8080/"
        },
        "outputId": "d2326ef8-b426-4f0c-e3de-689da7db73f7"
      },
      "execution_count": 6,
      "outputs": [
        {
          "output_type": "stream",
          "name": "stdout",
          "text": [
            "Requirement already satisfied: parso<0.9.0,>=0.8.3 in /usr/local/lib/python3.10/site-packages (from jedi>=0.16->ipython->execnb>=0.1.4->nbdev->hepml) (0.8.3)\n",
            "Requirement already satisfied: ptyprocess>=0.5 in /usr/local/lib/python3.10/site-packages (from pexpect>4.3->ipython->execnb>=0.1.4->nbdev->hepml) (0.7.0)\n",
            "Requirement already satisfied: wcwidth in /usr/local/lib/python3.10/site-packages (from prompt-toolkit!=3.0.37,<3.1.0,>=3.0.30->ipython->execnb>=0.1.4->nbdev->hepml) (0.2.10)\n",
            "Requirement already satisfied: pure-eval in /usr/local/lib/python3.10/site-packages (from stack-data->ipython->execnb>=0.1.4->nbdev->hepml) (0.2.2)\n",
            "Requirement already satisfied: executing>=1.2.0 in /usr/local/lib/python3.10/site-packages (from stack-data->ipython->execnb>=0.1.4->nbdev->hepml) (2.0.1)\n",
            "\u001b[33mWARNING: Running pip as the 'root' user can result in broken permissions and conflicting behaviour with the system package manager. It is recommended to use a virtual environment instead: https://pip.pypa.io/warnings/venv\u001b[0m\u001b[33m\n",
            "\u001b[0m"
          ]
        }
      ]
    },
    {
      "cell_type": "code",
      "source": [
        "# Install Openbabel from conda forge\n",
        "!conda install openbabel -c conda-forge"
      ],
      "metadata": {
        "id": "CT_aTyzkWiUZ",
        "colab": {
          "base_uri": "https://localhost:8080/"
        },
        "outputId": "a2334738-56a8-4b5b-f733-7d9a8e4bd549"
      },
      "execution_count": 4,
      "outputs": [
        {
          "output_type": "stream",
          "name": "stdout",
          "text": [
            "Collecting package metadata (current_repodata.json): - \b\b\\ \b\b| \b\b/ \b\b- \b\b\\ \b\b| \b\b/ \b\b- \b\b\\ \b\b| \b\b/ \b\b- \b\b\\ \b\b| \b\b/ \b\b- \b\b\\ \b\b| \b\b/ \b\b- \b\b\\ \b\b| \b\b/ \b\b- \b\b\\ \b\b| \b\b/ \b\b- \b\b\\ \b\b| \b\b/ \b\b- \b\b\\ \b\b| \b\b/ \b\b- \b\b\\ \b\b| \b\b/ \b\b- \b\b\\ \b\b| \b\b/ \b\b- \b\b\\ \b\b| \b\b/ \b\b- \b\b\\ \b\b| \b\b/ \b\b- \b\b\\ \b\b| \b\b/ \b\b- \b\b\\ \b\b| \b\b/ \b\b- \b\b\\ \b\b| \b\b/ \b\b- \b\b\\ \b\b| \b\b/ \b\b- \b\b\\ \b\b| \b\b/ \b\b- \b\b\\ \b\b| \b\b/ \b\b- \b\b\\ \b\b| \b\b/ \b\b- \b\b\\ \b\b| \b\b/ \b\b- \b\b\\ \b\b| \b\b/ \b\b- \b\b\\ \b\b| \b\b/ \b\b- \b\b\\ \b\b| \b\b/ \b\b- \b\b\\ \b\b| \b\b/ \b\b- \b\b\\ \b\b| \b\b/ \b\b- \b\b\\ \b\b| \b\b/ \b\b- \b\b\\ \b\b| \b\b/ \b\b- \b\b\\ \b\b| \b\b/ \b\b- \b\b\\ \b\b| \b\b/ \b\b- \b\b\\ \b\b| \b\b/ \b\b- \b\b\\ \b\b| \b\b/ \b\b- \b\b\\ \b\b| \b\b/ \b\b- \b\b\\ \b\b| \b\b/ \b\b- \b\b\\ \b\b| \b\b/ \b\b- \b\b\\ \b\b| \b\b/ \b\b- \b\b\\ \b\b| \b\b/ \b\b- \b\b\\ \b\b| \b\b/ \b\b- \b\b\\ \b\b| \b\b/ \b\b- \b\b\\ \b\b| \b\b/ \b\b- \b\b\\ \b\b| \b\b/ \b\b- \b\b\\ \b\b| \b\b/ \b\b- \b\b\\ \b\b| \b\b/ \b\b- \b\b\\ \b\b| \b\b/ \b\b- \b\b\\ \b\b| \b\b/ \b\b- \b\b\\ \b\b| \b\b/ \b\b- \b\b\\ \b\b| \b\b/ \b\b- \b\b\\ \b\b| \b\b/ \b\b- \b\b\\ \b\b| \b\b/ \b\b- \b\b\\ \b\b| \b\b/ \b\b- \b\b\\ \b\b| \b\b/ \b\b- \b\b\\ \b\b| \b\b/ \b\b- \b\b\\ \b\b| \b\b/ \b\b- \b\b\\ \b\b| \b\b/ \b\b- \b\b\\ \b\b| \b\b/ \b\b- \b\b\\ \b\b| \b\b/ \b\b- \b\b\\ \b\b| \b\b/ \b\b- \b\b\\ \b\b| \b\b/ \b\b- \b\b\\ \b\b| \b\b/ \b\b- \b\b\\ \b\b| \b\b/ \b\b- \b\b\\ \b\b| \b\b/ \b\b- \b\b\\ \b\b| \b\b/ \b\b- \b\b\\ \b\b| \b\b/ \b\b- \b\b\\ \b\b| \b\b/ \b\b- \b\b\\ \b\b| \b\b/ \b\b- \b\b\\ \b\b| \b\b/ \b\b- \b\b\\ \b\b| \b\bdone\n",
            "Solving environment: - \b\b\\ \b\b| \b\b/ \b\b- \b\b\\ \b\b| \b\b/ \b\b- \b\b\\ \b\b| \b\b/ \b\b- \b\b\\ \b\b| \b\b/ \b\b- \b\b\\ \b\b| \b\b/ \b\b- \b\b\\ \b\b| \b\b/ \b\b- \b\b\\ \b\b| \b\b/ \b\b- \b\b\\ \b\b| \b\b/ \b\b- \b\b\\ \b\b| \b\b/ \b\b- \b\b\\ \b\b| \b\b/ \b\b- \b\b\\ \b\b| \b\b/ \b\b- \b\b\\ \b\b| \b\b/ \b\b- \b\b\\ \b\b| \b\b/ \b\b- \b\bdone\n",
            "\n",
            "\n",
            "==> WARNING: A newer version of conda exists. <==\n",
            "  current version: 23.1.0\n",
            "  latest version: 23.10.0\n",
            "\n",
            "Please update conda by running\n",
            "\n",
            "    $ conda update -n base -c conda-forge conda\n",
            "\n",
            "Or to minimize the number of packages updated during conda update use\n",
            "\n",
            "     conda install conda=23.10.0\n",
            "\n",
            "\n",
            "\n",
            "## Package Plan ##\n",
            "\n",
            "  environment location: /usr/local\n",
            "\n",
            "  added / updated specs:\n",
            "    - openbabel\n",
            "\n",
            "\n",
            "The following packages will be downloaded:\n",
            "\n",
            "    package                    |            build\n",
            "    ---------------------------|-----------------\n",
            "    ca-certificates-2023.11.17 |       hbcca054_0         151 KB  conda-forge\n",
            "    cairo-1.18.0               |       h3faef2a_0         959 KB  conda-forge\n",
            "    certifi-2023.11.17         |     pyhd8ed1ab_0         155 KB  conda-forge\n",
            "    expat-2.5.0                |       hcb278e6_1         134 KB  conda-forge\n",
            "    font-ttf-dejavu-sans-mono-2.37|       hab24e00_0         388 KB  conda-forge\n",
            "    font-ttf-inconsolata-3.000 |       h77eed37_0          94 KB  conda-forge\n",
            "    font-ttf-source-code-pro-2.038|       h77eed37_0         684 KB  conda-forge\n",
            "    font-ttf-ubuntu-0.83       |       hab24e00_0         1.9 MB  conda-forge\n",
            "    fontconfig-2.14.2          |       h14ed4e7_0         266 KB  conda-forge\n",
            "    fonts-conda-ecosystem-1    |                0           4 KB  conda-forge\n",
            "    fonts-conda-forge-1        |                0           4 KB  conda-forge\n",
            "    freetype-2.12.1            |       h267a509_2         620 KB  conda-forge\n",
            "    gettext-0.21.1             |       h27087fc_0         4.1 MB  conda-forge\n",
            "    icu-73.2                   |       h59595ed_0        11.5 MB  conda-forge\n",
            "    libarchive-3.6.2           |       h039dbb9_1         824 KB  conda-forge\n",
            "    libexpat-2.5.0             |       hcb278e6_1          76 KB  conda-forge\n",
            "    libglib-2.78.1             |       h783c2da_1         2.6 MB  conda-forge\n",
            "    libpng-1.6.39              |       h753d276_0         276 KB  conda-forge\n",
            "    libxcb-1.15                |       h0b41bf4_0         375 KB  conda-forge\n",
            "    libxml2-2.11.6             |       h232c23b_0         689 KB  conda-forge\n",
            "    openbabel-3.1.1            |  py310h956b46e_8         5.0 MB  conda-forge\n",
            "    openssl-3.1.4              |       hd590300_0         2.5 MB  conda-forge\n",
            "    pcre2-10.42                |       hcad00b1_0         993 KB  conda-forge\n",
            "    pixman-0.42.2              |       h59595ed_0         376 KB  conda-forge\n",
            "    pthread-stubs-0.4          |    h36c2ea0_1001           5 KB  conda-forge\n",
            "    python_abi-3.10            |          4_cp310           6 KB  conda-forge\n",
            "    xorg-kbproto-1.0.7         |    h7f98852_1002          27 KB  conda-forge\n",
            "    xorg-libice-1.1.1          |       hd590300_0          57 KB  conda-forge\n",
            "    xorg-libsm-1.2.4           |       h7391055_0          27 KB  conda-forge\n",
            "    xorg-libx11-1.8.7          |       h8ee46fc_0         809 KB  conda-forge\n",
            "    xorg-libxau-1.0.11         |       hd590300_0          14 KB  conda-forge\n",
            "    xorg-libxdmcp-1.1.3        |       h7f98852_0          19 KB  conda-forge\n",
            "    xorg-libxext-1.3.4         |       h0b41bf4_2          49 KB  conda-forge\n",
            "    xorg-libxrender-0.9.11     |       hd590300_0          37 KB  conda-forge\n",
            "    xorg-renderproto-0.11.1    |    h7f98852_1002           9 KB  conda-forge\n",
            "    xorg-xextproto-7.3.0       |    h0b41bf4_1003          30 KB  conda-forge\n",
            "    xorg-xproto-7.0.31         |    h7f98852_1007          73 KB  conda-forge\n",
            "    zlib-1.2.13                |       h166bdaf_4          92 KB  conda-forge\n",
            "    ------------------------------------------------------------\n",
            "                                           Total:        35.7 MB\n",
            "\n",
            "The following NEW packages will be INSTALLED:\n",
            "\n",
            "  cairo              conda-forge/linux-64::cairo-1.18.0-h3faef2a_0 \n",
            "  expat              conda-forge/linux-64::expat-2.5.0-hcb278e6_1 \n",
            "  font-ttf-dejavu-s~ conda-forge/noarch::font-ttf-dejavu-sans-mono-2.37-hab24e00_0 \n",
            "  font-ttf-inconsol~ conda-forge/noarch::font-ttf-inconsolata-3.000-h77eed37_0 \n",
            "  font-ttf-source-c~ conda-forge/noarch::font-ttf-source-code-pro-2.038-h77eed37_0 \n",
            "  font-ttf-ubuntu    conda-forge/noarch::font-ttf-ubuntu-0.83-hab24e00_0 \n",
            "  fontconfig         conda-forge/linux-64::fontconfig-2.14.2-h14ed4e7_0 \n",
            "  fonts-conda-ecosy~ conda-forge/noarch::fonts-conda-ecosystem-1-0 \n",
            "  fonts-conda-forge  conda-forge/noarch::fonts-conda-forge-1-0 \n",
            "  freetype           conda-forge/linux-64::freetype-2.12.1-h267a509_2 \n",
            "  gettext            conda-forge/linux-64::gettext-0.21.1-h27087fc_0 \n",
            "  libexpat           conda-forge/linux-64::libexpat-2.5.0-hcb278e6_1 \n",
            "  libglib            conda-forge/linux-64::libglib-2.78.1-h783c2da_1 \n",
            "  libpng             conda-forge/linux-64::libpng-1.6.39-h753d276_0 \n",
            "  libxcb             conda-forge/linux-64::libxcb-1.15-h0b41bf4_0 \n",
            "  openbabel          conda-forge/linux-64::openbabel-3.1.1-py310h956b46e_8 \n",
            "  pcre2              conda-forge/linux-64::pcre2-10.42-hcad00b1_0 \n",
            "  pixman             conda-forge/linux-64::pixman-0.42.2-h59595ed_0 \n",
            "  pthread-stubs      conda-forge/linux-64::pthread-stubs-0.4-h36c2ea0_1001 \n",
            "  xorg-kbproto       conda-forge/linux-64::xorg-kbproto-1.0.7-h7f98852_1002 \n",
            "  xorg-libice        conda-forge/linux-64::xorg-libice-1.1.1-hd590300_0 \n",
            "  xorg-libsm         conda-forge/linux-64::xorg-libsm-1.2.4-h7391055_0 \n",
            "  xorg-libx11        conda-forge/linux-64::xorg-libx11-1.8.7-h8ee46fc_0 \n",
            "  xorg-libxau        conda-forge/linux-64::xorg-libxau-1.0.11-hd590300_0 \n",
            "  xorg-libxdmcp      conda-forge/linux-64::xorg-libxdmcp-1.1.3-h7f98852_0 \n",
            "  xorg-libxext       conda-forge/linux-64::xorg-libxext-1.3.4-h0b41bf4_2 \n",
            "  xorg-libxrender    conda-forge/linux-64::xorg-libxrender-0.9.11-hd590300_0 \n",
            "  xorg-renderproto   conda-forge/linux-64::xorg-renderproto-0.11.1-h7f98852_1002 \n",
            "  xorg-xextproto     conda-forge/linux-64::xorg-xextproto-7.3.0-h0b41bf4_1003 \n",
            "  xorg-xproto        conda-forge/linux-64::xorg-xproto-7.0.31-h7f98852_1007 \n",
            "  zlib               conda-forge/linux-64::zlib-1.2.13-h166bdaf_4 \n",
            "\n",
            "The following packages will be UPDATED:\n",
            "\n",
            "  ca-certificates                      2022.12.7-ha878542_0 --> 2023.11.17-hbcca054_0 \n",
            "  certifi                            2022.12.7-pyhd8ed1ab_0 --> 2023.11.17-pyhd8ed1ab_0 \n",
            "  icu                                       72.1-hcb278e6_0 --> 73.2-h59595ed_0 \n",
            "  libarchive                               3.6.2-h3d51595_0 --> 3.6.2-h039dbb9_1 \n",
            "  libxml2                                 2.10.3-hfdac1af_6 --> 2.11.6-h232c23b_0 \n",
            "  openssl                                  3.1.0-h0b41bf4_0 --> 3.1.4-hd590300_0 \n",
            "  python_abi                                   3.10-3_cp310 --> 3.10-4_cp310 \n",
            "\n",
            "\n",
            "\n",
            "Downloading and Extracting Packages\n",
            "xorg-kbproto-1.0.7   | 27 KB     | :   0% 0/1 [00:00<?, ?it/s]\n",
            "xorg-libxext-1.3.4   | 49 KB     | :   0% 0/1 [00:00<?, ?it/s]\u001b[A\n",
            "\n",
            "pcre2-10.42          | 993 KB    | :   0% 0/1 [00:00<?, ?it/s]\u001b[A\u001b[A\n",
            "\n",
            "\n",
            "certifi-2023.11.17   | 155 KB    | :   0% 0/1 [00:00<?, ?it/s]\u001b[A\u001b[A\u001b[A\n",
            "\n",
            "\n",
            "\n",
            "xorg-libxau-1.0.11   | 14 KB     | :   0% 0/1 [00:00<?, ?it/s]\u001b[A\u001b[A\u001b[A\u001b[A\n",
            "\n",
            "\n",
            "\n",
            "\n",
            "libpng-1.6.39        | 276 KB    | :   0% 0/1 [00:00<?, ?it/s]\u001b[A\u001b[A\u001b[A\u001b[A\u001b[A\n",
            "\n",
            "\n",
            "\n",
            "\n",
            "\n",
            "xorg-xextproto-7.3.0 | 30 KB     | :   0% 0/1 [00:00<?, ?it/s]\u001b[A\u001b[A\u001b[A\u001b[A\u001b[A\u001b[A\n",
            "\n",
            "\n",
            "\n",
            "\n",
            "\n",
            "\n",
            "fontconfig-2.14.2    | 266 KB    | :   0% 0/1 [00:00<?, ?it/s]\u001b[A\u001b[A\u001b[A\u001b[A\u001b[A\u001b[A\u001b[A\n",
            "\n",
            "\n",
            "\n",
            "\n",
            "\n",
            "\n",
            "\n",
            "xorg-libxrender-0.9. | 37 KB     | :   0% 0/1 [00:00<?, ?it/s]\u001b[A\u001b[A\u001b[A\u001b[A\u001b[A\u001b[A\u001b[A\u001b[A\n",
            "\n",
            "\n",
            "\n",
            "\n",
            "\n",
            "\n",
            "\n",
            "\n",
            "font-ttf-inconsolata | 94 KB     | :   0% 0/1 [00:00<?, ?it/s]\u001b[A\u001b[A\u001b[A\u001b[A\u001b[A\u001b[A\u001b[A\u001b[A\u001b[A\n",
            "\n",
            "\n",
            "\n",
            "\n",
            "\n",
            "\n",
            "\n",
            "\n",
            "\n",
            "cairo-1.18.0         | 959 KB    | :   0% 0/1 [00:00<?, ?it/s]\u001b[A\u001b[A\u001b[A\u001b[A\u001b[A\u001b[A\u001b[A\u001b[A\u001b[A\u001b[A\n",
            "\n",
            "\n",
            "\n",
            "\n",
            "\n",
            "\n",
            "\n",
            "\n",
            "\n",
            "\n",
            "ca-certificates-2023 | 151 KB    | :   0% 0/1 [00:00<?, ?it/s]\u001b[A\u001b[A\u001b[A\u001b[A\u001b[A\u001b[A\u001b[A\u001b[A\u001b[A\u001b[A\u001b[A\n",
            "\n",
            "\n",
            "\n",
            "\n",
            "\n",
            "\n",
            "\n",
            "\n",
            "\n",
            "\n",
            "\n",
            "expat-2.5.0          | 134 KB    | :   0% 0/1 [00:00<?, ?it/s]\u001b[A\u001b[A\u001b[A\u001b[A\u001b[A\u001b[A\u001b[A\u001b[A\u001b[A\u001b[A\u001b[A\u001b[A\n",
            "\n",
            "\n",
            "\n",
            "\n",
            "\n",
            "\n",
            "\n",
            "\n",
            "\n",
            "\n",
            "\n",
            "\n",
            "libxcb-1.15          | 375 KB    | :   0% 0/1 [00:00<?, ?it/s]\u001b[A\u001b[A\u001b[A\u001b[A\u001b[A\u001b[A\u001b[A\u001b[A\u001b[A\u001b[A\u001b[A\u001b[A\u001b[A\n",
            "\n",
            "\n",
            "\n",
            "\n",
            "\n",
            "\n",
            "\n",
            "\n",
            "\n",
            "\n",
            "\n",
            "\n",
            "\n",
            "fonts-conda-forge-1  | 4 KB      | :   0% 0/1 [00:00<?, ?it/s]\u001b[A\u001b[A\u001b[A\u001b[A\u001b[A\u001b[A\u001b[A\u001b[A\u001b[A\u001b[A\u001b[A\u001b[A\u001b[A\u001b[A\n",
            "\n",
            "\n",
            "\n",
            "\n",
            "\n",
            "\n",
            "\n",
            "\n",
            "\n",
            "\n",
            "\n",
            "\n",
            "\n",
            "\n",
            "openssl-3.1.4        | 2.5 MB    | :   0% 0/1 [00:00<?, ?it/s]\u001b[A\u001b[A\u001b[A\u001b[A\u001b[A\u001b[A\u001b[A\u001b[A\u001b[A\u001b[A\u001b[A\u001b[A\u001b[A\u001b[A\u001b[A\n",
            "\n",
            "\n",
            "\n",
            "\n",
            "\n",
            "\n",
            "\n",
            "\n",
            "\n",
            "\n",
            "\n",
            "\n",
            "\n",
            "\n",
            "\n",
            "pthread-stubs-0.4    | 5 KB      | :   0% 0/1 [00:00<?, ?it/s]\u001b[A\u001b[A\u001b[A\u001b[A\u001b[A\u001b[A\u001b[A\u001b[A\u001b[A\u001b[A\u001b[A\u001b[A\u001b[A\u001b[A\u001b[A\u001b[A\n",
            "\n",
            "\n",
            "\n",
            "\n",
            "\n",
            "\n",
            "\n",
            "\n",
            "\n",
            "\n",
            "\n",
            "\n",
            "\n",
            "\n",
            "\n",
            "\n",
            "xorg-renderproto-0.1 | 9 KB      | :   0% 0/1 [00:00<?, ?it/s]\u001b[A\u001b[A\u001b[A\u001b[A\u001b[A\u001b[A\u001b[A\u001b[A\u001b[A\u001b[A\u001b[A\u001b[A\u001b[A\u001b[A\u001b[A\u001b[A\u001b[A\n",
            "\n",
            "\n",
            "\n",
            "\n",
            "\n",
            "\n",
            "\n",
            "\n",
            "\n",
            "\n",
            "\n",
            "\n",
            "\n",
            "\n",
            "\n",
            "\n",
            "\n",
            "libglib-2.78.1       | 2.6 MB    | :   0% 0/1 [00:00<?, ?it/s]\u001b[A\u001b[A\u001b[A\u001b[A\u001b[A\u001b[A\u001b[A\u001b[A\u001b[A\u001b[A\u001b[A\u001b[A\u001b[A\u001b[A\u001b[A\u001b[A\u001b[A\u001b[A\n",
            "\n",
            "\n",
            "\n",
            "\n",
            "\n",
            "\n",
            "\n",
            "\n",
            "\n",
            "\n",
            "\n",
            "\n",
            "\n",
            "\n",
            "\n",
            "\n",
            "\n",
            "\n",
            " ... (more hidden) ...\u001b[A\u001b[A\u001b[A\u001b[A\u001b[A\u001b[A\u001b[A\u001b[A\u001b[A\u001b[A\u001b[A\u001b[A\u001b[A\u001b[A\u001b[A\u001b[A\u001b[A\u001b[A\u001b[A\n",
            "\n",
            "pcre2-10.42          | 993 KB    | :   2% 0.01610640609102125/1 [00:00<00:07,  7.82s/it]\u001b[A\u001b[A\n",
            "xorg-kbproto-1.0.7   | 27 KB     | :  60% 0.5993123125320068/1 [00:00<00:00,  3.37it/s]\n",
            "\n",
            "\n",
            "certifi-2023.11.17   | 155 KB    | :  10% 0.1030835729430788/1 [00:00<00:01,  1.67s/it]\u001b[A\u001b[A\u001b[A\n",
            "\n",
            "\n",
            "\n",
            "xorg-libxau-1.0.11   | 14 KB     | : 100% 1.0/1 [00:00<00:00,  5.61it/s]\u001b[A\u001b[A\u001b[A\u001b[A\n",
            "\n",
            "\n",
            "\n",
            "\n",
            "libpng-1.6.39        | 276 KB    | :   6% 0.05797614287382475/1 [00:00<00:03,  3.29s/it]\u001b[A\u001b[A\u001b[A\u001b[A\u001b[A\n",
            "\n",
            "\n",
            "\n",
            "\n",
            "\n",
            "xorg-xextproto-7.3.0 | 30 KB     | :  54% 0.5412619755533532/1 [00:00<00:00,  2.53it/s]\u001b[A\u001b[A\u001b[A\u001b[A\u001b[A\u001b[A\n",
            "xorg-libxext-1.3.4   | 49 KB     | : 100% 1.0/1 [00:00<00:00,  2.22it/s]              \u001b[A\n",
            "\n",
            "\n",
            "\n",
            "\n",
            "\n",
            "\n",
            "fontconfig-2.14.2    | 266 KB    | :   6% 0.060233079666188745/1 [00:00<00:03,  3.73s/it]\u001b[A\u001b[A\u001b[A\u001b[A\u001b[A\u001b[A\u001b[A\n",
            "\n",
            "\n",
            "\n",
            "\n",
            "\n",
            "\n",
            "\n",
            "xorg-kbproto-1.0.7   | 27 KB     | : 100% 1.0/1 [00:00<00:00,  3.37it/s]               \n",
            "\n",
            "\n",
            "\n",
            "\n",
            "\n",
            "\n",
            "\n",
            "\n",
            "font-ttf-inconsolata | 94 KB     | :  17% 0.16972961773541903/1 [00:00<00:01,  1.42s/it]\u001b[A\u001b[A\u001b[A\u001b[A\u001b[A\u001b[A\u001b[A\u001b[A\u001b[A\n",
            "\n",
            "\n",
            "\n",
            "\n",
            "\n",
            "\n",
            "\n",
            "\n",
            "\n",
            "cairo-1.18.0         | 959 KB    | :   2% 0.016678356310524445/1 [00:00<00:14, 14.83s/it]\u001b[A\u001b[A\u001b[A\u001b[A\u001b[A\u001b[A\u001b[A\u001b[A\u001b[A\u001b[A\n",
            "\n",
            "\n",
            "\n",
            "xorg-libxau-1.0.11   | 14 KB     | : 100% 1.0/1 [00:00<00:00,  5.61it/s]\u001b[A\u001b[A\u001b[A\u001b[A\n",
            "\n",
            "\n",
            "\n",
            "\n",
            "\n",
            "\n",
            "\n",
            "\n",
            "\n",
            "\n",
            "ca-certificates-2023 | 151 KB    | :  11% 0.1063088432814031/1 [00:00<00:02,  2.55s/it]\u001b[A\u001b[A\u001b[A\u001b[A\u001b[A\u001b[A\u001b[A\u001b[A\u001b[A\u001b[A\u001b[A\n",
            "\n",
            "\n",
            "\n",
            "\n",
            "\n",
            "\n",
            "\n",
            "\n",
            "\n",
            "\n",
            "\n",
            "\n",
            "libxcb-1.15          | 375 KB    | :   4% 0.042640238602116395/1 [00:00<00:06,  6.66s/it]\u001b[A\u001b[A\u001b[A\u001b[A\u001b[A\u001b[A\u001b[A\u001b[A\u001b[A\u001b[A\u001b[A\u001b[A\u001b[A\n",
            "\n",
            "\n",
            "\n",
            "\n",
            "\n",
            "\n",
            "\n",
            "\n",
            "\n",
            "\n",
            "\n",
            "expat-2.5.0          | 134 KB    | :  12% 0.11978534559651406/1 [00:00<00:02,  2.45s/it]\u001b[A\u001b[A\u001b[A\u001b[A\u001b[A\u001b[A\u001b[A\u001b[A\u001b[A\u001b[A\u001b[A\u001b[A\n",
            "\n",
            "\n",
            "\n",
            "\n",
            "\n",
            "\n",
            "\n",
            "\n",
            "\n",
            "\n",
            "\n",
            "\n",
            "\n",
            "fonts-conda-forge-1  | 4 KB      | : 100% 1.0/1 [00:00<00:00,  3.22it/s]\u001b[A\u001b[A\u001b[A\u001b[A\u001b[A\u001b[A\u001b[A\u001b[A\u001b[A\u001b[A\u001b[A\u001b[A\u001b[A\u001b[A\n",
            "\n",
            "\n",
            "certifi-2023.11.17   | 155 KB    | : 100% 1.0/1 [00:00<00:00,  3.55it/s]               \u001b[A\u001b[A\u001b[A\n",
            "\n",
            "\n",
            "certifi-2023.11.17   | 155 KB    | : 100% 1.0/1 [00:00<00:00,  3.55it/s]\u001b[A\u001b[A\u001b[A\n",
            "\n",
            "\n",
            "\n",
            "\n",
            "\n",
            "\n",
            "\n",
            "\n",
            "\n",
            "\n",
            "\n",
            "\n",
            "\n",
            "\n",
            "openssl-3.1.4        | 2.5 MB    | :   1% 0.006187297158692239/1 [00:00<00:53, 53.41s/it]\u001b[A\u001b[A\u001b[A\u001b[A\u001b[A\u001b[A\u001b[A\u001b[A\u001b[A\u001b[A\u001b[A\u001b[A\u001b[A\u001b[A\u001b[A\n",
            "\n",
            "\n",
            "\n",
            "\n",
            "\n",
            "\n",
            "\n",
            "\n",
            "\n",
            "\n",
            "\n",
            "\n",
            "\n",
            "\n",
            "\n",
            "pthread-stubs-0.4    | 5 KB      | : 100% 1.0/1 [00:00<00:00,  2.96it/s]\u001b[A\u001b[A\u001b[A\u001b[A\u001b[A\u001b[A\u001b[A\u001b[A\u001b[A\u001b[A\u001b[A\u001b[A\u001b[A\u001b[A\u001b[A\u001b[A\n",
            "\n",
            "\n",
            "\n",
            "\n",
            "\n",
            "\n",
            "\n",
            "\n",
            "\n",
            "\n",
            "\n",
            "\n",
            "\n",
            "\n",
            "\n",
            "\n",
            "xorg-renderproto-0.1 | 9 KB      | : 100% 1.0/1 [00:00<00:00,  2.92it/s]\u001b[A\u001b[A\u001b[A\u001b[A\u001b[A\u001b[A\u001b[A\u001b[A\u001b[A\u001b[A\u001b[A\u001b[A\u001b[A\u001b[A\u001b[A\u001b[A\u001b[A\n",
            "\n",
            "\n",
            "\n",
            "\n",
            "\n",
            "\n",
            "\n",
            "\n",
            "\n",
            "\n",
            "\n",
            "\n",
            "\n",
            "\n",
            "\n",
            "\n",
            "\n",
            "libglib-2.78.1       | 2.6 MB    | :   1% 0.0060924117420229525/1 [00:00<00:56, 56.85s/it]\u001b[A\u001b[A\u001b[A\u001b[A\u001b[A\u001b[A\u001b[A\u001b[A\u001b[A\u001b[A\u001b[A\u001b[A\u001b[A\u001b[A\u001b[A\u001b[A\u001b[A\u001b[A\n",
            "\n",
            "\n",
            "\n",
            "\n",
            "\n",
            "\n",
            "\n",
            "\n",
            "\n",
            "\n",
            "\n",
            "\n",
            "\n",
            "\n",
            "\n",
            "\n",
            "\n",
            "\n",
            " ... (more hidden) ...\u001b[A\u001b[A\u001b[A\u001b[A\u001b[A\u001b[A\u001b[A\u001b[A\u001b[A\u001b[A\u001b[A\u001b[A\u001b[A\u001b[A\u001b[A\u001b[A\u001b[A\u001b[A\u001b[A\n",
            "\n",
            "\n",
            "\n",
            "\n",
            "\n",
            "\n",
            "\n",
            "\n",
            "\n",
            "\n",
            "\n",
            "\n",
            "\n",
            "\n",
            "openssl-3.1.4        | 2.5 MB    | :  40% 0.39598701815630327/1 [00:00<00:00,  1.18it/s] \u001b[A\u001b[A\u001b[A\u001b[A\u001b[A\u001b[A\u001b[A\u001b[A\u001b[A\u001b[A\u001b[A\u001b[A\u001b[A\u001b[A\u001b[A\n",
            "\n",
            "\n",
            "\n",
            "\n",
            "\n",
            "\n",
            "\n",
            "\n",
            "\n",
            "\n",
            "\n",
            "\n",
            "\n",
            "\n",
            "\n",
            "\n",
            "\n",
            "libglib-2.78.1       | 2.6 MB    | :  65% 0.651888056396456/1 [00:00<00:00,  1.90it/s]    \u001b[A\u001b[A\u001b[A\u001b[A\u001b[A\u001b[A\u001b[A\u001b[A\u001b[A\u001b[A\u001b[A\u001b[A\u001b[A\u001b[A\u001b[A\u001b[A\u001b[A\u001b[A\n",
            "\n",
            "\n",
            "\n",
            "\n",
            "libpng-1.6.39        | 276 KB    | : 100% 1.0/1 [00:00<00:00,  2.48it/s]                \u001b[A\u001b[A\u001b[A\u001b[A\u001b[A\n",
            "\n",
            "\n",
            "\n",
            "\n",
            "libpng-1.6.39        | 276 KB    | : 100% 1.0/1 [00:00<00:00,  2.48it/s]\u001b[A\u001b[A\u001b[A\u001b[A\u001b[A\n",
            "\n",
            "\n",
            "\n",
            "\n",
            "\n",
            "\n",
            "\n",
            "\n",
            "\n",
            "\n",
            "\n",
            "\n",
            "\n",
            "\n",
            "\n",
            "\n",
            "\n",
            "\n",
            " ... (more hidden) ...\u001b[A\u001b[A\u001b[A\u001b[A\u001b[A\u001b[A\u001b[A\u001b[A\u001b[A\u001b[A\u001b[A\u001b[A\u001b[A\u001b[A\u001b[A\u001b[A\u001b[A\u001b[A\u001b[A\n",
            "\n",
            "\n",
            "\n",
            "\n",
            "\n",
            "\n",
            "\n",
            "\n",
            "\n",
            "\n",
            "\n",
            "\n",
            "\n",
            "\n",
            "openssl-3.1.4        | 2.5 MB    | :  91% 0.9095326823277591/1 [00:00<00:00,  2.37it/s] \u001b[A\u001b[A\u001b[A\u001b[A\u001b[A\u001b[A\u001b[A\u001b[A\u001b[A\u001b[A\u001b[A\u001b[A\u001b[A\u001b[A\u001b[A\n",
            "\n",
            "\n",
            "\n",
            "\n",
            "\n",
            "\n",
            "\n",
            "\n",
            "\n",
            "\n",
            "\n",
            "\n",
            "\n",
            "\n",
            "\n",
            "\n",
            "\n",
            "\n",
            " ... (more hidden) ...\u001b[A\u001b[A\u001b[A\u001b[A\u001b[A\u001b[A\u001b[A\u001b[A\u001b[A\u001b[A\u001b[A\u001b[A\u001b[A\u001b[A\u001b[A\u001b[A\u001b[A\u001b[A\u001b[A\n",
            "\n",
            "\n",
            "\n",
            "\n",
            "\n",
            "xorg-xextproto-7.3.0 | 30 KB     | : 100% 1.0/1 [00:00<00:00,  1.48it/s]               \u001b[A\u001b[A\u001b[A\u001b[A\u001b[A\u001b[A\n",
            "\n",
            "\n",
            "\n",
            "\n",
            "\n",
            "xorg-xextproto-7.3.0 | 30 KB     | : 100% 1.0/1 [00:00<00:00,  1.48it/s]\u001b[A\u001b[A\u001b[A\u001b[A\u001b[A\u001b[A\n",
            "\n",
            "\n",
            "\n",
            "\n",
            "\n",
            "\n",
            "\n",
            "\n",
            "\n",
            "\n",
            "\n",
            "\n",
            "\n",
            "\n",
            "\n",
            "\n",
            "\n",
            "\n",
            " ... (more hidden) ...\u001b[A\u001b[A\u001b[A\u001b[A\u001b[A\u001b[A\u001b[A\u001b[A\u001b[A\u001b[A\u001b[A\u001b[A\u001b[A\u001b[A\u001b[A\u001b[A\u001b[A\u001b[A\u001b[A\n",
            "\n",
            "\n",
            "\n",
            "\n",
            "\n",
            "\n",
            "\n",
            "xorg-libxrender-0.9. | 37 KB     | : 100% 1.0/1 [00:00<00:00,  1.26it/s]               \u001b[A\u001b[A\u001b[A\u001b[A\u001b[A\u001b[A\u001b[A\u001b[A\n",
            "\n",
            "\n",
            "\n",
            "\n",
            "\n",
            "\n",
            "\n",
            "xorg-libxrender-0.9. | 37 KB     | : 100% 1.0/1 [00:00<00:00,  1.26it/s]\u001b[A\u001b[A\u001b[A\u001b[A\u001b[A\u001b[A\u001b[A\u001b[A\n",
            "\n",
            "\n",
            "\n",
            "\n",
            "\n",
            "\n",
            "\n",
            "\n",
            "\n",
            "\n",
            "\n",
            "\n",
            "\n",
            "\n",
            "\n",
            "\n",
            "\n",
            "\n",
            " ... (more hidden) ...\u001b[A\u001b[A\u001b[A\u001b[A\u001b[A\u001b[A\u001b[A\u001b[A\u001b[A\u001b[A\u001b[A\u001b[A\u001b[A\u001b[A\u001b[A\u001b[A\u001b[A\u001b[A\u001b[A\n",
            "\n",
            "\n",
            "\n",
            "\n",
            "\n",
            "\n",
            "\n",
            "\n",
            "font-ttf-inconsolata | 94 KB     | : 100% 1.0/1 [00:00<00:00,  1.20it/s]                \u001b[A\u001b[A\u001b[A\u001b[A\u001b[A\u001b[A\u001b[A\u001b[A\u001b[A\n",
            "\n",
            "\n",
            "\n",
            "\n",
            "\n",
            "\n",
            "\n",
            "\n",
            "font-ttf-inconsolata | 94 KB     | : 100% 1.0/1 [00:00<00:00,  1.20it/s]\u001b[A\u001b[A\u001b[A\u001b[A\u001b[A\u001b[A\u001b[A\u001b[A\u001b[A\n",
            "\n",
            "\n",
            "\n",
            "\n",
            "\n",
            "\n",
            "\n",
            "\n",
            "\n",
            "\n",
            "\n",
            "\n",
            "\n",
            "\n",
            "\n",
            "\n",
            "\n",
            "\n",
            " ... (more hidden) ...\u001b[A\u001b[A\u001b[A\u001b[A\u001b[A\u001b[A\u001b[A\u001b[A\u001b[A\u001b[A\u001b[A\u001b[A\u001b[A\u001b[A\u001b[A\u001b[A\u001b[A\u001b[A\u001b[A\n",
            "\n",
            "pcre2-10.42          | 993 KB    | : 100% 1.0/1 [00:00<00:00,  1.05it/s]                \u001b[A\u001b[A\n",
            "\n",
            "pcre2-10.42          | 993 KB    | : 100% 1.0/1 [00:00<00:00,  1.05it/s]\u001b[A\u001b[A\n",
            "\n",
            "\n",
            "\n",
            "\n",
            "\n",
            "\n",
            "\n",
            "\n",
            "\n",
            "\n",
            "ca-certificates-2023 | 151 KB    | : 100% 1.0/1 [00:00<00:00,  1.06it/s]               \u001b[A\u001b[A\u001b[A\u001b[A\u001b[A\u001b[A\u001b[A\u001b[A\u001b[A\u001b[A\u001b[A\n",
            "\n",
            "\n",
            "\n",
            "\n",
            "\n",
            "\n",
            "\n",
            "\n",
            "\n",
            "\n",
            "ca-certificates-2023 | 151 KB    | : 100% 1.0/1 [00:00<00:00,  1.06it/s]\u001b[A\u001b[A\u001b[A\u001b[A\u001b[A\u001b[A\u001b[A\u001b[A\u001b[A\u001b[A\u001b[A\n",
            "\n",
            "\n",
            "\n",
            "\n",
            "\n",
            "\n",
            "fontconfig-2.14.2    | 266 KB    | : 100% 1.0/1 [00:01<00:00,  1.04it/s]                 \u001b[A\u001b[A\u001b[A\u001b[A\u001b[A\u001b[A\u001b[A\n",
            "\n",
            "\n",
            "\n",
            "\n",
            "\n",
            "\n",
            "fontconfig-2.14.2    | 266 KB    | : 100% 1.0/1 [00:01<00:00,  1.04it/s]\u001b[A\u001b[A\u001b[A\u001b[A\u001b[A\u001b[A\u001b[A\n",
            "\n",
            "\n",
            "\n",
            "\n",
            "\n",
            "\n",
            "\n",
            "\n",
            "\n",
            "\n",
            "\n",
            "expat-2.5.0          | 134 KB    | : 100% 1.0/1 [00:01<00:00,  1.00it/s]                \u001b[A\u001b[A\u001b[A\u001b[A\u001b[A\u001b[A\u001b[A\u001b[A\u001b[A\u001b[A\u001b[A\u001b[A\n",
            "\n",
            "\n",
            "\n",
            "\n",
            "\n",
            "\n",
            "\n",
            "\n",
            "\n",
            "\n",
            "\n",
            "expat-2.5.0          | 134 KB    | : 100% 1.0/1 [00:01<00:00,  1.00it/s]\u001b[A\u001b[A\u001b[A\u001b[A\u001b[A\u001b[A\u001b[A\u001b[A\u001b[A\u001b[A\u001b[A\u001b[A\n",
            "\n",
            "\n",
            "\n",
            "\n",
            "\n",
            "\n",
            "\n",
            "\n",
            "\n",
            "cairo-1.18.0         | 959 KB    | : 100% 1.0/1 [00:01<00:00,  1.04s/it]                 \u001b[A\u001b[A\u001b[A\u001b[A\u001b[A\u001b[A\u001b[A\u001b[A\u001b[A\u001b[A\n",
            "\n",
            "\n",
            "\n",
            "\n",
            "\n",
            "\n",
            "\n",
            "\n",
            "\n",
            "cairo-1.18.0         | 959 KB    | : 100% 1.0/1 [00:01<00:00,  1.04s/it]\u001b[A\u001b[A\u001b[A\u001b[A\u001b[A\u001b[A\u001b[A\u001b[A\u001b[A\u001b[A\n",
            "\n",
            "\n",
            "\n",
            "\n",
            "\n",
            "\n",
            "\n",
            "\n",
            "\n",
            "\n",
            "\n",
            "\n",
            "\n",
            "fonts-conda-forge-1  | 4 KB      | : 100% 1.0/1 [00:01<00:00,  3.22it/s]\u001b[A\u001b[A\u001b[A\u001b[A\u001b[A\u001b[A\u001b[A\u001b[A\u001b[A\u001b[A\u001b[A\u001b[A\u001b[A\u001b[A\n",
            "\n",
            "\n",
            "\n",
            "\n",
            "\n",
            "\n",
            "\n",
            "\n",
            "\n",
            "\n",
            "\n",
            "\n",
            "\n",
            "\n",
            "\n",
            "pthread-stubs-0.4    | 5 KB      | : 100% 1.0/1 [00:01<00:00,  2.96it/s]\u001b[A\u001b[A\u001b[A\u001b[A\u001b[A\u001b[A\u001b[A\u001b[A\u001b[A\u001b[A\u001b[A\u001b[A\u001b[A\u001b[A\u001b[A\u001b[A\n",
            "\n",
            "\n",
            "\n",
            "\n",
            "\n",
            "\n",
            "\n",
            "\n",
            "\n",
            "\n",
            "\n",
            "\n",
            "\n",
            "\n",
            "\n",
            "\n",
            "xorg-renderproto-0.1 | 9 KB      | : 100% 1.0/1 [00:01<00:00,  2.92it/s]\u001b[A\u001b[A\u001b[A\u001b[A\u001b[A\u001b[A\u001b[A\u001b[A\u001b[A\u001b[A\u001b[A\u001b[A\u001b[A\u001b[A\u001b[A\u001b[A\u001b[A\n",
            "\n",
            "\n",
            "\n",
            "\n",
            "\n",
            "\n",
            "\n",
            "\n",
            "\n",
            "\n",
            "\n",
            "\n",
            "libxcb-1.15          | 375 KB    | : 100% 1.0/1 [00:01<00:00,  1.10s/it]                 \u001b[A\u001b[A\u001b[A\u001b[A\u001b[A\u001b[A\u001b[A\u001b[A\u001b[A\u001b[A\u001b[A\u001b[A\u001b[A\n",
            "\n",
            "\n",
            "\n",
            "\n",
            "\n",
            "\n",
            "\n",
            "\n",
            "\n",
            "\n",
            "\n",
            "\n",
            "libxcb-1.15          | 375 KB    | : 100% 1.0/1 [00:01<00:00,  1.10s/it]\u001b[A\u001b[A\u001b[A\u001b[A\u001b[A\u001b[A\u001b[A\u001b[A\u001b[A\u001b[A\u001b[A\u001b[A\u001b[A\n",
            "\n",
            "\n",
            "\n",
            "\n",
            "\n",
            "\n",
            "\n",
            "\n",
            "\n",
            "\n",
            "\n",
            "\n",
            "\n",
            "\n",
            "\n",
            "\n",
            "\n",
            "libglib-2.78.1       | 2.6 MB    | : 100% 1.0/1 [00:01<00:00,  1.90it/s]              \u001b[A\u001b[A\u001b[A\u001b[A\u001b[A\u001b[A\u001b[A\u001b[A\u001b[A\u001b[A\u001b[A\u001b[A\u001b[A\u001b[A\u001b[A\u001b[A\u001b[A\u001b[A\n",
            "\n",
            "\n",
            "\n",
            "\n",
            "\n",
            "\n",
            "\n",
            "\n",
            "\n",
            "\n",
            "\n",
            "\n",
            "\n",
            "\n",
            "openssl-3.1.4        | 2.5 MB    | : 100% 1.0/1 [00:01<00:00,  2.37it/s]               \u001b[A\u001b[A\u001b[A\u001b[A\u001b[A\u001b[A\u001b[A\u001b[A\u001b[A\u001b[A\u001b[A\u001b[A\u001b[A\u001b[A\u001b[A\n",
            "\n",
            "\n",
            "\n",
            "\n",
            "\n",
            "\n",
            "\n",
            "\n",
            "\n",
            "\n",
            "\n",
            "\n",
            "\n",
            "\n",
            "\n",
            "\n",
            "\n",
            "\n",
            " ... (more hidden) ...\u001b[A\u001b[A\u001b[A\u001b[A\u001b[A\u001b[A\u001b[A\u001b[A\u001b[A\u001b[A\u001b[A\u001b[A\u001b[A\u001b[A\u001b[A\u001b[A\u001b[A\u001b[A\u001b[A\n",
            "\n",
            "\n",
            "\n",
            "\n",
            "\n",
            "\n",
            "\n",
            "\n",
            "\n",
            "\n",
            "\n",
            "\n",
            "\n",
            "\n",
            "\n",
            "\n",
            "\n",
            "\n",
            " ... (more hidden) ...\u001b[A\u001b[A\u001b[A\u001b[A\u001b[A\u001b[A\u001b[A\u001b[A\u001b[A\u001b[A\u001b[A\u001b[A\u001b[A\u001b[A\u001b[A\u001b[A\u001b[A\u001b[A\u001b[A\n",
            "\n",
            "\n",
            "\n",
            "\n",
            "\n",
            "\n",
            "\n",
            "\n",
            "\n",
            "\n",
            "\n",
            "\n",
            "\n",
            "\n",
            "\n",
            "\n",
            "\n",
            "\n",
            "                                                                        \n",
            "                                                                        \u001b[A\n",
            "\n",
            "                                                                        \u001b[A\u001b[A\n",
            "\n",
            "\n",
            "                                                                        \u001b[A\u001b[A\u001b[A\n",
            "\n",
            "\n",
            "\n",
            "                                                                        \u001b[A\u001b[A\u001b[A\u001b[A\n",
            "\n",
            "\n",
            "\n",
            "\n",
            "                                                                        \u001b[A\u001b[A\u001b[A\u001b[A\u001b[A\n",
            "\n",
            "\n",
            "\n",
            "\n",
            "\n",
            "                                                                        \u001b[A\u001b[A\u001b[A\u001b[A\u001b[A\u001b[A\n",
            "\n",
            "\n",
            "\n",
            "\n",
            "\n",
            "\n",
            "                                                                        \u001b[A\u001b[A\u001b[A\u001b[A\u001b[A\u001b[A\u001b[A\n",
            "\n",
            "\n",
            "\n",
            "\n",
            "\n",
            "\n",
            "\n",
            "                                                                        \u001b[A\u001b[A\u001b[A\u001b[A\u001b[A\u001b[A\u001b[A\u001b[A\n",
            "\n",
            "\n",
            "\n",
            "\n",
            "\n",
            "\n",
            "\n",
            "\n",
            "                                                                        \u001b[A\u001b[A\u001b[A\u001b[A\u001b[A\u001b[A\u001b[A\u001b[A\u001b[A\n",
            "\n",
            "\n",
            "\n",
            "\n",
            "\n",
            "\n",
            "\n",
            "\n",
            "\n",
            "                                                                        \u001b[A\u001b[A\u001b[A\u001b[A\u001b[A\u001b[A\u001b[A\u001b[A\u001b[A\u001b[A\n",
            "\n",
            "\n",
            "\n",
            "\n",
            "\n",
            "\n",
            "\n",
            "\n",
            "\n",
            "\n",
            "                                                                        \u001b[A\u001b[A\u001b[A\u001b[A\u001b[A\u001b[A\u001b[A\u001b[A\u001b[A\u001b[A\u001b[A\n",
            "\n",
            "\n",
            "\n",
            "\n",
            "\n",
            "\n",
            "\n",
            "\n",
            "\n",
            "\n",
            "\n",
            "                                                                        \u001b[A\u001b[A\u001b[A\u001b[A\u001b[A\u001b[A\u001b[A\u001b[A\u001b[A\u001b[A\u001b[A\u001b[A\n",
            "\n",
            "\n",
            "\n",
            "\n",
            "\n",
            "\n",
            "\n",
            "\n",
            "\n",
            "\n",
            "\n",
            "\n",
            "                                                                        \u001b[A\u001b[A\u001b[A\u001b[A\u001b[A\u001b[A\u001b[A\u001b[A\u001b[A\u001b[A\u001b[A\u001b[A\u001b[A\n",
            "\n",
            "\n",
            "\n",
            "\n",
            "\n",
            "\n",
            "\n",
            "\n",
            "\n",
            "\n",
            "\n",
            "\n",
            "\n",
            "                                                                        \u001b[A\u001b[A\u001b[A\u001b[A\u001b[A\u001b[A\u001b[A\u001b[A\u001b[A\u001b[A\u001b[A\u001b[A\u001b[A\u001b[A\n",
            "\n",
            "\n",
            "\n",
            "\n",
            "\n",
            "\n",
            "\n",
            "\n",
            "\n",
            "\n",
            "\n",
            "\n",
            "\n",
            "\n",
            "                                                                        \u001b[A\u001b[A\u001b[A\u001b[A\u001b[A\u001b[A\u001b[A\u001b[A\u001b[A\u001b[A\u001b[A\u001b[A\u001b[A\u001b[A\u001b[A\n",
            "\n",
            "\n",
            "\n",
            "\n",
            "\n",
            "\n",
            "\n",
            "\n",
            "\n",
            "\n",
            "\n",
            "\n",
            "\n",
            "\n",
            "\n",
            "                                                                        \u001b[A\u001b[A\u001b[A\u001b[A\u001b[A\u001b[A\u001b[A\u001b[A\u001b[A\u001b[A\u001b[A\u001b[A\u001b[A\u001b[A\u001b[A\u001b[A\n",
            "\n",
            "\n",
            "\n",
            "\n",
            "\n",
            "\n",
            "\n",
            "\n",
            "\n",
            "\n",
            "\n",
            "\n",
            "\n",
            "\n",
            "\n",
            "\n",
            "                                                                        \u001b[A\u001b[A\u001b[A\u001b[A\u001b[A\u001b[A\u001b[A\u001b[A\u001b[A\u001b[A\u001b[A\u001b[A\u001b[A\u001b[A\u001b[A\u001b[A\u001b[A\n",
            "\n",
            "\n",
            "\n",
            "\n",
            "\n",
            "\n",
            "\n",
            "\n",
            "\n",
            "\n",
            "\n",
            "\n",
            "\n",
            "\n",
            "\n",
            "\n",
            "\n",
            "                                                                        \u001b[A\u001b[A\u001b[A\u001b[A\u001b[A\u001b[A\u001b[A\u001b[A\u001b[A\u001b[A\u001b[A\u001b[A\u001b[A\u001b[A\u001b[A\u001b[A\u001b[A\u001b[A\n",
            "\u001b[A\n",
            "\n",
            "\u001b[A\u001b[A\n",
            "\n",
            "\n",
            "\u001b[A\u001b[A\u001b[A\n",
            "\n",
            "\n",
            "\n",
            "\u001b[A\u001b[A\u001b[A\u001b[A\n",
            "\n",
            "\n",
            "\n",
            "\n",
            "\u001b[A\u001b[A\u001b[A\u001b[A\u001b[A\n",
            "\n",
            "\n",
            "\n",
            "\n",
            "\n",
            "\u001b[A\u001b[A\u001b[A\u001b[A\u001b[A\u001b[A\n",
            "\n",
            "\n",
            "\n",
            "\n",
            "\n",
            "\n",
            "\u001b[A\u001b[A\u001b[A\u001b[A\u001b[A\u001b[A\u001b[A\n",
            "\n",
            "\n",
            "\n",
            "\n",
            "\n",
            "\n",
            "\n",
            "\u001b[A\u001b[A\u001b[A\u001b[A\u001b[A\u001b[A\u001b[A\u001b[A\n",
            "\n",
            "\n",
            "\n",
            "\n",
            "\n",
            "\n",
            "\n",
            "\n",
            "\u001b[A\u001b[A\u001b[A\u001b[A\u001b[A\u001b[A\u001b[A\u001b[A\u001b[A\n",
            "\n",
            "\n",
            "\n",
            "\n",
            "\n",
            "\n",
            "\n",
            "\n",
            "\n",
            "\u001b[A\u001b[A\u001b[A\u001b[A\u001b[A\u001b[A\u001b[A\u001b[A\u001b[A\u001b[A\n",
            "\n",
            "\n",
            "\n",
            "\n",
            "\n",
            "\n",
            "\n",
            "\n",
            "\n",
            "\n",
            "\u001b[A\u001b[A\u001b[A\u001b[A\u001b[A\u001b[A\u001b[A\u001b[A\u001b[A\u001b[A\u001b[A\n",
            "\n",
            "\n",
            "\n",
            "\n",
            "\n",
            "\n",
            "\n",
            "\n",
            "\n",
            "\n",
            "\n",
            "\u001b[A\u001b[A\u001b[A\u001b[A\u001b[A\u001b[A\u001b[A\u001b[A\u001b[A\u001b[A\u001b[A\u001b[A\n",
            "\n",
            "\n",
            "\n",
            "\n",
            "\n",
            "\n",
            "\n",
            "\n",
            "\n",
            "\n",
            "\n",
            "\n",
            "\u001b[A\u001b[A\u001b[A\u001b[A\u001b[A\u001b[A\u001b[A\u001b[A\u001b[A\u001b[A\u001b[A\u001b[A\u001b[A\n",
            "\n",
            "\n",
            "\n",
            "\n",
            "\n",
            "\n",
            "\n",
            "\n",
            "\n",
            "\n",
            "\n",
            "\n",
            "\n",
            "\u001b[A\u001b[A\u001b[A\u001b[A\u001b[A\u001b[A\u001b[A\u001b[A\u001b[A\u001b[A\u001b[A\u001b[A\u001b[A\u001b[A\n",
            "\n",
            "\n",
            "\n",
            "\n",
            "\n",
            "\n",
            "\n",
            "\n",
            "\n",
            "\n",
            "\n",
            "\n",
            "\n",
            "\n",
            "\u001b[A\u001b[A\u001b[A\u001b[A\u001b[A\u001b[A\u001b[A\u001b[A\u001b[A\u001b[A\u001b[A\u001b[A\u001b[A\u001b[A\u001b[A\n",
            "\n",
            "\n",
            "\n",
            "\n",
            "\n",
            "\n",
            "\n",
            "\n",
            "\n",
            "\n",
            "\n",
            "\n",
            "\n",
            "\n",
            "\n",
            "\u001b[A\u001b[A\u001b[A\u001b[A\u001b[A\u001b[A\u001b[A\u001b[A\u001b[A\u001b[A\u001b[A\u001b[A\u001b[A\u001b[A\u001b[A\u001b[A\n",
            "\n",
            "\n",
            "\n",
            "\n",
            "\n",
            "\n",
            "\n",
            "\n",
            "\n",
            "\n",
            "\n",
            "\n",
            "\n",
            "\n",
            "\n",
            "\n",
            "\u001b[A\u001b[A\u001b[A\u001b[A\u001b[A\u001b[A\u001b[A\u001b[A\u001b[A\u001b[A\u001b[A\u001b[A\u001b[A\u001b[A\u001b[A\u001b[A\u001b[A\n",
            "\n",
            "\n",
            "\n",
            "\n",
            "\n",
            "\n",
            "\n",
            "\n",
            "\n",
            "\n",
            "\n",
            "\n",
            "\n",
            "\n",
            "\n",
            "\n",
            "\n",
            "\u001b[A\u001b[A\u001b[A\u001b[A\u001b[A\u001b[A\u001b[A\u001b[A\u001b[A\u001b[A\u001b[A\u001b[A\u001b[A\u001b[A\u001b[A\u001b[A\u001b[A\u001b[A\n",
            "Preparing transaction: | \b\b/ \b\bdone\n",
            "Verifying transaction: \\ \b\b| \b\b/ \b\b- \b\b\\ \b\b| \b\b/ \b\b- \b\b\\ \b\bdone\n",
            "Executing transaction: / \b\b- \b\b\\ \b\b| \b\b/ \b\b- \b\b\\ \b\b| \b\b/ \b\b- \b\b\\ \b\b| \b\b/ \b\b- \b\b\\ \b\b| \b\b/ \b\b- \b\bdone\n"
          ]
        }
      ]
    },
    {
      "cell_type": "code",
      "source": [
        "!pip install qml"
      ],
      "metadata": {
        "id": "dRZUL1tLWv1B",
        "colab": {
          "base_uri": "https://localhost:8080/"
        },
        "outputId": "e7830d0c-37fc-432e-86c6-db5e43d79a9e"
      },
      "execution_count": 5,
      "outputs": [
        {
          "output_type": "stream",
          "name": "stdout",
          "text": [
            "Collecting qml\n",
            "  Downloading qml-0.4.0.27.tar.gz (41 kB)\n",
            "\u001b[?25l     \u001b[90m━━━━━━━━━━━━━━━━━━━━━━━━━━━━━━━━━━━━━━━━\u001b[0m \u001b[32m0.0/41.5 kB\u001b[0m \u001b[31m?\u001b[0m eta \u001b[36m-:--:--\u001b[0m\r\u001b[2K     \u001b[90m━━━━━━━━━━━━━━━━━━━━━━━━━━━━━━━━━━━━━━━━\u001b[0m \u001b[32m41.5/41.5 kB\u001b[0m \u001b[31m2.3 MB/s\u001b[0m eta \u001b[36m0:00:00\u001b[0m\n",
            "\u001b[?25h  Preparing metadata (setup.py) ... \u001b[?25l\u001b[?25hdone\n",
            "Building wheels for collected packages: qml\n",
            "  Building wheel for qml (setup.py) ... \u001b[?25l\u001b[?25hdone\n",
            "  Created wheel for qml: filename=qml-0.4.0.27-cp310-cp310-linux_x86_64.whl size=800802 sha256=96758b37156270c9cc23421279c8e63b7b9d04141043a0af6eb35aa7c4c8744c\n",
            "  Stored in directory: /root/.cache/pip/wheels/d5/57/2f/cdd885bb28ee050be4f41882d74d716e1fc0ff0745a657b39a\n",
            "Successfully built qml\n",
            "Installing collected packages: qml\n",
            "Successfully installed qml-0.4.0.27\n",
            "\u001b[33mWARNING: Running pip as the 'root' user can result in broken permissions and conflicting behaviour with the system package manager. It is recommended to use a virtual environment instead: https://pip.pypa.io/warnings/venv\u001b[0m\u001b[33m\n",
            "\u001b[0m"
          ]
        }
      ]
    },
    {
      "cell_type": "code",
      "source": [
        "!pip install dscribe"
      ],
      "metadata": {
        "id": "0SAtlLt5jcuS",
        "colab": {
          "base_uri": "https://localhost:8080/"
        },
        "outputId": "56a2a093-9c89-4d58-b8e9-ebca13ea4dc7"
      },
      "execution_count": 6,
      "outputs": [
        {
          "output_type": "stream",
          "name": "stdout",
          "text": [
            "Collecting dscribe\n",
            "  Downloading dscribe-2.1.0-cp310-cp310-manylinux_2_17_x86_64.manylinux2014_x86_64.whl (11.8 MB)\n",
            "\u001b[2K     \u001b[90m━━━━━━━━━━━━━━━━━━━━━━━━━━━━━━━━━━━━━━━━\u001b[0m \u001b[32m11.8/11.8 MB\u001b[0m \u001b[31m51.0 MB/s\u001b[0m eta \u001b[36m0:00:00\u001b[0m\n",
            "\u001b[?25hRequirement already satisfied: numpy in /usr/local/lib/python3.10/site-packages (from dscribe) (1.26.2)\n",
            "Requirement already satisfied: joblib>=1.0.0 in /usr/local/lib/python3.10/site-packages (from dscribe) (1.3.2)\n",
            "Collecting sparse\n",
            "  Downloading sparse-0.14.0-py2.py3-none-any.whl (80 kB)\n",
            "\u001b[2K     \u001b[90m━━━━━━━━━━━━━━━━━━━━━━━━━━━━━━━━━━━━━━━━\u001b[0m \u001b[32m81.0/81.0 kB\u001b[0m \u001b[31m11.9 MB/s\u001b[0m eta \u001b[36m0:00:00\u001b[0m\n",
            "\u001b[?25hRequirement already satisfied: scipy in /usr/local/lib/python3.10/site-packages (from dscribe) (1.11.4)\n",
            "Collecting ase>=3.19.0\n",
            "  Downloading ase-3.22.1-py3-none-any.whl (2.2 MB)\n",
            "\u001b[2K     \u001b[90m━━━━━━━━━━━━━━━━━━━━━━━━━━━━━━━━━━━━━━━━\u001b[0m \u001b[32m2.2/2.2 MB\u001b[0m \u001b[31m80.8 MB/s\u001b[0m eta \u001b[36m0:00:00\u001b[0m\n",
            "\u001b[?25hCollecting pybind11>=2.4\n",
            "  Downloading pybind11-2.11.1-py3-none-any.whl (227 kB)\n",
            "\u001b[2K     \u001b[90m━━━━━━━━━━━━━━━━━━━━━━━━━━━━━━━━━━━━━━━━\u001b[0m \u001b[32m227.7/227.7 kB\u001b[0m \u001b[31m23.9 MB/s\u001b[0m eta \u001b[36m0:00:00\u001b[0m\n",
            "\u001b[?25hRequirement already satisfied: scikit-learn in /usr/local/lib/python3.10/site-packages (from dscribe) (1.3.2)\n",
            "Requirement already satisfied: matplotlib>=3.1.0 in /usr/local/lib/python3.10/site-packages (from ase>=3.19.0->dscribe) (3.8.2)\n",
            "Requirement already satisfied: threadpoolctl>=2.0.0 in /usr/local/lib/python3.10/site-packages (from scikit-learn->dscribe) (3.2.0)\n",
            "Requirement already satisfied: numba>=0.49 in /usr/local/lib/python3.10/site-packages (from sparse->dscribe) (0.58.1)\n",
            "Requirement already satisfied: fonttools>=4.22.0 in /usr/local/lib/python3.10/site-packages (from matplotlib>=3.1.0->ase>=3.19.0->dscribe) (4.45.0)\n",
            "Requirement already satisfied: kiwisolver>=1.3.1 in /usr/local/lib/python3.10/site-packages (from matplotlib>=3.1.0->ase>=3.19.0->dscribe) (1.4.5)\n",
            "Requirement already satisfied: pillow>=8 in /usr/local/lib/python3.10/site-packages (from matplotlib>=3.1.0->ase>=3.19.0->dscribe) (10.1.0)\n",
            "Requirement already satisfied: pyparsing>=2.3.1 in /usr/local/lib/python3.10/site-packages (from matplotlib>=3.1.0->ase>=3.19.0->dscribe) (3.1.1)\n",
            "Requirement already satisfied: python-dateutil>=2.7 in /usr/local/lib/python3.10/site-packages (from matplotlib>=3.1.0->ase>=3.19.0->dscribe) (2.8.2)\n",
            "Requirement already satisfied: packaging>=20.0 in /usr/local/lib/python3.10/site-packages (from matplotlib>=3.1.0->ase>=3.19.0->dscribe) (23.2)\n",
            "Requirement already satisfied: contourpy>=1.0.1 in /usr/local/lib/python3.10/site-packages (from matplotlib>=3.1.0->ase>=3.19.0->dscribe) (1.2.0)\n",
            "Requirement already satisfied: cycler>=0.10 in /usr/local/lib/python3.10/site-packages (from matplotlib>=3.1.0->ase>=3.19.0->dscribe) (0.12.1)\n",
            "Requirement already satisfied: llvmlite<0.42,>=0.41.0dev0 in /usr/local/lib/python3.10/site-packages (from numba>=0.49->sparse->dscribe) (0.41.1)\n",
            "Requirement already satisfied: six>=1.5 in /usr/local/lib/python3.10/site-packages (from python-dateutil>=2.7->matplotlib>=3.1.0->ase>=3.19.0->dscribe) (1.16.0)\n",
            "Installing collected packages: pybind11, sparse, ase, dscribe\n",
            "Successfully installed ase-3.22.1 dscribe-2.1.0 pybind11-2.11.1 sparse-0.14.0\n",
            "\u001b[33mWARNING: Running pip as the 'root' user can result in broken permissions and conflicting behaviour with the system package manager. It is recommended to use a virtual environment instead: https://pip.pypa.io/warnings/venv\u001b[0m\u001b[33m\n",
            "\u001b[0m"
          ]
        }
      ]
    },
    {
      "cell_type": "code",
      "source": [
        "! pip install ase"
      ],
      "metadata": {
        "id": "IcSrqmXajjNo",
        "colab": {
          "base_uri": "https://localhost:8080/"
        },
        "outputId": "a8f3495d-5596-4ae5-dade-6d3258760c63"
      },
      "execution_count": 24,
      "outputs": [
        {
          "output_type": "stream",
          "name": "stdout",
          "text": [
            "Requirement already satisfied: ase in /usr/local/lib/python3.10/site-packages (3.22.1)\n",
            "Requirement already satisfied: scipy>=1.1.0 in /usr/local/lib/python3.10/site-packages (from ase) (1.11.4)\n",
            "Requirement already satisfied: matplotlib>=3.1.0 in /usr/local/lib/python3.10/site-packages (from ase) (3.8.2)\n",
            "Requirement already satisfied: numpy>=1.15.0 in /usr/local/lib/python3.10/site-packages (from ase) (1.26.2)\n",
            "Requirement already satisfied: kiwisolver>=1.3.1 in /usr/local/lib/python3.10/site-packages (from matplotlib>=3.1.0->ase) (1.4.5)\n",
            "Requirement already satisfied: cycler>=0.10 in /usr/local/lib/python3.10/site-packages (from matplotlib>=3.1.0->ase) (0.12.1)\n",
            "Requirement already satisfied: packaging>=20.0 in /usr/local/lib/python3.10/site-packages (from matplotlib>=3.1.0->ase) (23.2)\n",
            "Requirement already satisfied: pillow>=8 in /usr/local/lib/python3.10/site-packages (from matplotlib>=3.1.0->ase) (10.1.0)\n",
            "Requirement already satisfied: pyparsing>=2.3.1 in /usr/local/lib/python3.10/site-packages (from matplotlib>=3.1.0->ase) (3.1.1)\n",
            "Requirement already satisfied: python-dateutil>=2.7 in /usr/local/lib/python3.10/site-packages (from matplotlib>=3.1.0->ase) (2.8.2)\n",
            "Requirement already satisfied: fonttools>=4.22.0 in /usr/local/lib/python3.10/site-packages (from matplotlib>=3.1.0->ase) (4.45.0)\n",
            "Requirement already satisfied: contourpy>=1.0.1 in /usr/local/lib/python3.10/site-packages (from matplotlib>=3.1.0->ase) (1.2.0)\n",
            "Requirement already satisfied: six>=1.5 in /usr/local/lib/python3.10/site-packages (from python-dateutil>=2.7->matplotlib>=3.1.0->ase) (1.16.0)\n",
            "\u001b[33mWARNING: Running pip as the 'root' user can result in broken permissions and conflicting behaviour with the system package manager. It is recommended to use a virtual environment instead: https://pip.pypa.io/warnings/venv\u001b[0m\u001b[33m\n",
            "\u001b[0m"
          ]
        }
      ]
    },
    {
      "cell_type": "code",
      "source": [
        "from google.colab import drive\n",
        "drive.mount('/content/drive')"
      ],
      "metadata": {
        "colab": {
          "base_uri": "https://localhost:8080/"
        },
        "id": "kzbo6Jn2uy8V",
        "outputId": "484d34c8-50d8-49af-a8a8-7012d1cacec4"
      },
      "execution_count": 8,
      "outputs": [
        {
          "output_type": "stream",
          "name": "stdout",
          "text": [
            "Mounted at /content/drive\n"
          ]
        }
      ]
    },
    {
      "cell_type": "markdown",
      "source": [
        "#Import libraries"
      ],
      "metadata": {
        "id": "A0TqT-p8lupY"
      }
    },
    {
      "cell_type": "code",
      "source": [
        "import pandas as pd\n",
        "import numpy as np\n",
        "from rdkit import Chem\n",
        "from rdkit.Chem import rdFingerprintGenerator"
      ],
      "metadata": {
        "id": "U60ZDOahlxBo"
      },
      "execution_count": 7,
      "outputs": []
    },
    {
      "cell_type": "markdown",
      "source": [
        "# Load dataset of metal complexes"
      ],
      "metadata": {
        "id": "JgJJTod6lejx"
      }
    },
    {
      "cell_type": "code",
      "source": [
        "start_org = pd.read_csv('/content/drive/MyDrive/MSU_AI_Photocatal/Datasets/Target_dataset/Organic_compound_final_dataset.csv')"
      ],
      "metadata": {
        "id": "SlpB-BFGRhEW"
      },
      "execution_count": 8,
      "outputs": []
    },
    {
      "cell_type": "code",
      "source": [
        "start_metal = pd.read_excel('/content/drive/MyDrive/MSU_AI_Photocatal/Datasets/Target_dataset/Metal_complexes_dataset.xlsx') # load dataset with metal complex targets"
      ],
      "metadata": {
        "id": "M_hEep79li3h"
      },
      "execution_count": 9,
      "outputs": []
    },
    {
      "cell_type": "code",
      "source": [
        "ligand = pd.read_excel('/content/drive/MyDrive/MSU_AI_Photocatal/Datasets/Metal_complexes_descriptors/Metal_complexes_ligands_SMILES.xlsx') # load ligand SMILES\n",
        "ligand"
      ],
      "metadata": {
        "colab": {
          "base_uri": "https://localhost:8080/",
          "height": 424
        },
        "id": "A1eAvVoY8uAg",
        "outputId": "16dfe35b-3138-4b8b-b61e-8f67bbd810f1"
      },
      "execution_count": 10,
      "outputs": [
        {
          "output_type": "execute_result",
          "data": {
            "text/plain": [
              "    Unnamed: 0                                           ligand_1  \\\n",
              "0            0  c1(c(c(c2c(c1)c(c1c(o2)c(c(=O)c(c1)Br)Br)C1=CC...   \n",
              "1            1          O=C(O)c1ccccc1c1c2ccc(=O)cc2oc2c1ccc(O)c2   \n",
              "2            2  c1(c(c(c2c(c1)c(c1c(o2)c(c(=O)c(c1)I)I)c1c(c(c...   \n",
              "3            3  c1c(cc2c(c1)C(c1c(O2)cc(cc1)N(CC)CC)c1c(cccc1)...   \n",
              "4            4  c1(c(cc2c(c1)n(c1c(n2)c(=O)n(c(=O)n1)C)C[C@@H]...   \n",
              "..         ...                                                ...   \n",
              "95          95                                                  0   \n",
              "96          96                                                  0   \n",
              "97          97  CC(C)(C/N=C/c1ccc(-c2ccc(N(c3ccccc3)c3ccccc3)c...   \n",
              "98          98  CC(C)(C/N=C/c1ccc(-c2ccc(-n3c4ccccc4c4ccccc43)...   \n",
              "99          99                                                NaN   \n",
              "\n",
              "                                             ligand_2  \n",
              "0   c1(c(c(c2c(c1)c(c1c(o2)c(c(=O)c(c1)Br)Br)C1=CC...  \n",
              "1           O=C(O)c1ccccc1c1c2ccc(=O)cc2oc2c1ccc(O)c2  \n",
              "2   c1(c(c(c2c(c1)c(c1c(o2)c(c(=O)c(c1)I)I)c1c(c(c...  \n",
              "3   c1c(cc2c(c1)C(c1c(O2)cc(cc1)N(CC)CC)c1c(cccc1)...  \n",
              "4   c1(c(cc2c(c1)n(c1c(n2)c(=O)n(c(=O)n1)C)C[C@@H]...  \n",
              "..                                                ...  \n",
              "95                                                  0  \n",
              "96                                                  0  \n",
              "97                                                O=O  \n",
              "98                                                O=O  \n",
              "99                                                NaN  \n",
              "\n",
              "[100 rows x 3 columns]"
            ],
            "text/html": [
              "\n",
              "  <div id=\"df-670a6d60-d60c-4243-b0d0-55ffdac47ebe\" class=\"colab-df-container\">\n",
              "    <div>\n",
              "<style scoped>\n",
              "    .dataframe tbody tr th:only-of-type {\n",
              "        vertical-align: middle;\n",
              "    }\n",
              "\n",
              "    .dataframe tbody tr th {\n",
              "        vertical-align: top;\n",
              "    }\n",
              "\n",
              "    .dataframe thead th {\n",
              "        text-align: right;\n",
              "    }\n",
              "</style>\n",
              "<table border=\"1\" class=\"dataframe\">\n",
              "  <thead>\n",
              "    <tr style=\"text-align: right;\">\n",
              "      <th></th>\n",
              "      <th>Unnamed: 0</th>\n",
              "      <th>ligand_1</th>\n",
              "      <th>ligand_2</th>\n",
              "    </tr>\n",
              "  </thead>\n",
              "  <tbody>\n",
              "    <tr>\n",
              "      <th>0</th>\n",
              "      <td>0</td>\n",
              "      <td>c1(c(c(c2c(c1)c(c1c(o2)c(c(=O)c(c1)Br)Br)C1=CC...</td>\n",
              "      <td>c1(c(c(c2c(c1)c(c1c(o2)c(c(=O)c(c1)Br)Br)C1=CC...</td>\n",
              "    </tr>\n",
              "    <tr>\n",
              "      <th>1</th>\n",
              "      <td>1</td>\n",
              "      <td>O=C(O)c1ccccc1c1c2ccc(=O)cc2oc2c1ccc(O)c2</td>\n",
              "      <td>O=C(O)c1ccccc1c1c2ccc(=O)cc2oc2c1ccc(O)c2</td>\n",
              "    </tr>\n",
              "    <tr>\n",
              "      <th>2</th>\n",
              "      <td>2</td>\n",
              "      <td>c1(c(c(c2c(c1)c(c1c(o2)c(c(=O)c(c1)I)I)c1c(c(c...</td>\n",
              "      <td>c1(c(c(c2c(c1)c(c1c(o2)c(c(=O)c(c1)I)I)c1c(c(c...</td>\n",
              "    </tr>\n",
              "    <tr>\n",
              "      <th>3</th>\n",
              "      <td>3</td>\n",
              "      <td>c1c(cc2c(c1)C(c1c(O2)cc(cc1)N(CC)CC)c1c(cccc1)...</td>\n",
              "      <td>c1c(cc2c(c1)C(c1c(O2)cc(cc1)N(CC)CC)c1c(cccc1)...</td>\n",
              "    </tr>\n",
              "    <tr>\n",
              "      <th>4</th>\n",
              "      <td>4</td>\n",
              "      <td>c1(c(cc2c(c1)n(c1c(n2)c(=O)n(c(=O)n1)C)C[C@@H]...</td>\n",
              "      <td>c1(c(cc2c(c1)n(c1c(n2)c(=O)n(c(=O)n1)C)C[C@@H]...</td>\n",
              "    </tr>\n",
              "    <tr>\n",
              "      <th>...</th>\n",
              "      <td>...</td>\n",
              "      <td>...</td>\n",
              "      <td>...</td>\n",
              "    </tr>\n",
              "    <tr>\n",
              "      <th>95</th>\n",
              "      <td>95</td>\n",
              "      <td>0</td>\n",
              "      <td>0</td>\n",
              "    </tr>\n",
              "    <tr>\n",
              "      <th>96</th>\n",
              "      <td>96</td>\n",
              "      <td>0</td>\n",
              "      <td>0</td>\n",
              "    </tr>\n",
              "    <tr>\n",
              "      <th>97</th>\n",
              "      <td>97</td>\n",
              "      <td>CC(C)(C/N=C/c1ccc(-c2ccc(N(c3ccccc3)c3ccccc3)c...</td>\n",
              "      <td>O=O</td>\n",
              "    </tr>\n",
              "    <tr>\n",
              "      <th>98</th>\n",
              "      <td>98</td>\n",
              "      <td>CC(C)(C/N=C/c1ccc(-c2ccc(-n3c4ccccc4c4ccccc43)...</td>\n",
              "      <td>O=O</td>\n",
              "    </tr>\n",
              "    <tr>\n",
              "      <th>99</th>\n",
              "      <td>99</td>\n",
              "      <td>NaN</td>\n",
              "      <td>NaN</td>\n",
              "    </tr>\n",
              "  </tbody>\n",
              "</table>\n",
              "<p>100 rows × 3 columns</p>\n",
              "</div>\n",
              "    <div class=\"colab-df-buttons\">\n",
              "\n",
              "  <div class=\"colab-df-container\">\n",
              "    <button class=\"colab-df-convert\" onclick=\"convertToInteractive('df-670a6d60-d60c-4243-b0d0-55ffdac47ebe')\"\n",
              "            title=\"Convert this dataframe to an interactive table.\"\n",
              "            style=\"display:none;\">\n",
              "\n",
              "  <svg xmlns=\"http://www.w3.org/2000/svg\" height=\"24px\" viewBox=\"0 -960 960 960\">\n",
              "    <path d=\"M120-120v-720h720v720H120Zm60-500h600v-160H180v160Zm220 220h160v-160H400v160Zm0 220h160v-160H400v160ZM180-400h160v-160H180v160Zm440 0h160v-160H620v160ZM180-180h160v-160H180v160Zm440 0h160v-160H620v160Z\"/>\n",
              "  </svg>\n",
              "    </button>\n",
              "\n",
              "  <style>\n",
              "    .colab-df-container {\n",
              "      display:flex;\n",
              "      gap: 12px;\n",
              "    }\n",
              "\n",
              "    .colab-df-convert {\n",
              "      background-color: #E8F0FE;\n",
              "      border: none;\n",
              "      border-radius: 50%;\n",
              "      cursor: pointer;\n",
              "      display: none;\n",
              "      fill: #1967D2;\n",
              "      height: 32px;\n",
              "      padding: 0 0 0 0;\n",
              "      width: 32px;\n",
              "    }\n",
              "\n",
              "    .colab-df-convert:hover {\n",
              "      background-color: #E2EBFA;\n",
              "      box-shadow: 0px 1px 2px rgba(60, 64, 67, 0.3), 0px 1px 3px 1px rgba(60, 64, 67, 0.15);\n",
              "      fill: #174EA6;\n",
              "    }\n",
              "\n",
              "    .colab-df-buttons div {\n",
              "      margin-bottom: 4px;\n",
              "    }\n",
              "\n",
              "    [theme=dark] .colab-df-convert {\n",
              "      background-color: #3B4455;\n",
              "      fill: #D2E3FC;\n",
              "    }\n",
              "\n",
              "    [theme=dark] .colab-df-convert:hover {\n",
              "      background-color: #434B5C;\n",
              "      box-shadow: 0px 1px 3px 1px rgba(0, 0, 0, 0.15);\n",
              "      filter: drop-shadow(0px 1px 2px rgba(0, 0, 0, 0.3));\n",
              "      fill: #FFFFFF;\n",
              "    }\n",
              "  </style>\n",
              "\n",
              "    <script>\n",
              "      const buttonEl =\n",
              "        document.querySelector('#df-670a6d60-d60c-4243-b0d0-55ffdac47ebe button.colab-df-convert');\n",
              "      buttonEl.style.display =\n",
              "        google.colab.kernel.accessAllowed ? 'block' : 'none';\n",
              "\n",
              "      async function convertToInteractive(key) {\n",
              "        const element = document.querySelector('#df-670a6d60-d60c-4243-b0d0-55ffdac47ebe');\n",
              "        const dataTable =\n",
              "          await google.colab.kernel.invokeFunction('convertToInteractive',\n",
              "                                                    [key], {});\n",
              "        if (!dataTable) return;\n",
              "\n",
              "        const docLinkHtml = 'Like what you see? Visit the ' +\n",
              "          '<a target=\"_blank\" href=https://colab.research.google.com/notebooks/data_table.ipynb>data table notebook</a>'\n",
              "          + ' to learn more about interactive tables.';\n",
              "        element.innerHTML = '';\n",
              "        dataTable['output_type'] = 'display_data';\n",
              "        await google.colab.output.renderOutput(dataTable, element);\n",
              "        const docLink = document.createElement('div');\n",
              "        docLink.innerHTML = docLinkHtml;\n",
              "        element.appendChild(docLink);\n",
              "      }\n",
              "    </script>\n",
              "  </div>\n",
              "\n",
              "\n",
              "<div id=\"df-aa80cb98-73fd-408a-9dcc-9643152f5a3a\">\n",
              "  <button class=\"colab-df-quickchart\" onclick=\"quickchart('df-aa80cb98-73fd-408a-9dcc-9643152f5a3a')\"\n",
              "            title=\"Suggest charts\"\n",
              "            style=\"display:none;\">\n",
              "\n",
              "<svg xmlns=\"http://www.w3.org/2000/svg\" height=\"24px\"viewBox=\"0 0 24 24\"\n",
              "     width=\"24px\">\n",
              "    <g>\n",
              "        <path d=\"M19 3H5c-1.1 0-2 .9-2 2v14c0 1.1.9 2 2 2h14c1.1 0 2-.9 2-2V5c0-1.1-.9-2-2-2zM9 17H7v-7h2v7zm4 0h-2V7h2v10zm4 0h-2v-4h2v4z\"/>\n",
              "    </g>\n",
              "</svg>\n",
              "  </button>\n",
              "\n",
              "<style>\n",
              "  .colab-df-quickchart {\n",
              "      --bg-color: #E8F0FE;\n",
              "      --fill-color: #1967D2;\n",
              "      --hover-bg-color: #E2EBFA;\n",
              "      --hover-fill-color: #174EA6;\n",
              "      --disabled-fill-color: #AAA;\n",
              "      --disabled-bg-color: #DDD;\n",
              "  }\n",
              "\n",
              "  [theme=dark] .colab-df-quickchart {\n",
              "      --bg-color: #3B4455;\n",
              "      --fill-color: #D2E3FC;\n",
              "      --hover-bg-color: #434B5C;\n",
              "      --hover-fill-color: #FFFFFF;\n",
              "      --disabled-bg-color: #3B4455;\n",
              "      --disabled-fill-color: #666;\n",
              "  }\n",
              "\n",
              "  .colab-df-quickchart {\n",
              "    background-color: var(--bg-color);\n",
              "    border: none;\n",
              "    border-radius: 50%;\n",
              "    cursor: pointer;\n",
              "    display: none;\n",
              "    fill: var(--fill-color);\n",
              "    height: 32px;\n",
              "    padding: 0;\n",
              "    width: 32px;\n",
              "  }\n",
              "\n",
              "  .colab-df-quickchart:hover {\n",
              "    background-color: var(--hover-bg-color);\n",
              "    box-shadow: 0 1px 2px rgba(60, 64, 67, 0.3), 0 1px 3px 1px rgba(60, 64, 67, 0.15);\n",
              "    fill: var(--button-hover-fill-color);\n",
              "  }\n",
              "\n",
              "  .colab-df-quickchart-complete:disabled,\n",
              "  .colab-df-quickchart-complete:disabled:hover {\n",
              "    background-color: var(--disabled-bg-color);\n",
              "    fill: var(--disabled-fill-color);\n",
              "    box-shadow: none;\n",
              "  }\n",
              "\n",
              "  .colab-df-spinner {\n",
              "    border: 2px solid var(--fill-color);\n",
              "    border-color: transparent;\n",
              "    border-bottom-color: var(--fill-color);\n",
              "    animation:\n",
              "      spin 1s steps(1) infinite;\n",
              "  }\n",
              "\n",
              "  @keyframes spin {\n",
              "    0% {\n",
              "      border-color: transparent;\n",
              "      border-bottom-color: var(--fill-color);\n",
              "      border-left-color: var(--fill-color);\n",
              "    }\n",
              "    20% {\n",
              "      border-color: transparent;\n",
              "      border-left-color: var(--fill-color);\n",
              "      border-top-color: var(--fill-color);\n",
              "    }\n",
              "    30% {\n",
              "      border-color: transparent;\n",
              "      border-left-color: var(--fill-color);\n",
              "      border-top-color: var(--fill-color);\n",
              "      border-right-color: var(--fill-color);\n",
              "    }\n",
              "    40% {\n",
              "      border-color: transparent;\n",
              "      border-right-color: var(--fill-color);\n",
              "      border-top-color: var(--fill-color);\n",
              "    }\n",
              "    60% {\n",
              "      border-color: transparent;\n",
              "      border-right-color: var(--fill-color);\n",
              "    }\n",
              "    80% {\n",
              "      border-color: transparent;\n",
              "      border-right-color: var(--fill-color);\n",
              "      border-bottom-color: var(--fill-color);\n",
              "    }\n",
              "    90% {\n",
              "      border-color: transparent;\n",
              "      border-bottom-color: var(--fill-color);\n",
              "    }\n",
              "  }\n",
              "</style>\n",
              "\n",
              "  <script>\n",
              "    async function quickchart(key) {\n",
              "      const quickchartButtonEl =\n",
              "        document.querySelector('#' + key + ' button');\n",
              "      quickchartButtonEl.disabled = true;  // To prevent multiple clicks.\n",
              "      quickchartButtonEl.classList.add('colab-df-spinner');\n",
              "      try {\n",
              "        const charts = await google.colab.kernel.invokeFunction(\n",
              "            'suggestCharts', [key], {});\n",
              "      } catch (error) {\n",
              "        console.error('Error during call to suggestCharts:', error);\n",
              "      }\n",
              "      quickchartButtonEl.classList.remove('colab-df-spinner');\n",
              "      quickchartButtonEl.classList.add('colab-df-quickchart-complete');\n",
              "    }\n",
              "    (() => {\n",
              "      let quickchartButtonEl =\n",
              "        document.querySelector('#df-aa80cb98-73fd-408a-9dcc-9643152f5a3a button');\n",
              "      quickchartButtonEl.style.display =\n",
              "        google.colab.kernel.accessAllowed ? 'block' : 'none';\n",
              "    })();\n",
              "  </script>\n",
              "</div>\n",
              "    </div>\n",
              "  </div>\n"
            ]
          },
          "metadata": {},
          "execution_count": 10
        }
      ]
    },
    {
      "cell_type": "code",
      "source": [
        "lig_1 = ligand['ligand_1']\n",
        "lig_2 = ligand['ligand_2']"
      ],
      "metadata": {
        "id": "Leh73-gGl2sL"
      },
      "execution_count": 11,
      "outputs": []
    },
    {
      "cell_type": "markdown",
      "source": [
        "# Morgan_fingerprint"
      ],
      "metadata": {
        "id": "xQP6M8SKlcWz"
      }
    },
    {
      "cell_type": "code",
      "source": [
        "from tqdm import tqdm\n",
        "from rdkit import Chem\n",
        "from rdkit.Chem import rdFingerprintGenerator\n",
        "morgan_fp_gen = rdFingerprintGenerator.GetMorganGenerator(includeChirality=True, radius=2, fpSize=2048)\n",
        "list_morgan_fp_lig_1 = {}\n",
        "for i in tqdm(range(99)):\n",
        "    try:\n",
        "        mol = Chem.MolFromSmiles(lig_1[i])\n",
        "        fp = morgan_fp_gen.GetFingerprint(mol)\n",
        "        vector = np.array(fp)\n",
        "        list_morgan_fp_lig_1[i] = vector\n",
        "    except:\n",
        "        print(f'{i} not work')\n",
        "        list_morgan_fp_lig_1[i] = np.array([0 for _ in range(2048)])\n",
        "list_morgan_fp_lig_1"
      ],
      "metadata": {
        "id": "ScAb87rmlWul"
      },
      "execution_count": null,
      "outputs": []
    },
    {
      "cell_type": "code",
      "source": [
        "from tqdm import tqdm\n",
        "from rdkit import Chem\n",
        "from rdkit.Chem import rdFingerprintGenerator\n",
        "morgan_fp_gen = rdFingerprintGenerator.GetMorganGenerator(includeChirality=True, radius=2, fpSize=2048)\n",
        "list_morgan_fp_lig_2 = {}\n",
        "for i in tqdm(range(99)):\n",
        "    try:\n",
        "        mol = Chem.MolFromSmiles(lig_2[i])\n",
        "        fp = morgan_fp_gen.GetFingerprint(mol)\n",
        "        vector = np.array(fp)\n",
        "        list_morgan_fp_lig_2[i] = vector\n",
        "    except:\n",
        "        print(f'{i} not work')\n",
        "        list_morgan_fp_lig_2[i] = np.array([0 for _ in range(2048)])\n",
        "list_morgan_fp_lig_2"
      ],
      "metadata": {
        "id": "PJnsQq_VmET8"
      },
      "execution_count": null,
      "outputs": []
    },
    {
      "cell_type": "code",
      "source": [
        "from tqdm import tqdm\n",
        "morgan_fp_gen = rdFingerprintGenerator.GetMorganGenerator(includeChirality=True, radius=2, fpSize=2048)\n",
        "list_morgan_fp_solv_metal = []\n",
        "for i in tqdm(range(99)):\n",
        "    try:\n",
        "        mol = Chem.MolFromSmiles(start_metal['Solvent'][i])\n",
        "        fp = morgan_fp_gen.GetFingerprint(mol)\n",
        "        vector = np.array(fp)\n",
        "        list_morgan_fp_solv_metal.append(vector)\n",
        "    except:\n",
        "        solv = start_metal['Solvent'][i]\n",
        "        print(f'{solv} not work')\n",
        "        vector = np.array([0.0 for i in range(2048)])\n",
        "        list_morgan_fp_solv_metal.append(vector)\n",
        "list_morgan_fp_solv_metal"
      ],
      "metadata": {
        "id": "32PiEVJu-cc3"
      },
      "execution_count": null,
      "outputs": []
    },
    {
      "cell_type": "code",
      "source": [
        "lig_1_db = pd.DataFrame(list_morgan_fp_lig_1.values(), columns = [f'Morgan_lig_1_{i}' for i in range(2048)])\n",
        "lig_2_db = pd.DataFrame(list_morgan_fp_lig_2.values(), columns = [f'Morgan_lig_2_{i}' for i in range(2048)])\n",
        "metal_morg_db_solv = pd.DataFrame(list_morgan_fp_solv_metal, columns = [f'Morgan_solv_{i}' for i in range(2048)])"
      ],
      "metadata": {
        "id": "fJ-G7ztO-zDi"
      },
      "execution_count": 25,
      "outputs": []
    },
    {
      "cell_type": "code",
      "source": [
        "lig_full = pd.concat([lig_1_db, lig_2_db],axis=1)\n",
        "ligand_full = pd.concat([lig_full, metal_morg_db_solv],axis=1)\n",
        "ligand_full"
      ],
      "metadata": {
        "id": "CVE2Hgl0_Avg"
      },
      "execution_count": null,
      "outputs": []
    },
    {
      "cell_type": "code",
      "source": [
        "ligand_full.to_csv('/content/drive/MyDrive/MSU_AI_Photocatal/Datasets/Metal_complexes_descriptors/Metal_complexes_ligands_MorganFingerprints_2048.csv')"
      ],
      "metadata": {
        "id": "dxzuPB2tAe7m"
      },
      "execution_count": 27,
      "outputs": []
    },
    {
      "cell_type": "markdown",
      "source": [
        "#Topologies features"
      ],
      "metadata": {
        "id": "qMcPdptjoHUe"
      }
    },
    {
      "cell_type": "markdown",
      "source": [
        "##Unzip archive of structure"
      ],
      "metadata": {
        "id": "KjfJkQjqBXnK"
      }
    },
    {
      "cell_type": "code",
      "source": [
        "from IPython.display import clear_output\n",
        "!unzip /content/drive/MyDrive/MSU_AI_Photocatal/Datasets/Coordinates_xyz/Metal_complexes_optimize_XTB_coordinates.zip\n",
        "!unzip /content/drive/MyDrive/MSU_AI_Photocatal/Datasets/Coordinates_xyz/Metal_complexes_solvents_optimize_XTB_coordinates.zip\n",
        "clear_output()"
      ],
      "metadata": {
        "id": "8kBeIo_bBbOl"
      },
      "execution_count": null,
      "outputs": []
    },
    {
      "cell_type": "markdown",
      "source": [
        "## Load topology libraries"
      ],
      "metadata": {
        "id": "D2fqZHdRK20q"
      }
    },
    {
      "cell_type": "code",
      "source": [
        "import numpy as np"
      ],
      "metadata": {
        "id": "ARjI_eF3oLZy"
      },
      "execution_count": 28,
      "outputs": []
    },
    {
      "cell_type": "code",
      "source": [
        "from gtda.homology import VietorisRipsPersistence, CubicalPersistence\n",
        "from gtda.diagrams import PersistenceEntropy, Scaler, PersistenceLandscape\n",
        "from gtda.plotting import plot_heatmap, plot_point_cloud, plot_diagram"
      ],
      "metadata": {
        "id": "byozTV5fQC5p"
      },
      "execution_count": 33,
      "outputs": []
    },
    {
      "cell_type": "code",
      "source": [
        "#def function for calculation features\n",
        "def barcode_entropy_1(matrix, dim=0):\n",
        "    lengths = []\n",
        "    for barcode in matrix:\n",
        "      if barcode[2]==dim:\n",
        "        lengths.append(barcode[1]-barcode[0])\n",
        "    lengths /= np.sum(lengths)\n",
        "    return -np.sum(lengths*np.log(lengths))\n",
        "\n",
        "def barcode_sum_1(matrix, dim=0):\n",
        "    \"\"\"Calculate sum of lengths of barcodes in h{dim}\"\"\"\n",
        "    lengths = []\n",
        "    for barcode in matrix:\n",
        "      if len(barcode):\n",
        "        if barcode[2]==dim:\n",
        "          lengths.append(barcode[1] - barcode[0])\n",
        "      else:\n",
        "        return 0.0\n",
        "    return np.sum(lengths)\n",
        "\n",
        "\n",
        "def barcode_mean_1(matrix, dim=0):\n",
        "    \"\"\"Calculate mean of lengths of barcodes in h{dim}\"\"\"\n",
        "    lengths = []\n",
        "    for barcode in matrix:\n",
        "      if len(barcode):\n",
        "        if barcode[2]==dim:\n",
        "          lengths.append(barcode[1] - barcode[0])\n",
        "      else:\n",
        "        return 0.0\n",
        "    return np.mean(lengths)\n",
        "\n",
        "def barcode_std_1(matrix, dim=0):\n",
        "    \"\"\"Calculate std of lengths of barcodes in h{dim}\"\"\"\n",
        "    lengths = []\n",
        "    for barcode in matrix:\n",
        "      if len(barcode):\n",
        "        if barcode[2]==dim:\n",
        "          lengths.append(barcode[1] - barcode[0])\n",
        "      else:\n",
        "          return 0.0\n",
        "    return np.std(lengths)"
      ],
      "metadata": {
        "id": "Vu-mMND_QOZH"
      },
      "execution_count": 30,
      "outputs": []
    },
    {
      "cell_type": "markdown",
      "source": [
        "## Prepare topologies features for metal complexes dataset"
      ],
      "metadata": {
        "id": "3e9oBiI8SPhK"
      }
    },
    {
      "cell_type": "code",
      "source": [
        "#def function for prepare vector of topologies feature\n",
        "def calculate_tda_feature(diagrams_basic):\n",
        "        sum_at_0 = []\n",
        "        sum_at_1 = []\n",
        "        sum_at_2 = []\n",
        "        mean_at_0 = []\n",
        "        mean_at_1 = []\n",
        "        mean_at_2 = []\n",
        "        std_at_0 = []\n",
        "        std_at_1 = []\n",
        "        std_at_2 = []\n",
        "        entropy_at_0 = []\n",
        "        entropy_at_1 = []\n",
        "        entropy_at_2 = []\n",
        "        for matrix in diagrams_basic:\n",
        "            sum_at_0.append(barcode_sum_1(matrix, 0))\n",
        "            sum_at_1.append(barcode_sum_1(matrix, 1))\n",
        "            sum_at_2.append(barcode_sum_1(matrix, 2))\n",
        "            mean_at_0.append(barcode_mean_1(matrix, 0))\n",
        "            mean_at_1.append(barcode_mean_1(matrix, 1))\n",
        "            mean_at_2.append(barcode_mean_1(matrix, 2))\n",
        "            std_at_0.append(barcode_std_1(matrix, 0))\n",
        "            std_at_1.append(barcode_std_1(matrix, 1))\n",
        "            std_at_2.append(barcode_std_1(matrix, 2))\n",
        "            entropy_at_0.append(barcode_entropy_1(matrix, 0))\n",
        "            entropy_at_1.append(barcode_entropy_1(matrix, 1))\n",
        "            entropy_at_2.append(barcode_entropy_1(matrix, 2))\n",
        "        sum_vector = np.array([np.sum([sum_at_0,sum_at_1,sum_at_2]),np.sum([mean_at_0,mean_at_1,mean_at_2]), np.sum([std_at_0,std_at_1,std_at_2]), np.sum([entropy_at_0,entropy_at_1,entropy_at_2])])\n",
        "        concat_vector = np.array([sum_at_0, sum_at_1,sum_at_2, mean_at_0, mean_at_1,mean_at_2, std_at_0, std_at_1,std_at_2, entropy_at_0, entropy_at_1,entropy_at_2]).flatten()\n",
        "        return sum_vector, concat_vector"
      ],
      "metadata": {
        "id": "1kEmsrvfQGU6"
      },
      "execution_count": 31,
      "outputs": []
    },
    {
      "cell_type": "code",
      "source": [
        "folder_1='/content/metal_2'\n",
        "try_count = 0\n",
        "except_count = 0\n",
        "check_files=[]\n",
        "import os\n",
        "import pickle\n",
        "for filename in tqdm(os.listdir(folder_1)):\n",
        "    print(f'Work with Metal {filename}')\n",
        "\n",
        "    disk_loc = filename.split('.')[0]\n",
        "    file_location = f'{folder_1}/{filename}'\n",
        "    xyz_file = np.genfromtxt(fname=file_location, skip_header=2, dtype='unicode')\n",
        "    coordinates = (xyz_file[:,1:])\n",
        "    coordinates = coordinates.astype(np.float16)\n",
        "    persistence = VietorisRipsPersistence(metric=\"euclidean\", homology_dimensions=[0,1,2], n_jobs=6)\n",
        "    temp_new = coordinates.reshape(1, *coordinates.shape)\n",
        "    diagrams_basic = persistence.fit_transform(temp_new)\n",
        "    with open(f\"/content/drive/MyDrive/MSU_AI_Photocatal/Datasets/Topology/XYZ_persistence_barcodes_metal/diagrams_basic_{disk_loc}.pkl\", \"wb\") as f:\n",
        "      pickle.dump(diagrams_basic, f)\n",
        "    try_count+=1\n",
        "print((try_count,except_count))"
      ],
      "metadata": {
        "id": "9XpETtgyQbSl"
      },
      "execution_count": null,
      "outputs": []
    },
    {
      "cell_type": "code",
      "source": [
        "import os\n",
        "import pickle\n",
        "list_of_feature = []\n",
        "folder = '/content/drive/MyDrive/MSU_AI_Photocatal/Datasets/Topology/XYZ_persistence_barcodes_metal/'\n",
        "for filename in tqdm(os.listdir(folder)):\n",
        "    with open(f\"{folder}/{filename}\", \"rb\") as f:\n",
        "      diagrams_basic = pickle.load(f)\n",
        "    local_conc = []\n",
        "    local_sum = []\n",
        "    name = filename.split('.')[0]\n",
        "    sum_v, concat_v = calculate_tda_feature(diagrams_basic)\n",
        "    local_conc.append(concat_v)\n",
        "    local_sum.append(sum_v)\n",
        "    print('Sum_and_conc is OK!')\n",
        "    df_sum = pd.DataFrame(np.array(local_sum))\n",
        "    df_sum.to_csv(f'/content/drive/MyDrive/MSU_AI_Photocatal/Datasets/Topology/topology_features_metal/{name}_sum.csv')\n",
        "    df_conc = pd.DataFrame(np.array(local_conc))\n",
        "    df_conc.to_csv(f'/content/drive/MyDrive/MSU_AI_Photocatal/Datasets/Topology/topology_features_metal/{name}_conc.csv')\n",
        "    list_of_feature.append(np.array(local_conc))\n",
        "    print('DF is LOAD!')"
      ],
      "metadata": {
        "id": "UzoJYaPGR8Of"
      },
      "execution_count": null,
      "outputs": []
    },
    {
      "cell_type": "markdown",
      "source": [
        "## Prepare topologies features for organic compounds solvents dataset"
      ],
      "metadata": {
        "id": "uuaCOGcdQrh5"
      }
    },
    {
      "cell_type": "code",
      "source": [
        "folder_1='/content/metal_solv'\n",
        "try_count = 0\n",
        "except_count = 0\n",
        "check_files=[]\n",
        "error=[]\n",
        "import os\n",
        "import pickle\n",
        "for filename in tqdm(os.listdir(folder_1)):\n",
        "  try:\n",
        "    disk_loc = filename.split('.')[0]\n",
        "    print(f'Work with Solvent {disk_loc.lower()}')\n",
        "    file_location = f'{folder_1}/{filename}'\n",
        "    xyz_file = np.genfromtxt(fname=file_location, skip_header=2, dtype='unicode')\n",
        "    coordinates = (xyz_file[:,1:])\n",
        "    coordinates = coordinates.astype(np.float16)\n",
        "    persistence = VietorisRipsPersistence(metric=\"euclidean\", homology_dimensions=[0,1,2], n_jobs=6)\n",
        "    temp_new = coordinates.reshape(1, *coordinates.shape)\n",
        "    diagrams_basic = persistence.fit_transform(temp_new)\n",
        "    with open(f\"/content/drive/MyDrive/MSU_AI_Photocatal/Datasets/Topology/XYZ_persistence_barcodes_metal_solvent/diagrams_basic_{disk_loc.lower()}.pkl\", \"wb\") as f:\n",
        "      pickle.dump(diagrams_basic, f)\n",
        "    try_count+=1\n",
        "  except:\n",
        "    print(f'NOT WORK with Solvent {filename}')\n",
        "    error.append(filename)\n",
        "\n",
        "print((try_count,except_count))"
      ],
      "metadata": {
        "id": "QDhC3mm_Qb_X",
        "colab": {
          "base_uri": "https://localhost:8080/"
        },
        "outputId": "add77609-02fb-44a1-80bf-27ffe1550a79"
      },
      "execution_count": 44,
      "outputs": [
        {
          "output_type": "stream",
          "name": "stderr",
          "text": [
            "\r  0%|          | 0/8 [00:00<?, ?it/s]"
          ]
        },
        {
          "output_type": "stream",
          "name": "stdout",
          "text": [
            "Work with Solvent co\n"
          ]
        },
        {
          "output_type": "stream",
          "name": "stderr",
          "text": [
            "\r 12%|█▎        | 1/8 [00:02<00:16,  2.36s/it]"
          ]
        },
        {
          "output_type": "stream",
          "name": "stdout",
          "text": [
            "Work with Solvent cn(c)c=o\n"
          ]
        },
        {
          "output_type": "stream",
          "name": "stderr",
          "text": [
            "\r 25%|██▌       | 2/8 [00:02<00:07,  1.27s/it]"
          ]
        },
        {
          "output_type": "stream",
          "name": "stdout",
          "text": [
            "Work with Solvent cco\n"
          ]
        },
        {
          "output_type": "stream",
          "name": "stderr",
          "text": [
            "\r 38%|███▊      | 3/8 [00:03<00:04,  1.07it/s]"
          ]
        },
        {
          "output_type": "stream",
          "name": "stdout",
          "text": [
            "Work with Solvent cc1=cc=cc=c1\n"
          ]
        },
        {
          "output_type": "stream",
          "name": "stderr",
          "text": [
            "\r 50%|█████     | 4/8 [00:03<00:03,  1.29it/s]"
          ]
        },
        {
          "output_type": "stream",
          "name": "stdout",
          "text": [
            "Work with Solvent c(cl)cl\n"
          ]
        },
        {
          "output_type": "stream",
          "name": "stderr",
          "text": [
            "\r 62%|██████▎   | 5/8 [00:04<00:02,  1.46it/s]"
          ]
        },
        {
          "output_type": "stream",
          "name": "stdout",
          "text": [
            "Work with Solvent cc#n\n"
          ]
        },
        {
          "output_type": "stream",
          "name": "stderr",
          "text": [
            " 75%|███████▌  | 6/8 [00:04<00:01,  1.59it/s]/usr/local/lib/python3.10/site-packages/gtda/homology/simplicial.py:232: DataDimensionalityWarning: Input array X has X.shape[1] == X.shape[2]. This is consistent with a collection of distance/adjacency matrices, but the input is being treated as a collection of vectors in Euclidean space.\n",
            "  check_point_clouds(X, accept_sparse=True,\n",
            "/usr/local/lib/python3.10/site-packages/gtda/homology/simplicial.py:299: DataDimensionalityWarning: Input array X has X.shape[1] == X.shape[2]. This is consistent with a collection of distance/adjacency matrices, but the input is being treated as a collection of vectors in Euclidean space.\n",
            "  X = check_point_clouds(X, accept_sparse=True,\n",
            "100%|██████████| 8/8 [00:05<00:00,  1.59it/s]"
          ]
        },
        {
          "output_type": "stream",
          "name": "stdout",
          "text": [
            "Work with Solvent cc(=o)n(c)c\n",
            "Work with Solvent o\n",
            "(8, 0)\n"
          ]
        },
        {
          "output_type": "stream",
          "name": "stderr",
          "text": [
            "\n"
          ]
        }
      ]
    },
    {
      "cell_type": "code",
      "source": [
        "import os\n",
        "import pickle\n",
        "folder = '/content/drive/MyDrive/MSU_AI_Photocatal/Datasets/Topology/XYZ_persistence_barcodes_metal_solvent'\n",
        "for filename in tqdm(os.listdir(folder)):\n",
        "    with open(f\"{folder}/{filename}\", \"rb\") as f:\n",
        "      diagrams_basic = pickle.load(f)\n",
        "    local_conc = []\n",
        "    local_sum = []\n",
        "    name = filename.split('.')[0]\n",
        "    sum_v, concat_v = calculate_tda_feature(diagrams_basic)\n",
        "    local_conc.append(concat_v)\n",
        "    local_sum.append(sum_v)\n",
        "    print('Sum_and_conc is OK!')\n",
        "    df_sum = pd.DataFrame(np.array(local_sum))\n",
        "    df_sum.to_csv(f'/content/drive/MyDrive/MSU_AI_Photocatal/Datasets/Topology/topology_features_metal_solvent/{name}_sum.csv')\n",
        "    df_conc = pd.DataFrame(np.array(local_conc))\n",
        "    df_conc.to_csv(f'/content/drive/MyDrive/MSU_AI_Photocatal/Datasets/Topology/topology_features_metal_solvent/{name}_conc.csv')\n",
        "    print('DF is LOAD!')"
      ],
      "metadata": {
        "id": "k4ocME1LQ6l9"
      },
      "execution_count": null,
      "outputs": []
    },
    {
      "cell_type": "code",
      "source": [
        "start_metal"
      ],
      "metadata": {
        "colab": {
          "base_uri": "https://localhost:8080/",
          "height": 424
        },
        "id": "TvEyhv1aGh0H",
        "outputId": "8c3e4d66-d3c3-4af6-916a-107377726e8c"
      },
      "execution_count": 48,
      "outputs": [
        {
          "output_type": "execute_result",
          "data": {
            "text/plain": [
              "             Name  Absorption_nm  Emission_nm  Solvent  Lifetime_ns  \\\n",
              "0      C20H8O5Br4            520        549.0     CC#N         2.66   \n",
              "1        C20H12O5            498        517.0     CC#N         4.70   \n",
              "2    C20H4Cl4I4O5            559        573.0      CCO         0.50   \n",
              "3     C28H31N2O3+            542        564.0      CCO         2.45   \n",
              "4     C26H30N4O10            443        524.0     CC#N         5.70   \n",
              "..            ...            ...          ...      ...          ...   \n",
              "94    PtC17NH17O3            420        543.0     CC#N  11600000.00   \n",
              "95  CeSi6C25N5H68            423          NaN      NaN     67000.00   \n",
              "96  CeSi6C31N5H76            423          NaN      NaN     61000.00   \n",
              "97    WC55N4H46O4            407        608.0  C(Cl)Cl   4600000.00   \n",
              "98    WC55N4H42O4            420        553.0  C(Cl)Cl  74900000.00   \n",
              "\n",
              "    Molecular_Mass  \n",
              "0           647.89  \n",
              "1           332.31  \n",
              "2           973.67  \n",
              "3           443.56  \n",
              "4           558.54  \n",
              "..             ...  \n",
              "94          478.40  \n",
              "95             NaN  \n",
              "96             NaN  \n",
              "97         1010.82  \n",
              "98         1006.78  \n",
              "\n",
              "[99 rows x 6 columns]"
            ],
            "text/html": [
              "\n",
              "  <div id=\"df-96b7a5bf-8f24-4a89-97ac-02bf1f7d5338\" class=\"colab-df-container\">\n",
              "    <div>\n",
              "<style scoped>\n",
              "    .dataframe tbody tr th:only-of-type {\n",
              "        vertical-align: middle;\n",
              "    }\n",
              "\n",
              "    .dataframe tbody tr th {\n",
              "        vertical-align: top;\n",
              "    }\n",
              "\n",
              "    .dataframe thead th {\n",
              "        text-align: right;\n",
              "    }\n",
              "</style>\n",
              "<table border=\"1\" class=\"dataframe\">\n",
              "  <thead>\n",
              "    <tr style=\"text-align: right;\">\n",
              "      <th></th>\n",
              "      <th>Name</th>\n",
              "      <th>Absorption_nm</th>\n",
              "      <th>Emission_nm</th>\n",
              "      <th>Solvent</th>\n",
              "      <th>Lifetime_ns</th>\n",
              "      <th>Molecular_Mass</th>\n",
              "    </tr>\n",
              "  </thead>\n",
              "  <tbody>\n",
              "    <tr>\n",
              "      <th>0</th>\n",
              "      <td>C20H8O5Br4</td>\n",
              "      <td>520</td>\n",
              "      <td>549.0</td>\n",
              "      <td>CC#N</td>\n",
              "      <td>2.66</td>\n",
              "      <td>647.89</td>\n",
              "    </tr>\n",
              "    <tr>\n",
              "      <th>1</th>\n",
              "      <td>C20H12O5</td>\n",
              "      <td>498</td>\n",
              "      <td>517.0</td>\n",
              "      <td>CC#N</td>\n",
              "      <td>4.70</td>\n",
              "      <td>332.31</td>\n",
              "    </tr>\n",
              "    <tr>\n",
              "      <th>2</th>\n",
              "      <td>C20H4Cl4I4O5</td>\n",
              "      <td>559</td>\n",
              "      <td>573.0</td>\n",
              "      <td>CCO</td>\n",
              "      <td>0.50</td>\n",
              "      <td>973.67</td>\n",
              "    </tr>\n",
              "    <tr>\n",
              "      <th>3</th>\n",
              "      <td>C28H31N2O3+</td>\n",
              "      <td>542</td>\n",
              "      <td>564.0</td>\n",
              "      <td>CCO</td>\n",
              "      <td>2.45</td>\n",
              "      <td>443.56</td>\n",
              "    </tr>\n",
              "    <tr>\n",
              "      <th>4</th>\n",
              "      <td>C26H30N4O10</td>\n",
              "      <td>443</td>\n",
              "      <td>524.0</td>\n",
              "      <td>CC#N</td>\n",
              "      <td>5.70</td>\n",
              "      <td>558.54</td>\n",
              "    </tr>\n",
              "    <tr>\n",
              "      <th>...</th>\n",
              "      <td>...</td>\n",
              "      <td>...</td>\n",
              "      <td>...</td>\n",
              "      <td>...</td>\n",
              "      <td>...</td>\n",
              "      <td>...</td>\n",
              "    </tr>\n",
              "    <tr>\n",
              "      <th>94</th>\n",
              "      <td>PtC17NH17O3</td>\n",
              "      <td>420</td>\n",
              "      <td>543.0</td>\n",
              "      <td>CC#N</td>\n",
              "      <td>11600000.00</td>\n",
              "      <td>478.40</td>\n",
              "    </tr>\n",
              "    <tr>\n",
              "      <th>95</th>\n",
              "      <td>CeSi6C25N5H68</td>\n",
              "      <td>423</td>\n",
              "      <td>NaN</td>\n",
              "      <td>NaN</td>\n",
              "      <td>67000.00</td>\n",
              "      <td>NaN</td>\n",
              "    </tr>\n",
              "    <tr>\n",
              "      <th>96</th>\n",
              "      <td>CeSi6C31N5H76</td>\n",
              "      <td>423</td>\n",
              "      <td>NaN</td>\n",
              "      <td>NaN</td>\n",
              "      <td>61000.00</td>\n",
              "      <td>NaN</td>\n",
              "    </tr>\n",
              "    <tr>\n",
              "      <th>97</th>\n",
              "      <td>WC55N4H46O4</td>\n",
              "      <td>407</td>\n",
              "      <td>608.0</td>\n",
              "      <td>C(Cl)Cl</td>\n",
              "      <td>4600000.00</td>\n",
              "      <td>1010.82</td>\n",
              "    </tr>\n",
              "    <tr>\n",
              "      <th>98</th>\n",
              "      <td>WC55N4H42O4</td>\n",
              "      <td>420</td>\n",
              "      <td>553.0</td>\n",
              "      <td>C(Cl)Cl</td>\n",
              "      <td>74900000.00</td>\n",
              "      <td>1006.78</td>\n",
              "    </tr>\n",
              "  </tbody>\n",
              "</table>\n",
              "<p>99 rows × 6 columns</p>\n",
              "</div>\n",
              "    <div class=\"colab-df-buttons\">\n",
              "\n",
              "  <div class=\"colab-df-container\">\n",
              "    <button class=\"colab-df-convert\" onclick=\"convertToInteractive('df-96b7a5bf-8f24-4a89-97ac-02bf1f7d5338')\"\n",
              "            title=\"Convert this dataframe to an interactive table.\"\n",
              "            style=\"display:none;\">\n",
              "\n",
              "  <svg xmlns=\"http://www.w3.org/2000/svg\" height=\"24px\" viewBox=\"0 -960 960 960\">\n",
              "    <path d=\"M120-120v-720h720v720H120Zm60-500h600v-160H180v160Zm220 220h160v-160H400v160Zm0 220h160v-160H400v160ZM180-400h160v-160H180v160Zm440 0h160v-160H620v160ZM180-180h160v-160H180v160Zm440 0h160v-160H620v160Z\"/>\n",
              "  </svg>\n",
              "    </button>\n",
              "\n",
              "  <style>\n",
              "    .colab-df-container {\n",
              "      display:flex;\n",
              "      gap: 12px;\n",
              "    }\n",
              "\n",
              "    .colab-df-convert {\n",
              "      background-color: #E8F0FE;\n",
              "      border: none;\n",
              "      border-radius: 50%;\n",
              "      cursor: pointer;\n",
              "      display: none;\n",
              "      fill: #1967D2;\n",
              "      height: 32px;\n",
              "      padding: 0 0 0 0;\n",
              "      width: 32px;\n",
              "    }\n",
              "\n",
              "    .colab-df-convert:hover {\n",
              "      background-color: #E2EBFA;\n",
              "      box-shadow: 0px 1px 2px rgba(60, 64, 67, 0.3), 0px 1px 3px 1px rgba(60, 64, 67, 0.15);\n",
              "      fill: #174EA6;\n",
              "    }\n",
              "\n",
              "    .colab-df-buttons div {\n",
              "      margin-bottom: 4px;\n",
              "    }\n",
              "\n",
              "    [theme=dark] .colab-df-convert {\n",
              "      background-color: #3B4455;\n",
              "      fill: #D2E3FC;\n",
              "    }\n",
              "\n",
              "    [theme=dark] .colab-df-convert:hover {\n",
              "      background-color: #434B5C;\n",
              "      box-shadow: 0px 1px 3px 1px rgba(0, 0, 0, 0.15);\n",
              "      filter: drop-shadow(0px 1px 2px rgba(0, 0, 0, 0.3));\n",
              "      fill: #FFFFFF;\n",
              "    }\n",
              "  </style>\n",
              "\n",
              "    <script>\n",
              "      const buttonEl =\n",
              "        document.querySelector('#df-96b7a5bf-8f24-4a89-97ac-02bf1f7d5338 button.colab-df-convert');\n",
              "      buttonEl.style.display =\n",
              "        google.colab.kernel.accessAllowed ? 'block' : 'none';\n",
              "\n",
              "      async function convertToInteractive(key) {\n",
              "        const element = document.querySelector('#df-96b7a5bf-8f24-4a89-97ac-02bf1f7d5338');\n",
              "        const dataTable =\n",
              "          await google.colab.kernel.invokeFunction('convertToInteractive',\n",
              "                                                    [key], {});\n",
              "        if (!dataTable) return;\n",
              "\n",
              "        const docLinkHtml = 'Like what you see? Visit the ' +\n",
              "          '<a target=\"_blank\" href=https://colab.research.google.com/notebooks/data_table.ipynb>data table notebook</a>'\n",
              "          + ' to learn more about interactive tables.';\n",
              "        element.innerHTML = '';\n",
              "        dataTable['output_type'] = 'display_data';\n",
              "        await google.colab.output.renderOutput(dataTable, element);\n",
              "        const docLink = document.createElement('div');\n",
              "        docLink.innerHTML = docLinkHtml;\n",
              "        element.appendChild(docLink);\n",
              "      }\n",
              "    </script>\n",
              "  </div>\n",
              "\n",
              "\n",
              "<div id=\"df-5e81577e-dd9d-48d6-995b-019df917ccf9\">\n",
              "  <button class=\"colab-df-quickchart\" onclick=\"quickchart('df-5e81577e-dd9d-48d6-995b-019df917ccf9')\"\n",
              "            title=\"Suggest charts\"\n",
              "            style=\"display:none;\">\n",
              "\n",
              "<svg xmlns=\"http://www.w3.org/2000/svg\" height=\"24px\"viewBox=\"0 0 24 24\"\n",
              "     width=\"24px\">\n",
              "    <g>\n",
              "        <path d=\"M19 3H5c-1.1 0-2 .9-2 2v14c0 1.1.9 2 2 2h14c1.1 0 2-.9 2-2V5c0-1.1-.9-2-2-2zM9 17H7v-7h2v7zm4 0h-2V7h2v10zm4 0h-2v-4h2v4z\"/>\n",
              "    </g>\n",
              "</svg>\n",
              "  </button>\n",
              "\n",
              "<style>\n",
              "  .colab-df-quickchart {\n",
              "      --bg-color: #E8F0FE;\n",
              "      --fill-color: #1967D2;\n",
              "      --hover-bg-color: #E2EBFA;\n",
              "      --hover-fill-color: #174EA6;\n",
              "      --disabled-fill-color: #AAA;\n",
              "      --disabled-bg-color: #DDD;\n",
              "  }\n",
              "\n",
              "  [theme=dark] .colab-df-quickchart {\n",
              "      --bg-color: #3B4455;\n",
              "      --fill-color: #D2E3FC;\n",
              "      --hover-bg-color: #434B5C;\n",
              "      --hover-fill-color: #FFFFFF;\n",
              "      --disabled-bg-color: #3B4455;\n",
              "      --disabled-fill-color: #666;\n",
              "  }\n",
              "\n",
              "  .colab-df-quickchart {\n",
              "    background-color: var(--bg-color);\n",
              "    border: none;\n",
              "    border-radius: 50%;\n",
              "    cursor: pointer;\n",
              "    display: none;\n",
              "    fill: var(--fill-color);\n",
              "    height: 32px;\n",
              "    padding: 0;\n",
              "    width: 32px;\n",
              "  }\n",
              "\n",
              "  .colab-df-quickchart:hover {\n",
              "    background-color: var(--hover-bg-color);\n",
              "    box-shadow: 0 1px 2px rgba(60, 64, 67, 0.3), 0 1px 3px 1px rgba(60, 64, 67, 0.15);\n",
              "    fill: var(--button-hover-fill-color);\n",
              "  }\n",
              "\n",
              "  .colab-df-quickchart-complete:disabled,\n",
              "  .colab-df-quickchart-complete:disabled:hover {\n",
              "    background-color: var(--disabled-bg-color);\n",
              "    fill: var(--disabled-fill-color);\n",
              "    box-shadow: none;\n",
              "  }\n",
              "\n",
              "  .colab-df-spinner {\n",
              "    border: 2px solid var(--fill-color);\n",
              "    border-color: transparent;\n",
              "    border-bottom-color: var(--fill-color);\n",
              "    animation:\n",
              "      spin 1s steps(1) infinite;\n",
              "  }\n",
              "\n",
              "  @keyframes spin {\n",
              "    0% {\n",
              "      border-color: transparent;\n",
              "      border-bottom-color: var(--fill-color);\n",
              "      border-left-color: var(--fill-color);\n",
              "    }\n",
              "    20% {\n",
              "      border-color: transparent;\n",
              "      border-left-color: var(--fill-color);\n",
              "      border-top-color: var(--fill-color);\n",
              "    }\n",
              "    30% {\n",
              "      border-color: transparent;\n",
              "      border-left-color: var(--fill-color);\n",
              "      border-top-color: var(--fill-color);\n",
              "      border-right-color: var(--fill-color);\n",
              "    }\n",
              "    40% {\n",
              "      border-color: transparent;\n",
              "      border-right-color: var(--fill-color);\n",
              "      border-top-color: var(--fill-color);\n",
              "    }\n",
              "    60% {\n",
              "      border-color: transparent;\n",
              "      border-right-color: var(--fill-color);\n",
              "    }\n",
              "    80% {\n",
              "      border-color: transparent;\n",
              "      border-right-color: var(--fill-color);\n",
              "      border-bottom-color: var(--fill-color);\n",
              "    }\n",
              "    90% {\n",
              "      border-color: transparent;\n",
              "      border-bottom-color: var(--fill-color);\n",
              "    }\n",
              "  }\n",
              "</style>\n",
              "\n",
              "  <script>\n",
              "    async function quickchart(key) {\n",
              "      const quickchartButtonEl =\n",
              "        document.querySelector('#' + key + ' button');\n",
              "      quickchartButtonEl.disabled = true;  // To prevent multiple clicks.\n",
              "      quickchartButtonEl.classList.add('colab-df-spinner');\n",
              "      try {\n",
              "        const charts = await google.colab.kernel.invokeFunction(\n",
              "            'suggestCharts', [key], {});\n",
              "      } catch (error) {\n",
              "        console.error('Error during call to suggestCharts:', error);\n",
              "      }\n",
              "      quickchartButtonEl.classList.remove('colab-df-spinner');\n",
              "      quickchartButtonEl.classList.add('colab-df-quickchart-complete');\n",
              "    }\n",
              "    (() => {\n",
              "      let quickchartButtonEl =\n",
              "        document.querySelector('#df-5e81577e-dd9d-48d6-995b-019df917ccf9 button');\n",
              "      quickchartButtonEl.style.display =\n",
              "        google.colab.kernel.accessAllowed ? 'block' : 'none';\n",
              "    })();\n",
              "  </script>\n",
              "</div>\n",
              "    </div>\n",
              "  </div>\n"
            ]
          },
          "metadata": {},
          "execution_count": 48
        }
      ]
    },
    {
      "cell_type": "code",
      "source": [
        "topology_full = {}\n",
        "for i in tqdm(range(99)):\n",
        "  try:\n",
        "    metal_top = pd.read_csv(f'/content/drive/MyDrive/MSU_AI_Photocatal/Datasets/Topology/topology_features_metal/diagrams_basic_{i}_r2scan_conc.csv')\n",
        "    solv = start_metal['Solvent'][i]\n",
        "    solv_top = pd.read_csv(f'/content/drive/MyDrive/MSU_AI_Photocatal/Datasets/Topology/topology_features_metal_solvent/diagrams_basic_{solv.lower()}_conc.csv')\n",
        "    full = pd.concat([metal_top, solv_top],axis=1).drop(['Unnamed: 0'],axis=1)\n",
        "    topology_full[f'{i}'] = np.array(full).squeeze()\n",
        "  except:\n",
        "    print(f'{i} not work')\n",
        "    topology_full[f'{i}'] = np.array([0.0 for _ in range(24)]).squeeze()"
      ],
      "metadata": {
        "colab": {
          "base_uri": "https://localhost:8080/"
        },
        "id": "2vWvec0DGVLS",
        "outputId": "4132d12a-b6a0-4d86-ccdf-08809a4dfd0a"
      },
      "execution_count": 85,
      "outputs": [
        {
          "output_type": "stream",
          "name": "stderr",
          "text": [
            " 86%|████████▌ | 85/99 [00:01<00:00, 79.80it/s]"
          ]
        },
        {
          "output_type": "stream",
          "name": "stdout",
          "text": [
            "71 not work\n"
          ]
        },
        {
          "output_type": "stream",
          "name": "stderr",
          "text": [
            "100%|██████████| 99/99 [00:01<00:00, 75.15it/s]"
          ]
        },
        {
          "output_type": "stream",
          "name": "stdout",
          "text": [
            "95 not work\n",
            "96 not work\n"
          ]
        },
        {
          "output_type": "stream",
          "name": "stderr",
          "text": [
            "\n"
          ]
        }
      ]
    },
    {
      "cell_type": "code",
      "source": [
        "np.array(full).squeeze().shape"
      ],
      "metadata": {
        "colab": {
          "base_uri": "https://localhost:8080/"
        },
        "id": "P1O2sEC3K7dn",
        "outputId": "93d17761-a114-447f-843d-cf820d0294fc"
      },
      "execution_count": 87,
      "outputs": [
        {
          "output_type": "execute_result",
          "data": {
            "text/plain": [
              "(24,)"
            ]
          },
          "metadata": {},
          "execution_count": 87
        }
      ]
    },
    {
      "cell_type": "code",
      "source": [
        "columns_metal = ['sum_H_0', 'sum_H_1','sum_H_2', 'mean_H_0', 'mean_H_1','mean_H_2', 'std_H_0', 'std_H_1','std_H_2', 'entropy_H_0', 'entropy_H_1','entropy_H_2']\n",
        "columns_solv = ['solv_sum_H_0', 'solv_sum_H_1','solv_sum_H_2', 'solv_mean_H_0', 'solv_mean_H_1','solv_mean_H_2', 'solv_std_H_0', 'solv_std_H_1','solv_std_H_2', 'solv_entropy_H_0', 'solv_entropy_H_1','solv_entropy_H_2']\n",
        "full_topol = columns_metal + columns_solv\n",
        "topol_feat = pd.DataFrame.from_dict(topology_full, orient='index',columns = full_topol)\n",
        "topol_feat"
      ],
      "metadata": {
        "id": "JZigh1WwIMml"
      },
      "execution_count": null,
      "outputs": []
    },
    {
      "cell_type": "code",
      "source": [
        "topol_feat.to_csv('/content/drive/MyDrive/MSU_AI_Photocatal/Datasets/Topology/Topology_features_metal_complex.csv')"
      ],
      "metadata": {
        "id": "2xVhS3-WLBrs"
      },
      "execution_count": null,
      "outputs": []
    },
    {
      "cell_type": "markdown",
      "source": [
        "# SLATM"
      ],
      "metadata": {
        "id": "q9J1ufIKTFcU"
      }
    },
    {
      "cell_type": "markdown",
      "source": [
        "#Unzip files"
      ],
      "metadata": {
        "id": "LqLCRkE-L9HM"
      }
    },
    {
      "cell_type": "code",
      "source": [
        "from IPython.display import clear_output\n",
        "!unzip /content/drive/MyDrive/MSU_AI_Photocatal/Datasets/Coordinates_xyz/Organic_compounds_optimize_XTB_coordinates.zip\n",
        "!unzip /content/drive/MyDrive/MSU_AI_Photocatal/Datasets/Coordinates_xyz/Organic_compounds_optimize_MM_coordinates.zip\n",
        "!unzip /content/drive/MyDrive/MSU_AI_Photocatal/Datasets/Coordinates_xyz/Organic_compounds_solvents_optimize_XTB_coordinates.zip\n",
        "!unzip /content/drive/MyDrive/MSU_AI_Photocatal/Datasets/Coordinates_xyz/Metal_complexes_optimize_XTB_coordinates.zip\n",
        "!unzip /content/drive/MyDrive/MSU_AI_Photocatal/Datasets/Coordinates_xyz/Metal_complexes_solvents_optimize_XTB_coordinates.zip\n",
        "clear_output()"
      ],
      "metadata": {
        "id": "bkdbB_xIMLeb"
      },
      "execution_count": 92,
      "outputs": []
    },
    {
      "cell_type": "markdown",
      "source": [
        "## Preparing SLATM of metal complex"
      ],
      "metadata": {
        "id": "vQ-Ujk1sYmod"
      }
    },
    {
      "cell_type": "code",
      "source": [
        "# because addition of metal complex change charge distribution we should change SLATM representation for organic dataset\n",
        "path_to_folder = '/content/Result_xyz'\n",
        "from qml import Compound\n",
        "from tqdm import tqdm\n",
        "slatm_ds = []\n",
        "filenames = []\n",
        "\n",
        "for filename in tqdm(os.listdir(path_to_folder)):\n",
        "  try:\n",
        "    mol = Compound(xyz = os.path.join('/content/Result_xyz', filename))\n",
        "    slatm_ds.append(mol)\n",
        "    filenames.append(filename.split('.')[0])\n",
        "  except:\n",
        "    print(f'{filename} not work')\n",
        "    mol = Compound(xyz = os.path.join('/content/Input_xtb', filename))\n",
        "    slatm_ds.append(mol)\n",
        "    filenames.append(filename.split('.')[0])"
      ],
      "metadata": {
        "id": "GikWUInoTE0f",
        "colab": {
          "base_uri": "https://localhost:8080/"
        },
        "outputId": "6194da2a-41c6-480f-dccc-b19b4e6fde28"
      },
      "execution_count": 94,
      "outputs": [
        {
          "output_type": "stream",
          "name": "stderr",
          "text": [
            " 42%|████▏     | 8399/20236 [00:02<00:02, 4122.11it/s]"
          ]
        },
        {
          "output_type": "stream",
          "name": "stdout",
          "text": [
            "6477.xyz not work\n"
          ]
        },
        {
          "output_type": "stream",
          "name": "stderr",
          "text": [
            "100%|██████████| 20236/20236 [00:07<00:00, 2623.64it/s]\n"
          ]
        }
      ]
    },
    {
      "cell_type": "code",
      "source": [
        "for filename in tqdm(os.listdir('/content/metal_2')):\n",
        "  try:\n",
        "    mol = Compound(xyz = os.path.join('/content/metal_2', filename))\n",
        "    slatm_ds.append(mol)\n",
        "    filenames.append(filename.split('.')[0])\n",
        "  except:\n",
        "    print(f'{filename} not work')"
      ],
      "metadata": {
        "id": "Q6naM1PpM1YX"
      },
      "execution_count": null,
      "outputs": []
    },
    {
      "cell_type": "code",
      "source": [
        "from qml.representations import get_slatm_mbtypes\n",
        "\n",
        "mbtypes = get_slatm_mbtypes([mol.nuclear_charges for compound in slatm_ds]) # make charge distribution for compounds"
      ],
      "metadata": {
        "id": "PC4C1jacXyXS"
      },
      "execution_count": 96,
      "outputs": []
    },
    {
      "cell_type": "code",
      "source": [
        "SLATM_df_org = {}\n",
        "\n",
        "for filename in tqdm(range(20236)): # make slatm for organic compounds\n",
        "  try:\n",
        "    mol = Compound(xyz = os.path.join('/content/Result_xyz', f'{filename}.xyz'))\n",
        "    mol.generate_slatm(mbtypes)\n",
        "    SLATM_df_org[f'{filename}'] = mol.representation\n",
        "  except: # fill the bag from GFN2-xTB\n",
        "    print(f'{filename} not work')\n",
        "    mol = Compound(xyz = os.path.join('/content/Input_xtb', f'{filename}.xyz'))\n",
        "    mol.generate_slatm(mbtypes)\n",
        "    SLATM_df_org[f'{filename}'] = mol.representation"
      ],
      "metadata": {
        "id": "msPzfiSOX2LP",
        "colab": {
          "base_uri": "https://localhost:8080/"
        },
        "outputId": "da319aa4-9660-40bd-ddaa-9c3940a21098"
      },
      "execution_count": 97,
      "outputs": [
        {
          "output_type": "stream",
          "name": "stderr",
          "text": [
            " 32%|███▏      | 6479/20236 [04:19<11:59, 19.12it/s]"
          ]
        },
        {
          "output_type": "stream",
          "name": "stdout",
          "text": [
            "6477 not work\n"
          ]
        },
        {
          "output_type": "stream",
          "name": "stderr",
          "text": [
            "100%|██████████| 20236/20236 [14:04<00:00, 23.95it/s]\n"
          ]
        }
      ]
    },
    {
      "cell_type": "code",
      "source": [
        "sl_df_org = pd.DataFrame(SLATM_df).T"
      ],
      "metadata": {
        "id": "S4OzTVW2X-w9"
      },
      "execution_count": null,
      "outputs": []
    },
    {
      "cell_type": "code",
      "source": [
        "SLATM_df_metal = {}\n",
        "\n",
        "for filename in tqdm(range(99)):\n",
        "  try:\n",
        "    mol = Compound(xyz = os.path.join('/content/metal_2', f'{filename}_r2scan.xyz'))\n",
        "    mol.generate_slatm(mbtypes)\n",
        "    SLATM_df_metal[f'{filename}'] = mol.representation\n",
        "  except:\n",
        "    print(f'{filename} not work')"
      ],
      "metadata": {
        "colab": {
          "base_uri": "https://localhost:8080/"
        },
        "id": "l31Y29V1N8xg",
        "outputId": "24a146cb-40e8-4c07-b9c4-b6ec5b4097c4"
      },
      "execution_count": 99,
      "outputs": [
        {
          "output_type": "stream",
          "name": "stderr",
          "text": [
            " 31%|███▏      | 31/99 [00:05<00:07,  9.24it/s]"
          ]
        },
        {
          "output_type": "stream",
          "name": "stdout",
          "text": [
            "20 not work\n",
            "22 not work\n"
          ]
        },
        {
          "output_type": "stream",
          "name": "stderr",
          "text": [
            " 58%|█████▊    | 57/99 [00:05<00:01, 31.17it/s]"
          ]
        },
        {
          "output_type": "stream",
          "name": "stdout",
          "text": [
            "46 not work\n",
            "47 not work\n",
            "52 not work\n",
            "53 not work\n",
            "55 not work\n"
          ]
        },
        {
          "output_type": "stream",
          "name": "stderr",
          "text": [
            " 76%|███████▌  | 75/99 [00:06<00:00, 37.84it/s]"
          ]
        },
        {
          "output_type": "stream",
          "name": "stdout",
          "text": [
            "71 not work\n"
          ]
        },
        {
          "output_type": "stream",
          "name": "stderr",
          "text": [
            "100%|██████████| 99/99 [00:06<00:00, 14.23it/s]"
          ]
        },
        {
          "output_type": "stream",
          "name": "stdout",
          "text": [
            "95 not work\n",
            "96 not work\n"
          ]
        },
        {
          "output_type": "stream",
          "name": "stderr",
          "text": [
            "\n"
          ]
        }
      ]
    },
    {
      "cell_type": "code",
      "source": [
        "sl_df_metal = pd.DataFrame(SLATM_df_metal).T"
      ],
      "metadata": {
        "id": "sqgQ1MLtQpf8"
      },
      "execution_count": null,
      "outputs": []
    },
    {
      "cell_type": "markdown",
      "source": [
        "## Preparing SLATM on metal complex solvent"
      ],
      "metadata": {
        "id": "wrWIwa3JRAEJ"
      }
    },
    {
      "cell_type": "code",
      "source": [
        "from qml import Compound\n",
        "from tqdm import tqdm\n",
        "slatm_ds_solv = []\n",
        "filenames_solv = []\n",
        "import warnings\n",
        "import os\n",
        "#warnings.filterwarnings('ignore') # игнорируем предупреждения\n",
        "path_to_folder = \"/content/Solvent\"\n",
        "for filename in tqdm(os.listdir(path_to_folder)):\n",
        "    mol = Compound(xyz = os.path.join(path_to_folder, filename))\n",
        "    slatm_ds_solv.append(mol)\n",
        "    filenames_solv.append(filename.split('.')[0])"
      ],
      "metadata": {
        "colab": {
          "base_uri": "https://localhost:8080/"
        },
        "id": "tAocayHERICQ",
        "outputId": "dd593c55-540f-4d90-8aa0-c8a5a7e12168"
      },
      "execution_count": 102,
      "outputs": [
        {
          "output_type": "stream",
          "name": "stderr",
          "text": [
            "100%|██████████| 1145/1145 [00:00<00:00, 4306.24it/s]\n"
          ]
        }
      ]
    },
    {
      "cell_type": "code",
      "source": [
        "path_to_folder = \"/content/metal_solv\"\n",
        "for filename in tqdm(os.listdir(path_to_folder)):\n",
        "    mol = Compound(xyz = os.path.join(path_to_folder, filename))\n",
        "    slatm_ds_solv.append(mol)\n",
        "    filenames_solv.append(filename.split('.')[0])"
      ],
      "metadata": {
        "colab": {
          "base_uri": "https://localhost:8080/"
        },
        "id": "9zWYK1bTRJn3",
        "outputId": "1649e32e-8abc-42d4-eefd-89df44d5b7e0"
      },
      "execution_count": 103,
      "outputs": [
        {
          "output_type": "stream",
          "name": "stderr",
          "text": [
            "100%|██████████| 8/8 [00:00<00:00, 2715.42it/s]\n"
          ]
        }
      ]
    },
    {
      "cell_type": "code",
      "source": [
        "from qml.representations import get_slatm_mbtypes\n",
        "\n",
        "mbtypes_solv = get_slatm_mbtypes([mol.nuclear_charges for compound in slatm_ds_solv])"
      ],
      "metadata": {
        "id": "iq3n58ZgRMbK"
      },
      "execution_count": 104,
      "outputs": []
    },
    {
      "cell_type": "code",
      "source": [
        "for file in tqdm(os.listdir(\"/content/Solvent\")):\n",
        "  print(file)\n",
        "  os.rename(f'/content/Solvent/{file}',f'/content/Solvent/{file.lower()}')"
      ],
      "metadata": {
        "id": "P18hYPa3SIq9"
      },
      "execution_count": null,
      "outputs": []
    },
    {
      "cell_type": "code",
      "source": [
        "sol = start_org['Solvent'][0].lower()\n",
        "solv = Compound(xyz = os.path.join(\"/content/Solvent\", f'{sol}.xyz'))\n",
        "solv.generate_slatm(mbtypes_solv)\n",
        "solvent = solv.representation\n",
        "SLATM_df_org_solv[f'{filename}'] = np.append(SLATM_df_org[f'{filename}'],solvent)\n",
        "solv_len = len(solvent)"
      ],
      "metadata": {
        "id": "9_L1hs0cSSr-"
      },
      "execution_count": null,
      "outputs": []
    },
    {
      "cell_type": "code",
      "source": [
        "SLATM_df_org_solv = {}\n",
        "for filename in tqdm(range(20236)):\n",
        "  try:\n",
        "    sol = start_org['Solvent'][filename].lower()\n",
        "    solv = Compound(xyz = os.path.join(\"/content/Solvent\", f'{sol}.xyz'))\n",
        "    solv.generate_slatm(mbtypes_solv)\n",
        "    solvent = solv.representation\n",
        "    SLATM_df_org_solv[f'{filename}'] = np.append(SLATM_df_org[f'{filename}'],solvent)\n",
        "\n",
        "  except:\n",
        "    print(f'{filename} not work')\n",
        "    SLATM_df_org_solv[f'{filename}'] = np.append(SLATM_df_org[f'{filename}'],np.array([np.float16(0) for i in range(solv_len)]))"
      ],
      "metadata": {
        "colab": {
          "base_uri": "https://localhost:8080/"
        },
        "id": "DnPSqaRwRPKB",
        "outputId": "a5cbde35-7a00-4327-da12-005ada17264b"
      },
      "execution_count": null,
      "outputs": [
        {
          "output_type": "stream",
          "name": "stderr",
          "text": [
            " 32%|███▏      | 6466/20236 [00:18<03:53, 58.89it/s]"
          ]
        },
        {
          "output_type": "stream",
          "name": "stdout",
          "text": [
            "6473 not work\n"
          ]
        },
        {
          "output_type": "stream",
          "name": "stderr",
          "text": [
            " 32%|███▏      | 6541/20236 [00:21<10:02, 22.73it/s]"
          ]
        },
        {
          "output_type": "stream",
          "name": "stdout",
          "text": [
            "6537 not work\n"
          ]
        },
        {
          "output_type": "stream",
          "name": "stderr",
          "text": [
            " 34%|███▎      | 6785/20236 [00:23<00:57, 233.18it/s]"
          ]
        },
        {
          "output_type": "stream",
          "name": "stdout",
          "text": [
            "6735 not work\n",
            "6736 not work\n"
          ]
        },
        {
          "output_type": "stream",
          "name": "stderr",
          "text": [
            " 34%|███▍      | 6956/20236 [00:23<00:32, 407.18it/s]"
          ]
        },
        {
          "output_type": "stream",
          "name": "stdout",
          "text": [
            "6859 not work\n"
          ]
        },
        {
          "output_type": "stream",
          "name": "stderr",
          "text": [
            " 36%|███▌      | 7200/20236 [00:25<01:41, 128.04it/s]"
          ]
        },
        {
          "output_type": "stream",
          "name": "stdout",
          "text": [
            "7181 not work\n"
          ]
        },
        {
          "output_type": "stream",
          "name": "stderr",
          "text": [
            " 36%|███▌      | 7251/20236 [00:26<02:40, 80.90it/s] "
          ]
        },
        {
          "output_type": "stream",
          "name": "stdout",
          "text": [
            "7249 not work\n"
          ]
        },
        {
          "output_type": "stream",
          "name": "stderr",
          "text": [
            " 37%|███▋      | 7446/20236 [00:27<01:14, 170.84it/s]"
          ]
        }
      ]
    },
    {
      "cell_type": "code",
      "source": [
        "SLATM_df_solv_metall = {}\n",
        "for filename in tqdm(range(99)):\n",
        "  #print(filename)\n",
        "  try:\n",
        "    sol = start_metal['Solvent'][filename]\n",
        "    solv = Compound(xyz = os.path.join('/content/metal_solv', f'{sol}.xyz'))\n",
        "    solv.generate_slatm(mbtypes_solv)\n",
        "    solvent = solv.representation\n",
        "    SLATM_df_solv_metall[f'{filename}'] = np.append(SLATM_df_metal[f'{filename}'],solvent)\n",
        "  except:\n",
        "    print(f'{filename} not work')\n",
        "    sol = start_metal['Solvent'][filename]\n",
        "    SLATM_df_solv_metall[f'{filename}'] = np.append([np.float16(0) for i in range(len(SLATM_df_metal[f'{0}']))],np.array([np.float16(0) for i in range(solv_len)]))"
      ],
      "metadata": {
        "id": "U3iQijsfSzsZ"
      },
      "execution_count": null,
      "outputs": []
    },
    {
      "cell_type": "code",
      "source": [
        "sl_df_solv_org = pd.DataFrame(SLATM_df_org_solv).T\n",
        "sl_df_solv_org"
      ],
      "metadata": {
        "id": "-RZeJjyvTWVz"
      },
      "execution_count": null,
      "outputs": []
    },
    {
      "cell_type": "code",
      "source": [
        "sl_df_solv_org.to_csv('/content/drive/MyDrive/MSU_AI_Photocatal/Datasets/Metal_complexes_descriptors/SLATM_organic_compound_with_solv_metal_inf.csv')"
      ],
      "metadata": {
        "id": "2Ul-nROaTfu_"
      },
      "execution_count": null,
      "outputs": []
    },
    {
      "cell_type": "code",
      "source": [
        "sl_df_solv_metal = pd.DataFrame(SLATM_df_solv_metall).T\n",
        "sl_df_solv_metal"
      ],
      "metadata": {
        "id": "8jEVeyjSTSzZ"
      },
      "execution_count": null,
      "outputs": []
    },
    {
      "cell_type": "code",
      "source": [
        "sl_df_solv_metal.to_csv('/content/drive/MyDrive/MSU_AI_Photocatal/Datasets/Metal_complexes_descriptors/SLATM_metal_complexes_with_solv.csv')"
      ],
      "metadata": {
        "id": "5BY9gl9KTsWx"
      },
      "execution_count": null,
      "outputs": []
    },
    {
      "cell_type": "markdown",
      "source": [
        "# Coulomb matrix"
      ],
      "metadata": {
        "id": "JmqI4AHCd37d"
      }
    },
    {
      "cell_type": "code",
      "source": [
        "from dscribe.descriptors import CoulombMatrix\n",
        "from ase.build import molecule\n",
        "import os\n",
        "import ase"
      ],
      "metadata": {
        "id": "8DSXrfV2d7o9"
      },
      "execution_count": 27,
      "outputs": []
    },
    {
      "cell_type": "code",
      "source": [
        "#prepare organic compounds\n",
        "directory = '/content/metal_2'\n",
        "cm = CoulombMatrix(\n",
        "        n_atoms_max=387, # this number cover metal complexes and organic compounds datasets\n",
        ")\n",
        "for filename in sorted(os.listdir(directory)):\n",
        "  try:\n",
        "    f = filename.split('_')[0]\n",
        "    molecule = ase.io.read(f'{directory}/{filename}')\n",
        "    cms = cm.create(molecule)\n",
        "    cms_quad = cms.reshape(387,387)\n",
        "    cms=pd.DataFrame(cms)\n",
        "    cms_quad = pd.DataFrame(cms_quad)\n",
        "    cms_quad.to_csv(f'/content/drive/MyDrive/MSU_AI_Photocatal/Datasets/Coulomb_matrix/Metal_complex/{f}_quad.csv')\n",
        "  except:\n",
        "    print(f'{filename} not work')\n",
        "    f = filename.split('_')[0]\n",
        "    cms_quad = pd.DataFrame(np.zeros([387,387]))\n",
        "    cms_quad.to_csv(f'/content/drive/MyDrive/MSU_AI_Photocatal/Datasets/Coulomb_matrix/Metal_complex/{f}_quad.csv')"
      ],
      "metadata": {
        "id": "oTmww9qFi5hf",
        "colab": {
          "base_uri": "https://localhost:8080/"
        },
        "outputId": "93168a9a-9f67-4cf8-9fc1-8dbb3ca801d6"
      },
      "execution_count": 33,
      "outputs": [
        {
          "output_type": "stream",
          "name": "stdout",
          "text": [
            "20_r2scan.xyz not optimized by XTB\n",
            "22_r2scan.xyz not optimized by XTB\n",
            "46_r2scan.xyz not optimized by XTB\n",
            "47_r2scan.xyz not optimized by XTB\n",
            "52_r2scan.xyz not optimized by XTB\n",
            "53_r2scan.xyz not optimized by XTB\n",
            "55_r2scan.xyz not optimized by XTB\n"
          ]
        }
      ]
    },
    {
      "cell_type": "code",
      "source": [
        "#prepare organic compounds solvents\n",
        "directory = '/content/metal_solv'\n",
        "cm = CoulombMatrix(\n",
        "        n_atoms_max=387, # this number cover metal complexes and organic compounds datasets\n",
        ")\n",
        "j=0\n",
        "# iterate over files in\n",
        "# that directory\n",
        "list_of_CM = []\n",
        "for filename in sorted(os.listdir(directory)):\n",
        "    f = filename.split('.')[0]\n",
        "    print(f)\n",
        "    molecule = ase.io.read(f'{directory}/{filename}')\n",
        "    cms = cm.create(molecule)\n",
        "    cms_quad = cms.reshape(387,387)\n",
        "    cms=pd.DataFrame(cms)\n",
        "    cms_quad = pd.DataFrame(cms_quad)\n",
        "    cms_quad.to_csv(f'/content/drive/MyDrive/MSU_AI_Photocatal/Datasets/Coulomb_matrix/Metal_complex_solv/{f}.csv')"
      ],
      "metadata": {
        "id": "BFVi66cnkPaB"
      },
      "execution_count": null,
      "outputs": []
    },
    {
      "cell_type": "code",
      "source": [
        "from sklearn.decomposition import PCA\n",
        "import ase\n",
        "from dscribe.descriptors import CoulombMatrix\n",
        "from tqdm import tqdm\n",
        "list_of_CM = []\n",
        "for i in tqdm(range(99)):\n",
        "  try:\n",
        "    f = f'{str(i)}_quad'\n",
        "    #solv = os.path.join(directory_solv, start_metal['Solvent'][i])\n",
        "    df = pd.read_csv(f'/content/drive/MyDrive/MSU_AI_Photocatal/Datasets/Coulomb_matrix/Metal_complex/{f}.csv')\n",
        "    df = df.drop(['Unnamed: 0'],axis=1)\n",
        "    solv = start_metal['Solvent'][i]\n",
        "    df_solv = pd.read_csv(f'/content/drive/MyDrive/MSU_AI_Photocatal/Datasets/Coulomb_matrix/Metal_complex_solv/{solv}.csv')\n",
        "    df_solv = df_solv.drop(['Unnamed: 0'],axis=1)\n",
        "    CM_array = df.to_numpy()[:10,:10]\n",
        "    CM_array_solv = df_solv.to_numpy()[:10,:10]\n",
        "    CM_new = np.append(CM_array.flatten(),CM_array_solv.flatten())\n",
        "    list_of_CM.append(CM_new)\n",
        "  except:\n",
        "    CM_array = np.append(np.array([float(0) for i in range(100)]),np.array([float(0) for i in range(100)]))\n",
        "    print(f'{i} NOT WORK')\n",
        "    list_of_CM.append(CM_array)\n",
        "split_df_solv_100 = pd.DataFrame(list_of_CM, columns=[str(j) for j in range(200)])"
      ],
      "metadata": {
        "colab": {
          "base_uri": "https://localhost:8080/"
        },
        "id": "ONqBszZaWxtH",
        "outputId": "c361d2b8-a1a1-4234-bd18-14a179de10a4"
      },
      "execution_count": 51,
      "outputs": [
        {
          "output_type": "stream",
          "name": "stderr",
          "text": [
            " 75%|███████▍  | 74/99 [00:07<00:01, 17.49it/s]"
          ]
        },
        {
          "output_type": "stream",
          "name": "stdout",
          "text": [
            "71 NOT WORK\n"
          ]
        },
        {
          "output_type": "stream",
          "name": "stderr",
          "text": [
            "100%|██████████| 99/99 [00:09<00:00, 10.09it/s]"
          ]
        },
        {
          "output_type": "stream",
          "name": "stdout",
          "text": [
            "95 NOT WORK\n",
            "96 NOT WORK\n"
          ]
        },
        {
          "output_type": "stream",
          "name": "stderr",
          "text": [
            "\n"
          ]
        }
      ]
    },
    {
      "cell_type": "code",
      "source": [
        "name_first = [f'CM_{i}' for i in range(100)]\n",
        "name_solv =  [f'CM_solv_{i}' for i in range(100)]\n",
        "full_name = np.append(name_first,name_solv)"
      ],
      "metadata": {
        "id": "UCuN7uFHah_k"
      },
      "execution_count": 52,
      "outputs": []
    },
    {
      "cell_type": "code",
      "source": [
        "CM_small = pd.DataFrame(list_of_CM, columns=full_name)"
      ],
      "metadata": {
        "id": "SMhW97Dba3zX"
      },
      "execution_count": 53,
      "outputs": []
    },
    {
      "cell_type": "code",
      "source": [
        "CM_small.to_csv('/content/drive/MyDrive/MSU_AI_Photocatal/Datasets/Metal_complexes_descriptors/Coulomb_matrix_metal_complex_with_solv.csv')"
      ],
      "metadata": {
        "id": "Efo_4UQHa7s_"
      },
      "execution_count": null,
      "outputs": []
    }
  ]
}