{
  "nbformat": 4,
  "nbformat_minor": 0,
  "metadata": {
    "colab": {
      "provenance": [],
      "include_colab_link": true
    },
    "kernelspec": {
      "name": "python3",
      "display_name": "Python 3"
    },
    "language_info": {
      "name": "python"
    }
  },
  "cells": [
    {
      "cell_type": "markdown",
      "metadata": {
        "id": "view-in-github",
        "colab_type": "text"
      },
      "source": [
        "<a href=\"https://colab.research.google.com/github/Yagr49/Photocatalyst_NN/blob/Photocatal/notebooks/preparing_datasets/Preparation_of_organic_compounds_descriptors_datasets.ipynb\" target=\"_parent\"><img src=\"https://colab.research.google.com/assets/colab-badge.svg\" alt=\"Open In Colab\"/></a>"
      ]
    },
    {
      "cell_type": "markdown",
      "source": [
        "# Install libraries"
      ],
      "metadata": {
        "id": "0_MFT1r9WUkO"
      }
    },
    {
      "cell_type": "code",
      "source": [
        "#Install Condacolab (Will crash kernel once, just execute the next cell)\n",
        "!pip install -q condacolab\n",
        "import condacolab\n",
        "condacolab.install()"
      ],
      "metadata": {
        "id": "TPVaAkj5Wdsn"
      },
      "execution_count": null,
      "outputs": []
    },
    {
      "cell_type": "code",
      "source": [
        "!pip install rdkit"
      ],
      "metadata": {
        "id": "ElG5IzjVWR64"
      },
      "execution_count": null,
      "outputs": []
    },
    {
      "cell_type": "code",
      "source": [
        "# uncomment this if running locally or on Google Colab\n",
        "!pip install --upgrade hepml"
      ],
      "metadata": {
        "id": "GfmptC4LPrbu"
      },
      "execution_count": null,
      "outputs": []
    },
    {
      "cell_type": "code",
      "source": [
        "# Install Openbabel from conda forge\n",
        "!conda install openbabel -c conda-forge"
      ],
      "metadata": {
        "id": "CT_aTyzkWiUZ"
      },
      "execution_count": null,
      "outputs": []
    },
    {
      "cell_type": "code",
      "source": [
        "!pip install qml"
      ],
      "metadata": {
        "id": "dRZUL1tLWv1B",
        "colab": {
          "base_uri": "https://localhost:8080/"
        },
        "outputId": "0edbb3b1-72bd-4960-912b-b321cf9f598e"
      },
      "execution_count": null,
      "outputs": [
        {
          "output_type": "stream",
          "name": "stdout",
          "text": [
            "Collecting qml\n",
            "  Downloading qml-0.4.0.27.tar.gz (41 kB)\n",
            "\u001b[?25l     \u001b[90m━━━━━━━━━━━━━━━━━━━━━━━━━━━━━━━━━━━━━━━━\u001b[0m \u001b[32m0.0/41.5 kB\u001b[0m \u001b[31m?\u001b[0m eta \u001b[36m-:--:--\u001b[0m\r\u001b[2K     \u001b[90m━━━━━━━━━━━━━━━━━━━━━━━━━━━━━━━━━━━━━━━━\u001b[0m \u001b[32m41.5/41.5 kB\u001b[0m \u001b[31m3.4 MB/s\u001b[0m eta \u001b[36m0:00:00\u001b[0m\n",
            "\u001b[?25h  Preparing metadata (setup.py) ... \u001b[?25l\u001b[?25hdone\n",
            "Building wheels for collected packages: qml\n",
            "  Building wheel for qml (setup.py) ... \u001b[?25l\u001b[?25hdone\n",
            "  Created wheel for qml: filename=qml-0.4.0.27-cp310-cp310-linux_x86_64.whl size=800788 sha256=8ad9a3ddd9f3e0c24a26a18d0baf5de20cf7d5be8b0a7dffd5bedeebcee8ca35\n",
            "  Stored in directory: /root/.cache/pip/wheels/d5/57/2f/cdd885bb28ee050be4f41882d74d716e1fc0ff0745a657b39a\n",
            "Successfully built qml\n",
            "Installing collected packages: qml\n",
            "Successfully installed qml-0.4.0.27\n",
            "\u001b[33mWARNING: Running pip as the 'root' user can result in broken permissions and conflicting behaviour with the system package manager. It is recommended to use a virtual environment instead: https://pip.pypa.io/warnings/venv\u001b[0m\u001b[33m\n",
            "\u001b[0m"
          ]
        }
      ]
    },
    {
      "cell_type": "code",
      "source": [
        "!pip install dscribe"
      ],
      "metadata": {
        "id": "0SAtlLt5jcuS",
        "colab": {
          "base_uri": "https://localhost:8080/"
        },
        "outputId": "a1ce1b4e-5c53-4715-e2a5-9225275f140c"
      },
      "execution_count": null,
      "outputs": [
        {
          "output_type": "stream",
          "name": "stdout",
          "text": [
            "Collecting dscribe\n",
            "  Downloading dscribe-2.1.0-cp310-cp310-manylinux_2_17_x86_64.manylinux2014_x86_64.whl (11.8 MB)\n",
            "\u001b[2K     \u001b[90m━━━━━━━━━━━━━━━━━━━━━━━━━━━━━━━━━━━━━━━━\u001b[0m \u001b[32m11.8/11.8 MB\u001b[0m \u001b[31m8.7 MB/s\u001b[0m eta \u001b[36m0:00:00\u001b[0m\n",
            "\u001b[?25hRequirement already satisfied: joblib>=1.0.0 in /usr/local/lib/python3.10/site-packages (from dscribe) (1.3.2)\n",
            "Collecting sparse\n",
            "  Downloading sparse-0.14.0-py2.py3-none-any.whl (80 kB)\n",
            "\u001b[2K     \u001b[90m━━━━━━━━━━━━━━━━━━━━━━━━━━━━━━━━━━━━━━━━\u001b[0m \u001b[32m81.0/81.0 kB\u001b[0m \u001b[31m10.9 MB/s\u001b[0m eta \u001b[36m0:00:00\u001b[0m\n",
            "\u001b[?25hRequirement already satisfied: numpy in /usr/local/lib/python3.10/site-packages (from dscribe) (1.26.2)\n",
            "Requirement already satisfied: scipy in /usr/local/lib/python3.10/site-packages (from dscribe) (1.11.4)\n",
            "Collecting pybind11>=2.4\n",
            "  Downloading pybind11-2.11.1-py3-none-any.whl (227 kB)\n",
            "\u001b[2K     \u001b[90m━━━━━━━━━━━━━━━━━━━━━━━━━━━━━━━━━━━━━━━━\u001b[0m \u001b[32m227.7/227.7 kB\u001b[0m \u001b[31m20.6 MB/s\u001b[0m eta \u001b[36m0:00:00\u001b[0m\n",
            "\u001b[?25hRequirement already satisfied: scikit-learn in /usr/local/lib/python3.10/site-packages (from dscribe) (1.3.2)\n",
            "Collecting ase>=3.19.0\n",
            "  Downloading ase-3.22.1-py3-none-any.whl (2.2 MB)\n",
            "\u001b[2K     \u001b[90m━━━━━━━━━━━━━━━━━━━━━━━━━━━━━━━━━━━━━━━━\u001b[0m \u001b[32m2.2/2.2 MB\u001b[0m \u001b[31m56.9 MB/s\u001b[0m eta \u001b[36m0:00:00\u001b[0m\n",
            "\u001b[?25hRequirement already satisfied: matplotlib>=3.1.0 in /usr/local/lib/python3.10/site-packages (from ase>=3.19.0->dscribe) (3.8.2)\n",
            "Requirement already satisfied: threadpoolctl>=2.0.0 in /usr/local/lib/python3.10/site-packages (from scikit-learn->dscribe) (3.2.0)\n",
            "Requirement already satisfied: numba>=0.49 in /usr/local/lib/python3.10/site-packages (from sparse->dscribe) (0.58.1)\n",
            "Requirement already satisfied: cycler>=0.10 in /usr/local/lib/python3.10/site-packages (from matplotlib>=3.1.0->ase>=3.19.0->dscribe) (0.12.1)\n",
            "Requirement already satisfied: kiwisolver>=1.3.1 in /usr/local/lib/python3.10/site-packages (from matplotlib>=3.1.0->ase>=3.19.0->dscribe) (1.4.5)\n",
            "Requirement already satisfied: fonttools>=4.22.0 in /usr/local/lib/python3.10/site-packages (from matplotlib>=3.1.0->ase>=3.19.0->dscribe) (4.45.1)\n",
            "Requirement already satisfied: packaging>=20.0 in /usr/local/lib/python3.10/site-packages (from matplotlib>=3.1.0->ase>=3.19.0->dscribe) (23.2)\n",
            "Requirement already satisfied: pillow>=8 in /usr/local/lib/python3.10/site-packages (from matplotlib>=3.1.0->ase>=3.19.0->dscribe) (10.1.0)\n",
            "Requirement already satisfied: contourpy>=1.0.1 in /usr/local/lib/python3.10/site-packages (from matplotlib>=3.1.0->ase>=3.19.0->dscribe) (1.2.0)\n",
            "Requirement already satisfied: pyparsing>=2.3.1 in /usr/local/lib/python3.10/site-packages (from matplotlib>=3.1.0->ase>=3.19.0->dscribe) (3.1.1)\n",
            "Requirement already satisfied: python-dateutil>=2.7 in /usr/local/lib/python3.10/site-packages (from matplotlib>=3.1.0->ase>=3.19.0->dscribe) (2.8.2)\n",
            "Requirement already satisfied: llvmlite<0.42,>=0.41.0dev0 in /usr/local/lib/python3.10/site-packages (from numba>=0.49->sparse->dscribe) (0.41.1)\n",
            "Requirement already satisfied: six>=1.5 in /usr/local/lib/python3.10/site-packages (from python-dateutil>=2.7->matplotlib>=3.1.0->ase>=3.19.0->dscribe) (1.16.0)\n",
            "Installing collected packages: pybind11, sparse, ase, dscribe\n",
            "Successfully installed ase-3.22.1 dscribe-2.1.0 pybind11-2.11.1 sparse-0.14.0\n",
            "\u001b[33mWARNING: Running pip as the 'root' user can result in broken permissions and conflicting behaviour with the system package manager. It is recommended to use a virtual environment instead: https://pip.pypa.io/warnings/venv\u001b[0m\u001b[33m\n",
            "\u001b[0m"
          ]
        }
      ]
    },
    {
      "cell_type": "code",
      "source": [
        "! pip install ase"
      ],
      "metadata": {
        "id": "IcSrqmXajjNo",
        "colab": {
          "base_uri": "https://localhost:8080/"
        },
        "outputId": "6eb86d59-dcdd-430b-b59c-d315e0339126"
      },
      "execution_count": null,
      "outputs": [
        {
          "output_type": "stream",
          "name": "stdout",
          "text": [
            "Requirement already satisfied: ase in /usr/local/lib/python3.10/site-packages (3.22.1)\n",
            "Requirement already satisfied: scipy>=1.1.0 in /usr/local/lib/python3.10/site-packages (from ase) (1.11.4)\n",
            "Requirement already satisfied: numpy>=1.15.0 in /usr/local/lib/python3.10/site-packages (from ase) (1.26.2)\n",
            "Requirement already satisfied: matplotlib>=3.1.0 in /usr/local/lib/python3.10/site-packages (from ase) (3.8.2)\n",
            "Requirement already satisfied: kiwisolver>=1.3.1 in /usr/local/lib/python3.10/site-packages (from matplotlib>=3.1.0->ase) (1.4.5)\n",
            "Requirement already satisfied: pyparsing>=2.3.1 in /usr/local/lib/python3.10/site-packages (from matplotlib>=3.1.0->ase) (3.1.1)\n",
            "Requirement already satisfied: cycler>=0.10 in /usr/local/lib/python3.10/site-packages (from matplotlib>=3.1.0->ase) (0.12.1)\n",
            "Requirement already satisfied: pillow>=8 in /usr/local/lib/python3.10/site-packages (from matplotlib>=3.1.0->ase) (10.1.0)\n",
            "Requirement already satisfied: python-dateutil>=2.7 in /usr/local/lib/python3.10/site-packages (from matplotlib>=3.1.0->ase) (2.8.2)\n",
            "Requirement already satisfied: packaging>=20.0 in /usr/local/lib/python3.10/site-packages (from matplotlib>=3.1.0->ase) (23.2)\n",
            "Requirement already satisfied: fonttools>=4.22.0 in /usr/local/lib/python3.10/site-packages (from matplotlib>=3.1.0->ase) (4.45.1)\n",
            "Requirement already satisfied: contourpy>=1.0.1 in /usr/local/lib/python3.10/site-packages (from matplotlib>=3.1.0->ase) (1.2.0)\n",
            "Requirement already satisfied: six>=1.5 in /usr/local/lib/python3.10/site-packages (from python-dateutil>=2.7->matplotlib>=3.1.0->ase) (1.16.0)\n",
            "\u001b[33mWARNING: Running pip as the 'root' user can result in broken permissions and conflicting behaviour with the system package manager. It is recommended to use a virtual environment instead: https://pip.pypa.io/warnings/venv\u001b[0m\u001b[33m\n",
            "\u001b[0m"
          ]
        }
      ]
    },
    {
      "cell_type": "code",
      "source": [
        "from google.colab import drive\n",
        "drive.mount('/content/drive')"
      ],
      "metadata": {
        "id": "sr8V7qORu1-R",
        "colab": {
          "base_uri": "https://localhost:8080/"
        },
        "outputId": "9e12be32-1ea3-4199-ed4c-30c496d8a992"
      },
      "execution_count": 1,
      "outputs": [
        {
          "output_type": "stream",
          "name": "stdout",
          "text": [
            "Mounted at /content/drive\n"
          ]
        }
      ]
    },
    {
      "cell_type": "markdown",
      "source": [
        "#Import libraries"
      ],
      "metadata": {
        "id": "A0TqT-p8lupY"
      }
    },
    {
      "cell_type": "code",
      "source": [
        "import pandas as pd\n",
        "import numpy as np\n",
        "from rdkit import Chem\n",
        "from rdkit.Chem import rdFingerprintGenerator\n",
        "from rdkit.Chem import rdMolDescriptors"
      ],
      "metadata": {
        "id": "U60ZDOahlxBo"
      },
      "execution_count": null,
      "outputs": []
    },
    {
      "cell_type": "markdown",
      "source": [
        "# Load dataset of organic compounds"
      ],
      "metadata": {
        "id": "JgJJTod6lejx"
      }
    },
    {
      "cell_type": "code",
      "source": [
        "start_db = pd.read_csv('/content/drive/MyDrive/MSU_AI_Photocatal/Datasets/Target_dataset/Organic_compound_final_dataset.csv') # load dataset with SMILES"
      ],
      "metadata": {
        "id": "M_hEep79li3h"
      },
      "execution_count": null,
      "outputs": []
    },
    {
      "cell_type": "code",
      "source": [
        "Chromophore = list(start_db['Chromophore'])\n",
        "Solvent = list(start_db['Solvent'])"
      ],
      "metadata": {
        "id": "Leh73-gGl2sL"
      },
      "execution_count": null,
      "outputs": []
    },
    {
      "cell_type": "markdown",
      "source": [
        "# Morgan_fingerprint"
      ],
      "metadata": {
        "id": "xQP6M8SKlcWz"
      }
    },
    {
      "cell_type": "code",
      "source": [
        "from tqdm import tqdm\n",
        "morgan_fp_gen = rdFingerprintGenerator.GetMorganGenerator(includeChirality=True, radius=2, fpSize=2048)\n",
        "list_morgan_fp = []\n",
        "for i in tqdm(range(20236)):\n",
        "  mol = Chem.MolFromSmiles(Chromophore[i]) #create MOL of compound for work with rdkit\n",
        "  fp = morgan_fp_gen.GetFingerprint(mol) # preparing morgan_fp\n",
        "  vector = np.array(fp)\n",
        "  list_morgan_fp.append(vector)"
      ],
      "metadata": {
        "id": "ScAb87rmlWul",
        "colab": {
          "base_uri": "https://localhost:8080/"
        },
        "outputId": "427b7279-2a35-4f2b-9872-69cca77e2fae"
      },
      "execution_count": null,
      "outputs": [
        {
          "output_type": "stream",
          "name": "stderr",
          "text": [
            "100%|██████████| 20236/20236 [00:59<00:00, 339.29it/s]\n"
          ]
        }
      ]
    },
    {
      "cell_type": "code",
      "source": [
        "morgan_db = pd.DataFrame(np.array(list_morgan_fp), columns = [f'Morgan_{i}' for i in range(2048)])\n",
        "morgan_db"
      ],
      "metadata": {
        "id": "PJnsQq_VmET8",
        "colab": {
          "base_uri": "https://localhost:8080/",
          "height": 424
        },
        "outputId": "37f4948e-4144-4c5b-fe67-1ff9a501a025"
      },
      "execution_count": null,
      "outputs": [
        {
          "output_type": "execute_result",
          "data": {
            "text/plain": [
              "       Morgan_0  Morgan_1  Morgan_2  Morgan_3  Morgan_4  Morgan_5  Morgan_6  \\\n",
              "0             0         0         0         0         0         0         0   \n",
              "1             0         0         0         0         0         0         0   \n",
              "2             0         0         0         0         0         0         0   \n",
              "3             0         0         0         0         0         0         0   \n",
              "4             0         0         0         0         0         0         0   \n",
              "...         ...       ...       ...       ...       ...       ...       ...   \n",
              "20231         0         1         0         0         0         0         0   \n",
              "20232         0         1         1         0         0         0         0   \n",
              "20233         0         1         1         0         0         0         0   \n",
              "20234         0         1         1         0         0         0         0   \n",
              "20235         0         1         1         0         0         0         0   \n",
              "\n",
              "       Morgan_7  Morgan_8  Morgan_9  ...  Morgan_2038  Morgan_2039  \\\n",
              "0             0         0         0  ...            0            0   \n",
              "1             0         0         0  ...            0            0   \n",
              "2             0         0         0  ...            0            0   \n",
              "3             0         0         0  ...            0            0   \n",
              "4             0         0         0  ...            0            0   \n",
              "...         ...       ...       ...  ...          ...          ...   \n",
              "20231         0         0         1  ...            0            0   \n",
              "20232         0         0         1  ...            0            0   \n",
              "20233         0         0         1  ...            0            0   \n",
              "20234         0         0         1  ...            0            0   \n",
              "20235         0         0         1  ...            0            0   \n",
              "\n",
              "       Morgan_2040  Morgan_2041  Morgan_2042  Morgan_2043  Morgan_2044  \\\n",
              "0                0            0            0            0            0   \n",
              "1                0            0            0            0            0   \n",
              "2                0            0            0            0            0   \n",
              "3                0            0            0            0            0   \n",
              "4                0            0            0            0            0   \n",
              "...            ...          ...          ...          ...          ...   \n",
              "20231            0            0            0            0            0   \n",
              "20232            0            0            0            0            0   \n",
              "20233            0            0            0            0            0   \n",
              "20234            0            0            0            0            0   \n",
              "20235            0            0            0            0            0   \n",
              "\n",
              "       Morgan_2045  Morgan_2046  Morgan_2047  \n",
              "0                0            0            0  \n",
              "1                0            0            0  \n",
              "2                0            0            0  \n",
              "3                0            0            0  \n",
              "4                0            0            0  \n",
              "...            ...          ...          ...  \n",
              "20231            0            0            0  \n",
              "20232            0            0            0  \n",
              "20233            0            0            0  \n",
              "20234            0            0            0  \n",
              "20235            0            0            0  \n",
              "\n",
              "[20236 rows x 2048 columns]"
            ],
            "text/html": [
              "\n",
              "  <div id=\"df-356fb98a-f063-4dbb-96f8-f27348ae28ff\" class=\"colab-df-container\">\n",
              "    <div>\n",
              "<style scoped>\n",
              "    .dataframe tbody tr th:only-of-type {\n",
              "        vertical-align: middle;\n",
              "    }\n",
              "\n",
              "    .dataframe tbody tr th {\n",
              "        vertical-align: top;\n",
              "    }\n",
              "\n",
              "    .dataframe thead th {\n",
              "        text-align: right;\n",
              "    }\n",
              "</style>\n",
              "<table border=\"1\" class=\"dataframe\">\n",
              "  <thead>\n",
              "    <tr style=\"text-align: right;\">\n",
              "      <th></th>\n",
              "      <th>Morgan_0</th>\n",
              "      <th>Morgan_1</th>\n",
              "      <th>Morgan_2</th>\n",
              "      <th>Morgan_3</th>\n",
              "      <th>Morgan_4</th>\n",
              "      <th>Morgan_5</th>\n",
              "      <th>Morgan_6</th>\n",
              "      <th>Morgan_7</th>\n",
              "      <th>Morgan_8</th>\n",
              "      <th>Morgan_9</th>\n",
              "      <th>...</th>\n",
              "      <th>Morgan_2038</th>\n",
              "      <th>Morgan_2039</th>\n",
              "      <th>Morgan_2040</th>\n",
              "      <th>Morgan_2041</th>\n",
              "      <th>Morgan_2042</th>\n",
              "      <th>Morgan_2043</th>\n",
              "      <th>Morgan_2044</th>\n",
              "      <th>Morgan_2045</th>\n",
              "      <th>Morgan_2046</th>\n",
              "      <th>Morgan_2047</th>\n",
              "    </tr>\n",
              "  </thead>\n",
              "  <tbody>\n",
              "    <tr>\n",
              "      <th>0</th>\n",
              "      <td>0</td>\n",
              "      <td>0</td>\n",
              "      <td>0</td>\n",
              "      <td>0</td>\n",
              "      <td>0</td>\n",
              "      <td>0</td>\n",
              "      <td>0</td>\n",
              "      <td>0</td>\n",
              "      <td>0</td>\n",
              "      <td>0</td>\n",
              "      <td>...</td>\n",
              "      <td>0</td>\n",
              "      <td>0</td>\n",
              "      <td>0</td>\n",
              "      <td>0</td>\n",
              "      <td>0</td>\n",
              "      <td>0</td>\n",
              "      <td>0</td>\n",
              "      <td>0</td>\n",
              "      <td>0</td>\n",
              "      <td>0</td>\n",
              "    </tr>\n",
              "    <tr>\n",
              "      <th>1</th>\n",
              "      <td>0</td>\n",
              "      <td>0</td>\n",
              "      <td>0</td>\n",
              "      <td>0</td>\n",
              "      <td>0</td>\n",
              "      <td>0</td>\n",
              "      <td>0</td>\n",
              "      <td>0</td>\n",
              "      <td>0</td>\n",
              "      <td>0</td>\n",
              "      <td>...</td>\n",
              "      <td>0</td>\n",
              "      <td>0</td>\n",
              "      <td>0</td>\n",
              "      <td>0</td>\n",
              "      <td>0</td>\n",
              "      <td>0</td>\n",
              "      <td>0</td>\n",
              "      <td>0</td>\n",
              "      <td>0</td>\n",
              "      <td>0</td>\n",
              "    </tr>\n",
              "    <tr>\n",
              "      <th>2</th>\n",
              "      <td>0</td>\n",
              "      <td>0</td>\n",
              "      <td>0</td>\n",
              "      <td>0</td>\n",
              "      <td>0</td>\n",
              "      <td>0</td>\n",
              "      <td>0</td>\n",
              "      <td>0</td>\n",
              "      <td>0</td>\n",
              "      <td>0</td>\n",
              "      <td>...</td>\n",
              "      <td>0</td>\n",
              "      <td>0</td>\n",
              "      <td>0</td>\n",
              "      <td>0</td>\n",
              "      <td>0</td>\n",
              "      <td>0</td>\n",
              "      <td>0</td>\n",
              "      <td>0</td>\n",
              "      <td>0</td>\n",
              "      <td>0</td>\n",
              "    </tr>\n",
              "    <tr>\n",
              "      <th>3</th>\n",
              "      <td>0</td>\n",
              "      <td>0</td>\n",
              "      <td>0</td>\n",
              "      <td>0</td>\n",
              "      <td>0</td>\n",
              "      <td>0</td>\n",
              "      <td>0</td>\n",
              "      <td>0</td>\n",
              "      <td>0</td>\n",
              "      <td>0</td>\n",
              "      <td>...</td>\n",
              "      <td>0</td>\n",
              "      <td>0</td>\n",
              "      <td>0</td>\n",
              "      <td>0</td>\n",
              "      <td>0</td>\n",
              "      <td>0</td>\n",
              "      <td>0</td>\n",
              "      <td>0</td>\n",
              "      <td>0</td>\n",
              "      <td>0</td>\n",
              "    </tr>\n",
              "    <tr>\n",
              "      <th>4</th>\n",
              "      <td>0</td>\n",
              "      <td>0</td>\n",
              "      <td>0</td>\n",
              "      <td>0</td>\n",
              "      <td>0</td>\n",
              "      <td>0</td>\n",
              "      <td>0</td>\n",
              "      <td>0</td>\n",
              "      <td>0</td>\n",
              "      <td>0</td>\n",
              "      <td>...</td>\n",
              "      <td>0</td>\n",
              "      <td>0</td>\n",
              "      <td>0</td>\n",
              "      <td>0</td>\n",
              "      <td>0</td>\n",
              "      <td>0</td>\n",
              "      <td>0</td>\n",
              "      <td>0</td>\n",
              "      <td>0</td>\n",
              "      <td>0</td>\n",
              "    </tr>\n",
              "    <tr>\n",
              "      <th>...</th>\n",
              "      <td>...</td>\n",
              "      <td>...</td>\n",
              "      <td>...</td>\n",
              "      <td>...</td>\n",
              "      <td>...</td>\n",
              "      <td>...</td>\n",
              "      <td>...</td>\n",
              "      <td>...</td>\n",
              "      <td>...</td>\n",
              "      <td>...</td>\n",
              "      <td>...</td>\n",
              "      <td>...</td>\n",
              "      <td>...</td>\n",
              "      <td>...</td>\n",
              "      <td>...</td>\n",
              "      <td>...</td>\n",
              "      <td>...</td>\n",
              "      <td>...</td>\n",
              "      <td>...</td>\n",
              "      <td>...</td>\n",
              "      <td>...</td>\n",
              "    </tr>\n",
              "    <tr>\n",
              "      <th>20231</th>\n",
              "      <td>0</td>\n",
              "      <td>1</td>\n",
              "      <td>0</td>\n",
              "      <td>0</td>\n",
              "      <td>0</td>\n",
              "      <td>0</td>\n",
              "      <td>0</td>\n",
              "      <td>0</td>\n",
              "      <td>0</td>\n",
              "      <td>1</td>\n",
              "      <td>...</td>\n",
              "      <td>0</td>\n",
              "      <td>0</td>\n",
              "      <td>0</td>\n",
              "      <td>0</td>\n",
              "      <td>0</td>\n",
              "      <td>0</td>\n",
              "      <td>0</td>\n",
              "      <td>0</td>\n",
              "      <td>0</td>\n",
              "      <td>0</td>\n",
              "    </tr>\n",
              "    <tr>\n",
              "      <th>20232</th>\n",
              "      <td>0</td>\n",
              "      <td>1</td>\n",
              "      <td>1</td>\n",
              "      <td>0</td>\n",
              "      <td>0</td>\n",
              "      <td>0</td>\n",
              "      <td>0</td>\n",
              "      <td>0</td>\n",
              "      <td>0</td>\n",
              "      <td>1</td>\n",
              "      <td>...</td>\n",
              "      <td>0</td>\n",
              "      <td>0</td>\n",
              "      <td>0</td>\n",
              "      <td>0</td>\n",
              "      <td>0</td>\n",
              "      <td>0</td>\n",
              "      <td>0</td>\n",
              "      <td>0</td>\n",
              "      <td>0</td>\n",
              "      <td>0</td>\n",
              "    </tr>\n",
              "    <tr>\n",
              "      <th>20233</th>\n",
              "      <td>0</td>\n",
              "      <td>1</td>\n",
              "      <td>1</td>\n",
              "      <td>0</td>\n",
              "      <td>0</td>\n",
              "      <td>0</td>\n",
              "      <td>0</td>\n",
              "      <td>0</td>\n",
              "      <td>0</td>\n",
              "      <td>1</td>\n",
              "      <td>...</td>\n",
              "      <td>0</td>\n",
              "      <td>0</td>\n",
              "      <td>0</td>\n",
              "      <td>0</td>\n",
              "      <td>0</td>\n",
              "      <td>0</td>\n",
              "      <td>0</td>\n",
              "      <td>0</td>\n",
              "      <td>0</td>\n",
              "      <td>0</td>\n",
              "    </tr>\n",
              "    <tr>\n",
              "      <th>20234</th>\n",
              "      <td>0</td>\n",
              "      <td>1</td>\n",
              "      <td>1</td>\n",
              "      <td>0</td>\n",
              "      <td>0</td>\n",
              "      <td>0</td>\n",
              "      <td>0</td>\n",
              "      <td>0</td>\n",
              "      <td>0</td>\n",
              "      <td>1</td>\n",
              "      <td>...</td>\n",
              "      <td>0</td>\n",
              "      <td>0</td>\n",
              "      <td>0</td>\n",
              "      <td>0</td>\n",
              "      <td>0</td>\n",
              "      <td>0</td>\n",
              "      <td>0</td>\n",
              "      <td>0</td>\n",
              "      <td>0</td>\n",
              "      <td>0</td>\n",
              "    </tr>\n",
              "    <tr>\n",
              "      <th>20235</th>\n",
              "      <td>0</td>\n",
              "      <td>1</td>\n",
              "      <td>1</td>\n",
              "      <td>0</td>\n",
              "      <td>0</td>\n",
              "      <td>0</td>\n",
              "      <td>0</td>\n",
              "      <td>0</td>\n",
              "      <td>0</td>\n",
              "      <td>1</td>\n",
              "      <td>...</td>\n",
              "      <td>0</td>\n",
              "      <td>0</td>\n",
              "      <td>0</td>\n",
              "      <td>0</td>\n",
              "      <td>0</td>\n",
              "      <td>0</td>\n",
              "      <td>0</td>\n",
              "      <td>0</td>\n",
              "      <td>0</td>\n",
              "      <td>0</td>\n",
              "    </tr>\n",
              "  </tbody>\n",
              "</table>\n",
              "<p>20236 rows × 2048 columns</p>\n",
              "</div>\n",
              "    <div class=\"colab-df-buttons\">\n",
              "\n",
              "  <div class=\"colab-df-container\">\n",
              "    <button class=\"colab-df-convert\" onclick=\"convertToInteractive('df-356fb98a-f063-4dbb-96f8-f27348ae28ff')\"\n",
              "            title=\"Convert this dataframe to an interactive table.\"\n",
              "            style=\"display:none;\">\n",
              "\n",
              "  <svg xmlns=\"http://www.w3.org/2000/svg\" height=\"24px\" viewBox=\"0 -960 960 960\">\n",
              "    <path d=\"M120-120v-720h720v720H120Zm60-500h600v-160H180v160Zm220 220h160v-160H400v160Zm0 220h160v-160H400v160ZM180-400h160v-160H180v160Zm440 0h160v-160H620v160ZM180-180h160v-160H180v160Zm440 0h160v-160H620v160Z\"/>\n",
              "  </svg>\n",
              "    </button>\n",
              "\n",
              "  <style>\n",
              "    .colab-df-container {\n",
              "      display:flex;\n",
              "      gap: 12px;\n",
              "    }\n",
              "\n",
              "    .colab-df-convert {\n",
              "      background-color: #E8F0FE;\n",
              "      border: none;\n",
              "      border-radius: 50%;\n",
              "      cursor: pointer;\n",
              "      display: none;\n",
              "      fill: #1967D2;\n",
              "      height: 32px;\n",
              "      padding: 0 0 0 0;\n",
              "      width: 32px;\n",
              "    }\n",
              "\n",
              "    .colab-df-convert:hover {\n",
              "      background-color: #E2EBFA;\n",
              "      box-shadow: 0px 1px 2px rgba(60, 64, 67, 0.3), 0px 1px 3px 1px rgba(60, 64, 67, 0.15);\n",
              "      fill: #174EA6;\n",
              "    }\n",
              "\n",
              "    .colab-df-buttons div {\n",
              "      margin-bottom: 4px;\n",
              "    }\n",
              "\n",
              "    [theme=dark] .colab-df-convert {\n",
              "      background-color: #3B4455;\n",
              "      fill: #D2E3FC;\n",
              "    }\n",
              "\n",
              "    [theme=dark] .colab-df-convert:hover {\n",
              "      background-color: #434B5C;\n",
              "      box-shadow: 0px 1px 3px 1px rgba(0, 0, 0, 0.15);\n",
              "      filter: drop-shadow(0px 1px 2px rgba(0, 0, 0, 0.3));\n",
              "      fill: #FFFFFF;\n",
              "    }\n",
              "  </style>\n",
              "\n",
              "    <script>\n",
              "      const buttonEl =\n",
              "        document.querySelector('#df-356fb98a-f063-4dbb-96f8-f27348ae28ff button.colab-df-convert');\n",
              "      buttonEl.style.display =\n",
              "        google.colab.kernel.accessAllowed ? 'block' : 'none';\n",
              "\n",
              "      async function convertToInteractive(key) {\n",
              "        const element = document.querySelector('#df-356fb98a-f063-4dbb-96f8-f27348ae28ff');\n",
              "        const dataTable =\n",
              "          await google.colab.kernel.invokeFunction('convertToInteractive',\n",
              "                                                    [key], {});\n",
              "        if (!dataTable) return;\n",
              "\n",
              "        const docLinkHtml = 'Like what you see? Visit the ' +\n",
              "          '<a target=\"_blank\" href=https://colab.research.google.com/notebooks/data_table.ipynb>data table notebook</a>'\n",
              "          + ' to learn more about interactive tables.';\n",
              "        element.innerHTML = '';\n",
              "        dataTable['output_type'] = 'display_data';\n",
              "        await google.colab.output.renderOutput(dataTable, element);\n",
              "        const docLink = document.createElement('div');\n",
              "        docLink.innerHTML = docLinkHtml;\n",
              "        element.appendChild(docLink);\n",
              "      }\n",
              "    </script>\n",
              "  </div>\n",
              "\n",
              "\n",
              "<div id=\"df-e5cfb3ef-435e-4236-82eb-f8333ec54c9a\">\n",
              "  <button class=\"colab-df-quickchart\" onclick=\"quickchart('df-e5cfb3ef-435e-4236-82eb-f8333ec54c9a')\"\n",
              "            title=\"Suggest charts\"\n",
              "            style=\"display:none;\">\n",
              "\n",
              "<svg xmlns=\"http://www.w3.org/2000/svg\" height=\"24px\"viewBox=\"0 0 24 24\"\n",
              "     width=\"24px\">\n",
              "    <g>\n",
              "        <path d=\"M19 3H5c-1.1 0-2 .9-2 2v14c0 1.1.9 2 2 2h14c1.1 0 2-.9 2-2V5c0-1.1-.9-2-2-2zM9 17H7v-7h2v7zm4 0h-2V7h2v10zm4 0h-2v-4h2v4z\"/>\n",
              "    </g>\n",
              "</svg>\n",
              "  </button>\n",
              "\n",
              "<style>\n",
              "  .colab-df-quickchart {\n",
              "      --bg-color: #E8F0FE;\n",
              "      --fill-color: #1967D2;\n",
              "      --hover-bg-color: #E2EBFA;\n",
              "      --hover-fill-color: #174EA6;\n",
              "      --disabled-fill-color: #AAA;\n",
              "      --disabled-bg-color: #DDD;\n",
              "  }\n",
              "\n",
              "  [theme=dark] .colab-df-quickchart {\n",
              "      --bg-color: #3B4455;\n",
              "      --fill-color: #D2E3FC;\n",
              "      --hover-bg-color: #434B5C;\n",
              "      --hover-fill-color: #FFFFFF;\n",
              "      --disabled-bg-color: #3B4455;\n",
              "      --disabled-fill-color: #666;\n",
              "  }\n",
              "\n",
              "  .colab-df-quickchart {\n",
              "    background-color: var(--bg-color);\n",
              "    border: none;\n",
              "    border-radius: 50%;\n",
              "    cursor: pointer;\n",
              "    display: none;\n",
              "    fill: var(--fill-color);\n",
              "    height: 32px;\n",
              "    padding: 0;\n",
              "    width: 32px;\n",
              "  }\n",
              "\n",
              "  .colab-df-quickchart:hover {\n",
              "    background-color: var(--hover-bg-color);\n",
              "    box-shadow: 0 1px 2px rgba(60, 64, 67, 0.3), 0 1px 3px 1px rgba(60, 64, 67, 0.15);\n",
              "    fill: var(--button-hover-fill-color);\n",
              "  }\n",
              "\n",
              "  .colab-df-quickchart-complete:disabled,\n",
              "  .colab-df-quickchart-complete:disabled:hover {\n",
              "    background-color: var(--disabled-bg-color);\n",
              "    fill: var(--disabled-fill-color);\n",
              "    box-shadow: none;\n",
              "  }\n",
              "\n",
              "  .colab-df-spinner {\n",
              "    border: 2px solid var(--fill-color);\n",
              "    border-color: transparent;\n",
              "    border-bottom-color: var(--fill-color);\n",
              "    animation:\n",
              "      spin 1s steps(1) infinite;\n",
              "  }\n",
              "\n",
              "  @keyframes spin {\n",
              "    0% {\n",
              "      border-color: transparent;\n",
              "      border-bottom-color: var(--fill-color);\n",
              "      border-left-color: var(--fill-color);\n",
              "    }\n",
              "    20% {\n",
              "      border-color: transparent;\n",
              "      border-left-color: var(--fill-color);\n",
              "      border-top-color: var(--fill-color);\n",
              "    }\n",
              "    30% {\n",
              "      border-color: transparent;\n",
              "      border-left-color: var(--fill-color);\n",
              "      border-top-color: var(--fill-color);\n",
              "      border-right-color: var(--fill-color);\n",
              "    }\n",
              "    40% {\n",
              "      border-color: transparent;\n",
              "      border-right-color: var(--fill-color);\n",
              "      border-top-color: var(--fill-color);\n",
              "    }\n",
              "    60% {\n",
              "      border-color: transparent;\n",
              "      border-right-color: var(--fill-color);\n",
              "    }\n",
              "    80% {\n",
              "      border-color: transparent;\n",
              "      border-right-color: var(--fill-color);\n",
              "      border-bottom-color: var(--fill-color);\n",
              "    }\n",
              "    90% {\n",
              "      border-color: transparent;\n",
              "      border-bottom-color: var(--fill-color);\n",
              "    }\n",
              "  }\n",
              "</style>\n",
              "\n",
              "  <script>\n",
              "    async function quickchart(key) {\n",
              "      const quickchartButtonEl =\n",
              "        document.querySelector('#' + key + ' button');\n",
              "      quickchartButtonEl.disabled = true;  // To prevent multiple clicks.\n",
              "      quickchartButtonEl.classList.add('colab-df-spinner');\n",
              "      try {\n",
              "        const charts = await google.colab.kernel.invokeFunction(\n",
              "            'suggestCharts', [key], {});\n",
              "      } catch (error) {\n",
              "        console.error('Error during call to suggestCharts:', error);\n",
              "      }\n",
              "      quickchartButtonEl.classList.remove('colab-df-spinner');\n",
              "      quickchartButtonEl.classList.add('colab-df-quickchart-complete');\n",
              "    }\n",
              "    (() => {\n",
              "      let quickchartButtonEl =\n",
              "        document.querySelector('#df-e5cfb3ef-435e-4236-82eb-f8333ec54c9a button');\n",
              "      quickchartButtonEl.style.display =\n",
              "        google.colab.kernel.accessAllowed ? 'block' : 'none';\n",
              "    })();\n",
              "  </script>\n",
              "</div>\n",
              "    </div>\n",
              "  </div>\n"
            ]
          },
          "metadata": {},
          "execution_count": 14
        }
      ]
    },
    {
      "cell_type": "code",
      "source": [
        "from tqdm import tqdm\n",
        "morgan_fp_gen = rdFingerprintGenerator.GetMorganGenerator(includeChirality=True, radius=2, fpSize=2048)\n",
        "list_morgan_fp_solv = []\n",
        "for i in tqdm(range(20236)):\n",
        "    try:\n",
        "        solv = Solvent[i]\n",
        "        mol = Chem.MolFromSmiles(solv) #create MOL of solvent for work with rdkit\n",
        "        fp = morgan_fp_gen.GetFingerprint(mol) #preparing morgan_fp of solvent\n",
        "        vector = np.array(fp)\n",
        "        list_morgan_fp_solv.append(vector)\n",
        "    except: # if solvent can't convert to mol\n",
        "        solv = Solvent[i]\n",
        "        print(f'{solv} not work')\n",
        "        vector = np.array([0 for i in range(2048)])\n",
        "        list_morgan_fp_solv.append(vector)"
      ],
      "metadata": {
        "id": "P0HHPS59mTFh",
        "colab": {
          "base_uri": "https://localhost:8080/"
        },
        "outputId": "4dcdd539-9b6b-4925-f249-a2f1d1ac1111"
      },
      "execution_count": null,
      "outputs": [
        {
          "output_type": "stream",
          "name": "stderr",
          "text": [
            " 24%|██▎       | 4769/20236 [00:06<00:21, 727.42it/s][09:17:57] SMILES Parse Error: syntax error while parsing: gas\n",
            "[09:17:57] SMILES Parse Error: Failed parsing SMILES 'gas' for input: 'gas'\n",
            " 24%|██▍       | 4915/20236 [00:07<00:21, 716.51it/s]"
          ]
        },
        {
          "output_type": "stream",
          "name": "stdout",
          "text": [
            "gas not work\n"
          ]
        },
        {
          "output_type": "stream",
          "name": "stderr",
          "text": [
            " 80%|████████  | 16204/20236 [00:48<00:10, 379.37it/s][09:18:38] SMILES Parse Error: syntax error while parsing: gas\n",
            "[09:18:38] SMILES Parse Error: Failed parsing SMILES 'gas' for input: 'gas'\n",
            " 80%|████████  | 16282/20236 [00:48<00:10, 381.02it/s]"
          ]
        },
        {
          "output_type": "stream",
          "name": "stdout",
          "text": [
            "gas not work\n"
          ]
        },
        {
          "output_type": "stream",
          "name": "stderr",
          "text": [
            " 83%|████████▎ | 16842/20236 [00:49<00:08, 381.76it/s][09:18:40] SMILES Parse Error: syntax error while parsing: gas\n",
            "[09:18:40] SMILES Parse Error: Failed parsing SMILES 'gas' for input: 'gas'\n",
            "[09:18:40] SMILES Parse Error: syntax error while parsing: gas\n",
            "[09:18:40] SMILES Parse Error: Failed parsing SMILES 'gas' for input: 'gas'\n",
            "[09:18:40] SMILES Parse Error: syntax error while parsing: gas\n",
            "[09:18:40] SMILES Parse Error: Failed parsing SMILES 'gas' for input: 'gas'\n",
            "[09:18:40] SMILES Parse Error: syntax error while parsing: gas\n",
            "[09:18:40] SMILES Parse Error: Failed parsing SMILES 'gas' for input: 'gas'\n",
            "[09:18:40] SMILES Parse Error: syntax error while parsing: gas\n",
            "[09:18:40] SMILES Parse Error: Failed parsing SMILES 'gas' for input: 'gas'\n",
            "[09:18:40] SMILES Parse Error: syntax error while parsing: gas\n",
            "[09:18:40] SMILES Parse Error: Failed parsing SMILES 'gas' for input: 'gas'\n",
            "[09:18:40] SMILES Parse Error: syntax error while parsing: gas\n",
            "[09:18:40] SMILES Parse Error: Failed parsing SMILES 'gas' for input: 'gas'\n",
            "[09:18:40] SMILES Parse Error: syntax error while parsing: gas\n",
            "[09:18:40] SMILES Parse Error: Failed parsing SMILES 'gas' for input: 'gas'\n",
            "[09:18:40] SMILES Parse Error: syntax error while parsing: gas\n",
            "[09:18:40] SMILES Parse Error: Failed parsing SMILES 'gas' for input: 'gas'\n",
            "[09:18:40] SMILES Parse Error: syntax error while parsing: gas\n",
            "[09:18:40] SMILES Parse Error: Failed parsing SMILES 'gas' for input: 'gas'\n",
            "[09:18:40] SMILES Parse Error: syntax error while parsing: gas\n",
            "[09:18:40] SMILES Parse Error: Failed parsing SMILES 'gas' for input: 'gas'\n",
            " 84%|████████▎ | 16925/20236 [00:49<00:08, 394.75it/s]"
          ]
        },
        {
          "output_type": "stream",
          "name": "stdout",
          "text": [
            "gas not work\n",
            "gas not work\n",
            "gas not work\n",
            "gas not work\n",
            "gas not work\n",
            "gas not work\n",
            "gas not work\n",
            "gas not work\n",
            "gas not work\n",
            "gas not work\n",
            "gas not work\n"
          ]
        },
        {
          "output_type": "stream",
          "name": "stderr",
          "text": [
            "\r 84%|████████▍ | 16965/20236 [00:50<00:08, 386.13it/s][09:18:40] SMILES Parse Error: syntax error while parsing: gas\n",
            "[09:18:40] SMILES Parse Error: Failed parsing SMILES 'gas' for input: 'gas'\n",
            "[09:18:40] SMILES Parse Error: syntax error while parsing: gas\n",
            "[09:18:40] SMILES Parse Error: Failed parsing SMILES 'gas' for input: 'gas'\n",
            " 84%|████████▍ | 17004/20236 [00:50<00:08, 365.22it/s][09:18:40] SMILES Parse Error: syntax error while parsing: gas\n",
            "[09:18:40] SMILES Parse Error: Failed parsing SMILES 'gas' for input: 'gas'\n",
            "[09:18:40] SMILES Parse Error: syntax error while parsing: gas\n",
            "[09:18:40] SMILES Parse Error: Failed parsing SMILES 'gas' for input: 'gas'\n",
            "[09:18:40] SMILES Parse Error: syntax error while parsing: gas\n",
            "[09:18:40] SMILES Parse Error: Failed parsing SMILES 'gas' for input: 'gas'\n",
            "[09:18:40] SMILES Parse Error: syntax error while parsing: gas\n",
            "[09:18:40] SMILES Parse Error: Failed parsing SMILES 'gas' for input: 'gas'\n",
            " 84%|████████▍ | 17041/20236 [00:50<00:08, 359.25it/s]"
          ]
        },
        {
          "output_type": "stream",
          "name": "stdout",
          "text": [
            "gas not work\n",
            "gas not work\n",
            "gas not work\n",
            "gas not work\n",
            "gas not work\n",
            "gas not work\n"
          ]
        },
        {
          "output_type": "stream",
          "name": "stderr",
          "text": [
            "100%|██████████| 20236/20236 [00:56<00:00, 359.36it/s]\n"
          ]
        }
      ]
    },
    {
      "cell_type": "code",
      "source": [
        "morgan_db_solv = pd.DataFrame(np.array(list_morgan_fp_solv), columns = [f'Morgan_solv_{i}' for i in range(2048)])\n",
        "morgan_db_solv"
      ],
      "metadata": {
        "id": "jb4PH_Vamlry",
        "colab": {
          "base_uri": "https://localhost:8080/",
          "height": 444
        },
        "outputId": "00771106-c35c-4588-bd01-5a18b0260ee6"
      },
      "execution_count": null,
      "outputs": [
        {
          "output_type": "execute_result",
          "data": {
            "text/plain": [
              "       Morgan_solv_0  Morgan_solv_1  Morgan_solv_2  Morgan_solv_3  \\\n",
              "0                  0              0              0              0   \n",
              "1                  0              0              0              0   \n",
              "2                  0              1              0              0   \n",
              "3                  0              0              0              0   \n",
              "4                  0              0              0              0   \n",
              "...              ...            ...            ...            ...   \n",
              "20231              0              0              0              0   \n",
              "20232              0              0              0              0   \n",
              "20233              0              0              0              0   \n",
              "20234              0              0              0              0   \n",
              "20235              0              0              0              0   \n",
              "\n",
              "       Morgan_solv_4  Morgan_solv_5  Morgan_solv_6  Morgan_solv_7  \\\n",
              "0                  0              0              0              0   \n",
              "1                  0              0              0              0   \n",
              "2                  0              0              0              0   \n",
              "3                  0              0              0              0   \n",
              "4                  0              0              0              0   \n",
              "...              ...            ...            ...            ...   \n",
              "20231              0              0              0              0   \n",
              "20232              0              0              0              0   \n",
              "20233              0              0              0              0   \n",
              "20234              0              0              0              0   \n",
              "20235              0              0              0              0   \n",
              "\n",
              "       Morgan_solv_8  Morgan_solv_9  ...  Morgan_solv_2038  Morgan_solv_2039  \\\n",
              "0                  0              0  ...                 0                 0   \n",
              "1                  0              0  ...                 0                 0   \n",
              "2                  0              0  ...                 0                 0   \n",
              "3                  0              0  ...                 0                 0   \n",
              "4                  0              0  ...                 0                 0   \n",
              "...              ...            ...  ...               ...               ...   \n",
              "20231              0              0  ...                 0                 0   \n",
              "20232              0              0  ...                 0                 0   \n",
              "20233              0              0  ...                 0                 0   \n",
              "20234              0              0  ...                 0                 0   \n",
              "20235              0              0  ...                 0                 0   \n",
              "\n",
              "       Morgan_solv_2040  Morgan_solv_2041  Morgan_solv_2042  Morgan_solv_2043  \\\n",
              "0                     0                 0                 0                 0   \n",
              "1                     0                 0                 0                 0   \n",
              "2                     0                 0                 0                 0   \n",
              "3                     0                 0                 0                 0   \n",
              "4                     0                 0                 0                 0   \n",
              "...                 ...               ...               ...               ...   \n",
              "20231                 0                 0                 0                 0   \n",
              "20232                 0                 0                 0                 0   \n",
              "20233                 0                 0                 0                 0   \n",
              "20234                 0                 0                 0                 0   \n",
              "20235                 0                 0                 0                 0   \n",
              "\n",
              "       Morgan_solv_2044  Morgan_solv_2045  Morgan_solv_2046  Morgan_solv_2047  \n",
              "0                     0                 0                 0                 0  \n",
              "1                     0                 0                 0                 0  \n",
              "2                     0                 0                 0                 0  \n",
              "3                     0                 0                 0                 0  \n",
              "4                     0                 0                 0                 0  \n",
              "...                 ...               ...               ...               ...  \n",
              "20231                 0                 0                 0                 0  \n",
              "20232                 0                 0                 0                 0  \n",
              "20233                 0                 0                 0                 0  \n",
              "20234                 0                 0                 0                 0  \n",
              "20235                 0                 0                 0                 0  \n",
              "\n",
              "[20236 rows x 2048 columns]"
            ],
            "text/html": [
              "\n",
              "  <div id=\"df-c0f05a6d-2dad-424e-ae98-4ba7367762d3\" class=\"colab-df-container\">\n",
              "    <div>\n",
              "<style scoped>\n",
              "    .dataframe tbody tr th:only-of-type {\n",
              "        vertical-align: middle;\n",
              "    }\n",
              "\n",
              "    .dataframe tbody tr th {\n",
              "        vertical-align: top;\n",
              "    }\n",
              "\n",
              "    .dataframe thead th {\n",
              "        text-align: right;\n",
              "    }\n",
              "</style>\n",
              "<table border=\"1\" class=\"dataframe\">\n",
              "  <thead>\n",
              "    <tr style=\"text-align: right;\">\n",
              "      <th></th>\n",
              "      <th>Morgan_solv_0</th>\n",
              "      <th>Morgan_solv_1</th>\n",
              "      <th>Morgan_solv_2</th>\n",
              "      <th>Morgan_solv_3</th>\n",
              "      <th>Morgan_solv_4</th>\n",
              "      <th>Morgan_solv_5</th>\n",
              "      <th>Morgan_solv_6</th>\n",
              "      <th>Morgan_solv_7</th>\n",
              "      <th>Morgan_solv_8</th>\n",
              "      <th>Morgan_solv_9</th>\n",
              "      <th>...</th>\n",
              "      <th>Morgan_solv_2038</th>\n",
              "      <th>Morgan_solv_2039</th>\n",
              "      <th>Morgan_solv_2040</th>\n",
              "      <th>Morgan_solv_2041</th>\n",
              "      <th>Morgan_solv_2042</th>\n",
              "      <th>Morgan_solv_2043</th>\n",
              "      <th>Morgan_solv_2044</th>\n",
              "      <th>Morgan_solv_2045</th>\n",
              "      <th>Morgan_solv_2046</th>\n",
              "      <th>Morgan_solv_2047</th>\n",
              "    </tr>\n",
              "  </thead>\n",
              "  <tbody>\n",
              "    <tr>\n",
              "      <th>0</th>\n",
              "      <td>0</td>\n",
              "      <td>0</td>\n",
              "      <td>0</td>\n",
              "      <td>0</td>\n",
              "      <td>0</td>\n",
              "      <td>0</td>\n",
              "      <td>0</td>\n",
              "      <td>0</td>\n",
              "      <td>0</td>\n",
              "      <td>0</td>\n",
              "      <td>...</td>\n",
              "      <td>0</td>\n",
              "      <td>0</td>\n",
              "      <td>0</td>\n",
              "      <td>0</td>\n",
              "      <td>0</td>\n",
              "      <td>0</td>\n",
              "      <td>0</td>\n",
              "      <td>0</td>\n",
              "      <td>0</td>\n",
              "      <td>0</td>\n",
              "    </tr>\n",
              "    <tr>\n",
              "      <th>1</th>\n",
              "      <td>0</td>\n",
              "      <td>0</td>\n",
              "      <td>0</td>\n",
              "      <td>0</td>\n",
              "      <td>0</td>\n",
              "      <td>0</td>\n",
              "      <td>0</td>\n",
              "      <td>0</td>\n",
              "      <td>0</td>\n",
              "      <td>0</td>\n",
              "      <td>...</td>\n",
              "      <td>0</td>\n",
              "      <td>0</td>\n",
              "      <td>0</td>\n",
              "      <td>0</td>\n",
              "      <td>0</td>\n",
              "      <td>0</td>\n",
              "      <td>0</td>\n",
              "      <td>0</td>\n",
              "      <td>0</td>\n",
              "      <td>0</td>\n",
              "    </tr>\n",
              "    <tr>\n",
              "      <th>2</th>\n",
              "      <td>0</td>\n",
              "      <td>1</td>\n",
              "      <td>0</td>\n",
              "      <td>0</td>\n",
              "      <td>0</td>\n",
              "      <td>0</td>\n",
              "      <td>0</td>\n",
              "      <td>0</td>\n",
              "      <td>0</td>\n",
              "      <td>0</td>\n",
              "      <td>...</td>\n",
              "      <td>0</td>\n",
              "      <td>0</td>\n",
              "      <td>0</td>\n",
              "      <td>0</td>\n",
              "      <td>0</td>\n",
              "      <td>0</td>\n",
              "      <td>0</td>\n",
              "      <td>0</td>\n",
              "      <td>0</td>\n",
              "      <td>0</td>\n",
              "    </tr>\n",
              "    <tr>\n",
              "      <th>3</th>\n",
              "      <td>0</td>\n",
              "      <td>0</td>\n",
              "      <td>0</td>\n",
              "      <td>0</td>\n",
              "      <td>0</td>\n",
              "      <td>0</td>\n",
              "      <td>0</td>\n",
              "      <td>0</td>\n",
              "      <td>0</td>\n",
              "      <td>0</td>\n",
              "      <td>...</td>\n",
              "      <td>0</td>\n",
              "      <td>0</td>\n",
              "      <td>0</td>\n",
              "      <td>0</td>\n",
              "      <td>0</td>\n",
              "      <td>0</td>\n",
              "      <td>0</td>\n",
              "      <td>0</td>\n",
              "      <td>0</td>\n",
              "      <td>0</td>\n",
              "    </tr>\n",
              "    <tr>\n",
              "      <th>4</th>\n",
              "      <td>0</td>\n",
              "      <td>0</td>\n",
              "      <td>0</td>\n",
              "      <td>0</td>\n",
              "      <td>0</td>\n",
              "      <td>0</td>\n",
              "      <td>0</td>\n",
              "      <td>0</td>\n",
              "      <td>0</td>\n",
              "      <td>0</td>\n",
              "      <td>...</td>\n",
              "      <td>0</td>\n",
              "      <td>0</td>\n",
              "      <td>0</td>\n",
              "      <td>0</td>\n",
              "      <td>0</td>\n",
              "      <td>0</td>\n",
              "      <td>0</td>\n",
              "      <td>0</td>\n",
              "      <td>0</td>\n",
              "      <td>0</td>\n",
              "    </tr>\n",
              "    <tr>\n",
              "      <th>...</th>\n",
              "      <td>...</td>\n",
              "      <td>...</td>\n",
              "      <td>...</td>\n",
              "      <td>...</td>\n",
              "      <td>...</td>\n",
              "      <td>...</td>\n",
              "      <td>...</td>\n",
              "      <td>...</td>\n",
              "      <td>...</td>\n",
              "      <td>...</td>\n",
              "      <td>...</td>\n",
              "      <td>...</td>\n",
              "      <td>...</td>\n",
              "      <td>...</td>\n",
              "      <td>...</td>\n",
              "      <td>...</td>\n",
              "      <td>...</td>\n",
              "      <td>...</td>\n",
              "      <td>...</td>\n",
              "      <td>...</td>\n",
              "      <td>...</td>\n",
              "    </tr>\n",
              "    <tr>\n",
              "      <th>20231</th>\n",
              "      <td>0</td>\n",
              "      <td>0</td>\n",
              "      <td>0</td>\n",
              "      <td>0</td>\n",
              "      <td>0</td>\n",
              "      <td>0</td>\n",
              "      <td>0</td>\n",
              "      <td>0</td>\n",
              "      <td>0</td>\n",
              "      <td>0</td>\n",
              "      <td>...</td>\n",
              "      <td>0</td>\n",
              "      <td>0</td>\n",
              "      <td>0</td>\n",
              "      <td>0</td>\n",
              "      <td>0</td>\n",
              "      <td>0</td>\n",
              "      <td>0</td>\n",
              "      <td>0</td>\n",
              "      <td>0</td>\n",
              "      <td>0</td>\n",
              "    </tr>\n",
              "    <tr>\n",
              "      <th>20232</th>\n",
              "      <td>0</td>\n",
              "      <td>0</td>\n",
              "      <td>0</td>\n",
              "      <td>0</td>\n",
              "      <td>0</td>\n",
              "      <td>0</td>\n",
              "      <td>0</td>\n",
              "      <td>0</td>\n",
              "      <td>0</td>\n",
              "      <td>0</td>\n",
              "      <td>...</td>\n",
              "      <td>0</td>\n",
              "      <td>0</td>\n",
              "      <td>0</td>\n",
              "      <td>0</td>\n",
              "      <td>0</td>\n",
              "      <td>0</td>\n",
              "      <td>0</td>\n",
              "      <td>0</td>\n",
              "      <td>0</td>\n",
              "      <td>0</td>\n",
              "    </tr>\n",
              "    <tr>\n",
              "      <th>20233</th>\n",
              "      <td>0</td>\n",
              "      <td>0</td>\n",
              "      <td>0</td>\n",
              "      <td>0</td>\n",
              "      <td>0</td>\n",
              "      <td>0</td>\n",
              "      <td>0</td>\n",
              "      <td>0</td>\n",
              "      <td>0</td>\n",
              "      <td>0</td>\n",
              "      <td>...</td>\n",
              "      <td>0</td>\n",
              "      <td>0</td>\n",
              "      <td>0</td>\n",
              "      <td>0</td>\n",
              "      <td>0</td>\n",
              "      <td>0</td>\n",
              "      <td>0</td>\n",
              "      <td>0</td>\n",
              "      <td>0</td>\n",
              "      <td>0</td>\n",
              "    </tr>\n",
              "    <tr>\n",
              "      <th>20234</th>\n",
              "      <td>0</td>\n",
              "      <td>0</td>\n",
              "      <td>0</td>\n",
              "      <td>0</td>\n",
              "      <td>0</td>\n",
              "      <td>0</td>\n",
              "      <td>0</td>\n",
              "      <td>0</td>\n",
              "      <td>0</td>\n",
              "      <td>0</td>\n",
              "      <td>...</td>\n",
              "      <td>0</td>\n",
              "      <td>0</td>\n",
              "      <td>0</td>\n",
              "      <td>0</td>\n",
              "      <td>0</td>\n",
              "      <td>0</td>\n",
              "      <td>0</td>\n",
              "      <td>0</td>\n",
              "      <td>0</td>\n",
              "      <td>0</td>\n",
              "    </tr>\n",
              "    <tr>\n",
              "      <th>20235</th>\n",
              "      <td>0</td>\n",
              "      <td>0</td>\n",
              "      <td>0</td>\n",
              "      <td>0</td>\n",
              "      <td>0</td>\n",
              "      <td>0</td>\n",
              "      <td>0</td>\n",
              "      <td>0</td>\n",
              "      <td>0</td>\n",
              "      <td>0</td>\n",
              "      <td>...</td>\n",
              "      <td>0</td>\n",
              "      <td>0</td>\n",
              "      <td>0</td>\n",
              "      <td>0</td>\n",
              "      <td>0</td>\n",
              "      <td>0</td>\n",
              "      <td>0</td>\n",
              "      <td>0</td>\n",
              "      <td>0</td>\n",
              "      <td>0</td>\n",
              "    </tr>\n",
              "  </tbody>\n",
              "</table>\n",
              "<p>20236 rows × 2048 columns</p>\n",
              "</div>\n",
              "    <div class=\"colab-df-buttons\">\n",
              "\n",
              "  <div class=\"colab-df-container\">\n",
              "    <button class=\"colab-df-convert\" onclick=\"convertToInteractive('df-c0f05a6d-2dad-424e-ae98-4ba7367762d3')\"\n",
              "            title=\"Convert this dataframe to an interactive table.\"\n",
              "            style=\"display:none;\">\n",
              "\n",
              "  <svg xmlns=\"http://www.w3.org/2000/svg\" height=\"24px\" viewBox=\"0 -960 960 960\">\n",
              "    <path d=\"M120-120v-720h720v720H120Zm60-500h600v-160H180v160Zm220 220h160v-160H400v160Zm0 220h160v-160H400v160ZM180-400h160v-160H180v160Zm440 0h160v-160H620v160ZM180-180h160v-160H180v160Zm440 0h160v-160H620v160Z\"/>\n",
              "  </svg>\n",
              "    </button>\n",
              "\n",
              "  <style>\n",
              "    .colab-df-container {\n",
              "      display:flex;\n",
              "      gap: 12px;\n",
              "    }\n",
              "\n",
              "    .colab-df-convert {\n",
              "      background-color: #E8F0FE;\n",
              "      border: none;\n",
              "      border-radius: 50%;\n",
              "      cursor: pointer;\n",
              "      display: none;\n",
              "      fill: #1967D2;\n",
              "      height: 32px;\n",
              "      padding: 0 0 0 0;\n",
              "      width: 32px;\n",
              "    }\n",
              "\n",
              "    .colab-df-convert:hover {\n",
              "      background-color: #E2EBFA;\n",
              "      box-shadow: 0px 1px 2px rgba(60, 64, 67, 0.3), 0px 1px 3px 1px rgba(60, 64, 67, 0.15);\n",
              "      fill: #174EA6;\n",
              "    }\n",
              "\n",
              "    .colab-df-buttons div {\n",
              "      margin-bottom: 4px;\n",
              "    }\n",
              "\n",
              "    [theme=dark] .colab-df-convert {\n",
              "      background-color: #3B4455;\n",
              "      fill: #D2E3FC;\n",
              "    }\n",
              "\n",
              "    [theme=dark] .colab-df-convert:hover {\n",
              "      background-color: #434B5C;\n",
              "      box-shadow: 0px 1px 3px 1px rgba(0, 0, 0, 0.15);\n",
              "      filter: drop-shadow(0px 1px 2px rgba(0, 0, 0, 0.3));\n",
              "      fill: #FFFFFF;\n",
              "    }\n",
              "  </style>\n",
              "\n",
              "    <script>\n",
              "      const buttonEl =\n",
              "        document.querySelector('#df-c0f05a6d-2dad-424e-ae98-4ba7367762d3 button.colab-df-convert');\n",
              "      buttonEl.style.display =\n",
              "        google.colab.kernel.accessAllowed ? 'block' : 'none';\n",
              "\n",
              "      async function convertToInteractive(key) {\n",
              "        const element = document.querySelector('#df-c0f05a6d-2dad-424e-ae98-4ba7367762d3');\n",
              "        const dataTable =\n",
              "          await google.colab.kernel.invokeFunction('convertToInteractive',\n",
              "                                                    [key], {});\n",
              "        if (!dataTable) return;\n",
              "\n",
              "        const docLinkHtml = 'Like what you see? Visit the ' +\n",
              "          '<a target=\"_blank\" href=https://colab.research.google.com/notebooks/data_table.ipynb>data table notebook</a>'\n",
              "          + ' to learn more about interactive tables.';\n",
              "        element.innerHTML = '';\n",
              "        dataTable['output_type'] = 'display_data';\n",
              "        await google.colab.output.renderOutput(dataTable, element);\n",
              "        const docLink = document.createElement('div');\n",
              "        docLink.innerHTML = docLinkHtml;\n",
              "        element.appendChild(docLink);\n",
              "      }\n",
              "    </script>\n",
              "  </div>\n",
              "\n",
              "\n",
              "<div id=\"df-2b3954b8-0ffc-4946-b98b-92eea63eed49\">\n",
              "  <button class=\"colab-df-quickchart\" onclick=\"quickchart('df-2b3954b8-0ffc-4946-b98b-92eea63eed49')\"\n",
              "            title=\"Suggest charts\"\n",
              "            style=\"display:none;\">\n",
              "\n",
              "<svg xmlns=\"http://www.w3.org/2000/svg\" height=\"24px\"viewBox=\"0 0 24 24\"\n",
              "     width=\"24px\">\n",
              "    <g>\n",
              "        <path d=\"M19 3H5c-1.1 0-2 .9-2 2v14c0 1.1.9 2 2 2h14c1.1 0 2-.9 2-2V5c0-1.1-.9-2-2-2zM9 17H7v-7h2v7zm4 0h-2V7h2v10zm4 0h-2v-4h2v4z\"/>\n",
              "    </g>\n",
              "</svg>\n",
              "  </button>\n",
              "\n",
              "<style>\n",
              "  .colab-df-quickchart {\n",
              "      --bg-color: #E8F0FE;\n",
              "      --fill-color: #1967D2;\n",
              "      --hover-bg-color: #E2EBFA;\n",
              "      --hover-fill-color: #174EA6;\n",
              "      --disabled-fill-color: #AAA;\n",
              "      --disabled-bg-color: #DDD;\n",
              "  }\n",
              "\n",
              "  [theme=dark] .colab-df-quickchart {\n",
              "      --bg-color: #3B4455;\n",
              "      --fill-color: #D2E3FC;\n",
              "      --hover-bg-color: #434B5C;\n",
              "      --hover-fill-color: #FFFFFF;\n",
              "      --disabled-bg-color: #3B4455;\n",
              "      --disabled-fill-color: #666;\n",
              "  }\n",
              "\n",
              "  .colab-df-quickchart {\n",
              "    background-color: var(--bg-color);\n",
              "    border: none;\n",
              "    border-radius: 50%;\n",
              "    cursor: pointer;\n",
              "    display: none;\n",
              "    fill: var(--fill-color);\n",
              "    height: 32px;\n",
              "    padding: 0;\n",
              "    width: 32px;\n",
              "  }\n",
              "\n",
              "  .colab-df-quickchart:hover {\n",
              "    background-color: var(--hover-bg-color);\n",
              "    box-shadow: 0 1px 2px rgba(60, 64, 67, 0.3), 0 1px 3px 1px rgba(60, 64, 67, 0.15);\n",
              "    fill: var(--button-hover-fill-color);\n",
              "  }\n",
              "\n",
              "  .colab-df-quickchart-complete:disabled,\n",
              "  .colab-df-quickchart-complete:disabled:hover {\n",
              "    background-color: var(--disabled-bg-color);\n",
              "    fill: var(--disabled-fill-color);\n",
              "    box-shadow: none;\n",
              "  }\n",
              "\n",
              "  .colab-df-spinner {\n",
              "    border: 2px solid var(--fill-color);\n",
              "    border-color: transparent;\n",
              "    border-bottom-color: var(--fill-color);\n",
              "    animation:\n",
              "      spin 1s steps(1) infinite;\n",
              "  }\n",
              "\n",
              "  @keyframes spin {\n",
              "    0% {\n",
              "      border-color: transparent;\n",
              "      border-bottom-color: var(--fill-color);\n",
              "      border-left-color: var(--fill-color);\n",
              "    }\n",
              "    20% {\n",
              "      border-color: transparent;\n",
              "      border-left-color: var(--fill-color);\n",
              "      border-top-color: var(--fill-color);\n",
              "    }\n",
              "    30% {\n",
              "      border-color: transparent;\n",
              "      border-left-color: var(--fill-color);\n",
              "      border-top-color: var(--fill-color);\n",
              "      border-right-color: var(--fill-color);\n",
              "    }\n",
              "    40% {\n",
              "      border-color: transparent;\n",
              "      border-right-color: var(--fill-color);\n",
              "      border-top-color: var(--fill-color);\n",
              "    }\n",
              "    60% {\n",
              "      border-color: transparent;\n",
              "      border-right-color: var(--fill-color);\n",
              "    }\n",
              "    80% {\n",
              "      border-color: transparent;\n",
              "      border-right-color: var(--fill-color);\n",
              "      border-bottom-color: var(--fill-color);\n",
              "    }\n",
              "    90% {\n",
              "      border-color: transparent;\n",
              "      border-bottom-color: var(--fill-color);\n",
              "    }\n",
              "  }\n",
              "</style>\n",
              "\n",
              "  <script>\n",
              "    async function quickchart(key) {\n",
              "      const quickchartButtonEl =\n",
              "        document.querySelector('#' + key + ' button');\n",
              "      quickchartButtonEl.disabled = true;  // To prevent multiple clicks.\n",
              "      quickchartButtonEl.classList.add('colab-df-spinner');\n",
              "      try {\n",
              "        const charts = await google.colab.kernel.invokeFunction(\n",
              "            'suggestCharts', [key], {});\n",
              "      } catch (error) {\n",
              "        console.error('Error during call to suggestCharts:', error);\n",
              "      }\n",
              "      quickchartButtonEl.classList.remove('colab-df-spinner');\n",
              "      quickchartButtonEl.classList.add('colab-df-quickchart-complete');\n",
              "    }\n",
              "    (() => {\n",
              "      let quickchartButtonEl =\n",
              "        document.querySelector('#df-2b3954b8-0ffc-4946-b98b-92eea63eed49 button');\n",
              "      quickchartButtonEl.style.display =\n",
              "        google.colab.kernel.accessAllowed ? 'block' : 'none';\n",
              "    })();\n",
              "  </script>\n",
              "</div>\n",
              "    </div>\n",
              "  </div>\n"
            ]
          },
          "metadata": {},
          "execution_count": 17
        }
      ]
    },
    {
      "cell_type": "code",
      "source": [
        "morgan_full = pd.concat([morgan_db, morgan_db_solv],axis=1) # concatente compound and correspond solv to one dataset\n",
        "morgan_full"
      ],
      "metadata": {
        "colab": {
          "base_uri": "https://localhost:8080/",
          "height": 444
        },
        "id": "Wk-GHcUkmspA",
        "outputId": "f367db9b-9d9f-4c18-d244-c7fa3ab05a0f"
      },
      "execution_count": null,
      "outputs": [
        {
          "output_type": "execute_result",
          "data": {
            "text/plain": [
              "       Morgan_0  Morgan_1  Morgan_2  Morgan_3  Morgan_4  Morgan_5  Morgan_6  \\\n",
              "0             0         0         0         0         0         0         0   \n",
              "1             0         0         0         0         0         0         0   \n",
              "2             0         0         0         0         0         0         0   \n",
              "3             0         0         0         0         0         0         0   \n",
              "4             0         0         0         0         0         0         0   \n",
              "...         ...       ...       ...       ...       ...       ...       ...   \n",
              "20231         0         1         0         0         0         0         0   \n",
              "20232         0         1         1         0         0         0         0   \n",
              "20233         0         1         1         0         0         0         0   \n",
              "20234         0         1         1         0         0         0         0   \n",
              "20235         0         1         1         0         0         0         0   \n",
              "\n",
              "       Morgan_7  Morgan_8  Morgan_9  ...  Morgan_solv_2038  Morgan_solv_2039  \\\n",
              "0             0         0         0  ...                 0                 0   \n",
              "1             0         0         0  ...                 0                 0   \n",
              "2             0         0         0  ...                 0                 0   \n",
              "3             0         0         0  ...                 0                 0   \n",
              "4             0         0         0  ...                 0                 0   \n",
              "...         ...       ...       ...  ...               ...               ...   \n",
              "20231         0         0         1  ...                 0                 0   \n",
              "20232         0         0         1  ...                 0                 0   \n",
              "20233         0         0         1  ...                 0                 0   \n",
              "20234         0         0         1  ...                 0                 0   \n",
              "20235         0         0         1  ...                 0                 0   \n",
              "\n",
              "       Morgan_solv_2040  Morgan_solv_2041  Morgan_solv_2042  Morgan_solv_2043  \\\n",
              "0                     0                 0                 0                 0   \n",
              "1                     0                 0                 0                 0   \n",
              "2                     0                 0                 0                 0   \n",
              "3                     0                 0                 0                 0   \n",
              "4                     0                 0                 0                 0   \n",
              "...                 ...               ...               ...               ...   \n",
              "20231                 0                 0                 0                 0   \n",
              "20232                 0                 0                 0                 0   \n",
              "20233                 0                 0                 0                 0   \n",
              "20234                 0                 0                 0                 0   \n",
              "20235                 0                 0                 0                 0   \n",
              "\n",
              "       Morgan_solv_2044  Morgan_solv_2045  Morgan_solv_2046  Morgan_solv_2047  \n",
              "0                     0                 0                 0                 0  \n",
              "1                     0                 0                 0                 0  \n",
              "2                     0                 0                 0                 0  \n",
              "3                     0                 0                 0                 0  \n",
              "4                     0                 0                 0                 0  \n",
              "...                 ...               ...               ...               ...  \n",
              "20231                 0                 0                 0                 0  \n",
              "20232                 0                 0                 0                 0  \n",
              "20233                 0                 0                 0                 0  \n",
              "20234                 0                 0                 0                 0  \n",
              "20235                 0                 0                 0                 0  \n",
              "\n",
              "[20236 rows x 4096 columns]"
            ],
            "text/html": [
              "\n",
              "  <div id=\"df-2e0927b6-7902-4e3e-86e5-aa0ea064f8cd\" class=\"colab-df-container\">\n",
              "    <div>\n",
              "<style scoped>\n",
              "    .dataframe tbody tr th:only-of-type {\n",
              "        vertical-align: middle;\n",
              "    }\n",
              "\n",
              "    .dataframe tbody tr th {\n",
              "        vertical-align: top;\n",
              "    }\n",
              "\n",
              "    .dataframe thead th {\n",
              "        text-align: right;\n",
              "    }\n",
              "</style>\n",
              "<table border=\"1\" class=\"dataframe\">\n",
              "  <thead>\n",
              "    <tr style=\"text-align: right;\">\n",
              "      <th></th>\n",
              "      <th>Morgan_0</th>\n",
              "      <th>Morgan_1</th>\n",
              "      <th>Morgan_2</th>\n",
              "      <th>Morgan_3</th>\n",
              "      <th>Morgan_4</th>\n",
              "      <th>Morgan_5</th>\n",
              "      <th>Morgan_6</th>\n",
              "      <th>Morgan_7</th>\n",
              "      <th>Morgan_8</th>\n",
              "      <th>Morgan_9</th>\n",
              "      <th>...</th>\n",
              "      <th>Morgan_solv_2038</th>\n",
              "      <th>Morgan_solv_2039</th>\n",
              "      <th>Morgan_solv_2040</th>\n",
              "      <th>Morgan_solv_2041</th>\n",
              "      <th>Morgan_solv_2042</th>\n",
              "      <th>Morgan_solv_2043</th>\n",
              "      <th>Morgan_solv_2044</th>\n",
              "      <th>Morgan_solv_2045</th>\n",
              "      <th>Morgan_solv_2046</th>\n",
              "      <th>Morgan_solv_2047</th>\n",
              "    </tr>\n",
              "  </thead>\n",
              "  <tbody>\n",
              "    <tr>\n",
              "      <th>0</th>\n",
              "      <td>0</td>\n",
              "      <td>0</td>\n",
              "      <td>0</td>\n",
              "      <td>0</td>\n",
              "      <td>0</td>\n",
              "      <td>0</td>\n",
              "      <td>0</td>\n",
              "      <td>0</td>\n",
              "      <td>0</td>\n",
              "      <td>0</td>\n",
              "      <td>...</td>\n",
              "      <td>0</td>\n",
              "      <td>0</td>\n",
              "      <td>0</td>\n",
              "      <td>0</td>\n",
              "      <td>0</td>\n",
              "      <td>0</td>\n",
              "      <td>0</td>\n",
              "      <td>0</td>\n",
              "      <td>0</td>\n",
              "      <td>0</td>\n",
              "    </tr>\n",
              "    <tr>\n",
              "      <th>1</th>\n",
              "      <td>0</td>\n",
              "      <td>0</td>\n",
              "      <td>0</td>\n",
              "      <td>0</td>\n",
              "      <td>0</td>\n",
              "      <td>0</td>\n",
              "      <td>0</td>\n",
              "      <td>0</td>\n",
              "      <td>0</td>\n",
              "      <td>0</td>\n",
              "      <td>...</td>\n",
              "      <td>0</td>\n",
              "      <td>0</td>\n",
              "      <td>0</td>\n",
              "      <td>0</td>\n",
              "      <td>0</td>\n",
              "      <td>0</td>\n",
              "      <td>0</td>\n",
              "      <td>0</td>\n",
              "      <td>0</td>\n",
              "      <td>0</td>\n",
              "    </tr>\n",
              "    <tr>\n",
              "      <th>2</th>\n",
              "      <td>0</td>\n",
              "      <td>0</td>\n",
              "      <td>0</td>\n",
              "      <td>0</td>\n",
              "      <td>0</td>\n",
              "      <td>0</td>\n",
              "      <td>0</td>\n",
              "      <td>0</td>\n",
              "      <td>0</td>\n",
              "      <td>0</td>\n",
              "      <td>...</td>\n",
              "      <td>0</td>\n",
              "      <td>0</td>\n",
              "      <td>0</td>\n",
              "      <td>0</td>\n",
              "      <td>0</td>\n",
              "      <td>0</td>\n",
              "      <td>0</td>\n",
              "      <td>0</td>\n",
              "      <td>0</td>\n",
              "      <td>0</td>\n",
              "    </tr>\n",
              "    <tr>\n",
              "      <th>3</th>\n",
              "      <td>0</td>\n",
              "      <td>0</td>\n",
              "      <td>0</td>\n",
              "      <td>0</td>\n",
              "      <td>0</td>\n",
              "      <td>0</td>\n",
              "      <td>0</td>\n",
              "      <td>0</td>\n",
              "      <td>0</td>\n",
              "      <td>0</td>\n",
              "      <td>...</td>\n",
              "      <td>0</td>\n",
              "      <td>0</td>\n",
              "      <td>0</td>\n",
              "      <td>0</td>\n",
              "      <td>0</td>\n",
              "      <td>0</td>\n",
              "      <td>0</td>\n",
              "      <td>0</td>\n",
              "      <td>0</td>\n",
              "      <td>0</td>\n",
              "    </tr>\n",
              "    <tr>\n",
              "      <th>4</th>\n",
              "      <td>0</td>\n",
              "      <td>0</td>\n",
              "      <td>0</td>\n",
              "      <td>0</td>\n",
              "      <td>0</td>\n",
              "      <td>0</td>\n",
              "      <td>0</td>\n",
              "      <td>0</td>\n",
              "      <td>0</td>\n",
              "      <td>0</td>\n",
              "      <td>...</td>\n",
              "      <td>0</td>\n",
              "      <td>0</td>\n",
              "      <td>0</td>\n",
              "      <td>0</td>\n",
              "      <td>0</td>\n",
              "      <td>0</td>\n",
              "      <td>0</td>\n",
              "      <td>0</td>\n",
              "      <td>0</td>\n",
              "      <td>0</td>\n",
              "    </tr>\n",
              "    <tr>\n",
              "      <th>...</th>\n",
              "      <td>...</td>\n",
              "      <td>...</td>\n",
              "      <td>...</td>\n",
              "      <td>...</td>\n",
              "      <td>...</td>\n",
              "      <td>...</td>\n",
              "      <td>...</td>\n",
              "      <td>...</td>\n",
              "      <td>...</td>\n",
              "      <td>...</td>\n",
              "      <td>...</td>\n",
              "      <td>...</td>\n",
              "      <td>...</td>\n",
              "      <td>...</td>\n",
              "      <td>...</td>\n",
              "      <td>...</td>\n",
              "      <td>...</td>\n",
              "      <td>...</td>\n",
              "      <td>...</td>\n",
              "      <td>...</td>\n",
              "      <td>...</td>\n",
              "    </tr>\n",
              "    <tr>\n",
              "      <th>20231</th>\n",
              "      <td>0</td>\n",
              "      <td>1</td>\n",
              "      <td>0</td>\n",
              "      <td>0</td>\n",
              "      <td>0</td>\n",
              "      <td>0</td>\n",
              "      <td>0</td>\n",
              "      <td>0</td>\n",
              "      <td>0</td>\n",
              "      <td>1</td>\n",
              "      <td>...</td>\n",
              "      <td>0</td>\n",
              "      <td>0</td>\n",
              "      <td>0</td>\n",
              "      <td>0</td>\n",
              "      <td>0</td>\n",
              "      <td>0</td>\n",
              "      <td>0</td>\n",
              "      <td>0</td>\n",
              "      <td>0</td>\n",
              "      <td>0</td>\n",
              "    </tr>\n",
              "    <tr>\n",
              "      <th>20232</th>\n",
              "      <td>0</td>\n",
              "      <td>1</td>\n",
              "      <td>1</td>\n",
              "      <td>0</td>\n",
              "      <td>0</td>\n",
              "      <td>0</td>\n",
              "      <td>0</td>\n",
              "      <td>0</td>\n",
              "      <td>0</td>\n",
              "      <td>1</td>\n",
              "      <td>...</td>\n",
              "      <td>0</td>\n",
              "      <td>0</td>\n",
              "      <td>0</td>\n",
              "      <td>0</td>\n",
              "      <td>0</td>\n",
              "      <td>0</td>\n",
              "      <td>0</td>\n",
              "      <td>0</td>\n",
              "      <td>0</td>\n",
              "      <td>0</td>\n",
              "    </tr>\n",
              "    <tr>\n",
              "      <th>20233</th>\n",
              "      <td>0</td>\n",
              "      <td>1</td>\n",
              "      <td>1</td>\n",
              "      <td>0</td>\n",
              "      <td>0</td>\n",
              "      <td>0</td>\n",
              "      <td>0</td>\n",
              "      <td>0</td>\n",
              "      <td>0</td>\n",
              "      <td>1</td>\n",
              "      <td>...</td>\n",
              "      <td>0</td>\n",
              "      <td>0</td>\n",
              "      <td>0</td>\n",
              "      <td>0</td>\n",
              "      <td>0</td>\n",
              "      <td>0</td>\n",
              "      <td>0</td>\n",
              "      <td>0</td>\n",
              "      <td>0</td>\n",
              "      <td>0</td>\n",
              "    </tr>\n",
              "    <tr>\n",
              "      <th>20234</th>\n",
              "      <td>0</td>\n",
              "      <td>1</td>\n",
              "      <td>1</td>\n",
              "      <td>0</td>\n",
              "      <td>0</td>\n",
              "      <td>0</td>\n",
              "      <td>0</td>\n",
              "      <td>0</td>\n",
              "      <td>0</td>\n",
              "      <td>1</td>\n",
              "      <td>...</td>\n",
              "      <td>0</td>\n",
              "      <td>0</td>\n",
              "      <td>0</td>\n",
              "      <td>0</td>\n",
              "      <td>0</td>\n",
              "      <td>0</td>\n",
              "      <td>0</td>\n",
              "      <td>0</td>\n",
              "      <td>0</td>\n",
              "      <td>0</td>\n",
              "    </tr>\n",
              "    <tr>\n",
              "      <th>20235</th>\n",
              "      <td>0</td>\n",
              "      <td>1</td>\n",
              "      <td>1</td>\n",
              "      <td>0</td>\n",
              "      <td>0</td>\n",
              "      <td>0</td>\n",
              "      <td>0</td>\n",
              "      <td>0</td>\n",
              "      <td>0</td>\n",
              "      <td>1</td>\n",
              "      <td>...</td>\n",
              "      <td>0</td>\n",
              "      <td>0</td>\n",
              "      <td>0</td>\n",
              "      <td>0</td>\n",
              "      <td>0</td>\n",
              "      <td>0</td>\n",
              "      <td>0</td>\n",
              "      <td>0</td>\n",
              "      <td>0</td>\n",
              "      <td>0</td>\n",
              "    </tr>\n",
              "  </tbody>\n",
              "</table>\n",
              "<p>20236 rows × 4096 columns</p>\n",
              "</div>\n",
              "    <div class=\"colab-df-buttons\">\n",
              "\n",
              "  <div class=\"colab-df-container\">\n",
              "    <button class=\"colab-df-convert\" onclick=\"convertToInteractive('df-2e0927b6-7902-4e3e-86e5-aa0ea064f8cd')\"\n",
              "            title=\"Convert this dataframe to an interactive table.\"\n",
              "            style=\"display:none;\">\n",
              "\n",
              "  <svg xmlns=\"http://www.w3.org/2000/svg\" height=\"24px\" viewBox=\"0 -960 960 960\">\n",
              "    <path d=\"M120-120v-720h720v720H120Zm60-500h600v-160H180v160Zm220 220h160v-160H400v160Zm0 220h160v-160H400v160ZM180-400h160v-160H180v160Zm440 0h160v-160H620v160ZM180-180h160v-160H180v160Zm440 0h160v-160H620v160Z\"/>\n",
              "  </svg>\n",
              "    </button>\n",
              "\n",
              "  <style>\n",
              "    .colab-df-container {\n",
              "      display:flex;\n",
              "      gap: 12px;\n",
              "    }\n",
              "\n",
              "    .colab-df-convert {\n",
              "      background-color: #E8F0FE;\n",
              "      border: none;\n",
              "      border-radius: 50%;\n",
              "      cursor: pointer;\n",
              "      display: none;\n",
              "      fill: #1967D2;\n",
              "      height: 32px;\n",
              "      padding: 0 0 0 0;\n",
              "      width: 32px;\n",
              "    }\n",
              "\n",
              "    .colab-df-convert:hover {\n",
              "      background-color: #E2EBFA;\n",
              "      box-shadow: 0px 1px 2px rgba(60, 64, 67, 0.3), 0px 1px 3px 1px rgba(60, 64, 67, 0.15);\n",
              "      fill: #174EA6;\n",
              "    }\n",
              "\n",
              "    .colab-df-buttons div {\n",
              "      margin-bottom: 4px;\n",
              "    }\n",
              "\n",
              "    [theme=dark] .colab-df-convert {\n",
              "      background-color: #3B4455;\n",
              "      fill: #D2E3FC;\n",
              "    }\n",
              "\n",
              "    [theme=dark] .colab-df-convert:hover {\n",
              "      background-color: #434B5C;\n",
              "      box-shadow: 0px 1px 3px 1px rgba(0, 0, 0, 0.15);\n",
              "      filter: drop-shadow(0px 1px 2px rgba(0, 0, 0, 0.3));\n",
              "      fill: #FFFFFF;\n",
              "    }\n",
              "  </style>\n",
              "\n",
              "    <script>\n",
              "      const buttonEl =\n",
              "        document.querySelector('#df-2e0927b6-7902-4e3e-86e5-aa0ea064f8cd button.colab-df-convert');\n",
              "      buttonEl.style.display =\n",
              "        google.colab.kernel.accessAllowed ? 'block' : 'none';\n",
              "\n",
              "      async function convertToInteractive(key) {\n",
              "        const element = document.querySelector('#df-2e0927b6-7902-4e3e-86e5-aa0ea064f8cd');\n",
              "        const dataTable =\n",
              "          await google.colab.kernel.invokeFunction('convertToInteractive',\n",
              "                                                    [key], {});\n",
              "        if (!dataTable) return;\n",
              "\n",
              "        const docLinkHtml = 'Like what you see? Visit the ' +\n",
              "          '<a target=\"_blank\" href=https://colab.research.google.com/notebooks/data_table.ipynb>data table notebook</a>'\n",
              "          + ' to learn more about interactive tables.';\n",
              "        element.innerHTML = '';\n",
              "        dataTable['output_type'] = 'display_data';\n",
              "        await google.colab.output.renderOutput(dataTable, element);\n",
              "        const docLink = document.createElement('div');\n",
              "        docLink.innerHTML = docLinkHtml;\n",
              "        element.appendChild(docLink);\n",
              "      }\n",
              "    </script>\n",
              "  </div>\n",
              "\n",
              "\n",
              "<div id=\"df-890183ea-8262-4bd4-894d-000b815ca00a\">\n",
              "  <button class=\"colab-df-quickchart\" onclick=\"quickchart('df-890183ea-8262-4bd4-894d-000b815ca00a')\"\n",
              "            title=\"Suggest charts\"\n",
              "            style=\"display:none;\">\n",
              "\n",
              "<svg xmlns=\"http://www.w3.org/2000/svg\" height=\"24px\"viewBox=\"0 0 24 24\"\n",
              "     width=\"24px\">\n",
              "    <g>\n",
              "        <path d=\"M19 3H5c-1.1 0-2 .9-2 2v14c0 1.1.9 2 2 2h14c1.1 0 2-.9 2-2V5c0-1.1-.9-2-2-2zM9 17H7v-7h2v7zm4 0h-2V7h2v10zm4 0h-2v-4h2v4z\"/>\n",
              "    </g>\n",
              "</svg>\n",
              "  </button>\n",
              "\n",
              "<style>\n",
              "  .colab-df-quickchart {\n",
              "      --bg-color: #E8F0FE;\n",
              "      --fill-color: #1967D2;\n",
              "      --hover-bg-color: #E2EBFA;\n",
              "      --hover-fill-color: #174EA6;\n",
              "      --disabled-fill-color: #AAA;\n",
              "      --disabled-bg-color: #DDD;\n",
              "  }\n",
              "\n",
              "  [theme=dark] .colab-df-quickchart {\n",
              "      --bg-color: #3B4455;\n",
              "      --fill-color: #D2E3FC;\n",
              "      --hover-bg-color: #434B5C;\n",
              "      --hover-fill-color: #FFFFFF;\n",
              "      --disabled-bg-color: #3B4455;\n",
              "      --disabled-fill-color: #666;\n",
              "  }\n",
              "\n",
              "  .colab-df-quickchart {\n",
              "    background-color: var(--bg-color);\n",
              "    border: none;\n",
              "    border-radius: 50%;\n",
              "    cursor: pointer;\n",
              "    display: none;\n",
              "    fill: var(--fill-color);\n",
              "    height: 32px;\n",
              "    padding: 0;\n",
              "    width: 32px;\n",
              "  }\n",
              "\n",
              "  .colab-df-quickchart:hover {\n",
              "    background-color: var(--hover-bg-color);\n",
              "    box-shadow: 0 1px 2px rgba(60, 64, 67, 0.3), 0 1px 3px 1px rgba(60, 64, 67, 0.15);\n",
              "    fill: var(--button-hover-fill-color);\n",
              "  }\n",
              "\n",
              "  .colab-df-quickchart-complete:disabled,\n",
              "  .colab-df-quickchart-complete:disabled:hover {\n",
              "    background-color: var(--disabled-bg-color);\n",
              "    fill: var(--disabled-fill-color);\n",
              "    box-shadow: none;\n",
              "  }\n",
              "\n",
              "  .colab-df-spinner {\n",
              "    border: 2px solid var(--fill-color);\n",
              "    border-color: transparent;\n",
              "    border-bottom-color: var(--fill-color);\n",
              "    animation:\n",
              "      spin 1s steps(1) infinite;\n",
              "  }\n",
              "\n",
              "  @keyframes spin {\n",
              "    0% {\n",
              "      border-color: transparent;\n",
              "      border-bottom-color: var(--fill-color);\n",
              "      border-left-color: var(--fill-color);\n",
              "    }\n",
              "    20% {\n",
              "      border-color: transparent;\n",
              "      border-left-color: var(--fill-color);\n",
              "      border-top-color: var(--fill-color);\n",
              "    }\n",
              "    30% {\n",
              "      border-color: transparent;\n",
              "      border-left-color: var(--fill-color);\n",
              "      border-top-color: var(--fill-color);\n",
              "      border-right-color: var(--fill-color);\n",
              "    }\n",
              "    40% {\n",
              "      border-color: transparent;\n",
              "      border-right-color: var(--fill-color);\n",
              "      border-top-color: var(--fill-color);\n",
              "    }\n",
              "    60% {\n",
              "      border-color: transparent;\n",
              "      border-right-color: var(--fill-color);\n",
              "    }\n",
              "    80% {\n",
              "      border-color: transparent;\n",
              "      border-right-color: var(--fill-color);\n",
              "      border-bottom-color: var(--fill-color);\n",
              "    }\n",
              "    90% {\n",
              "      border-color: transparent;\n",
              "      border-bottom-color: var(--fill-color);\n",
              "    }\n",
              "  }\n",
              "</style>\n",
              "\n",
              "  <script>\n",
              "    async function quickchart(key) {\n",
              "      const quickchartButtonEl =\n",
              "        document.querySelector('#' + key + ' button');\n",
              "      quickchartButtonEl.disabled = true;  // To prevent multiple clicks.\n",
              "      quickchartButtonEl.classList.add('colab-df-spinner');\n",
              "      try {\n",
              "        const charts = await google.colab.kernel.invokeFunction(\n",
              "            'suggestCharts', [key], {});\n",
              "      } catch (error) {\n",
              "        console.error('Error during call to suggestCharts:', error);\n",
              "      }\n",
              "      quickchartButtonEl.classList.remove('colab-df-spinner');\n",
              "      quickchartButtonEl.classList.add('colab-df-quickchart-complete');\n",
              "    }\n",
              "    (() => {\n",
              "      let quickchartButtonEl =\n",
              "        document.querySelector('#df-890183ea-8262-4bd4-894d-000b815ca00a button');\n",
              "      quickchartButtonEl.style.display =\n",
              "        google.colab.kernel.accessAllowed ? 'block' : 'none';\n",
              "    })();\n",
              "  </script>\n",
              "</div>\n",
              "    </div>\n",
              "  </div>\n"
            ]
          },
          "metadata": {},
          "execution_count": 18
        }
      ]
    },
    {
      "cell_type": "code",
      "source": [
        "morgan_full.to_csv('/content/drive/MyDrive/MSU_AI_Photocatal/Datasets/Organic_compounds_descriptors/Organic_compounds_Morgan_FingerPrints.csv')"
      ],
      "metadata": {
        "id": "kassenOznzWn"
      },
      "execution_count": null,
      "outputs": []
    },
    {
      "cell_type": "markdown",
      "source": [
        "#MACCS_fingerprint"
      ],
      "metadata": {
        "id": "sMXco0mfm64t"
      }
    },
    {
      "cell_type": "code",
      "source": [
        "mols = []\n",
        "list_maccs_fp = []\n",
        "for i in tqdm(range(20236)):\n",
        "  mol = Chem.MolFromSmiles(Chromophore[i]) #create MOL of compound for work with rdkit\n",
        "  fp = np.array(rdMolDescriptors.GetMACCSKeysFingerprint(mol)) # preparing maccs_fp\n",
        "  list_maccs_fp.append(fp)"
      ],
      "metadata": {
        "id": "r6pthy68m9hy",
        "colab": {
          "base_uri": "https://localhost:8080/"
        },
        "outputId": "dd297633-3768-4761-ab59-cde335264ca6"
      },
      "execution_count": null,
      "outputs": [
        {
          "output_type": "stream",
          "name": "stderr",
          "text": [
            "100%|██████████| 20236/20236 [01:37<00:00, 207.21it/s]\n"
          ]
        }
      ]
    },
    {
      "cell_type": "code",
      "source": [
        "maccs_db = pd.DataFrame(np.array(list_maccs_fp), columns = [f'MACCS_{i}' for i in range(167)])"
      ],
      "metadata": {
        "id": "aFuqNRiPnDzR"
      },
      "execution_count": null,
      "outputs": []
    },
    {
      "cell_type": "code",
      "source": [
        "list_maccs_fp_solv = []\n",
        "for i in tqdm(range(20236)):\n",
        "    try:\n",
        "        mol = Chem.MolFromSmiles(start_db['Solvent'][i]) #create MOL of solvent for work with rdkit\n",
        "        fp = np.array(rdMolDescriptors.GetMACCSKeysFingerprint(mol))  #preparing maccs_fp of solvent\n",
        "        list_maccs_fp_solv.append(fp)\n",
        "    except: # if solvent can't convert to mol\n",
        "        solv = start_db['Solvent'][i]\n",
        "        print(f'{solv} not work')\n",
        "        vector = np.array([0 for i in range(167)])\n",
        "        list_maccs_fp_solv.append(vector)\n",
        "print(len(list_maccs_fp_solv))"
      ],
      "metadata": {
        "id": "12rqBkYRnFZA",
        "colab": {
          "base_uri": "https://localhost:8080/"
        },
        "outputId": "d3fa01bf-dd74-4445-f551-8a63a1ba24e3"
      },
      "execution_count": null,
      "outputs": [
        {
          "output_type": "stream",
          "name": "stderr",
          "text": [
            " 23%|██▎       | 4666/20236 [00:06<00:12, 1225.59it/s][09:29:31] SMILES Parse Error: syntax error while parsing: gas\n",
            "[09:29:31] SMILES Parse Error: Failed parsing SMILES 'gas' for input: 'gas'\n",
            " 24%|██▍       | 4937/20236 [00:06<00:11, 1289.32it/s]"
          ]
        },
        {
          "output_type": "stream",
          "name": "stdout",
          "text": [
            "gas not work\n"
          ]
        },
        {
          "output_type": "stream",
          "name": "stderr",
          "text": [
            " 80%|███████▉  | 16163/20236 [00:19<00:09, 432.87it/s][09:29:44] SMILES Parse Error: syntax error while parsing: gas\n",
            "[09:29:44] SMILES Parse Error: Failed parsing SMILES 'gas' for input: 'gas'\n",
            " 81%|████████  | 16298/20236 [00:19<00:07, 556.88it/s]"
          ]
        },
        {
          "output_type": "stream",
          "name": "stdout",
          "text": [
            "gas not work\n"
          ]
        },
        {
          "output_type": "stream",
          "name": "stderr",
          "text": [
            " 83%|████████▎ | 16829/20236 [00:20<00:08, 407.17it/s][09:29:46] SMILES Parse Error: syntax error while parsing: gas\n",
            "[09:29:46] SMILES Parse Error: Failed parsing SMILES 'gas' for input: 'gas'\n",
            "[09:29:46] SMILES Parse Error: syntax error while parsing: gas\n",
            "[09:29:46] SMILES Parse Error: Failed parsing SMILES 'gas' for input: 'gas'\n",
            "[09:29:46] SMILES Parse Error: syntax error while parsing: gas\n",
            "[09:29:46] SMILES Parse Error: Failed parsing SMILES 'gas' for input: 'gas'\n",
            "[09:29:46] SMILES Parse Error: syntax error while parsing: gas\n",
            "[09:29:46] SMILES Parse Error: Failed parsing SMILES 'gas' for input: 'gas'\n",
            "[09:29:46] SMILES Parse Error: syntax error while parsing: gas\n",
            "[09:29:46] SMILES Parse Error: Failed parsing SMILES 'gas' for input: 'gas'\n",
            "[09:29:46] SMILES Parse Error: syntax error while parsing: gas\n",
            "[09:29:46] SMILES Parse Error: Failed parsing SMILES 'gas' for input: 'gas'\n",
            "[09:29:46] SMILES Parse Error: syntax error while parsing: gas\n",
            "[09:29:46] SMILES Parse Error: Failed parsing SMILES 'gas' for input: 'gas'\n",
            "[09:29:46] SMILES Parse Error: syntax error while parsing: gas\n",
            "[09:29:46] SMILES Parse Error: Failed parsing SMILES 'gas' for input: 'gas'\n",
            "[09:29:46] SMILES Parse Error: syntax error while parsing: gas\n",
            "[09:29:46] SMILES Parse Error: Failed parsing SMILES 'gas' for input: 'gas'\n",
            "[09:29:46] SMILES Parse Error: syntax error while parsing: gas\n",
            "[09:29:46] SMILES Parse Error: Failed parsing SMILES 'gas' for input: 'gas'\n",
            "[09:29:46] SMILES Parse Error: syntax error while parsing: gas\n",
            "[09:29:46] SMILES Parse Error: Failed parsing SMILES 'gas' for input: 'gas'\n",
            " 84%|████████▍ | 16986/20236 [00:21<00:05, 558.61it/s][09:29:46] SMILES Parse Error: syntax error while parsing: gas\n",
            "[09:29:46] SMILES Parse Error: Failed parsing SMILES 'gas' for input: 'gas'\n",
            "[09:29:46] SMILES Parse Error: syntax error while parsing: gas\n",
            "[09:29:46] SMILES Parse Error: Failed parsing SMILES 'gas' for input: 'gas'\n",
            "[09:29:46] SMILES Parse Error: syntax error while parsing: gas\n",
            "[09:29:46] SMILES Parse Error: Failed parsing SMILES 'gas' for input: 'gas'\n",
            "[09:29:46] SMILES Parse Error: syntax error while parsing: gas\n",
            "[09:29:46] SMILES Parse Error: Failed parsing SMILES 'gas' for input: 'gas'\n",
            "[09:29:46] SMILES Parse Error: syntax error while parsing: gas\n"
          ]
        },
        {
          "output_type": "stream",
          "name": "stdout",
          "text": [
            "gas not work\n",
            "gas not work\n",
            "gas not work\n",
            "gas not work\n",
            "gas not work\n",
            "gas not work\n",
            "gas not work\n",
            "gas not work\n",
            "gas not work\n",
            "gas not work\n",
            "gas not work\n",
            "gas not work\n",
            "gas not work\n",
            "gas not work\n",
            "gas not work\n"
          ]
        },
        {
          "output_type": "stream",
          "name": "stderr",
          "text": [
            "[09:29:46] SMILES Parse Error: Failed parsing SMILES 'gas' for input: 'gas'\n",
            "[09:29:46] SMILES Parse Error: syntax error while parsing: gas\n",
            "[09:29:46] SMILES Parse Error: Failed parsing SMILES 'gas' for input: 'gas'\n",
            " 84%|████████▍ | 17052/20236 [00:21<00:06, 466.06it/s]"
          ]
        },
        {
          "output_type": "stream",
          "name": "stdout",
          "text": [
            "gas not work\n",
            "gas not work\n"
          ]
        },
        {
          "output_type": "stream",
          "name": "stderr",
          "text": [
            "100%|██████████| 20236/20236 [00:27<00:00, 743.04it/s]"
          ]
        },
        {
          "output_type": "stream",
          "name": "stdout",
          "text": [
            "20236\n"
          ]
        },
        {
          "output_type": "stream",
          "name": "stderr",
          "text": [
            "\n"
          ]
        }
      ]
    },
    {
      "cell_type": "code",
      "source": [
        "maccs_db_solv = pd.DataFrame(np.array(list_maccs_fp_solv), columns = [f'MACCS_solv_{i}' for i in range(167)])"
      ],
      "metadata": {
        "id": "KiqSSzNVnKy7"
      },
      "execution_count": null,
      "outputs": []
    },
    {
      "cell_type": "code",
      "source": [
        "maccs_full = pd.concat([maccs_db, maccs_db_solv],axis=1) # concatente compound and correspond solv to one dataset\n",
        "maccs_full"
      ],
      "metadata": {
        "colab": {
          "base_uri": "https://localhost:8080/",
          "height": 444
        },
        "id": "3M9nkDUNnNlS",
        "outputId": "30886b3f-92d0-472d-e508-d7f621b9937a"
      },
      "execution_count": null,
      "outputs": [
        {
          "output_type": "execute_result",
          "data": {
            "text/plain": [
              "       MACCS_0  MACCS_1  MACCS_2  MACCS_3  MACCS_4  MACCS_5  MACCS_6  MACCS_7  \\\n",
              "0            0        0        0        0        0        0        0        0   \n",
              "1            0        0        0        0        0        0        0        0   \n",
              "2            0        0        0        0        0        0        0        0   \n",
              "3            0        0        0        0        0        0        0        0   \n",
              "4            0        0        0        0        0        0        0        0   \n",
              "...        ...      ...      ...      ...      ...      ...      ...      ...   \n",
              "20231        0        0        0        0        0        0        0        0   \n",
              "20232        0        0        0        0        0        0        0        0   \n",
              "20233        0        0        0        0        0        0        0        0   \n",
              "20234        0        0        0        0        0        0        0        0   \n",
              "20235        0        0        0        0        0        0        0        0   \n",
              "\n",
              "       MACCS_8  MACCS_9  ...  MACCS_solv_157  MACCS_solv_158  MACCS_solv_159  \\\n",
              "0            0        0  ...               0               0               0   \n",
              "1            0        0  ...               0               0               0   \n",
              "2            0        0  ...               0               0               0   \n",
              "3            0        0  ...               0               0               0   \n",
              "4            0        0  ...               0               0               0   \n",
              "...        ...      ...  ...             ...             ...             ...   \n",
              "20231        0        0  ...               1               0               0   \n",
              "20232        0        0  ...               1               0               0   \n",
              "20233        0        0  ...               1               0               0   \n",
              "20234        0        0  ...               1               0               0   \n",
              "20235        0        0  ...               1               0               0   \n",
              "\n",
              "       MACCS_solv_160  MACCS_solv_161  MACCS_solv_162  MACCS_solv_163  \\\n",
              "0                   0               0               0               0   \n",
              "1                   0               0               0               0   \n",
              "2                   0               0               0               0   \n",
              "3                   1               1               0               0   \n",
              "4                   1               0               0               0   \n",
              "...               ...             ...             ...             ...   \n",
              "20231               0               0               0               0   \n",
              "20232               0               0               0               0   \n",
              "20233               0               0               0               0   \n",
              "20234               0               0               0               0   \n",
              "20235               0               0               0               0   \n",
              "\n",
              "       MACCS_solv_164  MACCS_solv_165  MACCS_solv_166  \n",
              "0                   1               0               0  \n",
              "1                   1               0               0  \n",
              "2                   0               0               0  \n",
              "3                   0               0               0  \n",
              "4                   1               0               0  \n",
              "...               ...             ...             ...  \n",
              "20231               1               1               0  \n",
              "20232               1               1               0  \n",
              "20233               1               1               0  \n",
              "20234               1               1               0  \n",
              "20235               1               1               0  \n",
              "\n",
              "[20236 rows x 334 columns]"
            ],
            "text/html": [
              "\n",
              "  <div id=\"df-828ea130-fe18-470a-afb3-e96225b6e194\" class=\"colab-df-container\">\n",
              "    <div>\n",
              "<style scoped>\n",
              "    .dataframe tbody tr th:only-of-type {\n",
              "        vertical-align: middle;\n",
              "    }\n",
              "\n",
              "    .dataframe tbody tr th {\n",
              "        vertical-align: top;\n",
              "    }\n",
              "\n",
              "    .dataframe thead th {\n",
              "        text-align: right;\n",
              "    }\n",
              "</style>\n",
              "<table border=\"1\" class=\"dataframe\">\n",
              "  <thead>\n",
              "    <tr style=\"text-align: right;\">\n",
              "      <th></th>\n",
              "      <th>MACCS_0</th>\n",
              "      <th>MACCS_1</th>\n",
              "      <th>MACCS_2</th>\n",
              "      <th>MACCS_3</th>\n",
              "      <th>MACCS_4</th>\n",
              "      <th>MACCS_5</th>\n",
              "      <th>MACCS_6</th>\n",
              "      <th>MACCS_7</th>\n",
              "      <th>MACCS_8</th>\n",
              "      <th>MACCS_9</th>\n",
              "      <th>...</th>\n",
              "      <th>MACCS_solv_157</th>\n",
              "      <th>MACCS_solv_158</th>\n",
              "      <th>MACCS_solv_159</th>\n",
              "      <th>MACCS_solv_160</th>\n",
              "      <th>MACCS_solv_161</th>\n",
              "      <th>MACCS_solv_162</th>\n",
              "      <th>MACCS_solv_163</th>\n",
              "      <th>MACCS_solv_164</th>\n",
              "      <th>MACCS_solv_165</th>\n",
              "      <th>MACCS_solv_166</th>\n",
              "    </tr>\n",
              "  </thead>\n",
              "  <tbody>\n",
              "    <tr>\n",
              "      <th>0</th>\n",
              "      <td>0</td>\n",
              "      <td>0</td>\n",
              "      <td>0</td>\n",
              "      <td>0</td>\n",
              "      <td>0</td>\n",
              "      <td>0</td>\n",
              "      <td>0</td>\n",
              "      <td>0</td>\n",
              "      <td>0</td>\n",
              "      <td>0</td>\n",
              "      <td>...</td>\n",
              "      <td>0</td>\n",
              "      <td>0</td>\n",
              "      <td>0</td>\n",
              "      <td>0</td>\n",
              "      <td>0</td>\n",
              "      <td>0</td>\n",
              "      <td>0</td>\n",
              "      <td>1</td>\n",
              "      <td>0</td>\n",
              "      <td>0</td>\n",
              "    </tr>\n",
              "    <tr>\n",
              "      <th>1</th>\n",
              "      <td>0</td>\n",
              "      <td>0</td>\n",
              "      <td>0</td>\n",
              "      <td>0</td>\n",
              "      <td>0</td>\n",
              "      <td>0</td>\n",
              "      <td>0</td>\n",
              "      <td>0</td>\n",
              "      <td>0</td>\n",
              "      <td>0</td>\n",
              "      <td>...</td>\n",
              "      <td>0</td>\n",
              "      <td>0</td>\n",
              "      <td>0</td>\n",
              "      <td>0</td>\n",
              "      <td>0</td>\n",
              "      <td>0</td>\n",
              "      <td>0</td>\n",
              "      <td>1</td>\n",
              "      <td>0</td>\n",
              "      <td>0</td>\n",
              "    </tr>\n",
              "    <tr>\n",
              "      <th>2</th>\n",
              "      <td>0</td>\n",
              "      <td>0</td>\n",
              "      <td>0</td>\n",
              "      <td>0</td>\n",
              "      <td>0</td>\n",
              "      <td>0</td>\n",
              "      <td>0</td>\n",
              "      <td>0</td>\n",
              "      <td>0</td>\n",
              "      <td>0</td>\n",
              "      <td>...</td>\n",
              "      <td>0</td>\n",
              "      <td>0</td>\n",
              "      <td>0</td>\n",
              "      <td>0</td>\n",
              "      <td>0</td>\n",
              "      <td>0</td>\n",
              "      <td>0</td>\n",
              "      <td>0</td>\n",
              "      <td>0</td>\n",
              "      <td>0</td>\n",
              "    </tr>\n",
              "    <tr>\n",
              "      <th>3</th>\n",
              "      <td>0</td>\n",
              "      <td>0</td>\n",
              "      <td>0</td>\n",
              "      <td>0</td>\n",
              "      <td>0</td>\n",
              "      <td>0</td>\n",
              "      <td>0</td>\n",
              "      <td>0</td>\n",
              "      <td>0</td>\n",
              "      <td>0</td>\n",
              "      <td>...</td>\n",
              "      <td>0</td>\n",
              "      <td>0</td>\n",
              "      <td>0</td>\n",
              "      <td>1</td>\n",
              "      <td>1</td>\n",
              "      <td>0</td>\n",
              "      <td>0</td>\n",
              "      <td>0</td>\n",
              "      <td>0</td>\n",
              "      <td>0</td>\n",
              "    </tr>\n",
              "    <tr>\n",
              "      <th>4</th>\n",
              "      <td>0</td>\n",
              "      <td>0</td>\n",
              "      <td>0</td>\n",
              "      <td>0</td>\n",
              "      <td>0</td>\n",
              "      <td>0</td>\n",
              "      <td>0</td>\n",
              "      <td>0</td>\n",
              "      <td>0</td>\n",
              "      <td>0</td>\n",
              "      <td>...</td>\n",
              "      <td>0</td>\n",
              "      <td>0</td>\n",
              "      <td>0</td>\n",
              "      <td>1</td>\n",
              "      <td>0</td>\n",
              "      <td>0</td>\n",
              "      <td>0</td>\n",
              "      <td>1</td>\n",
              "      <td>0</td>\n",
              "      <td>0</td>\n",
              "    </tr>\n",
              "    <tr>\n",
              "      <th>...</th>\n",
              "      <td>...</td>\n",
              "      <td>...</td>\n",
              "      <td>...</td>\n",
              "      <td>...</td>\n",
              "      <td>...</td>\n",
              "      <td>...</td>\n",
              "      <td>...</td>\n",
              "      <td>...</td>\n",
              "      <td>...</td>\n",
              "      <td>...</td>\n",
              "      <td>...</td>\n",
              "      <td>...</td>\n",
              "      <td>...</td>\n",
              "      <td>...</td>\n",
              "      <td>...</td>\n",
              "      <td>...</td>\n",
              "      <td>...</td>\n",
              "      <td>...</td>\n",
              "      <td>...</td>\n",
              "      <td>...</td>\n",
              "      <td>...</td>\n",
              "    </tr>\n",
              "    <tr>\n",
              "      <th>20231</th>\n",
              "      <td>0</td>\n",
              "      <td>0</td>\n",
              "      <td>0</td>\n",
              "      <td>0</td>\n",
              "      <td>0</td>\n",
              "      <td>0</td>\n",
              "      <td>0</td>\n",
              "      <td>0</td>\n",
              "      <td>0</td>\n",
              "      <td>0</td>\n",
              "      <td>...</td>\n",
              "      <td>1</td>\n",
              "      <td>0</td>\n",
              "      <td>0</td>\n",
              "      <td>0</td>\n",
              "      <td>0</td>\n",
              "      <td>0</td>\n",
              "      <td>0</td>\n",
              "      <td>1</td>\n",
              "      <td>1</td>\n",
              "      <td>0</td>\n",
              "    </tr>\n",
              "    <tr>\n",
              "      <th>20232</th>\n",
              "      <td>0</td>\n",
              "      <td>0</td>\n",
              "      <td>0</td>\n",
              "      <td>0</td>\n",
              "      <td>0</td>\n",
              "      <td>0</td>\n",
              "      <td>0</td>\n",
              "      <td>0</td>\n",
              "      <td>0</td>\n",
              "      <td>0</td>\n",
              "      <td>...</td>\n",
              "      <td>1</td>\n",
              "      <td>0</td>\n",
              "      <td>0</td>\n",
              "      <td>0</td>\n",
              "      <td>0</td>\n",
              "      <td>0</td>\n",
              "      <td>0</td>\n",
              "      <td>1</td>\n",
              "      <td>1</td>\n",
              "      <td>0</td>\n",
              "    </tr>\n",
              "    <tr>\n",
              "      <th>20233</th>\n",
              "      <td>0</td>\n",
              "      <td>0</td>\n",
              "      <td>0</td>\n",
              "      <td>0</td>\n",
              "      <td>0</td>\n",
              "      <td>0</td>\n",
              "      <td>0</td>\n",
              "      <td>0</td>\n",
              "      <td>0</td>\n",
              "      <td>0</td>\n",
              "      <td>...</td>\n",
              "      <td>1</td>\n",
              "      <td>0</td>\n",
              "      <td>0</td>\n",
              "      <td>0</td>\n",
              "      <td>0</td>\n",
              "      <td>0</td>\n",
              "      <td>0</td>\n",
              "      <td>1</td>\n",
              "      <td>1</td>\n",
              "      <td>0</td>\n",
              "    </tr>\n",
              "    <tr>\n",
              "      <th>20234</th>\n",
              "      <td>0</td>\n",
              "      <td>0</td>\n",
              "      <td>0</td>\n",
              "      <td>0</td>\n",
              "      <td>0</td>\n",
              "      <td>0</td>\n",
              "      <td>0</td>\n",
              "      <td>0</td>\n",
              "      <td>0</td>\n",
              "      <td>0</td>\n",
              "      <td>...</td>\n",
              "      <td>1</td>\n",
              "      <td>0</td>\n",
              "      <td>0</td>\n",
              "      <td>0</td>\n",
              "      <td>0</td>\n",
              "      <td>0</td>\n",
              "      <td>0</td>\n",
              "      <td>1</td>\n",
              "      <td>1</td>\n",
              "      <td>0</td>\n",
              "    </tr>\n",
              "    <tr>\n",
              "      <th>20235</th>\n",
              "      <td>0</td>\n",
              "      <td>0</td>\n",
              "      <td>0</td>\n",
              "      <td>0</td>\n",
              "      <td>0</td>\n",
              "      <td>0</td>\n",
              "      <td>0</td>\n",
              "      <td>0</td>\n",
              "      <td>0</td>\n",
              "      <td>0</td>\n",
              "      <td>...</td>\n",
              "      <td>1</td>\n",
              "      <td>0</td>\n",
              "      <td>0</td>\n",
              "      <td>0</td>\n",
              "      <td>0</td>\n",
              "      <td>0</td>\n",
              "      <td>0</td>\n",
              "      <td>1</td>\n",
              "      <td>1</td>\n",
              "      <td>0</td>\n",
              "    </tr>\n",
              "  </tbody>\n",
              "</table>\n",
              "<p>20236 rows × 334 columns</p>\n",
              "</div>\n",
              "    <div class=\"colab-df-buttons\">\n",
              "\n",
              "  <div class=\"colab-df-container\">\n",
              "    <button class=\"colab-df-convert\" onclick=\"convertToInteractive('df-828ea130-fe18-470a-afb3-e96225b6e194')\"\n",
              "            title=\"Convert this dataframe to an interactive table.\"\n",
              "            style=\"display:none;\">\n",
              "\n",
              "  <svg xmlns=\"http://www.w3.org/2000/svg\" height=\"24px\" viewBox=\"0 -960 960 960\">\n",
              "    <path d=\"M120-120v-720h720v720H120Zm60-500h600v-160H180v160Zm220 220h160v-160H400v160Zm0 220h160v-160H400v160ZM180-400h160v-160H180v160Zm440 0h160v-160H620v160ZM180-180h160v-160H180v160Zm440 0h160v-160H620v160Z\"/>\n",
              "  </svg>\n",
              "    </button>\n",
              "\n",
              "  <style>\n",
              "    .colab-df-container {\n",
              "      display:flex;\n",
              "      gap: 12px;\n",
              "    }\n",
              "\n",
              "    .colab-df-convert {\n",
              "      background-color: #E8F0FE;\n",
              "      border: none;\n",
              "      border-radius: 50%;\n",
              "      cursor: pointer;\n",
              "      display: none;\n",
              "      fill: #1967D2;\n",
              "      height: 32px;\n",
              "      padding: 0 0 0 0;\n",
              "      width: 32px;\n",
              "    }\n",
              "\n",
              "    .colab-df-convert:hover {\n",
              "      background-color: #E2EBFA;\n",
              "      box-shadow: 0px 1px 2px rgba(60, 64, 67, 0.3), 0px 1px 3px 1px rgba(60, 64, 67, 0.15);\n",
              "      fill: #174EA6;\n",
              "    }\n",
              "\n",
              "    .colab-df-buttons div {\n",
              "      margin-bottom: 4px;\n",
              "    }\n",
              "\n",
              "    [theme=dark] .colab-df-convert {\n",
              "      background-color: #3B4455;\n",
              "      fill: #D2E3FC;\n",
              "    }\n",
              "\n",
              "    [theme=dark] .colab-df-convert:hover {\n",
              "      background-color: #434B5C;\n",
              "      box-shadow: 0px 1px 3px 1px rgba(0, 0, 0, 0.15);\n",
              "      filter: drop-shadow(0px 1px 2px rgba(0, 0, 0, 0.3));\n",
              "      fill: #FFFFFF;\n",
              "    }\n",
              "  </style>\n",
              "\n",
              "    <script>\n",
              "      const buttonEl =\n",
              "        document.querySelector('#df-828ea130-fe18-470a-afb3-e96225b6e194 button.colab-df-convert');\n",
              "      buttonEl.style.display =\n",
              "        google.colab.kernel.accessAllowed ? 'block' : 'none';\n",
              "\n",
              "      async function convertToInteractive(key) {\n",
              "        const element = document.querySelector('#df-828ea130-fe18-470a-afb3-e96225b6e194');\n",
              "        const dataTable =\n",
              "          await google.colab.kernel.invokeFunction('convertToInteractive',\n",
              "                                                    [key], {});\n",
              "        if (!dataTable) return;\n",
              "\n",
              "        const docLinkHtml = 'Like what you see? Visit the ' +\n",
              "          '<a target=\"_blank\" href=https://colab.research.google.com/notebooks/data_table.ipynb>data table notebook</a>'\n",
              "          + ' to learn more about interactive tables.';\n",
              "        element.innerHTML = '';\n",
              "        dataTable['output_type'] = 'display_data';\n",
              "        await google.colab.output.renderOutput(dataTable, element);\n",
              "        const docLink = document.createElement('div');\n",
              "        docLink.innerHTML = docLinkHtml;\n",
              "        element.appendChild(docLink);\n",
              "      }\n",
              "    </script>\n",
              "  </div>\n",
              "\n",
              "\n",
              "<div id=\"df-1c2dc3ae-4e8d-4c85-ad48-072f3c365a85\">\n",
              "  <button class=\"colab-df-quickchart\" onclick=\"quickchart('df-1c2dc3ae-4e8d-4c85-ad48-072f3c365a85')\"\n",
              "            title=\"Suggest charts\"\n",
              "            style=\"display:none;\">\n",
              "\n",
              "<svg xmlns=\"http://www.w3.org/2000/svg\" height=\"24px\"viewBox=\"0 0 24 24\"\n",
              "     width=\"24px\">\n",
              "    <g>\n",
              "        <path d=\"M19 3H5c-1.1 0-2 .9-2 2v14c0 1.1.9 2 2 2h14c1.1 0 2-.9 2-2V5c0-1.1-.9-2-2-2zM9 17H7v-7h2v7zm4 0h-2V7h2v10zm4 0h-2v-4h2v4z\"/>\n",
              "    </g>\n",
              "</svg>\n",
              "  </button>\n",
              "\n",
              "<style>\n",
              "  .colab-df-quickchart {\n",
              "      --bg-color: #E8F0FE;\n",
              "      --fill-color: #1967D2;\n",
              "      --hover-bg-color: #E2EBFA;\n",
              "      --hover-fill-color: #174EA6;\n",
              "      --disabled-fill-color: #AAA;\n",
              "      --disabled-bg-color: #DDD;\n",
              "  }\n",
              "\n",
              "  [theme=dark] .colab-df-quickchart {\n",
              "      --bg-color: #3B4455;\n",
              "      --fill-color: #D2E3FC;\n",
              "      --hover-bg-color: #434B5C;\n",
              "      --hover-fill-color: #FFFFFF;\n",
              "      --disabled-bg-color: #3B4455;\n",
              "      --disabled-fill-color: #666;\n",
              "  }\n",
              "\n",
              "  .colab-df-quickchart {\n",
              "    background-color: var(--bg-color);\n",
              "    border: none;\n",
              "    border-radius: 50%;\n",
              "    cursor: pointer;\n",
              "    display: none;\n",
              "    fill: var(--fill-color);\n",
              "    height: 32px;\n",
              "    padding: 0;\n",
              "    width: 32px;\n",
              "  }\n",
              "\n",
              "  .colab-df-quickchart:hover {\n",
              "    background-color: var(--hover-bg-color);\n",
              "    box-shadow: 0 1px 2px rgba(60, 64, 67, 0.3), 0 1px 3px 1px rgba(60, 64, 67, 0.15);\n",
              "    fill: var(--button-hover-fill-color);\n",
              "  }\n",
              "\n",
              "  .colab-df-quickchart-complete:disabled,\n",
              "  .colab-df-quickchart-complete:disabled:hover {\n",
              "    background-color: var(--disabled-bg-color);\n",
              "    fill: var(--disabled-fill-color);\n",
              "    box-shadow: none;\n",
              "  }\n",
              "\n",
              "  .colab-df-spinner {\n",
              "    border: 2px solid var(--fill-color);\n",
              "    border-color: transparent;\n",
              "    border-bottom-color: var(--fill-color);\n",
              "    animation:\n",
              "      spin 1s steps(1) infinite;\n",
              "  }\n",
              "\n",
              "  @keyframes spin {\n",
              "    0% {\n",
              "      border-color: transparent;\n",
              "      border-bottom-color: var(--fill-color);\n",
              "      border-left-color: var(--fill-color);\n",
              "    }\n",
              "    20% {\n",
              "      border-color: transparent;\n",
              "      border-left-color: var(--fill-color);\n",
              "      border-top-color: var(--fill-color);\n",
              "    }\n",
              "    30% {\n",
              "      border-color: transparent;\n",
              "      border-left-color: var(--fill-color);\n",
              "      border-top-color: var(--fill-color);\n",
              "      border-right-color: var(--fill-color);\n",
              "    }\n",
              "    40% {\n",
              "      border-color: transparent;\n",
              "      border-right-color: var(--fill-color);\n",
              "      border-top-color: var(--fill-color);\n",
              "    }\n",
              "    60% {\n",
              "      border-color: transparent;\n",
              "      border-right-color: var(--fill-color);\n",
              "    }\n",
              "    80% {\n",
              "      border-color: transparent;\n",
              "      border-right-color: var(--fill-color);\n",
              "      border-bottom-color: var(--fill-color);\n",
              "    }\n",
              "    90% {\n",
              "      border-color: transparent;\n",
              "      border-bottom-color: var(--fill-color);\n",
              "    }\n",
              "  }\n",
              "</style>\n",
              "\n",
              "  <script>\n",
              "    async function quickchart(key) {\n",
              "      const quickchartButtonEl =\n",
              "        document.querySelector('#' + key + ' button');\n",
              "      quickchartButtonEl.disabled = true;  // To prevent multiple clicks.\n",
              "      quickchartButtonEl.classList.add('colab-df-spinner');\n",
              "      try {\n",
              "        const charts = await google.colab.kernel.invokeFunction(\n",
              "            'suggestCharts', [key], {});\n",
              "      } catch (error) {\n",
              "        console.error('Error during call to suggestCharts:', error);\n",
              "      }\n",
              "      quickchartButtonEl.classList.remove('colab-df-spinner');\n",
              "      quickchartButtonEl.classList.add('colab-df-quickchart-complete');\n",
              "    }\n",
              "    (() => {\n",
              "      let quickchartButtonEl =\n",
              "        document.querySelector('#df-1c2dc3ae-4e8d-4c85-ad48-072f3c365a85 button');\n",
              "      quickchartButtonEl.style.display =\n",
              "        google.colab.kernel.accessAllowed ? 'block' : 'none';\n",
              "    })();\n",
              "  </script>\n",
              "</div>\n",
              "    </div>\n",
              "  </div>\n"
            ]
          },
          "metadata": {},
          "execution_count": 29
        }
      ]
    },
    {
      "cell_type": "code",
      "source": [
        "maccs_full.to_csv('/content/drive/MyDrive/MSU_AI_Photocatal/Datasets/Organic_compounds_descriptors/Organic_compounds_MACCS_FingerPrints.csv')"
      ],
      "metadata": {
        "id": "Fef7lDh1qMhu"
      },
      "execution_count": null,
      "outputs": []
    },
    {
      "cell_type": "markdown",
      "source": [
        "#Topologies features"
      ],
      "metadata": {
        "id": "qMcPdptjoHUe"
      }
    },
    {
      "cell_type": "markdown",
      "source": [
        "## Load topology libraries"
      ],
      "metadata": {
        "id": "D2fqZHdRK20q"
      }
    },
    {
      "cell_type": "code",
      "source": [
        "import numpy as np"
      ],
      "metadata": {
        "id": "ARjI_eF3oLZy"
      },
      "execution_count": null,
      "outputs": []
    },
    {
      "cell_type": "code",
      "source": [
        "from gtda.homology import VietorisRipsPersistence\n",
        "from gtda.plotting import plot_heatmap, plot_point_cloud, plot_diagram"
      ],
      "metadata": {
        "id": "byozTV5fQC5p"
      },
      "execution_count": null,
      "outputs": []
    },
    {
      "cell_type": "code",
      "source": [
        "#def function for calculation features\n",
        "def barcode_entropy_1(matrix, dim=0):\n",
        "    lengths = []\n",
        "    for barcode in matrix:\n",
        "      if barcode[2]==dim:\n",
        "        lengths.append(barcode[1]-barcode[0])\n",
        "    lengths /= np.sum(lengths)\n",
        "    return -np.sum(lengths*np.log(lengths))\n",
        "\n",
        "def barcode_sum_1(matrix, dim=0):\n",
        "    \"\"\"Calculate sum of lengths of barcodes in h{dim}\"\"\"\n",
        "    lengths = []\n",
        "    for barcode in matrix:\n",
        "      if len(barcode):\n",
        "        if barcode[2]==dim:\n",
        "          lengths.append(barcode[1] - barcode[0])\n",
        "      else:\n",
        "        return 0.0\n",
        "    return np.sum(lengths)\n",
        "\n",
        "\n",
        "def barcode_mean_1(matrix, dim=0):\n",
        "    \"\"\"Calculate mean of lengths of barcodes in h{dim}\"\"\"\n",
        "    lengths = []\n",
        "    for barcode in matrix:\n",
        "      if len(barcode):\n",
        "        if barcode[2]==dim:\n",
        "          lengths.append(barcode[1] - barcode[0])\n",
        "      else:\n",
        "        return 0.0\n",
        "    return np.mean(lengths)\n",
        "\n",
        "def barcode_std_1(matrix, dim=0):\n",
        "    \"\"\"Calculate std of lengths of barcodes in h{dim}\"\"\"\n",
        "    lengths = []\n",
        "    for barcode in matrix:\n",
        "      if len(barcode):\n",
        "        if barcode[2]==dim:\n",
        "          lengths.append(barcode[1] - barcode[0])\n",
        "      else:\n",
        "          return 0.0\n",
        "    return np.std(lengths)"
      ],
      "metadata": {
        "id": "Vu-mMND_QOZH"
      },
      "execution_count": null,
      "outputs": []
    },
    {
      "cell_type": "markdown",
      "source": [
        "## Unzip coordinates"
      ],
      "metadata": {
        "id": "EqCvjAgPrOY-"
      }
    },
    {
      "cell_type": "code",
      "source": [
        "from IPython.display import clear_output\n",
        "!unzip /content/drive/MyDrive/MSU_AI_Photocatal/Datasets/Coordinates_xyz/Organic_compounds_optimize_MM_coordinates.zip\n",
        "!unzip /content/drive/MyDrive/MSU_AI_Photocatal/Datasets/Coordinates_xyz/Organic_compounds_optimize_XTB_coordinates.zip\n",
        "!unzip /content/drive/MyDrive/MSU_AI_Photocatal/Datasets/Coordinates_xyz/Organic_compounds_solvents_optimize_XTB_coordinates.zip\n",
        "clear_output()"
      ],
      "metadata": {
        "id": "qEBdasQ1rSPi"
      },
      "execution_count": null,
      "outputs": []
    },
    {
      "cell_type": "markdown",
      "source": [
        "## Prepare topologies features for organic compounds dataset"
      ],
      "metadata": {
        "id": "3e9oBiI8SPhK"
      }
    },
    {
      "cell_type": "code",
      "source": [
        "#def function for prepare vector of topologies feature\n",
        "def calculate_tda_feature(diagrams_basic):\n",
        "        sum_at_0 = []\n",
        "        sum_at_1 = []\n",
        "        sum_at_2 = []\n",
        "        mean_at_0 = []\n",
        "        mean_at_1 = []\n",
        "        mean_at_2 = []\n",
        "        std_at_0 = []\n",
        "        std_at_1 = []\n",
        "        std_at_2 = []\n",
        "        entropy_at_0 = []\n",
        "        entropy_at_1 = []\n",
        "        entropy_at_2 = []\n",
        "        for matrix in diagrams_basic:\n",
        "            sum_at_0.append(barcode_sum_1(matrix, 0))\n",
        "            sum_at_1.append(barcode_sum_1(matrix, 1))\n",
        "            sum_at_2.append(barcode_sum_1(matrix, 2))\n",
        "            mean_at_0.append(barcode_mean_1(matrix, 0))\n",
        "            mean_at_1.append(barcode_mean_1(matrix, 1))\n",
        "            mean_at_2.append(barcode_mean_1(matrix, 2))\n",
        "            std_at_0.append(barcode_std_1(matrix, 0))\n",
        "            std_at_1.append(barcode_std_1(matrix, 1))\n",
        "            std_at_2.append(barcode_std_1(matrix, 2))\n",
        "            entropy_at_0.append(barcode_entropy_1(matrix, 0))\n",
        "            entropy_at_1.append(barcode_entropy_1(matrix, 1))\n",
        "            entropy_at_2.append(barcode_entropy_1(matrix, 2))\n",
        "        sum_vector = np.array([np.sum([sum_at_0,sum_at_1,sum_at_2]),np.sum([mean_at_0,mean_at_1,mean_at_2]), np.sum([std_at_0,std_at_1,std_at_2]), np.sum([entropy_at_0,entropy_at_1,entropy_at_2])])\n",
        "        concat_vector = np.array([sum_at_0, sum_at_1,sum_at_2, mean_at_0, mean_at_1,mean_at_2, std_at_0, std_at_1,std_at_2, entropy_at_0, entropy_at_1,entropy_at_2]).flatten()\n",
        "        return sum_vector, concat_vector"
      ],
      "metadata": {
        "id": "1kEmsrvfQGU6"
      },
      "execution_count": null,
      "outputs": []
    },
    {
      "cell_type": "code",
      "source": [
        "folder_1='/content/Result_xyz' # molecule optimize by GFN2-xTB functional\n",
        "folder_2='/content/Input_xtb' # molecule optimize by molecular mechanics\n",
        "try_count = 0\n",
        "except_count = 0\n",
        "check_files=[]\n",
        "import os\n",
        "import pickle\n",
        "for filename in tqdm(os.listdir(folder_1)): #prepare topologies for structure of organic compounds from .xyz file\n",
        "  try:\n",
        "    disk_loc = filename.split('.')[0]\n",
        "    file_location = f'{folder_1}/{filename}'\n",
        "    xyz_file = np.genfromtxt(fname=file_location, skip_header=2, dtype='unicode')\n",
        "    coordinates = (xyz_file[:,1:])\n",
        "    coordinates = coordinates.astype(np.float16)\n",
        "    persistence = VietorisRipsPersistence(metric=\"euclidean\", homology_dimensions=[0,1,2], n_jobs=6)\n",
        "    temp_new = coordinates.reshape(1, *coordinates.shape)\n",
        "    #temp_new.shape\n",
        "    diagrams_basic = persistence.fit_transform(temp_new)\n",
        "    with open(f\"/content/drive/MyDrive/MSU_AI_Photocatal/Datasets/Topology/XYZ_persistence_barcodes_organic_compounds/diagrams_basic_{disk_loc}.pkl\", \"wb\") as f:\n",
        "      pickle.dump(diagrams_basic, f)\n",
        "    try_count+=1\n",
        "  except:\n",
        "    print(f'{filename} not work, get from Input_xtb')\n",
        "    except_count+=1\n",
        "    disk_loc = filename.split('.')[0]\n",
        "    file_location = f'{folder_2}/{filename}'\n",
        "    xyz_file = np.genfromtxt(fname=file_location, skip_header=2, dtype='unicode')\n",
        "    #symbols = xyz_file[:,0]\n",
        "    coordinates = (xyz_file[:,1:])\n",
        "    coordinates = coordinates.astype(np.float16)\n",
        "    persistence = VietorisRipsPersistence(metric=\"euclidean\", homology_dimensions=[0,1,2], n_jobs=6)\n",
        "    temp_new = coordinates.reshape(1, *coordinates.shape)\n",
        "    #temp_new.shape\n",
        "    diagrams_basic = persistence.fit_transform(temp_new)\n",
        "    with open(f\"/content/drive/MyDrive/MSU_AI_Photocatal/Datasets/Topology/XYZ_persistence_barcodes_organic_compounds/diagrams_basic_{disk_loc}.pkl\", \"wb\") as f:\n",
        "      pickle.dump(diagrams_basic, f)\n",
        "    check_files.append(filename)"
      ],
      "metadata": {
        "id": "9XpETtgyQbSl"
      },
      "execution_count": null,
      "outputs": []
    },
    {
      "cell_type": "code",
      "source": [
        "import os\n",
        "import pickle\n",
        "list_of_feature = []\n",
        "folder = '/content/drive/MyDrive/MSU_AI_Photocatal/Datasets/Topology/XYZ_persistence_barcodes_organic_compounds/'\n",
        "for filename in tqdm(os.listdir(folder)):\n",
        "    with open(f\"{folder}/{filename}\", \"rb\") as f:\n",
        "      diagrams_basic = pickle.load(f)\n",
        "    local_conc = []\n",
        "    local_sum = []\n",
        "    name = filename.split('.')[0]\n",
        "    sum_v, concat_v = calculate_tda_feature(diagrams_basic)\n",
        "    local_conc.append(concat_v)\n",
        "    local_sum.append(sum_v)\n",
        "    #print('Sum_and_conc is OK!')\n",
        "    df_sum = pd.DataFrame(np.array(local_sum))\n",
        "    #df_sum.to_csv(f'/content/tda_feature/{name}_sum.csv') # to make zip archive locally\n",
        "    df_sum.to_csv(f'/content/drive/MyDrive/MSU_AI_Photocatal/Datasets/Topology/topology_features_organic_compounds/{name}_sum.csv')\n",
        "    df_conc = pd.DataFrame(np.array(local_conc))\n",
        "    #print(df_conc)\n",
        "    #df_conc.to_csv(f'/content/tda_feature/{name}_conc.csv')\n",
        "    df_conc.to_csv(f'/content/drive/MyDrive/MSU_AI_Photocatal/Datasets/Topology/topology_features_organic_compounds/{name}_conc.csv')\n",
        "    list_of_feature.append(np.array(local_conc))\n",
        "print('DF is LOAD!')"
      ],
      "metadata": {
        "id": "UzoJYaPGR8Of",
        "colab": {
          "base_uri": "https://localhost:8080/"
        },
        "outputId": "5d3ce72e-94a2-4546-bb54-8fa54a413cc9"
      },
      "execution_count": null,
      "outputs": [
        {
          "output_type": "stream",
          "name": "stderr",
          "text": [
            "  0%|          | 0/20236 [00:00<?, ?it/s]<ipython-input-34-d3e57cb7dbd8>:7: RuntimeWarning: invalid value encountered in divide\n",
            "  lengths /= np.sum(lengths)\n",
            "100%|██████████| 20236/20236 [06:56<00:00, 48.61it/s]"
          ]
        },
        {
          "output_type": "stream",
          "name": "stdout",
          "text": [
            "DF is LOAD!\n"
          ]
        },
        {
          "output_type": "stream",
          "name": "stderr",
          "text": [
            "\n"
          ]
        }
      ]
    },
    {
      "cell_type": "markdown",
      "source": [
        "## Prepare topologies features for organic compounds solvents dataset"
      ],
      "metadata": {
        "id": "uuaCOGcdQrh5"
      }
    },
    {
      "cell_type": "code",
      "source": [
        "folder_1='/content/Solvent'\n",
        "try_count = 0\n",
        "except_count = 0\n",
        "check_files=[]\n",
        "error=[]\n",
        "import os\n",
        "import pickle\n",
        "for filename in tqdm(os.listdir(folder_1)):\n",
        "  try:\n",
        "    disk_loc = filename.split('.')[0]\n",
        "    print(f'Work with Solvent {disk_loc.lower()}')\n",
        "    file_location = f'{folder_1}/{filename}'\n",
        "    xyz_file = np.genfromtxt(fname=file_location, skip_header=2, dtype='unicode')\n",
        "    #symbols = xyz_file[:,0]\n",
        "    coordinates = (xyz_file[:,1:])\n",
        "    coordinates = coordinates.astype(np.float16)\n",
        "    persistence = VietorisRipsPersistence(metric=\"euclidean\", homology_dimensions=[0,1,2], n_jobs=6)\n",
        "    temp_new = coordinates.reshape(1, *coordinates.shape)\n",
        "    #temp_new.shape\n",
        "    diagrams_basic = persistence.fit_transform(temp_new)\n",
        "    print(diagrams_basic)\n",
        "    with open(f\"/content/drive/MyDrive/MSU_AI_Photocatal/Datasets/Topology/XYZ_persistence_barcodes_organic_compounds_solv/diagrams_basic_{disk_loc.lower()}.pkl\", \"wb\") as f:\n",
        "      pickle.dump(diagrams_basic, f)\n",
        "    try_count+=1\n",
        "  except:\n",
        "    print(f'NOT WORK with Solvent {filename}')\n",
        "    error.append(filename)\n",
        "\n",
        "print((try_count,except_count))"
      ],
      "metadata": {
        "id": "QDhC3mm_Qb_X"
      },
      "execution_count": null,
      "outputs": []
    },
    {
      "cell_type": "code",
      "source": [
        "import os\n",
        "import pickle\n",
        "list_of_feature_solv = []\n",
        "folder = '/content/drive/MyDrive/MSU_AI_Photocatal/Datasets/Topology/XYZ_persistence_barcodes_organic_compounds_solv'\n",
        "folder_2 = ''\n",
        "for filename in tqdm(os.listdir(folder)):\n",
        "    with open(f\"{folder}/{filename}\", \"rb\") as f:\n",
        "      diagrams_basic = pickle.load(f)\n",
        "    #print(f'Len of list is {list_of_matrix}')\n",
        "    local_conc = []\n",
        "    local_sum = []\n",
        "    name = filename.split('.')[0]\n",
        "    print(name)\n",
        "    #for i in range(len(list_of_matrix)):\n",
        "        #print(i)\n",
        "    sum_v, concat_v = calculate_tda_feature(diagrams_basic)\n",
        "    local_conc.append(concat_v)\n",
        "    local_sum.append(sum_v)\n",
        "    print('Sum_and_conc is OK!')\n",
        "    df_sum = pd.DataFrame(np.array(local_sum))\n",
        "  #df_sum.to_csv(f'/content/tda_feature_solv/{name}_sum.csv') # to make zip archive locally\n",
        "    df_sum.to_csv(f'/content/drive/MyDrive/MSU_AI_Photocatal/Datasets/Topology/topology_features_organic_compounds_solv/{name}_sum.csv')\n",
        "    df_conc = pd.DataFrame(np.array(local_conc))\n",
        "  #df_conc.to_csv(f'/content/tda_feature_solv/{name}_conc.csv') # to make zip archive locally\n",
        "    df_conc.to_csv(f'/content/drive/MyDrive/MSU_AI_Photocatal/Datasets/Topology/topology_features_organic_compounds_solv/{name}_conc.csv')\n",
        "    list_of_feature_solv.append(np.array(local_conc))\n",
        "    print('DF is LOAD!')"
      ],
      "metadata": {
        "id": "k4ocME1LQ6l9",
        "colab": {
          "base_uri": "https://localhost:8080/"
        },
        "outputId": "e60b4936-9b03-4967-a182-0360c096fe73"
      },
      "execution_count": null,
      "outputs": [
        {
          "output_type": "stream",
          "name": "stderr",
          "text": [
            "  0%|          | 0/1139 [00:00<?, ?it/s]<ipython-input-34-d3e57cb7dbd8>:7: RuntimeWarning: invalid value encountered in divide\n",
            "  lengths /= np.sum(lengths)\n",
            "  0%|          | 5/1139 [00:00<00:26, 42.96it/s]"
          ]
        },
        {
          "output_type": "stream",
          "name": "stdout",
          "text": [
            "diagrams_basic_cc1cccoc1\n",
            "Sum_and_conc is OK!\n",
            "DF is LOAD!\n",
            "diagrams_basic_csc1ccccc1\n",
            "Sum_and_conc is OK!\n",
            "DF is LOAD!\n",
            "diagrams_basic_cc1c(c(=o)c2ccc(c(f)(f)f)cc2)c2ccc3cccc4c5cccc6ccc1c(c65)c2c34\n",
            "Sum_and_conc is OK!\n",
            "DF is LOAD!\n",
            "diagrams_basic_fc(cl)(cl)cl\n",
            "Sum_and_conc is OK!\n",
            "DF is LOAD!\n",
            "diagrams_basic_ccccoc1ccc(-c2cc(-c3ccc(occcc)cc3)c3ccc4c(-c5ccc(occcc)cc5)cc(-c5ccc(occcc)cc5)c5ccc2c3c54)cc1\n",
            "Sum_and_conc is OK!\n",
            "DF is LOAD!\n",
            "diagrams_basic_ccc(=o)o\n",
            "Sum_and_conc is OK!\n",
            "DF is LOAD!\n",
            "diagrams_basic_ic1ccccc1\n",
            "Sum_and_conc is OK!\n",
            "DF is LOAD!\n",
            "diagrams_basic_brc1cc2nc3cc4c5c(cccc5c3nc2cc1br)c(c1ccccc1)=c(c1ccccc1)o4\n",
            "Sum_and_conc is OK!\n",
            "DF is LOAD!\n",
            "diagrams_basic_o=c1c2ccc3c4c(-c5ccc(c(=c(c6ccccc6)c6ccccc6)c6ccccc6)cc5)cc5c6c(ccc(c7c(-c8ccc(c(=c(c9ccccc9)c9ccccc9)c9ccccc9)cc8)cc(c2c37)c(=o)n1c1ccccc1)c64)c(=o)n(c1ccccc1)c5=o\n",
            "Sum_and_conc is OK!\n"
          ]
        },
        {
          "output_type": "stream",
          "name": "stderr",
          "text": [
            "\r  1%|          | 10/1139 [00:00<00:30, 37.47it/s]"
          ]
        },
        {
          "output_type": "stream",
          "name": "stdout",
          "text": [
            "DF is LOAD!\n",
            "diagrams_basic_c1cc(-n2c3ccccc3c3ccccc32)cc(-n2c3ccccc3c3ccccc32)c1\n",
            "Sum_and_conc is OK!\n",
            "DF is LOAD!\n",
            "diagrams_basic_brc1ccccc1\n",
            "Sum_and_conc is OK!\n",
            "DF is LOAD!\n",
            "diagrams_basic_o=[n+]([o-])c1ccccc1o\n",
            "Sum_and_conc is OK!\n"
          ]
        },
        {
          "output_type": "stream",
          "name": "stderr",
          "text": [
            "  2%|▏         | 18/1139 [00:01<01:43, 10.82it/s]"
          ]
        },
        {
          "output_type": "stream",
          "name": "stdout",
          "text": [
            "DF is LOAD!\n",
            "diagrams_basic_cc1ccc2c(c1)n(c)c(-c1ccc(-c3ccc(-c4ccc(-c5n(c)c6cc(c)ccc6[n+]5c)cc4)cc3)cc1)[n+]2c\n",
            "Sum_and_conc is OK!\n",
            "DF is LOAD!\n",
            "diagrams_basic_ccc(c)[si](c#cc1c2nc3c4ccccc4c(=o)c4ccccc4c3nc2c(c#c[si](c(c)cc)(c(c)cc)c(c)cc)c2nc3c4ccccc4c(=o)c4ccccc4c3nc12)(c(c)cc)c(c)cc\n",
            "Sum_and_conc is OK!\n",
            "DF is LOAD!\n",
            "diagrams_basic_fc1ccc(n(c2ccc(f)cc2)c2ccc3c4cccc5c(n(c6ccc(f)cc6)c6ccc(f)cc6)ccc(c6cccc2c63)c54)cc1\n",
            "Sum_and_conc is OK!\n",
            "DF is LOAD!\n",
            "diagrams_basic_o=p(c1ccccc1)(c1ccccc1)c1ccc2oc3ccc(p(=o)(c4ccccc4)c4ccccc4)cc3c2c1\n",
            "Sum_and_conc is OK!\n",
            "DF is LOAD!\n",
            "diagrams_basic_n#cc1nc2c(nc1c#n)c1c3ccc(n(c4ccccc4)c4ccccc4)cc3c2c2ccc(n(c3ccccc3)c3ccccc3)cc21\n",
            "Sum_and_conc is OK!\n",
            "DF is LOAD!\n",
            "diagrams_basic_fc(f)(f)c1c(-n2c3ccccc3c3ccccc32)c(-n2c3ccccc3c3ccccc32)cc(-n2c3ccccc3c3ccccc32)c1-n1c2ccccc2c2ccccc21\n",
            "Sum_and_conc is OK!\n",
            "DF is LOAD!\n",
            "diagrams_basic_cc(c)(c)c1cccc(c(c)(c)c)n1\n",
            "Sum_and_conc is OK!\n",
            "DF is LOAD!\n",
            "diagrams_basic_o=c(c1ccc(c(=c(c2ccccc2)c2ccccc2)c2ccccc2)cc1)c1ccc(-n2c3ccccc3c3ccccc32)cc1\n",
            "Sum_and_conc is OK!\n"
          ]
        },
        {
          "output_type": "stream",
          "name": "stderr",
          "text": [
            "  2%|▏         | 28/1139 [00:01<00:55, 20.16it/s]"
          ]
        },
        {
          "output_type": "stream",
          "name": "stdout",
          "text": [
            "DF is LOAD!\n",
            "diagrams_basic_c[si](c)(c)[si](c1ccc(-c2ccc([si]([si](c)(c)c)([si](c)(c)c)[si](c)(c)c)s2)s1)([si](c)(c)c)[si](c)(c)c\n",
            "Sum_and_conc is OK!\n",
            "DF is LOAD!\n",
            "diagrams_basic_ccc1c(c(=o)oc)c(c(=o)oc)c2ccc(-c3ccccc3)nn12\n",
            "Sum_and_conc is OK!\n",
            "DF is LOAD!\n",
            "diagrams_basic_coc(=o)c1ccc(-c2nc3ccc(n(c)c)cc3s2)cc1\n",
            "Sum_and_conc is OK!\n",
            "DF is LOAD!\n",
            "diagrams_basic_cc(c)(c)c1ccc(-c2nc3c4ccc(-c5ccc6ccccc6c5)cc4c4cc(-c5ccc6ccccc6c5)ccc4c3n2-c2ccc(c(c)(c)c)cc2)cc1\n",
            "Sum_and_conc is OK!\n",
            "DF is LOAD!\n",
            "diagrams_basic_coc1ccc(c2=nc3sc(-c4ccccc4)n[n+]3[b-](f)(f)o2)cc1\n",
            "Sum_and_conc is OK!\n",
            "DF is LOAD!\n",
            "diagrams_basic_cc(c)(c)c1cc2c(c(c(c)(c)c)c1)o[b-](f)(f)[n+]1c-2nc(-c2ccccc2)c2cc(cl)ccc21\n",
            "Sum_and_conc is OK!\n",
            "DF is LOAD!\n",
            "diagrams_basic_cc(=o)n(c)c\n",
            "Sum_and_conc is OK!\n",
            "DF is LOAD!\n",
            "diagrams_basic_ccccocccc\n",
            "Sum_and_conc is OK!\n",
            "DF is LOAD!\n",
            "diagrams_basic_ccoc(=o)c1ccc(c2=c(c3ccccc3)c3sc4ccccc4[n+]3[b-](f)(f)o2)cc1\n",
            "Sum_and_conc is OK!\n"
          ]
        },
        {
          "output_type": "stream",
          "name": "stderr",
          "text": [
            "\r  3%|▎         | 33/1139 [00:01<00:44, 25.11it/s]"
          ]
        },
        {
          "output_type": "stream",
          "name": "stdout",
          "text": [
            "DF is LOAD!\n",
            "diagrams_basic_c1ccc(c(=c(c2ccccc2)c2ccc(-c3c4c(c(-c5ccc(c(=c(c6ccccc6)c6ccccc6)c6ccccc6)cc5)c5nsnc35)n=s=n4)cc2)c2ccccc2)cc1\n",
            "Sum_and_conc is OK!\n",
            "DF is LOAD!\n",
            "diagrams_basic_cccccccccc\n",
            "Sum_and_conc is OK!\n",
            "DF is LOAD!\n",
            "diagrams_basic_ccccn(cccc)c1ccc(c#cc2cc(c#cc3c(f)c(f)c(f)c(f)c3f)c(c#cc3c(f)c(f)c(f)c(f)c3f)cc2c#cc2ccc(n(cccc)cccc)cc2)cc1\n",
            "Sum_and_conc is OK!\n",
            "DF is LOAD!\n",
            "diagrams_basic_c1ccc2c(c1)-c1ccccc1c21c2ccccc2-c2ccc(-c3ccncc3)cc21\n",
            "Sum_and_conc is OK!\n",
            "DF is LOAD!\n",
            "diagrams_basic_cc(c)[si]1(c(c)c)c2cc(c=c(c#n)c#n)ccc2-c2ccc(n(c3ccccc3)c3ccccc3)cc21\n",
            "Sum_and_conc is OK!\n",
            "DF is LOAD!\n",
            "diagrams_basic_n#cc1ccc(-n2c(-c3ccc(-c4ccc(-c5nc6c7ccccc7c7ccccc7c6n5-c5ccc(c#n)c6ccccc56)c5ccccc45)c4ccccc34)nc3c4ccccc4c4ccccc4c32)c2ccccc12\n",
            "Sum_and_conc is OK!\n",
            "DF is LOAD!\n",
            "diagrams_basic_c1coccn1\n",
            "Sum_and_conc is OK!\n",
            "DF is LOAD!\n",
            "diagrams_basic_cco\n",
            "Sum_and_conc is OK!\n",
            "DF is LOAD!\n",
            "diagrams_basic_ccccn(cccc)c1ccc2nc3c4ccccc4c(=o)c(-c4cccc5ccccc45)c-3oc2c1\n",
            "Sum_and_conc is OK!\n",
            "DF is LOAD!\n",
            "diagrams_basic_cc1(c)c2ccccc2n(c2ccc3c(c2)c2(c4cc(n5c6ccccc6c(c)(c)c6ccccc65)ccc4-3)c3ccccc3s(=o)(=o)c3ccccc32)c2ccccc21\n",
            "Sum_and_conc is OK!\n"
          ]
        },
        {
          "output_type": "stream",
          "name": "stderr",
          "text": [
            "  4%|▍         | 46/1139 [00:02<00:29, 37.60it/s]"
          ]
        },
        {
          "output_type": "stream",
          "name": "stdout",
          "text": [
            "DF is LOAD!\n",
            "diagrams_basic_ccccccco\n",
            "Sum_and_conc is OK!\n",
            "DF is LOAD!\n",
            "diagrams_basic_ccccccccn1c(=o)c2ccc3c4c(-c5ccc(-n6c7ccccc7c7ccccc76)cc5)cc5c6c(ccc(c7c(-c8ccc(-n9c%10ccccc%10c%10ccccc%109)cc8)cc(c2c37)c1=o)c64)c(=o)n(cccccccc)c5=o\n",
            "Sum_and_conc is OK!\n",
            "DF is LOAD!\n",
            "diagrams_basic_o=s(=o)(c1cccc(n2c3ccccc3oc3ccccc32)c1)c1cccc(n2c3ccccc3oc3ccccc32)c1\n",
            "Sum_and_conc is OK!\n",
            "DF is LOAD!\n",
            "diagrams_basic_cc1ccc2nc3cc4c5c(cccc5c3nc2c1)c(c1ccccc1)=c(c1ccccc1)o4\n",
            "Sum_and_conc is OK!\n",
            "DF is LOAD!\n",
            "diagrams_basic_cc1(c)c2ccccc2n(c2ccc3c(c2)c2ccccc2c2nc4ccccc4nc32)c2ccccc21\n",
            "Sum_and_conc is OK!\n",
            "DF is LOAD!\n",
            "diagrams_basic_n#cc(c#n)=cc1ccc2c(c1)c1cc(c=c(c#n)c#n)ccc1n2-c1cccc2ccccc12\n",
            "Sum_and_conc is OK!\n",
            "DF is LOAD!\n",
            "diagrams_basic_cccc(c)c\n",
            "Sum_and_conc is OK!\n",
            "DF is LOAD!\n",
            "diagrams_basic_c[n+]1ccn(ccccc2ccc3c(c2)c2ccccc2n3-c2cc(c#n)c(c#n)cc2-n2c3ccccc3c3cc(ccccn4cc[n+](c)c4)ccc32)c1\n",
            "Sum_and_conc is OK!\n",
            "DF is LOAD!\n",
            "diagrams_basic_coc(=o)c1=c(c(=o)oc)c2=c[c@h]3c4ccccc4[c@]2(s1)c1ccccc13\n",
            "Sum_and_conc is OK!\n",
            "DF is LOAD!\n",
            "diagrams_basic_cc1ccccc1\n",
            "Sum_and_conc is OK!\n",
            "DF is LOAD!\n",
            "diagrams_basic_ccc(o)(c(c)c)c(c)c\n",
            "Sum_and_conc is OK!\n",
            "DF is LOAD!\n",
            "diagrams_basic_cc(o)cco\n",
            "Sum_and_conc is OK!\n"
          ]
        },
        {
          "output_type": "stream",
          "name": "stderr",
          "text": [
            "  5%|▌         | 57/1139 [00:02<00:25, 43.19it/s]"
          ]
        },
        {
          "output_type": "stream",
          "name": "stdout",
          "text": [
            "DF is LOAD!\n",
            "diagrams_basic_c1cc2c3c(c1)occcccccoc1cccc(c1-c1c4ccccc4c-3c3ccccc13)occccccco2\n",
            "Sum_and_conc is OK!\n",
            "DF is LOAD!\n",
            "diagrams_basic_ccn1c(-c2ccc(-c3ccc4ccc5cccc6ccc3c4c56)cc2)c(-c2ccc3ccccc3c2)c(-c2ccc3ccccc3c2)c1-c1ccc(-c2ccc3ccc4cccc5ccc2c3c45)cc1\n",
            "Sum_and_conc is OK!\n",
            "DF is LOAD!\n",
            "diagrams_basic_c1ccc(c(=c(c2ccccc2)c2ccc(n(c3ccc(-c4ccc(-c5ccc(n(c6ccc(c(=c(c7ccccc7)c7ccccc7)c7ccccc7)cc6)c6cccc7ccccc67)cc5)c5nsnc45)cc3)c3cccc4ccccc34)cc2)c2ccccc2)cc1\n",
            "Sum_and_conc is OK!\n",
            "DF is LOAD!\n",
            "diagrams_basic_coc1ccc(c2=c(c3ccc(oc)cc3)[si](c3ccccc3)(c3ccccc3)c3ccccc32)cc1\n",
            "Sum_and_conc is OK!\n",
            "DF is LOAD!\n",
            "diagrams_basic_cccccco\n",
            "Sum_and_conc is OK!\n",
            "DF is LOAD!\n",
            "diagrams_basic_c1ccc(c(=c(c2ccccc2)c2ccc(-c3ccc(-c4ccc(-c5ccc(-c6ccc(c(=c(c7ccccc7)c7ccccc7)c7ccccc7)cc6)s5)c5nsnc45)s3)cc2)c2ccccc2)cc1\n",
            "Sum_and_conc is OK!\n",
            "DF is LOAD!\n",
            "diagrams_basic_o=s(=o)(c1cccc(n2c3ccccc3sc3ccccc32)c1)c1cccc(n2c3ccccc3sc3ccccc32)c1\n",
            "Sum_and_conc is OK!\n",
            "DF is LOAD!\n",
            "diagrams_basic_cc(c)(c)n1c(=o)c2c(cc3ccc4cccc5ccc2c3c45)c1o\n",
            "Sum_and_conc is OK!\n",
            "DF is LOAD!\n",
            "diagrams_basic_cc(c)(c)c1cc2ccc3c(-c4ccc(n(c5ccccc5)c5ccccc5)cc4)ccc4c5nc6cc(c#n)c(c#n)cc6nc5c(c1)c2c34\n",
            "Sum_and_conc is OK!\n",
            "DF is LOAD!\n",
            "diagrams_basic_ccccccccn1c(=o)c2ccc3c4c(-c5ccc6c7ccccc7n(-c7ccccc7)c6c5)cc5c6c(ccc(c7c(-c8ccc9c%10ccccc%10n(-c%10ccccc%10)c9c8)cc(c2c37)c1=o)c64)c(=o)n(cccccccc)c5=o\n",
            "Sum_and_conc is OK!\n",
            "DF is LOAD!\n",
            "diagrams_basic_ccc1ccc(o)cc1\n",
            "Sum_and_conc is OK!\n"
          ]
        },
        {
          "output_type": "stream",
          "name": "stderr",
          "text": [
            "  6%|▌         | 67/1139 [00:02<00:25, 42.03it/s]"
          ]
        },
        {
          "output_type": "stream",
          "name": "stdout",
          "text": [
            "DF is LOAD!\n",
            "diagrams_basic_ccccocco\n",
            "Sum_and_conc is OK!\n",
            "DF is LOAD!\n",
            "diagrams_basic_c[n+]1ccn(ccccc2ccc3c(c2)c2ccccc2n3-c2cc(c#n)c(c#n)cc2f)c1\n",
            "Sum_and_conc is OK!\n",
            "DF is LOAD!\n",
            "diagrams_basic_cc(=o)occ(coc(c)=o)oc(c)=o\n",
            "Sum_and_conc is OK!\n",
            "DF is LOAD!\n",
            "diagrams_basic_cc(c)[si](c#cc1ccc(c#c[si](c(c)c)(c(c)c)c(c)c)c2nc3c(nc12)c1c2ccccc2c3c2ccccc21)(c(c)c)c(c)c\n",
            "Sum_and_conc is OK!\n",
            "DF is LOAD!\n",
            "diagrams_basic_coc1ccc2c(c1)c1cc(oc)ccc1n2-c1nc2ccccc2nc1-n1c2ccc(oc)cc2c2cc(oc)ccc21\n",
            "Sum_and_conc is OK!\n",
            "DF is LOAD!\n",
            "diagrams_basic_ccc1=c(c)c2cc3c(oc)cc(oc)cc3c(=o)n2c1=o\n",
            "Sum_and_conc is OK!\n",
            "DF is LOAD!\n",
            "diagrams_basic_occn(cco)cco\n",
            "Sum_and_conc is OK!\n",
            "DF is LOAD!\n",
            "diagrams_basic_ccoc(=o)c(cl)(cl)cl\n",
            "Sum_and_conc is OK!\n"
          ]
        },
        {
          "output_type": "stream",
          "name": "stderr",
          "text": [
            "  7%|▋         | 77/1139 [00:02<00:25, 41.97it/s]"
          ]
        },
        {
          "output_type": "stream",
          "name": "stdout",
          "text": [
            "DF is LOAD!\n",
            "diagrams_basic_ccn(cc)c1cc2ccc3cccc4ccc(c1)c2c34\n",
            "Sum_and_conc is OK!\n",
            "DF is LOAD!\n",
            "diagrams_basic_cc(cl)(cl)cl\n",
            "Sum_and_conc is OK!\n",
            "DF is LOAD!\n",
            "diagrams_basic_cc1cc(c)c(b(c2c(c)cc(c)cc2c)c2c(c)cccc2-n2c3ccc(c(c)(c)c)cc3c3cc(c(c)(c)c)ccc32)c(c)c1\n",
            "Sum_and_conc is OK!\n",
            "DF is LOAD!\n",
            "diagrams_basic_ccccccccn1c(=o)c2ccc3c4c(-c5ccc6c(c5)c5ccccc5n6-c5ccccc5)cc5c6c(cc(-c7ccc8c(c7)c7ccccc7n8-c7ccccc7)c(c7ccc(c2c37)c1=o)c64)c(=o)n(cccccccc)c5=o\n",
            "Sum_and_conc is OK!\n",
            "DF is LOAD!\n",
            "diagrams_basic_o=p(c1ccccc1)(c1ccc(n2c3ccccc3oc3ccccc32)cc1)c1ccc(n2c3ccccc3oc3ccccc32)cc1\n",
            "Sum_and_conc is OK!\n",
            "DF is LOAD!\n",
            "diagrams_basic_c1ccc(-n2c3c(c4c2-c2ccccc2c42c4ccccc4-c4ccccc42)c2(c4ccccc4-c4ccccc42)c2ccccc2-3)cc1\n",
            "Sum_and_conc is OK!\n",
            "DF is LOAD!\n",
            "diagrams_basic_cc1ccc(n(c2ccc(c)cc2)c2ccc(-c3ccc(-c4ccc(n(c5ccc(c)cc5)c5ccc(c)cc5)cc4)c4nsnc34)cc2)cc1\n",
            "Sum_and_conc is OK!\n",
            "DF is LOAD!\n",
            "diagrams_basic_o=c1c2ccccc2c2nc3cc4c(c#c[si](c5ccccc5)(c5ccccc5)c5ccccc5)c5cc6nc7c8ccccc8c(=o)c8ccccc8c7nc6cc5c(c#c[si](c5ccccc5)(c5ccccc5)c5ccccc5)c4cc3nc2c2ccccc12\n",
            "Sum_and_conc is OK!\n"
          ]
        },
        {
          "output_type": "stream",
          "name": "stderr",
          "text": [
            "\r  7%|▋         | 82/1139 [00:02<00:26, 39.62it/s]"
          ]
        },
        {
          "output_type": "stream",
          "name": "stdout",
          "text": [
            "DF is LOAD!\n",
            "diagrams_basic_cc1ccc(c2=c(c3ccc(c)cc3)c3cccc4c3c(cc3nc5ccccc5nc34)o2)cc1\n",
            "Sum_and_conc is OK!\n",
            "DF is LOAD!\n",
            "diagrams_basic_cc1ccc(c(c)c)c(o)c1\n",
            "Sum_and_conc is OK!\n",
            "DF is LOAD!\n",
            "diagrams_basic_cc1cc(-c2nc3c4ccccc4c4ccccc4c3n2-c2ccc(c(c)(c)c)cc2)ccc1-c1ccc(-c2c(-c3ccccc3)nc3ccccn23)cc1\n",
            "Sum_and_conc is OK!\n",
            "DF is LOAD!\n",
            "diagrams_basic_c1cc[c@h]2cccc[c@h]2c1\n",
            "Sum_and_conc is OK!\n",
            "DF is LOAD!\n",
            "diagrams_basic_c1ccc(-n2c3ccccc3c3cc(-c4cccc(-n5c6ccccc6c6c7sc8ccccc8c7ccc65)c4)ccc32)cc1\n",
            "Sum_and_conc is OK!\n",
            "DF is LOAD!\n",
            "diagrams_basic_c1ccc(c2ccn3coc4c5ccccc5c5c6c7c(c2c3c46)c(c2ccccc2)ccn7co5)cc1\n",
            "Sum_and_conc is OK!\n",
            "DF is LOAD!\n",
            "diagrams_basic_clc1ccccc1\n",
            "Sum_and_conc is OK!\n",
            "DF is LOAD!\n",
            "diagrams_basic_c1ccc([si](c2ccccc2)(c2ccc(-n3c4ccccc4c4ccccc43)cc2)c2ccc(-n3c4ccccc4c4ccccc43)cc2)cc1\n",
            "Sum_and_conc is OK!\n",
            "DF is LOAD!\n",
            "diagrams_basic_coc1ccc(-c2n[n+]3c(s2)n=c(c2ccccc2)o[b-]3(f)f)cc1\n",
            "Sum_and_conc is OK!\n"
          ]
        },
        {
          "output_type": "stream",
          "name": "stderr",
          "text": [
            "  8%|▊         | 92/1139 [00:03<00:27, 37.83it/s]"
          ]
        },
        {
          "output_type": "stream",
          "name": "stdout",
          "text": [
            "DF is LOAD!\n",
            "diagrams_basic_c1ccc(-n2c(-c3ccc(-c4ccc(-c5ccc(-c6nc7c8ccccc8c8ccccc8c7n6-c6ccccc6)cc5)cc4)cc3)nc3ccccc32)cc1\n",
            "Sum_and_conc is OK!\n",
            "DF is LOAD!\n",
            "diagrams_basic_ccccccccccccccccccccn1c(=o)c2cc(c#cc3cc4ccccc4s3)c3c4c(cc(c#cc5cc6ccccc6s5)c(c24)c1=o)c(=o)n(cccccccccccccccccccc)c3=o\n",
            "Sum_and_conc is OK!\n",
            "DF is LOAD!\n",
            "diagrams_basic_ccccccccccccccc\n",
            "Sum_and_conc is OK!\n",
            "DF is LOAD!\n",
            "diagrams_basic_n#cn1ccocc1\n",
            "Sum_and_conc is OK!\n",
            "DF is LOAD!\n",
            "diagrams_basic_cc1ccc(c)o1\n",
            "Sum_and_conc is OK!\n",
            "DF is LOAD!\n",
            "diagrams_basic_o=s(=o)(c1ccc(-c2ccc(-n3c4ccccc4c4ccccc43)cc2)cc1)c1ccc(-c2ccc(-n3c4ccccc4c4ccccc43)cc2)cc1\n",
            "Sum_and_conc is OK!\n",
            "DF is LOAD!\n",
            "diagrams_basic_cc1(c)c2ccccc2n(c2ccc3nc4c5ccc(n6c7ccccc7c(c)(c)c7ccccc76)cc5c5cc(n6c7ccccc7c(c)(c)c7ccccc76)ccc5c4nc3c2)c2ccccc21\n",
            "Sum_and_conc is OK!\n",
            "DF is LOAD!\n"
          ]
        },
        {
          "output_type": "stream",
          "name": "stderr",
          "text": [
            "  9%|▉         | 102/1139 [00:03<00:24, 42.77it/s]"
          ]
        },
        {
          "output_type": "stream",
          "name": "stdout",
          "text": [
            "diagrams_basic_o=c1c2ccc(-c3ccc(n(c4ccccc4)c4ccccc4)cc3)cc2s(=o)(=o)c2cc(-c3ccc(n(c4ccccc4)c4ccccc4)cc3)ccc21\n",
            "Sum_and_conc is OK!\n",
            "DF is LOAD!\n",
            "diagrams_basic_ccccn(cccc)c1ccc(c#cc2cc(c#cc3ccc(n(cccc)cccc)cc3)c(c#cc3cc(c(f)(f)f)cc(c(f)(f)f)c3)cc2c#cc2cc(c(f)(f)f)cc(c(f)(f)f)c2)cc1\n",
            "Sum_and_conc is OK!\n",
            "DF is LOAD!\n",
            "diagrams_basic_c[si]1(c)c(c2ccc(-c3cccs3)c3c2n=s=n3)=c(c2ccccc2)c(c2ccccc2)=c1c1ccc(-c2cccs2)c2c1n=s=n2\n",
            "Sum_and_conc is OK!\n",
            "DF is LOAD!\n",
            "diagrams_basic_c1ccc2c(c1)-c1ccccc1c21c2cc(-c3ccc(-n4c5ccccc5c5ccccc54)cc3)ccc2sc2ccc(-c3ccc(-n4c5ccccc5c5ccccc54)cc3)cc21\n",
            "Sum_and_conc is OK!\n",
            "DF is LOAD!\n",
            "diagrams_basic_coc1ccc(c(=o)c2c(c)c3ccc4cccc5c6cccc7ccc2c(c76)c3c45)cc1\n",
            "Sum_and_conc is OK!\n",
            "DF is LOAD!\n",
            "diagrams_basic_c1=c(c2ccccn2)[si](c2ccccc2)(c2ccccc2)c2ccccc21\n",
            "Sum_and_conc is OK!\n",
            "DF is LOAD!\n",
            "diagrams_basic_ccccccn1c(=o)c2cccc3c(-c4ccc(-c5cc(-c6ccc(oc)cc6)n(-c6ccccc6)n5)s4)ccc(c23)c1=o\n",
            "Sum_and_conc is OK!\n",
            "DF is LOAD!\n",
            "diagrams_basic_cc(c)(c)c1cccc2c1oc1nc3oc4ccc(-n5c6ccccc6c6ccccc65)cc4c3cc12\n",
            "Sum_and_conc is OK!\n",
            "DF is LOAD!\n",
            "diagrams_basic_c1cc(-n2c3ccccc3c3ccccc32)c(-c2nc3ccccn3n2)c(-n2c3ccccc3c3ccccc32)c1\n",
            "Sum_and_conc is OK!\n",
            "DF is LOAD!\n",
            "diagrams_basic_cc(c)(c)c1ccc(-n2c3ccc([si](c4ccccc4)(c4ccccc4)c4ccccc4)cc3c3cc([si](c4ccccc4)(c4ccccc4)c4ccccc4)ccc32)cc1\n"
          ]
        },
        {
          "output_type": "stream",
          "name": "stderr",
          "text": [
            "\r  9%|▉         | 107/1139 [00:03<00:25, 39.96it/s]"
          ]
        },
        {
          "output_type": "stream",
          "name": "stdout",
          "text": [
            "Sum_and_conc is OK!\n",
            "DF is LOAD!\n",
            "diagrams_basic_cc1ccccc1-c1cccc(oc2cc3c4c(c2)oc2cc(-c5ccccc5c)ccc2b4c2ccc(-c4ccccc4c)cc2o3)c1\n",
            "Sum_and_conc is OK!\n",
            "DF is LOAD!\n",
            "diagrams_basic_n#cc(c#n)=cc1ccc2c(c1)c1ccccc1n2-c1cccc2ccccc12\n",
            "Sum_and_conc is OK!\n",
            "DF is LOAD!\n",
            "diagrams_basic_ccc1(cc)c2cc(-c3ccc(n(c4ccc(-c5ccc6c(c5)c(cc)(cc)c5cc(n7c8ccccc8c(c)(c)c8ccccc87)ccc5-6)cc4)c4ccc(-c5ccc6c(c5)c(cc)(cc)c5cc(n7c8ccccc8c(c)(c)c8ccccc87)ccc5-6)cc4)cc3)ccc2-c2ccc(n3c4ccccc4c(c)(c)c4ccccc43)cc21\n",
            "Sum_and_conc is OK!\n",
            "DF is LOAD!\n",
            "diagrams_basic_c1ccc(oc2ccccc2)cc1\n",
            "Sum_and_conc is OK!\n",
            "DF is LOAD!\n",
            "diagrams_basic_4309\n",
            "Sum_and_conc is OK!\n",
            "DF is LOAD!\n",
            "diagrams_basic_cc(c)(c)o\n",
            "Sum_and_conc is OK!\n",
            "DF is LOAD!\n",
            "diagrams_basic_cc(c)c1cc(c(c)c)c(-c2ccc(-n3c4ccccc4n4c5ccccc5nc34)nc2)c(c(c)c)c1\n",
            "Sum_and_conc is OK!\n"
          ]
        },
        {
          "output_type": "stream",
          "name": "stderr",
          "text": [
            "\r 10%|▉         | 112/1139 [00:03<00:30, 33.56it/s]"
          ]
        },
        {
          "output_type": "stream",
          "name": "stdout",
          "text": [
            "DF is LOAD!\n",
            "diagrams_basic_cc1ccncc1c\n",
            "Sum_and_conc is OK!\n",
            "DF is LOAD!\n",
            "diagrams_basic_ccccccc1ccc(-n2c3[n+](c4c5ccccc5c5ccccc5c42)[b-](c)(c)c2cc(-n4c5ccccc5c5ccccc54)ccc2-3)cc1\n",
            "Sum_and_conc is OK!\n",
            "DF is LOAD!\n",
            "diagrams_basic_ccc1=c(c)c2=cc3ccccc3b(o)n2c1=o\n",
            "Sum_and_conc is OK!\n",
            "DF is LOAD!\n",
            "diagrams_basic_cc1cc(c2=c(c3cc(c)sc3c)s(=o)(=o)c3ccccc32)c(c)s1\n",
            "Sum_and_conc is OK!\n"
          ]
        },
        {
          "output_type": "stream",
          "name": "stderr",
          "text": [
            " 11%|█         | 120/1139 [00:04<00:31, 32.04it/s]"
          ]
        },
        {
          "output_type": "stream",
          "name": "stdout",
          "text": [
            "DF is LOAD!\n",
            "diagrams_basic_ccc1=c(cc)c2cccc3c2c(cc2nc4ccccc4nc23)o1\n",
            "Sum_and_conc is OK!\n",
            "DF is LOAD!\n",
            "diagrams_basic_cn(c)c1ccc2nc(-c3ccc(c(=o)oc(c)(c)c)cc3)sc2c1\n",
            "Sum_and_conc is OK!\n",
            "DF is LOAD!\n",
            "diagrams_basic_ccoc1ccccc1\n",
            "Sum_and_conc is OK!\n",
            "DF is LOAD!\n",
            "diagrams_basic_cc1(c)c2ccccc2n(c2ccc3c(c2)c2cc(n4c5ccccc5c(c)(c)c5ccccc54)ccc2c2nc4ccccc4nc32)c2ccccc21\n",
            "Sum_and_conc is OK!\n",
            "DF is LOAD!\n",
            "diagrams_basic_cc1ccc2c(c1)c(c1ccccc1)(c1ccccc1)c1cc(c)ccc1n2c1ccc2c(c1)oc1ccccc1b2c1c(c(c)c)cc(c(c)c)cc1c(c)c\n",
            "Sum_and_conc is OK!\n",
            "DF is LOAD!\n",
            "diagrams_basic_ccc(=o)cc\n",
            "Sum_and_conc is OK!\n",
            "DF is LOAD!\n",
            "diagrams_basic_ccn(cc)c1ccc(c(=c(c2ccccc2)c2ccc(b(c3c(c)cc(c)cc3c)c3c(c)cc(c)cc3c)cc2)c2ccc(n(cc)cc)cc2)cc1\n",
            "Sum_and_conc is OK!\n",
            "DF is LOAD!\n",
            "diagrams_basic_cc(c)(c)c1ccc2c(c1)c1cc(c(c)(c)c)ccc1n2-c1ccc(c#cc2ccc3c4ccc(c#cc5ccc(-n6c7ccc(c(c)(c)c)cc7c7cc(c(c)(c)c)ccc76)cc5)cc4n(-c4ccc(c(f)(f)f)cc4)c3c2)cc1\n",
            "Sum_and_conc is OK!\n"
          ]
        },
        {
          "output_type": "stream",
          "name": "stderr",
          "text": [
            " 11%|█         | 128/1139 [00:04<00:33, 29.86it/s]"
          ]
        },
        {
          "output_type": "stream",
          "name": "stdout",
          "text": [
            "DF is LOAD!\n",
            "diagrams_basic_coc1ccc(c2=c(c3ccc(oc)cc3)c3cccc4c5c(cc(c34)o2)=nc(c#n)c(c#n)n=5)cc1\n",
            "Sum_and_conc is OK!\n",
            "DF is LOAD!\n",
            "diagrams_basic_ccn(cc)p(=o)(n(cc)cc)n(cc)cc\n",
            "Sum_and_conc is OK!\n",
            "DF is LOAD!\n",
            "diagrams_basic_c[si]1(c)c(c2ccccc2)=cc2ccccc21\n",
            "Sum_and_conc is OK!\n",
            "DF is LOAD!\n",
            "diagrams_basic_c1ccc2c(c1)c1cccnc1n2-c1ccc2sc3ccc(-n4c5ccccc5c5cccnc54)cc3c2c1\n",
            "Sum_and_conc is OK!\n",
            "DF is LOAD!\n",
            "diagrams_basic_n#cc1ccc(c=c(c2ccccc2)c2ccccc2)cc1\n",
            "Sum_and_conc is OK!\n",
            "DF is LOAD!\n",
            "diagrams_basic_cc(c)cc(c)(c)c\n",
            "Sum_and_conc is OK!\n"
          ]
        },
        {
          "output_type": "stream",
          "name": "stderr",
          "text": [
            "\r 12%|█▏        | 134/1139 [00:04<00:29, 33.92it/s]"
          ]
        },
        {
          "output_type": "stream",
          "name": "stdout",
          "text": [
            "DF is LOAD!\n",
            "diagrams_basic_o=c1c(cl)=c(nc2ccccc2-c2nc3ccccc3s2)c1(cl)cl\n",
            "Sum_and_conc is OK!\n",
            "DF is LOAD!\n",
            "diagrams_basic_c1csc(-c2ccc(-c3cccs3)s2)c1\n",
            "Sum_and_conc is OK!\n",
            "DF is LOAD!\n",
            "diagrams_basic_cc(=o)occn1c(=o)c2cccc3c(oc4ccc(c#n)cc4)ccc(c23)c1=o\n",
            "Sum_and_conc is OK!\n",
            "DF is LOAD!\n",
            "diagrams_basic_cc1cc(-n2c3ccccc3c3ccccc32)ccc1-c1ccc(-n2c3ccccc3c3ccccc32)cc1c\n",
            "Sum_and_conc is OK!\n",
            "DF is LOAD!\n",
            "diagrams_basic_ccccccccccccc\n",
            "Sum_and_conc is OK!\n",
            "DF is LOAD!\n",
            "diagrams_basic_ccccccccn1c(=o)c2=c(c3ccc(-c4ccc(c(=c(c5ccccc5)c5ccccc5)c5ccccc5)cc4)cc3)n(cccccccc)c(=o)c2=c1c1ccc(-c2ccc(c(=c(c3ccccc3)c3ccccc3)c3ccccc3)cc2)cc1\n",
            "Sum_and_conc is OK!\n",
            "DF is LOAD!\n",
            "diagrams_basic_ccn(cc)c1ccc2cc(-c3cn4cc5ccccc5cc4n3)c(=o)oc2c1\n",
            "Sum_and_conc is OK!\n",
            "DF is LOAD!\n",
            "diagrams_basic_cn(c)c1ccc2nc(-c3ccc(c(=o)o)cc3)sc2c1\n",
            "Sum_and_conc is OK!\n",
            "DF is LOAD!\n",
            "diagrams_basic_cc(c)(c)c1ccc(c2=c(c3ccc(n4c5ccccc5c(c)(c)c5ccccc54)cc3)s(=o)(=o)c3c2sc(-c2ccc(n4c5ccccc5c(c)(c)c5ccccc54)cc2)c3-c2ccc(c(c)(c)c)cc2)cc1\n",
            "Sum_and_conc is OK!\n",
            "DF is LOAD!\n",
            "diagrams_basic_c1ccc(c2(c3ccccc3)c3cc4c(cc3-c3ccc5ccc6cccc7cc2c3c5c67)-c2ccc3ccc5cccc6cc(c2c3c56)c4(c2ccccc2)c2ccccc2)cc1\n",
            "Sum_and_conc is OK!\n",
            "DF is LOAD!\n",
            "diagrams_basic_ccccn1c(-c2ccc(-c3ccc(-c4ccc(-c5n(cccc)c6ccccc6[n+]5cccc)cc4)cc3)cc2)[n+](cccc)c2ccccc21\n",
            "Sum_and_conc is OK!\n"
          ]
        },
        {
          "output_type": "stream",
          "name": "stderr",
          "text": [
            " 13%|█▎        | 145/1139 [00:04<00:26, 37.87it/s]"
          ]
        },
        {
          "output_type": "stream",
          "name": "stdout",
          "text": [
            "DF is LOAD!\n",
            "diagrams_basic_n#cc1c(n2ccccc2)cc(-c2ccc(br)cc2)c2c1ccc1ccccc1-2\n",
            "Sum_and_conc is OK!\n",
            "DF is LOAD!\n",
            "diagrams_basic_o=p(c1ccccc1)(c1ccccc1)c1ccc([si](c2ccccc2)(c2ccccc2)c2ccccc2)cc1\n",
            "Sum_and_conc is OK!\n",
            "DF is LOAD!\n",
            "diagrams_basic_cc(c)[si]1(c(c)c)c2cc(c#n)ccc2-c2ccc(n(c)c)cc21\n",
            "Sum_and_conc is OK!\n",
            "DF is LOAD!\n",
            "diagrams_basic_cc(c)o\n",
            "Sum_and_conc is OK!\n",
            "DF is LOAD!\n",
            "diagrams_basic_c1ccc(n(c2ccccc2)c2ccc(-c3ccc(-c4ccc(n(c5ccccc5)c5ccccc5)cc4)c4n[se]nc34)cc2)cc1\n",
            "Sum_and_conc is OK!\n",
            "DF is LOAD!\n",
            "diagrams_basic_cc(c)(c)c1ccc(-c2cc3c4c(c2)ccc2cc(-c5ccc(c(c)(c)c)cc5)cc(c2-4)cc3)cc1\n",
            "Sum_and_conc is OK!\n",
            "DF is LOAD!\n",
            "diagrams_basic_f[b-]1(f)oc2ccccc2-c2nc(-c3ccccc3)c3cc(cl)ccc3[n+]21\n",
            "Sum_and_conc is OK!\n",
            "DF is LOAD!\n",
            "diagrams_basic_o=c(c1ccc(-n2c3ccc(-c4ccccc4)cc3c3cc(-c4ccccc4)ccc32)cc1)c1ccc(-n2c3ccc(-c4ccccc4)cc3c3cc(-c4ccccc4)ccc32)cc1\n",
            "Sum_and_conc is OK!\n",
            "DF is LOAD!"
          ]
        },
        {
          "output_type": "stream",
          "name": "stderr",
          "text": [
            " 14%|█▎        | 154/1139 [00:04<00:25, 38.80it/s]"
          ]
        },
        {
          "output_type": "stream",
          "name": "stdout",
          "text": [
            "\n",
            "diagrams_basic_ccccccn1c(=o)c2cc(c#cc3ccncc3)c3c4c(cc(c#cc5ccncc5)c(c24)c1=o)c(=o)n(cccccc)c3=o\n",
            "Sum_and_conc is OK!\n",
            "DF is LOAD!\n",
            "diagrams_basic_cc1nn(-c2ccccc2)c2c1c(=o)oc1ccc(-n3c4ccccc4c4cc(-n5c6ccccc6c6ccccc65)ccc43)cc12\n",
            "Sum_and_conc is OK!\n",
            "DF is LOAD!\n",
            "diagrams_basic_f[b-]1(f)oc(c2ccccc2)=cc2cc(cl)nc[n+]21\n",
            "Sum_and_conc is OK!\n",
            "DF is LOAD!\n",
            "diagrams_basic_ccoc(=o)c1cc(c)n2nc(-c3ccccc3)ccc12\n",
            "Sum_and_conc is OK!\n",
            "DF is LOAD!\n",
            "diagrams_basic_cc1cc(c)c(b(c2c(c)cc(c)cc2c)c2cc3ccc4ccccc4c3c3c2ccc2ccccc23)c(c)c1\n",
            "Sum_and_conc is OK!\n",
            "DF is LOAD!\n",
            "diagrams_basic_ccp(c)(=o)n(c)c\n",
            "Sum_and_conc is OK!\n",
            "DF is LOAD!\n",
            "diagrams_basic_cococ\n",
            "Sum_and_conc is OK!\n",
            "DF is LOAD!\n",
            "diagrams_basic_ccccn(cccc)c1ccc2nc3c4ccccc4c(=o)c(-c4c5ccccc5cc5ccccc45)c-3oc2c1\n",
            "Sum_and_conc is OK!\n",
            "DF is LOAD!\n",
            "diagrams_basic_cccc1=c(ccc)c2cccc3c2c(cc2nc4ccccc4nc23)o1\n",
            "Sum_and_conc is OK!\n"
          ]
        },
        {
          "output_type": "stream",
          "name": "stderr",
          "text": [
            " 14%|█▍        | 165/1139 [00:05<00:21, 44.74it/s]"
          ]
        },
        {
          "output_type": "stream",
          "name": "stdout",
          "text": [
            "DF is LOAD!\n",
            "diagrams_basic_ccccc(c)=o\n",
            "Sum_and_conc is OK!\n",
            "DF is LOAD!\n",
            "diagrams_basic_c1ccc2c(c3=c(c4cccc5ccccc45)c4cccc5c4c(cc4nc6ccccc6nc45)o3)cccc2c1\n",
            "Sum_and_conc is OK!\n",
            "DF is LOAD!\n",
            "diagrams_basic_ccn(cc)c1ccc2c(c1)oc(=o)c1cnc3c(cnn3-c3ccccc3)c12\n",
            "Sum_and_conc is OK!\n",
            "DF is LOAD!\n",
            "diagrams_basic_fc1(f)c(f)(f)c(f)(cl)c1(f)cl\n",
            "Sum_and_conc is OK!\n",
            "DF is LOAD!\n",
            "diagrams_basic_c1ccc(c2=c(c3ccccc3)c3cccc4c5c(cc(c34)o2)=nc2ccccc2n=5)cc1\n",
            "Sum_and_conc is OK!\n",
            "DF is LOAD!\n",
            "diagrams_basic_ccn(c#n)cc\n",
            "Sum_and_conc is OK!\n",
            "DF is LOAD!\n",
            "diagrams_basic_cc(=o)c(c)(c)c\n",
            "Sum_and_conc is OK!\n",
            "DF is LOAD!\n",
            "diagrams_basic_ccccn(cccc)c1ccc(c#cc2cc(c#cc3ccc(n(cccc)cccc)cc3)c(c#cc3c(f)c(f)c(f)c(f)c3f)cc2c#cc2c(f)c(f)c(f)c(f)c2f)cc1\n",
            "Sum_and_conc is OK!\n",
            "DF is LOAD!\n",
            "diagrams_basic_clcccccccccccl\n",
            "Sum_and_conc is OK!\n",
            "DF is LOAD!\n",
            "diagrams_basic_ccccc\n",
            "Sum_and_conc is OK!\n"
          ]
        },
        {
          "output_type": "stream",
          "name": "stderr",
          "text": [
            " 15%|█▌        | 176/1139 [00:05<00:20, 46.25it/s]"
          ]
        },
        {
          "output_type": "stream",
          "name": "stdout",
          "text": [
            "DF is LOAD!\n",
            "diagrams_basic_fc(f)(f)cccl\n",
            "Sum_and_conc is OK!\n",
            "DF is LOAD!\n",
            "diagrams_basic_o=c1c2ccccc2-c2cc3ccccc3c(=o)n21\n",
            "Sum_and_conc is OK!\n",
            "DF is LOAD!\n",
            "diagrams_basic_ccccccccc1(cccccccc)c2ccccc2-c2ccc(-c3nnc(-c4cccc(-n5c6ccc(c(c)(c)c)cc6c6cc(c(c)(c)c)ccc65)c4)o3)cc21\n",
            "Sum_and_conc is OK!\n",
            "DF is LOAD!\n",
            "diagrams_basic_coc1ccc2c(c1)sc1[n+]2[b-](f)(f)oc(c2ccc(n(c)c)cc2)=n1\n",
            "Sum_and_conc is OK!\n",
            "DF is LOAD!\n",
            "diagrams_basic_cc1ccc(c)c(o)c1c\n",
            "Sum_and_conc is OK!\n",
            "DF is LOAD!\n",
            "diagrams_basic_fc1ccc(f)cc1\n",
            "Sum_and_conc is OK!\n",
            "DF is LOAD!\n",
            "diagrams_basic_cc(c)(c)c1ccc(-n2c(-c3ccc(-c4cc(-c5ccccc5)c5c(c4-c4ccccc4)-c4cccc6cccc-5c46)cc3)nc3c4ccccc4c4ccccc4c32)cc1\n",
            "Sum_and_conc is OK!\n",
            "DF is LOAD!\n",
            "diagrams_basic_o=c1c2cc(-n3c4ccccc4c4ccccc43)c(-n3c4ccccc4c4ccccc43)cc2c(=o)n1c1ccccc1\n",
            "Sum_and_conc is OK!\n",
            "DF is LOAD!\n",
            "diagrams_basic_o=c1c2ccccc2c2=cc3cccc[n+]3[b-](f)(f)n12\n",
            "Sum_and_conc is OK!\n",
            "DF is LOAD!\n",
            "diagrams_basic_clcc1co1\n",
            "Sum_and_conc is OK!\n",
            "DF is LOAD!\n",
            "diagrams_basic_ccc(c)o\n",
            "Sum_and_conc is OK!\n"
          ]
        },
        {
          "output_type": "stream",
          "name": "stderr",
          "text": [
            " 16%|█▋        | 187/1139 [00:05<00:19, 47.91it/s]"
          ]
        },
        {
          "output_type": "stream",
          "name": "stdout",
          "text": [
            "DF is LOAD!\n",
            "diagrams_basic_o=p(c1ccccc1)(c1ccccc1)c1ccccc1oc1ccccc1p(=o)(c1ccccc1)c1ccccc1\n",
            "Sum_and_conc is OK!\n",
            "DF is LOAD!\n",
            "diagrams_basic_clc1=c(cl)c(cl)(cl)c(cl)=c1cl\n",
            "Sum_and_conc is OK!\n",
            "DF is LOAD!\n",
            "diagrams_basic_n#cc1cc(-n2c3ccccc3c3ccccc32)nc(-n2c3ccccc3c3ccccc32)n1\n",
            "Sum_and_conc is OK!\n",
            "DF is LOAD!\n",
            "diagrams_basic_nccn\n",
            "Sum_and_conc is OK!\n",
            "DF is LOAD!\n",
            "diagrams_basic_cn(c)c1ccc2nc(-c3ccc(c(=o)oc[c@h](nc(=o)oc(c)(c)c)c(=o)occ4ccccc4)cc3)sc2c1\n",
            "Sum_and_conc is OK!\n",
            "DF is LOAD!\n",
            "diagrams_basic_o=s(=o)(c1ccc(-c2ccc3c(c2)c2ccccc2n3-c2ccccc2)cc1)c1ccc(-c2ccc3c(c2)c2ccccc2n3-c2ccccc2)cc1\n",
            "Sum_and_conc is OK!\n",
            "DF is LOAD!\n",
            "diagrams_basic_cccccccccccccc\n",
            "Sum_and_conc is OK!\n",
            "DF is LOAD!\n",
            "diagrams_basic_ccccc1(cccc)c2cc(c#cc3ccc4ccc5cccc6ccc3c4c56)ccc2-c2ccc(n(c3ccccc3)c3ccccc3)cc21\n",
            "Sum_and_conc is OK!\n",
            "DF is LOAD!\n",
            "diagrams_basic_c(#cc1cnc(c#cc2ccccc2)nc1)c1ccccc1\n",
            "Sum_and_conc is OK!\n",
            "DF is LOAD!\n",
            "diagrams_basic_c1ccc2c(c1)oc1nc3oc4ccc(-n5c6ccccc6c6cc(-n7c8ccccc8c8ccccc87)ccc65)cc4c3cc12\n",
            "Sum_and_conc is OK!\n"
          ]
        },
        {
          "output_type": "stream",
          "name": "stderr",
          "text": [
            "\r 17%|█▋        | 192/1139 [00:05<00:25, 37.63it/s]"
          ]
        },
        {
          "output_type": "stream",
          "name": "stdout",
          "text": [
            "DF is LOAD!\n",
            "diagrams_basic_cn(c)c1ccc(c(=cc2ccc(c#n)cc2)c2ccc(n(c)c)cc2)cc1\n",
            "Sum_and_conc is OK!\n",
            "DF is LOAD!\n",
            "diagrams_basic_cc(c)(c)c1ccc2c(c1)c1cc(c(c)(c)c)ccc1n2-c1cccc2c1oc1c(-c3nc(-c4ccccc4)nc(-c4ccccc4)n3)cccc1c2(c)c\n",
            "Sum_and_conc is OK!\n",
            "DF is LOAD!\n",
            "diagrams_basic_o=p(c1ccccc1)(c1ccccc1)c1ccc(-c2nc3ccccc3n2-c2ccc(p(=o)(c3ccccc3)c3ccccc3)cc2)cc1\n",
            "Sum_and_conc is OK!\n",
            "DF is LOAD!\n",
            "diagrams_basic_coc(=o)c1ccccc1o\n",
            "Sum_and_conc is OK!\n",
            "DF is LOAD!\n",
            "diagrams_basic_c1cc(-c2cccc(-n3c4ccccc4c4ccccc43)c2)cc(-n2c3ccccc3c3ccccc32)c1\n",
            "Sum_and_conc is OK!\n"
          ]
        },
        {
          "output_type": "stream",
          "name": "stderr",
          "text": [
            "\r 17%|█▋        | 197/1139 [00:05<00:26, 36.22it/s]"
          ]
        },
        {
          "output_type": "stream",
          "name": "stdout",
          "text": [
            "DF is LOAD!\n",
            "diagrams_basic_cc1ccco1\n",
            "Sum_and_conc is OK!\n",
            "DF is LOAD!\n",
            "diagrams_basic_c1ccc(-c2cc(-c3ccccc3)cc(-c3ccc4c(c3)c3(c5ccccc5-4)c4ccccc4-c4c3c3c5ccccc5c(-c5cc(-c6ccccc6)cc(-c6ccccc6)c5)cc3c3ccccc43)c2)cc1\n",
            "Sum_and_conc is OK!\n",
            "DF is LOAD!\n",
            "diagrams_basic_ccccccc1ccc(-n2c3[n+](c4c5ccccc5c5ccccc5c42)[b-](c)(c)c2ccc4ccccc4c2-3)cc1\n",
            "Sum_and_conc is OK!\n",
            "DF is LOAD!\n",
            "diagrams_basic_ccoc1c(nc2ccccc2-c2nc3ccccc3s2)c(=o)c1=o\n",
            "Sum_and_conc is OK!\n",
            "DF is LOAD!\n",
            "diagrams_basic_c[n+](=o)[o-]\n",
            "Sum_and_conc is OK!\n",
            "DF is LOAD!\n",
            "diagrams_basic_coc1ccc(c(=c(c2ccccc2)c2ccc(-c3c4nccnc4c(-c4ccc(c(=c(c5ccc(oc)cc5)c5ccc(oc)cc5)c5ccccc5)cc4)c4nsnc34)cc2)c2ccc(oc)cc2)cc1\n",
            "Sum_and_conc is OK!\n",
            "DF is LOAD!\n",
            "diagrams_basic_o=c1c2ccccc2c2=cc3cc4c(cc3b(o)n12)oco4\n",
            "Sum_and_conc is OK!\n",
            "DF is LOAD!\n",
            "diagrams_basic_c[si](c)(c)c\n",
            "Sum_and_conc is OK!\n"
          ]
        },
        {
          "output_type": "stream",
          "name": "stderr",
          "text": [
            " 18%|█▊        | 207/1139 [00:06<00:23, 39.06it/s]"
          ]
        },
        {
          "output_type": "stream",
          "name": "stdout",
          "text": [
            "DF is LOAD!\n",
            "diagrams_basic_coc1ccc(c(=cc2ccc(c=o)cc2)c2ccc(oc)cc2)cc1\n",
            "Sum_and_conc is OK!\n",
            "DF is LOAD!\n",
            "diagrams_basic_cc(c)(cl)cl\n",
            "Sum_and_conc is OK!\n",
            "DF is LOAD!\n",
            "diagrams_basic_fc(f)(f)c(f)(cl)c(f)(f)cl\n",
            "Sum_and_conc is OK!\n",
            "DF is LOAD!\n",
            "diagrams_basic_ccc(o)(cc)cc\n",
            "Sum_and_conc is OK!\n",
            "DF is LOAD!\n",
            "diagrams_basic_ccccccccoc1ccc(n(c2ccc(occcccccc)cc2)c2ccc(-c3ccc(c4=c(c5ccccc5)c(c5ccccc5)=c(c5ccc(-c6ccc(n(c7ccc(occcccccc)cc7)c7ccc(occcccccc)cc7)cc6)c6c5n=s=n6)[si]4(c)c)c4c3n=s=n4)cc2)cc1\n",
            "Sum_and_conc is OK!\n",
            "DF is LOAD!\n",
            "diagrams_basic_ccccccn1c2c(c3cc(-c4ccc5ccc6cccc7ccc4c5c67)ccc31)-c1c(c3cc(-c4ccc5ccc6cccc7ccc4c5c67)ccc3n1cccccc)-c1c(c3cc(-c4ccc5ccc6cccc7ccc4c5c67)ccc3n1cccccc)-c1c-2c2cc(-c3ccc4ccc5cccc6ccc3c4c56)ccc2n1cccccc\n",
            "Sum_and_conc is OK!\n",
            "DF is LOAD!\n",
            "diagrams_basic_brc1ccccc1br\n",
            "Sum_and_conc is OK!\n",
            "DF is LOAD!\n",
            "diagrams_basic_c1ccc(n2n=c(c3cccc4ccccc34)cc2c2ccc3ccc4cccc5ccc2c3c45)cc1\n",
            "Sum_and_conc is OK!\n",
            "DF is LOAD!\n",
            "diagrams_basic_o=c1c2cc(br)ccc2nc2n1[b-](f)(f)[n+]1ccccc1-2\n",
            "Sum_and_conc is OK!\n",
            "DF is LOAD!\n",
            "diagrams_basic_o=cc1ccc(oc2ccc3c4c(cccc24)c(=o)n(cco)c3=o)cc1\n"
          ]
        },
        {
          "output_type": "stream",
          "name": "stderr",
          "text": [
            "\r 19%|█▊        | 212/1139 [00:06<00:23, 39.87it/s]"
          ]
        },
        {
          "output_type": "stream",
          "name": "stdout",
          "text": [
            "Sum_and_conc is OK!\n",
            "DF is LOAD!\n",
            "diagrams_basic_c1ccc(c(=c(c2ccccc2)c2ccc(-c3c4nccnc4c(-c4ccc(c(=c(c5ccccc5)c5ccccc5)c5ccccc5)cc4)c4nsnc34)cc2)c2ccccc2)cc1\n",
            "Sum_and_conc is OK!\n",
            "DF is LOAD!\n",
            "diagrams_basic_cc(c)(c)c1ccc(-c2nc3c4ccc(-c5cccc6ccccc56)cc4c4cc(-c5cccc6ccccc56)ccc4c3n2-c2ccc(c(c)(c)c)cc2)cc1\n",
            "Sum_and_conc is OK!\n",
            "DF is LOAD!\n",
            "diagrams_basic_o=c1c2cc(-n3c4ccccc4c4ccccc43)ccc2sc2ccc(-n3c4ccccc4c4ccccc43)cc12\n",
            "Sum_and_conc is OK!\n",
            "DF is LOAD!\n",
            "diagrams_basic_cccop(=o)(occc)occc\n",
            "Sum_and_conc is OK!\n",
            "DF is LOAD!\n",
            "diagrams_basic_cn(c)p(=o)(n(c)c)n(c)c\n",
            "Sum_and_conc is OK!\n",
            "DF is LOAD!\n",
            "diagrams_basic_ccccccccco\n",
            "Sum_and_conc is OK!\n",
            "DF is LOAD!\n"
          ]
        },
        {
          "output_type": "stream",
          "name": "stderr",
          "text": [
            " 19%|█▉        | 221/1139 [00:06<00:26, 35.18it/s]"
          ]
        },
        {
          "output_type": "stream",
          "name": "stdout",
          "text": [
            "diagrams_basic_cc1ccc(-c2ccc(-c3ccc(n(c4ccccc4)c4ccccc4)cc3)c3nsnc23)cc1\n",
            "Sum_and_conc is OK!\n",
            "DF is LOAD!\n",
            "diagrams_basic_o=p(c1ccc(n2c3ccccc3oc3ccccc32)cc1)(c1ccc(n2c3ccccc3oc3ccccc32)cc1)c1ccc(n2c3ccccc3oc3ccccc32)cc1\n",
            "Sum_and_conc is OK!\n",
            "DF is LOAD!\n",
            "diagrams_basic_cc1cccc2ccccc12\n",
            "Sum_and_conc is OK!\n",
            "DF is LOAD!\n",
            "diagrams_basic_ccccccn1c(=o)c2cccc3c(-c4ccc(-c5cc(-c6ccc(c)cc6)n(-c6ccccc6)n5)s4)ccc(c23)c1=o\n",
            "Sum_and_conc is OK!\n",
            "DF is LOAD!\n",
            "diagrams_basic_c[si]1(c2ccccc2)c(c2ccc(-n3c4ccccc4c4ccccc43)cc2)=c(c2ccccc2)c(c2ccccc2)=c1c1ccc(-n2c3ccccc3c3ccccc32)cc1\n",
            "Sum_and_conc is OK!\n",
            "DF is LOAD!\n",
            "diagrams_basic_o=c1cccc1\n",
            "Sum_and_conc is OK!\n",
            "DF is LOAD!\n",
            "diagrams_basic_c1ccc(-n2c3ccccc3c3cc(c4(c5ccc6c(c5)c5ccccc5n6-c5ccccc5)c5cc(-c6ccc7ccc8cccc9ccc6c7c89)ccc5-c5ccc(-c6ccc7ccc8cccc9ccc6c7c89)cc54)ccc32)cc1\n"
          ]
        },
        {
          "output_type": "stream",
          "name": "stderr",
          "text": [
            " 20%|██        | 229/1139 [00:06<00:27, 32.70it/s]"
          ]
        },
        {
          "output_type": "stream",
          "name": "stdout",
          "text": [
            "Sum_and_conc is OK!\n",
            "DF is LOAD!\n",
            "diagrams_basic_cocco\n",
            "Sum_and_conc is OK!\n",
            "DF is LOAD!\n",
            "diagrams_basic_cc1coc(=o)o1\n",
            "Sum_and_conc is OK!\n",
            "DF is LOAD!\n",
            "diagrams_basic_coc1c2ccccc2c(oc)c2c(c#cc3ccccc3)c3cc4ccccc4cc3c(c#cc3ccccc3)c12\n",
            "Sum_and_conc is OK!\n",
            "DF is LOAD!\n",
            "diagrams_basic_n#cc1ccc(oc2ccc3c4c(cccc24)c(=o)n(cco)c3=o)cc1\n",
            "Sum_and_conc is OK!\n",
            "DF is LOAD!\n",
            "diagrams_basic_c[si](c)(c)[si](c1ccc(-c2ccc(-c3ccc(-c4ccc([si]([si](c)(c)c)([si](c)(c)c)[si](c)(c)c)s4)s3)s2)s1)([si](c)(c)c)[si](c)(c)c\n",
            "Sum_and_conc is OK!\n",
            "DF is LOAD!\n",
            "diagrams_basic_cc(c)(c)c1ccc(-c2c(-c3cccc(-n4c5ccccc5c5ccccc54)c3)c(c#n)c(-c3cccc(-n4c5ccccc5c5ccccc54)c3)c(-c3ccc(c(c)(c)c)cc3)c2-c2ccc(c(c)(c)c)cc2)cc1\n",
            "Sum_and_conc is OK!\n",
            "DF is LOAD!"
          ]
        },
        {
          "output_type": "stream",
          "name": "stderr",
          "text": [
            "\r 20%|██        | 233/1139 [00:07<00:28, 32.02it/s]"
          ]
        },
        {
          "output_type": "stream",
          "name": "stdout",
          "text": [
            "\n",
            "diagrams_basic_c1cc2ccc3ccc(-c4ccc(-c5nnc(-c6ccc(-c7nnc(-c8ccc(-c9ccc%10ccc%11cccc%12ccc9c%10c%11%12)s8)o7)cc6)o5)s4)c4ccc(c1)c2c34\n",
            "Sum_and_conc is OK!\n",
            "DF is LOAD!\n",
            "diagrams_basic_c(#cc1cccc2nsnc12)c1ccc(-n2c3ccccc3c3ccccc32)cc1\n",
            "Sum_and_conc is OK!\n",
            "DF is LOAD!\n",
            "diagrams_basic_occs\n",
            "Sum_and_conc is OK!\n",
            "DF is LOAD!\n",
            "diagrams_basic_cc1(c)c2ccccc2n(c2ccc(-c3nc(-c4ccccn4)n(-c4ccc(n5c6ccccc6c(c)(c)c6ccccc65)cc4)n3)cc2)c2ccccc21\n",
            "Sum_and_conc is OK!\n",
            "DF is LOAD!\n",
            "diagrams_basic_occ(f)(f)c(f)f\n",
            "Sum_and_conc is OK!\n",
            "DF is LOAD!\n",
            "diagrams_basic_c1ccccc1\n",
            "Sum_and_conc is OK!\n",
            "DF is LOAD!\n",
            "diagrams_basic_c1ccc([b-]23nc(c4ccccc4)=nc4cccc([n+]42)n=c(c2ccccc2)n3)cc1\n",
            "Sum_and_conc is OK!\n"
          ]
        },
        {
          "output_type": "stream",
          "name": "stderr",
          "text": [
            " 21%|██        | 242/1139 [00:07<00:25, 35.73it/s]"
          ]
        },
        {
          "output_type": "stream",
          "name": "stdout",
          "text": [
            "DF is LOAD!\n",
            "diagrams_basic_cc1ccccc1oc1ccc2c3c(cccc13)c(=o)n(cco)c2=o\n",
            "Sum_and_conc is OK!\n",
            "DF is LOAD!\n",
            "diagrams_basic_o=c(c1ccc(c(=c(c2ccc(c(=o)c3ccc(-n4c5ccccc5c5ccccc54)cc3)cc2)c2ccc(c(=o)c3ccc(-n4c5ccccc5c5ccccc54)cc3)cc2)c2ccccc2)cc1)c1ccc(-n2c3ccccc3c3ccccc32)cc1\n",
            "Sum_and_conc is OK!\n",
            "DF is LOAD!\n",
            "diagrams_basic_[2h]o[2h]\n",
            "Sum_and_conc is OK!\n",
            "DF is LOAD!\n",
            "diagrams_basic_ccoc(=o)occ\n",
            "Sum_and_conc is OK!\n",
            "DF is LOAD!\n",
            "diagrams_basic_ncco\n",
            "Sum_and_conc is OK!\n",
            "DF is LOAD!\n",
            "diagrams_basic_fc(f)(f)c1ccc2oc3nc4oc5ccc(-n6c7ccccc7c7ccccc76)cc5c4cc3c2c1\n",
            "Sum_and_conc is OK!\n",
            "DF is LOAD!\n",
            "diagrams_basic_f[b-]1(f)oc(c2ccccc2)=c(c2ccccc2)c2sc3ccccc3[n+]21\n",
            "Sum_and_conc is OK!\n",
            "DF is LOAD!\n",
            "diagrams_basic_cc(c)(c)c1ccc(n(c2ccc(c(c)(c)c)cc2)c2cc(n(c3ccc(c(c)(c)c)cc3)c3ccc(c(c)(c)c)cc3)c3ccc4cc(c(c)(c)c)cc5ccc2c3c54)cc1\n",
            "Sum_and_conc is OK!\n",
            "DF is LOAD!\n"
          ]
        },
        {
          "output_type": "stream",
          "name": "stderr",
          "text": [
            " 22%|██▏       | 251/1139 [00:07<00:23, 37.73it/s]"
          ]
        },
        {
          "output_type": "stream",
          "name": "stdout",
          "text": [
            "diagrams_basic_cc(=o)oc(c)=o\n",
            "Sum_and_conc is OK!\n",
            "DF is LOAD!\n",
            "diagrams_basic_cc(=o)c1ccccc1\n",
            "Sum_and_conc is OK!\n",
            "DF is LOAD!\n",
            "diagrams_basic_fc1nc(f)c(f)c(f)c1f\n",
            "Sum_and_conc is OK!\n",
            "DF is LOAD!\n",
            "diagrams_basic_cc(o)cn\n",
            "Sum_and_conc is OK!\n",
            "DF is LOAD!\n",
            "diagrams_basic_coc1ccc(c2=c(c3ccc(oc)cc3)c3cccc4c3c(cc3nc5ccccc5nc34)o2)cc1\n",
            "Sum_and_conc is OK!\n",
            "DF is LOAD!\n",
            "diagrams_basic_ccccn1c2ccccc2c2ccc3c4cc(-c5ccc(c(f)(f)f)cc5)ccc4n(cccc)c3c21\n",
            "Sum_and_conc is OK!\n",
            "DF is LOAD!\n",
            "diagrams_basic_cc(c)(c)c1ccc(-c2c(-c3ccc(n(c4ccccc4)c4ccccc4)cc3)cc(-c3ccc(n(c4ccccc4)c4ccccc4)cc3)c(-c3ccc(c(c)(c)c)cc3)c2-c2ccc(c(c)(c)c)cc2)cc1\n",
            "Sum_and_conc is OK!\n",
            "DF is LOAD!\n",
            "diagrams_basic_ccccccccoc1ccc(n(c2ccc(occcccccc)cc2)c2ccc(-c3c4c(c(-c5ccc(n(c6ccc(occcccccc)cc6)c6ccc(occcccccc)cc6)cc5)c5nsnc35)n=s=n4)cc2)cc1\n",
            "Sum_and_conc is OK!\n",
            "DF is LOAD!\n",
            "diagrams_basic_oc1ccc(br)cc1\n",
            "Sum_and_conc is OK!\n"
          ]
        },
        {
          "output_type": "stream",
          "name": "stderr",
          "text": [
            " 23%|██▎       | 260/1139 [00:07<00:22, 38.46it/s]"
          ]
        },
        {
          "output_type": "stream",
          "name": "stdout",
          "text": [
            "DF is LOAD!\n",
            "diagrams_basic_n#cc1n=c2cc3c4c(cccc4c2=nc1c#n)c(c1ccccc1)=c(c1ccccc1)o3\n",
            "Sum_and_conc is OK!\n",
            "DF is LOAD!\n",
            "diagrams_basic_cn(c)c=s\n",
            "Sum_and_conc is OK!\n",
            "DF is LOAD!\n",
            "diagrams_basic_c1ccc2ncccc2c1\n",
            "Sum_and_conc is OK!\n",
            "DF is LOAD!\n",
            "diagrams_basic_c1=c(c2ccccc2)c(c2ccccc2)c(c2ccccc2)=c1\n",
            "Sum_and_conc is OK!\n",
            "DF is LOAD!\n",
            "diagrams_basic_ccccc(cc)cn1c(=o)c2cccc3c(c#cc4ccc(n(c5ccc(c#cc6ccc7c8c(cccc68)c(=o)n(cc(cc)cccc)c7=o)cc5)c5ccc(c#cc6ccc7c8c(cccc68)c(=o)n(cc(cc)cccc)c7=o)cc5)cc4)ccc(c23)c1=o\n",
            "Sum_and_conc is OK!\n",
            "DF is LOAD!\n",
            "diagrams_basic_n#cc1ccc(-n2c(-c3ccc(-c4ccc(n(c5ccccc5)c5ccccc5)cc4)s3)nc3c4ccccc4c4ccccc4c32)c2ccccc12\n",
            "Sum_and_conc is OK!\n",
            "DF is LOAD!\n",
            "diagrams_basic_cc(=o)cc(c)=o\n",
            "Sum_and_conc is OK!\n",
            "DF is LOAD!\n",
            "diagrams_basic_cn(c)c(=n)n(c)c\n",
            "Sum_and_conc is OK!\n",
            "DF is LOAD!\n",
            "diagrams_basic_coc1cc(c)c(-c2cc(-c3c(c)cc(oc)cc3c)c3ccc4c(-c5c(c)cc(oc)cc5c)cc(-c5c(c)cc(oc)cc5c)c5ccc2c3c54)c(c)c1\n",
            "Sum_and_conc is OK!\n"
          ]
        },
        {
          "output_type": "stream",
          "name": "stderr",
          "text": [
            " 24%|██▎       | 269/1139 [00:07<00:22, 38.90it/s]"
          ]
        },
        {
          "output_type": "stream",
          "name": "stdout",
          "text": [
            "DF is LOAD!\n",
            "diagrams_basic_cc(c)(c)c1ccc2c(c1)c1cc(c(c)(c)c)ccc1n2-c1ccc(n(c2ccc(-c3ccc(n(c4ccc(-n5c6ccc(c(c)(c)c)cc6c6cc(c(c)(c)c)ccc65)cc4)c4ccc(-n5c6ccc(c(c)(c)c)cc6c6cc(c(c)(c)c)ccc65)cc4)cc3)cc2)c2ccc(-n3c4ccc(c(c)(c)c)cc4c4cc(c(c)(c)c)ccc43)cc2)cc1\n",
            "Sum_and_conc is OK!\n",
            "DF is LOAD!\n",
            "diagrams_basic_ccc(c)(c)o\n",
            "Sum_and_conc is OK!\n",
            "DF is LOAD!\n",
            "diagrams_basic_n#cn1ccccc1\n",
            "Sum_and_conc is OK!\n",
            "DF is LOAD!\n",
            "diagrams_basic_[bh3-][p+]1(c2ccccc2)c2ccccc2-c2sc3ccccc3c21\n",
            "Sum_and_conc is OK!\n",
            "DF is LOAD!\n",
            "diagrams_basic_cc(c)[si](c#cc1ccc(c#c[si](c(c)c)(c(c)c)c(c)c)c2nc3c4ccccc4c(=o)c4ccccc4c3nc12)(c(c)c)c(c)c\n",
            "Sum_and_conc is OK!\n",
            "DF is LOAD!\n",
            "diagrams_basic_cc(c)(c)n\n",
            "Sum_and_conc is OK!\n",
            "DF is LOAD!\n",
            "diagrams_basic_ccccn(cccc)c1ccc(c#cc2cc(c#cc3ccc(c(f)(f)f)cc3)c(c#cc3ccc(n(cccc)cccc)cc3)cc2c#cc2ccc(c(f)(f)f)cc2)cc1\n",
            "Sum_and_conc is OK!\n",
            "DF is LOAD!\n",
            "diagrams_basic_coc(=o)c1ccccc1c(=o)oc\n",
            "Sum_and_conc is OK!\n"
          ]
        },
        {
          "output_type": "stream",
          "name": "stderr",
          "text": [
            " 24%|██▍       | 278/1139 [00:08<00:23, 35.99it/s]"
          ]
        },
        {
          "output_type": "stream",
          "name": "stdout",
          "text": [
            "DF is LOAD!\n",
            "diagrams_basic_c1ccc(-c2nc(-c3ccccc3)nc(-c3cc(-n4c5ccccc5c5ccccc54)cc(-n4c5ccccc5c5ccccc54)c3)n2)cc1\n",
            "Sum_and_conc is OK!\n",
            "DF is LOAD!\n",
            "diagrams_basic_cc(c)(c)c1ccc2c(c1)c1cc(c(c)(c)c)ccc1n2-c1ccc(s(=o)(=o)c2cccc(s(=o)(=o)c3ccc(-n4c5ccc(c(c)(c)c)cc5c5cc(c(c)(c)c)ccc54)cc3)c2)cc1\n",
            "Sum_and_conc is OK!\n",
            "DF is LOAD!\n",
            "diagrams_basic_ccccc(cc)n1c2ccc(-n3c4ccccc4c4ccccc43)cc2c2cc(-n3c4ccccc4c4ccccc43)ccc21\n",
            "Sum_and_conc is OK!\n",
            "DF is LOAD!\n",
            "diagrams_basic_coc1cccc(oc)c1-c1c2ccccc2c(-c2c(oc)cccc2oc)c2ccccc12\n",
            "Sum_and_conc is OK!\n",
            "DF is LOAD!\n",
            "diagrams_basic_coc(=o)c1ccc(-c2ccc3c(c2)c(=o)c2cc(-c4ccc(c(=o)oc)cc4)ccc2-3)cc1\n",
            "Sum_and_conc is OK!\n",
            "DF is LOAD!\n",
            "diagrams_basic_o=c1c2cc(-c3ccccc3)ccc2-c2ccc(-c3ccccc3)cc21\n",
            "Sum_and_conc is OK!\n",
            "DF is LOAD!\n",
            "diagrams_basic_ccccccc1ccc(-n2c3[n+](c4c5ccccc5c5ccccc5c42)[b-](c)(c)c2cc(n(c4ccccc4)c4ccccc4)ccc2-3)cc1\n",
            "Sum_and_conc is OK!\n",
            "DF is LOAD!\n"
          ]
        },
        {
          "output_type": "stream",
          "name": "stderr",
          "text": [
            "\r 25%|██▍       | 283/1139 [00:08<00:22, 37.85it/s]"
          ]
        },
        {
          "output_type": "stream",
          "name": "stdout",
          "text": [
            "diagrams_basic_o=c1[nh]c2[n+](c3ccccc13)[b-](f)(f)oc1ccccc1-2\n",
            "Sum_and_conc is OK!\n",
            "DF is LOAD!\n",
            "diagrams_basic_o=c(c1ccc(n2c3ccccc3oc3ccccc32)cc1)c1cccc(c(=o)c2ccc(n3c4ccccc4oc4ccccc43)cc2)c1\n",
            "Sum_and_conc is OK!\n",
            "DF is LOAD!\n",
            "diagrams_basic_n#cc1nc(-n2c3ccccc3c3ccccc32)cc(-n2c3ccccc3c3ccccc32)n1\n",
            "Sum_and_conc is OK!\n",
            "DF is LOAD!\n",
            "diagrams_basic_cn(c)c1ccc(c2=nc3sc4ccccc4[n+]3[b-](f)(f)o2)cc1\n",
            "Sum_and_conc is OK!\n",
            "DF is LOAD!\n",
            "diagrams_basic_cc(c)(c)nc(=o)c1ccc2ccc3cccc4ccc1c2c34\n",
            "Sum_and_conc is OK!\n",
            "DF is LOAD!\n",
            "diagrams_basic_c1ccc2sc(-c3ccc(-c4nnc(-c5ccc(-c6nnc(-c7ccc(-c8cc9ccccc9s8)s7)o6)cc5)o4)s3)cc2c1\n",
            "Sum_and_conc is OK!\n",
            "DF is LOAD!\n",
            "diagrams_basic_o=s1(=o)c2ccccc2-c2c1c1ccccc1p2-c1ccccc1\n",
            "Sum_and_conc is OK!\n",
            "DF is LOAD!\n",
            "diagrams_basic_c1cocco1\n",
            "Sum_and_conc is OK!\n",
            "DF is LOAD!\n",
            "diagrams_basic_c1ccc(-c2c3ccccc3c(-c3ccccc3)c3ccccc23)cc1\n",
            "Sum_and_conc is OK!\n"
          ]
        },
        {
          "output_type": "stream",
          "name": "stderr",
          "text": [
            " 26%|██▌       | 292/1139 [00:08<00:20, 41.16it/s]"
          ]
        },
        {
          "output_type": "stream",
          "name": "stdout",
          "text": [
            "DF is LOAD!\n",
            "diagrams_basic_cc(c)(c)c1ccc(-c2nc3c4ccccc4c4ccccc4c3n2-c2ccc(-c3ccc(n(c4ccccc4)c4ccccc4)cc3)cc2)cc1\n",
            "Sum_and_conc is OK!\n",
            "DF is LOAD!\n",
            "diagrams_basic_ccn(cc)c1ccc2c(c1)oc(=o)c1c(c)nc3c(c(c)nn3-c3ccccc3)c12\n",
            "Sum_and_conc is OK!\n",
            "DF is LOAD!\n",
            "diagrams_basic_cccccccccc1csc2cc(-c3cc(-c4cc5scc(ccccccccc)c5s4)c4ccc5c(-c6cc7scc(ccccccccc)c7s6)cc(-c6cc7scc(ccccccccc)c7s6)c6ccc3c4c65)sc12\n",
            "Sum_and_conc is OK!\n",
            "DF is LOAD!\n",
            "diagrams_basic_cc(c)cccc(c)cccc(c)ccccc(c)cccc(c)cccc(c)c\n",
            "Sum_and_conc is OK!\n",
            "DF is LOAD!\n",
            "diagrams_basic_nc1ccccc1\n",
            "Sum_and_conc is OK!\n",
            "DF is LOAD!\n",
            "diagrams_basic_c=cc(=o)oc\n",
            "Sum_and_conc is OK!\n",
            "DF is LOAD!\n",
            "diagrams_basic_o=c1c2ccccc2nc2n1[b-](f)(f)[n+]1ccccc1-2\n",
            "Sum_and_conc is OK!\n",
            "DF is LOAD!\n",
            "diagrams_basic_ccccc1(c2ccccc2)nc2c(-c3ccc(n(c)c)cc3)ccc(-c3ccc(n(c)c)cc3)c2n=c1c1ccccc1\n",
            "Sum_and_conc is OK!\n"
          ]
        },
        {
          "output_type": "stream",
          "name": "stderr",
          "text": [
            " 26%|██▋       | 301/1139 [00:08<00:21, 38.87it/s]"
          ]
        },
        {
          "output_type": "stream",
          "name": "stdout",
          "text": [
            "DF is LOAD!\n",
            "diagrams_basic_cc(c)(c)c1ccc(-c2nc3c4ccccc4c4ccccc4c3n2-c2ccc(c(c)(c)c)cc2)cc1\n",
            "Sum_and_conc is OK!\n",
            "DF is LOAD!\n",
            "diagrams_basic_c=ccccc\n",
            "Sum_and_conc is OK!\n",
            "DF is LOAD!\n",
            "diagrams_basic_cc(=o)c1(c)cococ1\n",
            "Sum_and_conc is OK!\n",
            "DF is LOAD!\n",
            "diagrams_basic_c1ccc(-c2cc(-c3ccccc3)cc(-c3ccc4c(c3)c3(c5cc(-c6cc(-c7ccccc7)cc(-c7ccccc7)c6)ccc5-4)c4ccccc4-c4c3c3c5ccccc5ccc3c3ccccc43)c2)cc1\n",
            "Sum_and_conc is OK!\n",
            "DF is LOAD!\n",
            "diagrams_basic_cc(c)co\n",
            "Sum_and_conc is OK!\n",
            "DF is LOAD!\n",
            "diagrams_basic_cc[si](cc)(cc)oc1cccc(o[si](cc)(cc)cc)c1-c1c2ccccc2c(-c2c(o[si](cc)(cc)cc)cccc2o[si](cc)(cc)cc)c2ccccc12\n",
            "Sum_and_conc is OK!\n",
            "DF is LOAD!\n",
            "diagrams_basic_cc(c)(c)c1ccc(-c2cc3ccc4cc(-c5ccc(c(c)(c)c)cc5)cc5ccc(c2)c3c45)cc1\n",
            "Sum_and_conc is OK!\n",
            "DF is LOAD!\n",
            "diagrams_basic_c[si](c)(c)c#cc1ccc(c#cc2cnc(c#cc3ccccc3)nc2)cc1\n",
            "Sum_and_conc is OK!\n",
            "DF is LOAD!\n",
            "diagrams_basic_f[b-]1(f)n2c(nc3c4ccccc4c4ccccc4c32)-c2cccc[n+]21\n",
            "Sum_and_conc is OK!"
          ]
        },
        {
          "output_type": "stream",
          "name": "stderr",
          "text": [
            " 27%|██▋       | 310/1139 [00:09<00:20, 39.74it/s]"
          ]
        },
        {
          "output_type": "stream",
          "name": "stdout",
          "text": [
            "\n",
            "DF is LOAD!\n",
            "diagrams_basic_cc(c)(c)c1ccc2c(c1)c1cc(c(c)(c)c)ccc1n2-c1ccc(-c2nc(-c3ccc(-n4c5ccc(c(c)(c)c)cc5c5cc(c(c)(c)c)ccc54)cc3)nc(-c3ccc(p(=o)(c4ccccc4)c4ccccc4)cc3)n2)cc1\n",
            "Sum_and_conc is OK!\n",
            "DF is LOAD!\n",
            "diagrams_basic_c1ccc2c(c1)-c1ccccc1c21c2ccccc2-c2c1c1c3ccccc3ccc1c1ccccc21\n",
            "Sum_and_conc is OK!\n",
            "DF is LOAD!\n",
            "diagrams_basic_cc(c)(c)c1ccc2c(c1)c1cc(c(c)(c)c)ccc1n2-c1ccc(c#cc2ccc(c=c(c#n)c#n)cc2)cc1\n",
            "Sum_and_conc is OK!\n",
            "DF is LOAD!\n",
            "diagrams_basic_ccncc\n",
            "Sum_and_conc is OK!\n",
            "DF is LOAD!\n",
            "diagrams_basic_cc1cc(-n2c3ccccc3c3cc(c#n)ccc32)ccc1-c1ccc(s(=o)(=o)c2ccccc2)cc1c\n",
            "Sum_and_conc is OK!\n",
            "DF is LOAD!\n",
            "diagrams_basic_c#ccccc\n",
            "Sum_and_conc is OK!\n",
            "DF is LOAD!\n",
            "diagrams_basic_coc1cc(oc)cc(-c2ccc(c3=cc(c4ccccc4)=c(c4ccccc4)c3)cc2)c1\n",
            "Sum_and_conc is OK!\n",
            "DF is LOAD!\n",
            "diagrams_basic_o=s1(=o)c2ccccc2c2(c3cc(-c4ccc(-n5c6ccccc6c6ccccc65)cc4)ccc3-c3ccc(-c4ccc(-n5c6ccccc6c6ccccc65)cc4)cc32)c2ccccc21\n",
            "Sum_and_conc is OK!\n"
          ]
        },
        {
          "output_type": "stream",
          "name": "stderr",
          "text": [
            " 28%|██▊       | 318/1139 [00:09<00:21, 37.69it/s]"
          ]
        },
        {
          "output_type": "stream",
          "name": "stdout",
          "text": [
            "DF is LOAD!\n",
            "diagrams_basic_clccccl\n",
            "Sum_and_conc is OK!\n",
            "DF is LOAD!\n",
            "diagrams_basic_nc1ccccc1o\n",
            "Sum_and_conc is OK!\n",
            "DF is LOAD!\n",
            "diagrams_basic_ic1cccc2ccccc12\n",
            "Sum_and_conc is OK!\n",
            "DF is LOAD!\n",
            "diagrams_basic_o=p(c1ccccc1)(c1ccccc1)c1ccc(-n2c(-c3cccc(p(=o)(c4ccccc4)c4ccccc4)c3)nc3ccccc32)cc1\n",
            "Sum_and_conc is OK!\n",
            "DF is LOAD!\n",
            "diagrams_basic_coc1ccc2c(c1)c(c#n)c(c#n)c1cc(oc)ccc12\n",
            "Sum_and_conc is OK!\n",
            "DF is LOAD!\n",
            "diagrams_basic_o=c1c2cc(-c3ccc(n(c4ccccc4)c4ccccc4)cc3)ccc2-c2ccc(-c3ccc(n(c4ccccc4)c4ccccc4)cc3)cc21\n",
            "Sum_and_conc is OK!\n",
            "DF is LOAD!\n",
            "diagrams_basic_occ(o)co\n",
            "Sum_and_conc is OK!\n",
            "DF is LOAD!\n",
            "diagrams_basic_n#cc(c#n)=cc1ccc(c(=c(c2ccccc2)c2ccccc2)c2ccccc2)cc1\n",
            "Sum_and_conc is OK!\n",
            "DF is LOAD!\n",
            "diagrams_basic_[2h]occ\n",
            "Sum_and_conc is OK!\n"
          ]
        },
        {
          "output_type": "stream",
          "name": "stderr",
          "text": [
            " 29%|██▉       | 328/1139 [00:09<00:20, 38.67it/s]"
          ]
        },
        {
          "output_type": "stream",
          "name": "stdout",
          "text": [
            "DF is LOAD!\n",
            "diagrams_basic_cc(c)oc(c)c\n",
            "Sum_and_conc is OK!\n",
            "DF is LOAD!\n",
            "diagrams_basic_c[p+]1(c2ccccc2)c2ccccc2-c2sc3ccccc3c21\n",
            "Sum_and_conc is OK!\n",
            "DF is LOAD!\n",
            "diagrams_basic_ccn(cc)cc\n",
            "Sum_and_conc is OK!\n",
            "DF is LOAD!\n",
            "diagrams_basic_cccccc1c(c(=o)c2ccc3c4c(cccc24)-c2cccc4c2c3cc=c4)c2ccc3cccc4c5cccc6ccc1c(c65)c2c34\n",
            "Sum_and_conc is OK!\n",
            "DF is LOAD!\n",
            "diagrams_basic_coccoccoccoc\n",
            "Sum_and_conc is OK!\n",
            "DF is LOAD!\n",
            "diagrams_basic_c1ccc2c(-n3c(-c4ccc(-c5ccc(-c6nc7c8ccccc8c8ccccc8c7n6-c6cccc7ccccc67)c6ccccc56)c5ccccc45)nc4c5ccccc5c5ccccc5c43)cccc2c1\n",
            "Sum_and_conc is OK!\n",
            "DF is LOAD!\n",
            "diagrams_basic_cc1csc2[n+]1[b-](f)(f)oc(c1ccc(n(c)c)cc1)=n2\n",
            "Sum_and_conc is OK!\n",
            "DF is LOAD!\n",
            "diagrams_basic_c1ccc2c(-c3ccc(-c4nnc(-c5ccc(-c6nnc(-c7ccc(-c8cccc9ccccc89)s7)o6)cc5)o4)s3)cccc2c1\n"
          ]
        },
        {
          "output_type": "stream",
          "name": "stderr",
          "text": [
            "\r 29%|██▉       | 332/1139 [00:09<00:21, 38.04it/s]"
          ]
        },
        {
          "output_type": "stream",
          "name": "stdout",
          "text": [
            "Sum_and_conc is OK!\n",
            "DF is LOAD!\n",
            "diagrams_basic_coccoccoc\n",
            "Sum_and_conc is OK!\n",
            "DF is LOAD!\n",
            "diagrams_basic_cc1cc(c)nc(c)c1\n",
            "Sum_and_conc is OK!\n",
            "DF is LOAD!\n",
            "diagrams_basic_cc(c)(c)c1ccc(-c2nc3c4ccc(-c5ccc6ccc7cccc8ccc5c6c78)cc4c4cc(-c5ccc6ccc7cccc8ccc5c6c78)ccc4c3n2-c2ccc(c(c)(c)c)cc2)cc1\n",
            "Sum_and_conc is OK!\n",
            "DF is LOAD!\n",
            "diagrams_basic_ccoc(=o)c1csc2[n+]1[b-](f)(f)oc(c1ccc(n(c)c)cc1)=n2\n",
            "Sum_and_conc is OK!\n",
            "DF is LOAD!\n",
            "diagrams_basic_o=p(c1ccccc1)(c1ccccc1)c1ccc(n2c3ccccc3oc3ccccc32)cc1\n",
            "Sum_and_conc is OK!\n",
            "DF is LOAD!\n",
            "diagrams_basic_ccc1(cc)c2cc(-c3ccc(-c4ccccc4)cc3-c3ccccc3)ccc2-c2nc3c(nc21)-c1ccc(-c2ccc(-c4ccccc4)cc2-c2ccccc2)cc1c3(cc)cc\n",
            "Sum_and_conc is OK!\n",
            "DF is LOAD!\n",
            "diagrams_basic_coc1ccc(-c2cc3ccc4cc(-c5ccc(oc)cc5)cc5ccc(c2)c3c45)cc1\n",
            "Sum_and_conc is OK!\n",
            "DF is LOAD!\n",
            "diagrams_basic_cccoc(c)=o\n",
            "Sum_and_conc is OK!\n"
          ]
        },
        {
          "output_type": "stream",
          "name": "stderr",
          "text": [
            " 30%|██▉       | 341/1139 [00:09<00:20, 38.42it/s]"
          ]
        },
        {
          "output_type": "stream",
          "name": "stdout",
          "text": [
            "DF is LOAD!\n",
            "diagrams_basic_c1ccc(c2=c(c3ccccc3)[si](c3ccccc3)(c3ccccc3)c3ccccc32)cc1\n",
            "Sum_and_conc is OK!\n",
            "DF is LOAD!\n",
            "diagrams_basic_o=c1c2ccccc2c2=cc3ccc4ccccc4[n+]3[b-](f)(f)n12\n",
            "Sum_and_conc is OK!\n",
            "DF is LOAD!\n",
            "diagrams_basic_cccccccc\n",
            "Sum_and_conc is OK!\n",
            "DF is LOAD!\n",
            "diagrams_basic_oc1c(cl)cccc1cl\n",
            "Sum_and_conc is OK!\n",
            "DF is LOAD!\n",
            "diagrams_basic_cc1c(c(=o)c2ccccc2)c2ccc3cccc4c5cccc6ccc1c(c65)c2c34\n",
            "Sum_and_conc is OK!\n",
            "DF is LOAD!\n",
            "diagrams_basic_o=c(o)c1ccc(-c2ccc(-c3ccc(n(c4ccccc4)c4ccc(c(=c(c5ccccc5)c5ccccc5)c5ccccc5)cc4)cc3)c3nsnc23)cc1\n",
            "Sum_and_conc is OK!\n",
            "DF is LOAD!\n",
            "diagrams_basic_ccccccoc1cc(c=c(c#n)c#n)c(occcccc)cc1c=c(c#n)c#n\n",
            "Sum_and_conc is OK!\n",
            "DF is LOAD!\n"
          ]
        },
        {
          "output_type": "stream",
          "name": "stderr",
          "text": [
            " 31%|███       | 349/1139 [00:10<00:23, 33.97it/s]"
          ]
        },
        {
          "output_type": "stream",
          "name": "stdout",
          "text": [
            "diagrams_basic_n#cc1cc2ccc3cccc4ccc(c1)c2c34\n",
            "Sum_and_conc is OK!\n",
            "DF is LOAD!\n",
            "diagrams_basic_ccccn1c2ccc(-c3ccc4ccccc4c3)cc2c2ccc3c4cc(-c5ccc6ccccc6c5)ccc4n(cccc)c3c21\n",
            "Sum_and_conc is OK!\n",
            "DF is LOAD!\n",
            "diagrams_basic_n#cc1c(c#n)c2cc(br)ccc2c2ccc(br)cc12\n",
            "Sum_and_conc is OK!\n",
            "DF is LOAD!\n",
            "diagrams_basic_c1ccc2c(c1)-c1ccccc1c21c2ccccc2-c2sc3c(c21)c1(c2ccccc2-c2ccccc21)c1ccccc1-3\n",
            "Sum_and_conc is OK!\n",
            "DF is LOAD!\n",
            "diagrams_basic_cc1ccc(n(c2ccc(c)cc2)c2ccc(-c3c4ccccc4c(-c4ccc(n(c5ccc(c)cc5)c5ccc(c)cc5)cc4)c4nsnc34)cc2)cc1\n",
            "Sum_and_conc is OK!\n",
            "DF is LOAD!\n",
            "diagrams_basic_c1ccsc1\n",
            "Sum_and_conc is OK!\n",
            "DF is LOAD!\n"
          ]
        },
        {
          "output_type": "stream",
          "name": "stderr",
          "text": [
            " 31%|███▏      | 357/1139 [00:10<00:21, 35.85it/s]"
          ]
        },
        {
          "output_type": "stream",
          "name": "stdout",
          "text": [
            "diagrams_basic_o=c1c=cc2=cc3ccccc3b(o)n12\n",
            "Sum_and_conc is OK!\n",
            "DF is LOAD!\n",
            "diagrams_basic_ccn(cc)c1ccc2c(c1)oc(=o)c1cc3c(-c4ccccc4)nn(-c4ccccc4)c3nc12\n",
            "Sum_and_conc is OK!\n",
            "DF is LOAD!\n",
            "diagrams_basic_fc1ccc(c2=c(c3ccc(f)cc3)[si](c3ccccc3)(c3ccccc3)c3ccccc32)cc1\n",
            "Sum_and_conc is OK!\n",
            "DF is LOAD!\n",
            "diagrams_basic_c1ccc(n(c2ccccc2)c2ccc(-c3nc4c5ccccc5c5ccccc5c4n3-c3ccccc3)cc2)cc1\n",
            "Sum_and_conc is OK!\n",
            "DF is LOAD!\n",
            "diagrams_basic_c1=c(c2ccccc2)[si](c2ccccc2)(c2ccccc2)c2ccccc21\n",
            "Sum_and_conc is OK!\n",
            "DF is LOAD!\n",
            "diagrams_basic_c#cc1ccc(c#cc2cnc(c#cc3ccccc3)nc2)cc1\n",
            "Sum_and_conc is OK!\n",
            "DF is LOAD!\n",
            "diagrams_basic_o=[n+]([o-])c1cccc2c1ccc1[n+]2[b-](f)(f)n2c-1cc1c3ccccc3c3ccccc3c12\n",
            "Sum_and_conc is OK!\n",
            "DF is LOAD!\n",
            "diagrams_basic_ccn1c(-c2ccc(-c3ccc4c(c3)c(c)(c)c3ccccc3-4)cc2)c(-c2ccc3ccccc3c2)c(-c2ccc3ccccc3c2)c1-c1ccc(-c2ccc3c(c2)c(c)(c)c2ccccc2-3)cc1\n",
            "Sum_and_conc is OK!\n"
          ]
        },
        {
          "output_type": "stream",
          "name": "stderr",
          "text": [
            " 32%|███▏      | 365/1139 [00:10<00:21, 36.25it/s]"
          ]
        },
        {
          "output_type": "stream",
          "name": "stdout",
          "text": [
            "DF is LOAD!\n",
            "diagrams_basic_n#cc1c(c#n)c2cc(f)ccc2c2ccc(f)cc12\n",
            "Sum_and_conc is OK!\n",
            "DF is LOAD!\n",
            "diagrams_basic_cccc#n\n",
            "Sum_and_conc is OK!\n",
            "DF is LOAD!\n",
            "diagrams_basic_c=cco\n",
            "Sum_and_conc is OK!\n",
            "DF is LOAD!\n",
            "diagrams_basic_ccccn1c2ccccc2c2cc(c#cc3ccc4ccc5cccc6ccc3c4c56)ccc21\n",
            "Sum_and_conc is OK!\n",
            "DF is LOAD!\n",
            "diagrams_basic_coc1ccc(-c2nc3ccccc3nc2-c2ccc(oc)cc2)cc1\n",
            "Sum_and_conc is OK!\n",
            "DF is LOAD!\n",
            "diagrams_basic_o=p(c1ccccc1)(c1ccccc1)c1cccc(-n2c(-c3ccccc3p(=o)(c3ccccc3)c3ccccc3)nc3ccccc32)c1\n",
            "Sum_and_conc is OK!\n",
            "DF is LOAD!\n",
            "diagrams_basic_c1ccc(-c2ccc(-c3ccccc3)s2)cc1\n",
            "Sum_and_conc is OK!\n",
            "DF is LOAD!\n",
            "diagrams_basic_ccccc1(c2ccc(oc)cc2)nc2ccccc2n=c1c1ccc(oc)cc1\n",
            "Sum_and_conc is OK!\n"
          ]
        },
        {
          "output_type": "stream",
          "name": "stderr",
          "text": [
            "\r 32%|███▏      | 370/1139 [00:10<00:21, 36.25it/s]"
          ]
        },
        {
          "output_type": "stream",
          "name": "stdout",
          "text": [
            "DF is LOAD!\n",
            "diagrams_basic_c1ccc(-p2c3ccccc3c3sc4ccccc4c32)cc1\n",
            "Sum_and_conc is OK!\n",
            "DF is LOAD!\n",
            "diagrams_basic_clc1cccc2ccccc12\n",
            "Sum_and_conc is OK!\n",
            "DF is LOAD!\n",
            "diagrams_basic_c1ccncc1\n",
            "Sum_and_conc is OK!\n",
            "DF is LOAD!\n",
            "diagrams_basic_cc1ccccc1n(c1ccc(c(c)(c)c)cc1)c1ccc2ccc3c(n(c4ccc(c(c)(c)c)cc4)c4ccccc4c)ccc4ccc1c2c43\n",
            "Sum_and_conc is OK!\n",
            "DF is LOAD!\n",
            "diagrams_basic_n#cc1cccc(c#n)c1-c1ccc(n2c3ccccc3c3(c4ccccc42)c2ccccc2n(c2ccc(-c4c(c#n)cccc4c#n)cc2)c2ccccc23)cc1\n",
            "Sum_and_conc is OK!\n",
            "DF is LOAD!\n",
            "diagrams_basic_o=c1c2ccccc2c(=cc2ccc(c3=c4c(=o)n(cc5ccccc5)c(c5ccc(c=c6c7ccccc7c(=o)c7ccccc76)cc5)=c4c(=o)n3cc3ccccc3)cc2)c2ccccc21\n",
            "Sum_and_conc is OK!\n",
            "DF is LOAD!\n",
            "diagrams_basic_c=coc(c)=o\n",
            "Sum_and_conc is OK!\n"
          ]
        },
        {
          "output_type": "stream",
          "name": "stderr",
          "text": [
            "\r 33%|███▎      | 374/1139 [00:10<00:23, 32.49it/s]"
          ]
        },
        {
          "output_type": "stream",
          "name": "stdout",
          "text": [
            "DF is LOAD!\n",
            "diagrams_basic_o=p(c1ccccc1)(c1ccccc1)c1ccc2sc3cccc(p(=o)(c4ccccc4)c4ccccc4)c3c2c1\n",
            "Sum_and_conc is OK!\n",
            "DF is LOAD!\n",
            "diagrams_basic_cc(c)(c)c1ccc(-n2c(-c3ccc(-c4cc(-c5ccccc5)c5c6ccccc6c6ccccc6c5c4-c4ccccc4)cc3)nc3c4ccccc4c4ccccc4c32)cc1\n",
            "Sum_and_conc is OK!\n"
          ]
        },
        {
          "output_type": "stream",
          "name": "stderr",
          "text": [
            "\r 33%|███▎      | 378/1139 [00:11<00:32, 23.23it/s]"
          ]
        },
        {
          "output_type": "stream",
          "name": "stdout",
          "text": [
            "DF is LOAD!\n",
            "diagrams_basic_cc(c)(c)c1ccc2c(c1)c1cc(c(c)(c)c)ccc1n2-c1ccc(c#cc2ccc(c=o)cc2)cc1\n",
            "Sum_and_conc is OK!\n",
            "DF is LOAD!\n",
            "diagrams_basic_occ1ccco1\n",
            "Sum_and_conc is OK!\n",
            "DF is LOAD!\n",
            "diagrams_basic_ccc(c)c\n",
            "Sum_and_conc is OK!\n",
            "DF is LOAD!\n",
            "diagrams_basic_coc1ccc(c(=cc2ccc(c#n)cc2)c2ccc(oc)cc2)cc1\n",
            "Sum_and_conc is OK!\n",
            "DF is LOAD!\n",
            "diagrams_basic_cn(c)c1ccc(c(=cc2ccc(c=o)cc2)c2ccc(n(c)c)cc2)cc1\n",
            "Sum_and_conc is OK!"
          ]
        },
        {
          "output_type": "stream",
          "name": "stderr",
          "text": [
            " 34%|███▎      | 384/1139 [00:11<00:32, 23.41it/s]"
          ]
        },
        {
          "output_type": "stream",
          "name": "stdout",
          "text": [
            "\n",
            "DF is LOAD!\n",
            "diagrams_basic_c1ccc(n(c2ccccc2)c2ccc(-c3ccc4c(c3)c3(c5cc(-c6ccc(n(c7ccccc7)c7ccccc7)cc6)ccc5s4)c4ccccc4-c4ccccc43)cc2)cc1\n",
            "Sum_and_conc is OK!\n",
            "DF is LOAD!\n",
            "diagrams_basic_cc1ccc2c(c1)c1cc(c)ccc1n2-c1c(-n2c3ccccc3c3ccccc32)cc(-c2nc(-c3ccccc3)nc(-c3ccccc3)n2)cc1-n1c2ccccc2c2ccccc21\n",
            "Sum_and_conc is OK!\n",
            "DF is LOAD!\n",
            "diagrams_basic_cc1ccc(n(c2ccc(c)cc2)c2cc(n(c3ccc(c)cc3)c3ccc(c)cc3)c3ccc4cc(c(c)(c)c)cc5ccc2c3c54)cc1\n",
            "Sum_and_conc is OK!\n",
            "DF is LOAD!\n",
            "diagrams_basic_n#cc1c(n2ccccc2)cc(-c2cccc3ccccc23)c2c1ccc1ccccc1-2\n",
            "Sum_and_conc is OK!\n",
            "DF is LOAD!\n",
            "diagrams_basic_o=s(=o)(c1ccc(n2c3ccccc3sc3ccccc32)cc1)c1ccc(-n2c3ccccc3c3ccccc32)cc1\n",
            "Sum_and_conc is OK!\n"
          ]
        },
        {
          "output_type": "stream",
          "name": "stderr",
          "text": [
            " 34%|███▍      | 390/1139 [00:11<00:30, 24.48it/s]"
          ]
        },
        {
          "output_type": "stream",
          "name": "stdout",
          "text": [
            "DF is LOAD!\n",
            "diagrams_basic_cccccc\n",
            "Sum_and_conc is OK!\n",
            "DF is LOAD!\n",
            "diagrams_basic_o=c1cccccn1co\n",
            "Sum_and_conc is OK!\n",
            "DF is LOAD!\n",
            "diagrams_basic_cc1(c)c2cc(-c3ccc4ccc5cccc6ccc3c4c56)ccc2-c2ccc(-c3ccc4ccc5cccc6ccc3c4c56)cc21\n",
            "Sum_and_conc is OK!\n",
            "DF is LOAD!\n",
            "diagrams_basic_cc(c)(c)c1ccc2c(c1)c1cc(c(c)(c)c)ccc1n2-c1ccccc1-c1nc(-c2ccccc2p(=o)(c2ccccc2)c2ccccc2)nc(-c2ccccc2p(=o)(c2ccccc2)c2ccccc2)n1\n",
            "Sum_and_conc is OK!\n",
            "DF is LOAD!\n",
            "diagrams_basic_f[b-]1(f)n2c(-c3ccccc3)cnc2-c2cccc[n+]21\n",
            "Sum_and_conc is OK!\n",
            "DF is LOAD!\n",
            "diagrams_basic_cc(c)(c)c1ccc(-c2c(-c3cccc(n(c4ccccc4)c4ccccc4)c3)c(c#n)c(-c3cccc(n(c4ccccc4)c4ccccc4)c3)c(-c3ccc(c(c)(c)c)cc3)c2-c2ccc(c(c)(c)c)cc2)cc1"
          ]
        },
        {
          "output_type": "stream",
          "name": "stderr",
          "text": [
            "\r 35%|███▍      | 393/1139 [00:11<00:33, 22.37it/s]"
          ]
        },
        {
          "output_type": "stream",
          "name": "stdout",
          "text": [
            "\n",
            "Sum_and_conc is OK!\n",
            "DF is LOAD!\n",
            "diagrams_basic_n#cc1c(f)c(f)c(c#n)c2oc3cc4oc5c(c#n)c(f)c(f)c(c#n)c5oc4cc3oc12\n",
            "Sum_and_conc is OK!\n",
            "DF is LOAD!\n",
            "diagrams_basic_o=c1c2ccc3c4c(oc5ccc(c(=c(c6ccccc6)c6ccccc6)c6ccccc6)cc5)cc5c6c(ccc(c7c(oc8ccc(c(=c(c9ccccc9)c9ccccc9)c9ccccc9)cc8)cc(c2c37)c(=o)n1c1ccccc1)c64)c(=o)n(c1ccccc1)c5=o\n",
            "Sum_and_conc is OK!\n",
            "DF is LOAD!\n",
            "diagrams_basic_brc1ccc(c2=c(c3ccc(br)cc3)c3cccc4c3c(cc3nc5ccccc5nc34)o2)cc1\n",
            "Sum_and_conc is OK!\n",
            "DF is LOAD!\n",
            "diagrams_basic_cc(c)(c)c1ccc2oc3nc4oc5ccc(-n6c7ccccc7c(=o)c7ccccc76)cc5c4cc3c2c1\n",
            "Sum_and_conc is OK!\n",
            "DF is LOAD!\n",
            "diagrams_basic_cc(c)(c)c1ccc2c(c1)c1cc(c(c)(c)c)ccc1n2-c1ccccc1-c1nc(-c2ccccc2-n2c3ccc(c(c)(c)c)cc3c3cc(c(c)(c)c)ccc32)nc(-c2ccccc2p(=o)(c2ccccc2)c2ccccc2)n1\n",
            "Sum_and_conc is OK!\n"
          ]
        },
        {
          "output_type": "stream",
          "name": "stderr",
          "text": [
            " 35%|███▍      | 398/1139 [00:12<00:49, 14.88it/s]"
          ]
        },
        {
          "output_type": "stream",
          "name": "stdout",
          "text": [
            "DF is LOAD!\n",
            "diagrams_basic_nc=o\n",
            "Sum_and_conc is OK!\n",
            "DF is LOAD!\n",
            "diagrams_basic_cc(c)(c)c1ccc2c(c1)-c1c3c(c4c5c1-c1cc(c(c)(c)c)ccc1ob5oc1ccc(c(c)(c)c)cc1-4)-c1cc(c(c)(c)c)ccc1ob3o2\n",
            "Sum_and_conc is OK!\n",
            "DF is LOAD!\n",
            "diagrams_basic_ccccn1c(=o)c2=c(c3ccc(-c4ccc(n(c5ccc(oc)cc5)c5ccc(oc)cc5)cc4)cc3)n(cccc)c(=o)c2=c1c1ccc(br)cc1\n",
            "Sum_and_conc is OK!\n"
          ]
        },
        {
          "output_type": "stream",
          "name": "stderr",
          "text": [
            "\r 35%|███▌      | 400/1139 [00:12<00:51, 14.41it/s]"
          ]
        },
        {
          "output_type": "stream",
          "name": "stdout",
          "text": [
            "DF is LOAD!\n",
            "diagrams_basic_c1ccc(-n2nc(-c3ccc(n4c5ccccc5oc5ccccc54)cc3)nc2-c2ccccn2)cc1\n",
            "Sum_and_conc is OK!\n",
            "DF is LOAD!\n",
            "diagrams_basic_n#cn1cccc1\n",
            "Sum_and_conc is OK!\n",
            "DF is LOAD!\n",
            "diagrams_basic_ccccccccccccccccccoc1ccc([b-]23nc(c4ccccc4)=nc4cccc([n+]42)n=c(c2ccccc2)n3)cc1\n",
            "Sum_and_conc is OK!\n"
          ]
        },
        {
          "output_type": "stream",
          "name": "stderr",
          "text": [
            " 35%|███▌      | 404/1139 [00:12<00:55, 13.14it/s]"
          ]
        },
        {
          "output_type": "stream",
          "name": "stdout",
          "text": [
            "DF is LOAD!\n",
            "diagrams_basic_c1ccc(c(=c(c2ccccc2)c2ccc(-c3ccc(-c4ccc(-c5ccc(c(=c(c6ccccc6)c6ccccc6)c6ccccc6)cc5)c5nsnc45)s3)cc2)c2ccccc2)cc1\n",
            "Sum_and_conc is OK!\n",
            "DF is LOAD!\n",
            "diagrams_basic_c1cc(-c2ccc(-n3c4ccccc4c4ccccc43)cc2)c2nsnc2c1\n",
            "Sum_and_conc is OK!\n",
            "DF is LOAD!\n",
            "diagrams_basic_brccbr\n",
            "Sum_and_conc is OK!\n"
          ]
        },
        {
          "output_type": "stream",
          "name": "stderr",
          "text": [
            " 36%|███▌      | 408/1139 [00:12<00:49, 14.91it/s]"
          ]
        },
        {
          "output_type": "stream",
          "name": "stdout",
          "text": [
            "DF is LOAD!\n",
            "diagrams_basic_ccccccc(c)o\n",
            "Sum_and_conc is OK!\n",
            "DF is LOAD!\n",
            "diagrams_basic_ccccn(cccc)c1ccc(c#cc2cc(c#cc3cc(c(f)(f)f)cc(c(f)(f)f)c3)c(c#cc3ccc(n(cccc)cccc)cc3)cc2c#cc2cc(c(f)(f)f)cc(c(f)(f)f)c2)cc1\n",
            "Sum_and_conc is OK!\n",
            "DF is LOAD!\n",
            "diagrams_basic_c1ccc(-c2nc3c(-c4ccc(n(c5ccccc5)c5ccccc5)cc4)ccc(-c4ccc(n(c5ccccc5)c5ccccc5)cc4)c3nc2-c2ccccc2)cc1\n",
            "Sum_and_conc is OK!\n",
            "DF is LOAD!\n",
            "diagrams_basic_ccccn1c2ccc(-c3cccc(f)c3)cc2c2ccc3c4cc(-c5cccc(f)c5)ccc4n(cccc)c3c21\n",
            "Sum_and_conc is OK!\n"
          ]
        },
        {
          "output_type": "stream",
          "name": "stderr",
          "text": [
            " 36%|███▋      | 415/1139 [00:13<00:30, 23.36it/s]"
          ]
        },
        {
          "output_type": "stream",
          "name": "stdout",
          "text": [
            "DF is LOAD!\n",
            "diagrams_basic_c1ccocc1\n",
            "Sum_and_conc is OK!\n",
            "DF is LOAD!\n",
            "diagrams_basic_coc1ccc(n(c2ccccc2)c2ccccc2)cc1\n",
            "Sum_and_conc is OK!\n",
            "DF is LOAD!\n",
            "diagrams_basic_f[b-]1(f)n2c(cc3c4ccccc4c4ccccc4c32)-c2ccc3ccccc3[n+]21\n",
            "Sum_and_conc is OK!\n",
            "DF is LOAD!\n",
            "diagrams_basic_coc1ccc(c(=c(c2ccccc2)c2ccc(c=c(c#n)c#n)cc2)c2ccc(oc)cc2)cc1\n",
            "Sum_and_conc is OK!\n",
            "DF is LOAD!\n",
            "diagrams_basic_c1ccc(-c2ccc3c(c2)c2(c4ccccc4-c4ccccc42)c2ccccc2-3)cc1\n",
            "Sum_and_conc is OK!\n",
            "DF is LOAD!\n",
            "diagrams_basic_ccccccoc1cc(c=c2c(=o)nc(=o)nc2=o)c(occcccc)cc1c#cc1ccc(c(=c(c2ccccc2)c2ccccc2)c2ccccc2)cc1\n",
            "Sum_and_conc is OK!\n",
            "DF is LOAD!\n",
            "diagrams_basic_cc1cc(c)c(b(c2c(c)cc(c)cc2c)c2cc3cc(n(c)c)c4ccccc4c3c3c2ccc2ccccc23)c(c)c1\n",
            "Sum_and_conc is OK!\n",
            "DF is LOAD!\n",
            "diagrams_basic_c=cc#n\n"
          ]
        },
        {
          "output_type": "stream",
          "name": "stderr",
          "text": [
            "\r 37%|███▋      | 418/1139 [00:13<00:33, 21.66it/s]"
          ]
        },
        {
          "output_type": "stream",
          "name": "stdout",
          "text": [
            "Sum_and_conc is OK!\n",
            "DF is LOAD!\n",
            "diagrams_basic_coc1ccc(n(c2ccc(oc)cc2)c2cc3ccc4cc(b(c5c(c)cc(c)cc5c)c5c(c)cc(c)cc5c)cc5ccc(c2)c3c45)cc1\n",
            "Sum_and_conc is OK!\n",
            "DF is LOAD!\n",
            "diagrams_basic_cc1occo1\n",
            "Sum_and_conc is OK!\n",
            "DF is LOAD!\n",
            "diagrams_basic_coc1cc(oc)cc(c2=cc(c3ccccc3)=c(c3ccccc3)c2)c1\n",
            "Sum_and_conc is OK!\n",
            "DF is LOAD!\n",
            "diagrams_basic_coc(c)(c)c\n",
            "Sum_and_conc is OK!\n"
          ]
        },
        {
          "output_type": "stream",
          "name": "stderr",
          "text": [
            " 37%|███▋      | 424/1139 [00:13<00:29, 23.94it/s]"
          ]
        },
        {
          "output_type": "stream",
          "name": "stdout",
          "text": [
            "DF is LOAD!\n",
            "diagrams_basic_n#cc1=cc=cc(c#n)=p1(c1ccccc1)c1ccccc1\n",
            "Sum_and_conc is OK!\n",
            "DF is LOAD!\n",
            "diagrams_basic_ccccn1c2ccc(-c3ccc(c(f)(f)f)cc3)cc2c2ccc3c4cc(-c5ccc(c(f)(f)f)cc5)ccc4n(cccc)c3c21\n",
            "Sum_and_conc is OK!\n",
            "DF is LOAD!\n",
            "diagrams_basic_c1ccc(-n2c(-c3ccc(n(c4ccc(-c5ccc(n(c6ccc(-c7nc8c9ccccc9c9ccccc9c8n7-c7ccccc7)cc6)c6ccc(-c7nc8c9ccccc9c9ccccc9c8n7-c7ccccc7)cc6)cc5)cc4)c4ccc(-c5nc6c7ccccc7c7ccccc7c6n5-c5ccccc5)cc4)cc3)nc3c4ccccc4c4ccccc4c32)cc1\n",
            "Sum_and_conc is OK!\n",
            "DF is LOAD!\n",
            "diagrams_basic_clc1cccc(cl)c1\n",
            "Sum_and_conc is OK!\n",
            "DF is LOAD!\n",
            "diagrams_basic_cc1cc(c)c(c)c(o)c1\n",
            "Sum_and_conc is OK!\n"
          ]
        },
        {
          "output_type": "stream",
          "name": "stderr",
          "text": [
            " 38%|███▊      | 430/1139 [00:13<00:28, 25.24it/s]"
          ]
        },
        {
          "output_type": "stream",
          "name": "stdout",
          "text": [
            "DF is LOAD!\n",
            "diagrams_basic_c1ccc2c(c1)sc1ccccc1s2\n",
            "Sum_and_conc is OK!\n",
            "DF is LOAD!\n",
            "diagrams_basic_c[si](c)(c)[si](c1ccc(-c2ccc(-c3ccc([si]([si](c)(c)c)([si](c)(c)c)[si](c)(c)c)s3)s2)s1)([si](c)(c)c)[si](c)(c)c\n",
            "Sum_and_conc is OK!\n",
            "DF is LOAD!\n",
            "diagrams_basic_o=c1c2ccccc2c2=cc3ccccc3b(o)n12\n",
            "Sum_and_conc is OK!\n",
            "DF is LOAD!\n",
            "diagrams_basic_coc1ccc(-c2ccc(-c3c4c(nc5ccccc35)-c3cc5c(cc3cc4)-c3nc4ccccc4c(-c4ccc(-c6ccc(oc)cc6)cc4)c3cc5)cc2)cc1\n",
            "Sum_and_conc is OK!\n",
            "DF is LOAD!\n",
            "diagrams_basic_cc(c)[si](c#cc1c2cc3ccccc3cc2c(c#c[si](c(c)c)(c(c)c)c(c)c)c2nc3c4ccccc4c(=o)c4ccccc4c3nc12)(c(c)c)c(c)c\n",
            "Sum_and_conc is OK!\n",
            "DF is LOAD!\n",
            "diagrams_basic_ccn1c(-c2ccc(-c3ccc(-c4ccc(-c5n(cc)c6cc(c)ccc6[n+]5cc)cc4)cc3)cc2)[n+](cc)c2ccc(c)cc21\n",
            "Sum_and_conc is OK!\n",
            "DF is LOAD!\n",
            "diagrams_basic_n#cc1ccc2c(c1)c1ccccc1n2-c1cccc(-n2c3ccccc3c3ccccc32)c1\n",
            "Sum_and_conc is OK!\n"
          ]
        },
        {
          "output_type": "stream",
          "name": "stderr",
          "text": [
            " 38%|███▊      | 438/1139 [00:14<00:26, 26.65it/s]"
          ]
        },
        {
          "output_type": "stream",
          "name": "stdout",
          "text": [
            "DF is LOAD!\n",
            "diagrams_basic_ccccc(cc)cn1c(=o)c2cccc3c(c#cc4ccc(n(c5ccccc5)c5ccc(c#cc6ccc7c8c(cccc68)c(=o)n(cc(cc)cccc)c7=o)cc5)cc4)ccc(c23)c1=o\n",
            "Sum_and_conc is OK!\n",
            "DF is LOAD!\n",
            "diagrams_basic_cc1cc(c)c(b(c2c(c)cc(c)cc2c)n2c3ccccc3c(c)(c)c3ccccc32)c(c)c1\n",
            "Sum_and_conc is OK!\n",
            "DF is LOAD!\n",
            "diagrams_basic_ccn1c(-c2ccc(-c3cccc4ccccc34)cc2)c(-c2ccc3ccccc3c2)c(-c2ccc3ccccc3c2)c1-c1ccc(-c2cccc3ccccc23)cc1\n",
            "Sum_and_conc is OK!\n",
            "DF is LOAD!\n",
            "diagrams_basic_cc1(c)c2ccccc2n(c2cccc(s(=o)(=o)c3cccc(n4c5ccccc5c(c)(c)c5ccccc54)c3)c2)c2ccccc21\n",
            "Sum_and_conc is OK!\n",
            "DF is LOAD!\n",
            "diagrams_basic_c1ccc2cc(-c3c4ccccc4c(-c4ccc(-c5ccc(-n6c7ccccc7c7ccccc76)cc5)cc4)c4ccccc34)ccc2c1\n",
            "Sum_and_conc is OK!\n",
            "DF is LOAD!\n"
          ]
        },
        {
          "output_type": "stream",
          "name": "stderr",
          "text": [
            "\r 39%|███▊      | 441/1139 [00:14<00:27, 25.11it/s]"
          ]
        },
        {
          "output_type": "stream",
          "name": "stdout",
          "text": [
            "diagrams_basic_o=c(c1ccc(n2c3ccccc3sc3ccccc32)cc1)c1ccc2sc3ccccc3c2c1\n",
            "Sum_and_conc is OK!\n",
            "DF is LOAD!\n",
            "diagrams_basic_cccccc1ccc(-c2ccc(c#n)cc2)cc1\n",
            "Sum_and_conc is OK!\n",
            "DF is LOAD!\n",
            "diagrams_basic_ccccc(cc)cn1c2cc(c#n)ccc2c2ccc(c#cc3ccc4ccc5c(c#cc6ccc7c8ccc(c#n)cc8n(cc(cc)cccc)c7c6)ccc6ccc3c4c65)cc21\n",
            "Sum_and_conc is OK!\n",
            "DF is LOAD!\n",
            "diagrams_basic_ccn(cc)c1ccc2c(c1)oc(=o)c1cc3c(-c4ccccc4)nn(c)c3nc12\n",
            "Sum_and_conc is OK!\n",
            "DF is LOAD!\n",
            "diagrams_basic_cc1cc(-c2ccc(-c3n(c)c4ccccc4[n+]3c)cc2)ccc1-c1ccc(-c2n(c)c3ccccc3[n+]2c)cc1\n",
            "Sum_and_conc is OK!\n"
          ]
        },
        {
          "output_type": "stream",
          "name": "stderr",
          "text": [
            " 39%|███▉      | 447/1139 [00:14<00:28, 24.38it/s]"
          ]
        },
        {
          "output_type": "stream",
          "name": "stdout",
          "text": [
            "DF is LOAD!\n",
            "diagrams_basic_c1ccc(-c2cccc3c2-c2ccccc2c32c3ccccc3-c3ccccc32)cc1\n",
            "Sum_and_conc is OK!\n",
            "DF is LOAD!\n",
            "diagrams_basic_ccccn(cccc)c1ccc(c#cc2cc(c#cc3ccc(c(f)(f)f)cc3)c(c#cc3ccc(c(f)(f)f)cc3)cc2c#cc2ccc(n(cccc)cccc)cc2)cc1\n",
            "Sum_and_conc is OK!\n",
            "DF is LOAD!\n",
            "diagrams_basic_n#cc1ccc(n(c2ccc(c#n)cc2)c2ccc3c4cccc5c(n(c6ccc(c#n)cc6)c6ccc(c#n)cc6)ccc(c6cccc2c63)c54)cc1\n",
            "Sum_and_conc is OK!\n",
            "DF is LOAD!\n",
            "diagrams_basic_c1ccc(n(c2ccccc2)c2ccc(-c3ccc(-c4ccc(n(c5ccccc5)c5ccccc5)cc4)c4nsnc34)cc2)cc1\n",
            "Sum_and_conc is OK!\n",
            "DF is LOAD!\n",
            "diagrams_basic_cc1ccc(n(c2cc(c(c)(c)c)ccc2c)c2ccc3ccc4c(n(c5ccc(c)cc5c)c5cc(c(c)(c)c)ccc5c)ccc5ccc2c3c54)c(c)c1\n",
            "Sum_and_conc is OK!\n",
            "DF is LOAD!\n",
            "diagrams_basic_o=c1nccc1c1ccccc1\n",
            "Sum_and_conc is OK!\n"
          ]
        },
        {
          "output_type": "stream",
          "name": "stderr",
          "text": [
            "\r 40%|███▉      | 450/1139 [00:14<00:35, 19.40it/s]"
          ]
        },
        {
          "output_type": "stream",
          "name": "stdout",
          "text": [
            "DF is LOAD!\n",
            "diagrams_basic_coc1cc(c(=o)c2c(c)c3ccc4cccc5c6cccc7ccc2c(c76)c3c45)cc(oc)c1oc\n",
            "Sum_and_conc is OK!\n",
            "DF is LOAD!\n",
            "diagrams_basic_cc1cccc(c)n1\n",
            "Sum_and_conc is OK!\n"
          ]
        },
        {
          "output_type": "stream",
          "name": "stderr",
          "text": [
            "\r 40%|███▉      | 453/1139 [00:14<00:37, 18.47it/s]"
          ]
        },
        {
          "output_type": "stream",
          "name": "stdout",
          "text": [
            "DF is LOAD!\n",
            "diagrams_basic_cccccccccccco\n",
            "Sum_and_conc is OK!\n",
            "DF is LOAD!\n",
            "diagrams_basic_cnc1ccccc1\n",
            "Sum_and_conc is OK!\n",
            "DF is LOAD!\n",
            "diagrams_basic_clcccl\n",
            "Sum_and_conc is OK!\n"
          ]
        },
        {
          "output_type": "stream",
          "name": "stderr",
          "text": [
            " 40%|████      | 457/1139 [00:15<00:40, 17.00it/s]"
          ]
        },
        {
          "output_type": "stream",
          "name": "stdout",
          "text": [
            "DF is LOAD!\n",
            "diagrams_basic_c1ccc(-c2nc3ccccc3nc2-c2ccccc2)cc1\n",
            "Sum_and_conc is OK!\n",
            "DF is LOAD!\n",
            "diagrams_basic_occ(cl)(cl)cl\n",
            "Sum_and_conc is OK!\n",
            "DF is LOAD!\n",
            "diagrams_basic_o=p(c1ccccc1)(c1ccccc1)c1cccc(-c2cc(-n3c4ccccc4c4ccccc43)cc(-n3c4ccccc4c4ccccc43)c2)n1\n",
            "Sum_and_conc is OK!\n",
            "DF is LOAD!\n",
            "diagrams_basic_c[si]1(c2ccccc2)c(c2ccc3c(c2)c2ccccc2n3-c2ccccc2)=c(c2ccccc2)c(c2ccccc2)=c1c1ccc2c(c1)c1ccccc1n2-c1ccccc1\n",
            "Sum_and_conc is OK!\n"
          ]
        },
        {
          "output_type": "stream",
          "name": "stderr",
          "text": [
            " 41%|████      | 462/1139 [00:15<00:35, 19.11it/s]"
          ]
        },
        {
          "output_type": "stream",
          "name": "stdout",
          "text": [
            "DF is LOAD!\n",
            "diagrams_basic_ccccccccccoc(=o)c1ccc2c3ccc(c(=o)occcccccccc)c4c(c(=o)occcccccccc)cc5[nh]c6cc(c(=o)occcccccccc)c1c2c6c5c43\n",
            "Sum_and_conc is OK!\n",
            "DF is LOAD!\n",
            "diagrams_basic_cc(c)(c)c1ccc2c(c1)c1cc(c(c)(c)c)ccc1n2-c1nc2ccccc2nc1-n1c2ccc(c(c)(c)c)cc2c2cc(c(c)(c)c)ccc21\n",
            "Sum_and_conc is OK!\n",
            "DF is LOAD!\n",
            "diagrams_basic_o=c1c2ccc3c4c(-c5ccc(c(=c(c6ccccc6)c6ccccc6)c6ccccc6)cc5)cc5c6c(cc(-c7ccc(c(=c(c8ccccc8)c8ccccc8)c8ccccc8)cc7)c(c7ccc(c2c37)c(=o)n1c1ccccc1)c64)c(=o)n(c1ccccc1)c5=o\n",
            "Sum_and_conc is OK!\n",
            "DF is LOAD!\n",
            "diagrams_basic_o=cc1ccc2c(c1)c1ccccc1n2-c1ccc(-c2ccc(-n3c4ccccc4c4cc(c=o)ccc43)cc2)cc1\n",
            "Sum_and_conc is OK!\n",
            "DF is LOAD!\n",
            "diagrams_basic_c1ccc(c2=c(c3ccccc3)c3cccc4c3c(cc3nc5c(-c6ccccc6)ccc(-c6ccccc6)c5nc34)o2)cc1\n",
            "Sum_and_conc is OK!\n"
          ]
        },
        {
          "output_type": "stream",
          "name": "stderr",
          "text": [
            "\r 41%|████      | 465/1139 [00:15<00:38, 17.69it/s]"
          ]
        },
        {
          "output_type": "stream",
          "name": "stdout",
          "text": [
            "DF is LOAD!\n",
            "diagrams_basic_cc(=o)occn1c(=o)c2cccc3c(oc4ccccc4c)ccc(c23)c1=o\n",
            "Sum_and_conc is OK!\n",
            "DF is LOAD!\n",
            "diagrams_basic_cn1cccc1=o\n",
            "Sum_and_conc is OK!\n",
            "DF is LOAD!\n",
            "diagrams_basic_coc1ccc(n(c2ccc(c=c(c3ccccc3)c3ccccc3)cc2)c2ccc(oc)cc2)cc1\n",
            "Sum_and_conc is OK!\n"
          ]
        },
        {
          "output_type": "stream",
          "name": "stderr",
          "text": [
            "\r 41%|████      | 467/1139 [00:15<00:43, 15.56it/s]"
          ]
        },
        {
          "output_type": "stream",
          "name": "stdout",
          "text": [
            "DF is LOAD!\n",
            "diagrams_basic_ccn(cc)ccccccn1c(=o)c2=c(c3ccc(c=c4c5ccccc5c(=o)c5ccccc54)cc3)n(ccccccn(cc)cc)c(=o)c2=c1c1ccc(c=c2c3ccccc3c(=o)c3ccccc32)cc1\n",
            "Sum_and_conc is OK!\n",
            "DF is LOAD!\n",
            "diagrams_basic_cc(br)cbr\n",
            "Sum_and_conc is OK!\n",
            "DF is LOAD!\n",
            "diagrams_basic_cc(c)(c)c1ccc2oc3nc4oc5ccc(n6c7ccccc7sc7ccccc76)cc5c4cc3c2c1\n",
            "Sum_and_conc is OK!\n",
            "DF is LOAD!\n",
            "diagrams_basic_o=c(c1ccncc1)c1cc(-n2c3ccccc3c3ccccc32)ccc1-n1c2ccccc2c2ccccc21\n",
            "Sum_and_conc is OK!\n"
          ]
        },
        {
          "output_type": "stream",
          "name": "stderr",
          "text": [
            " 41%|████▏     | 472/1139 [00:16<00:45, 14.61it/s]"
          ]
        },
        {
          "output_type": "stream",
          "name": "stdout",
          "text": [
            "DF is LOAD!\n",
            "diagrams_basic_cc(c)(c)c1ccc(o)cc1\n",
            "Sum_and_conc is OK!\n",
            "DF is LOAD!\n",
            "diagrams_basic_cocc(c)o\n",
            "Sum_and_conc is OK!\n",
            "DF is LOAD!\n"
          ]
        },
        {
          "output_type": "stream",
          "name": "stderr",
          "text": [
            "\r 42%|████▏     | 474/1139 [00:16<00:46, 14.32it/s]"
          ]
        },
        {
          "output_type": "stream",
          "name": "stdout",
          "text": [
            "diagrams_basic_ccc(c)(c)oc\n",
            "Sum_and_conc is OK!\n",
            "DF is LOAD!\n",
            "diagrams_basic_c1ccc(-n2c(-c3ccc(-c4ccc5c(c4)c4(c6ccccc6-5)c5ccccc5-c5ccc(-c6ccc(-c7nc8ccccc8n7-c7ccccc7)cc6)c6cccc4c56)cc3)nc3ccccc32)cc1\n",
            "Sum_and_conc is OK!\n",
            "DF is LOAD!\n",
            "diagrams_basic_cc(=o)c(c)c\n",
            "Sum_and_conc is OK!\n",
            "DF is LOAD!\n",
            "diagrams_basic_coc(c)=o\n",
            "Sum_and_conc is OK!\n"
          ]
        },
        {
          "output_type": "stream",
          "name": "stderr",
          "text": [
            " 42%|████▏     | 481/1139 [00:16<00:33, 19.82it/s]"
          ]
        },
        {
          "output_type": "stream",
          "name": "stdout",
          "text": [
            "DF is LOAD!\n",
            "diagrams_basic_cc(cl)cl\n",
            "Sum_and_conc is OK!\n",
            "DF is LOAD!\n",
            "diagrams_basic_ccccn(cccc)c1ccc(c#cc2cc(c#cc3c(f)c(f)c(f)c(f)c3f)c(c#cc3ccc(n(cccc)cccc)cc3)cc2c#cc2c(f)c(f)c(f)c(f)c2f)cc1\n",
            "Sum_and_conc is OK!\n",
            "DF is LOAD!\n",
            "diagrams_basic_clc(cl)=c(cl)c(cl)=c(cl)cl\n",
            "Sum_and_conc is OK!\n",
            "DF is LOAD!\n",
            "diagrams_basic_ccn1c(-c2ccc(-c3ccc(-c4ccc(-c5n(cc)c6ccccc6[n+]5cc)cc4)c(c)c3)cc2)[n+](cc)c2ccccc21\n",
            "Sum_and_conc is OK!\n",
            "DF is LOAD!\n",
            "diagrams_basic_ccccc1(c2ccccc2)nc2c(-c3ccc(n(c)c4ccccc4)cc3)ccc(-c3ccc(n(c)c4ccccc4)cc3)c2n=c1c1ccccc1\n",
            "Sum_and_conc is OK!\n",
            "DF is LOAD!\n",
            "diagrams_basic_cc(c)[si](c#cc1c2nc3c(nc2c(c#c[si](c(c)c)(c(c)c)c(c)c)c2nc4ccccc4nc12)c1c2ccccc2c3c2ccccc21)(c(c)c)c(c)c\n",
            "Sum_and_conc is OK!\n"
          ]
        },
        {
          "output_type": "stream",
          "name": "stderr",
          "text": [
            "\r 42%|████▏     | 484/1139 [00:16<00:34, 19.00it/s]"
          ]
        },
        {
          "output_type": "stream",
          "name": "stdout",
          "text": [
            "DF is LOAD!\n",
            "diagrams_basic_fc1cc(f)cc(f)c1\n",
            "Sum_and_conc is OK!\n",
            "DF is LOAD!\n",
            "diagrams_basic_cc(c)(c)c1ccc2oc3nc4oc5cc(-n6c7ccccc7c7ccccc76)ccc5c4cc3c2c1\n",
            "Sum_and_conc is OK!\n",
            "DF is LOAD!\n",
            "diagrams_basic_cc1ccccc1c\n",
            "Sum_and_conc is OK!\n",
            "DF is LOAD!\n",
            "diagrams_basic_cc(c)[si](c#cc1c2ccccc2c(c#c[si](c(c)c)(c(c)c)c(c)c)c2nc3c4ccccc4c(=o)c4ccccc4c3nc12)(c(c)c)c(c)c\n",
            "Sum_and_conc is OK!\n"
          ]
        },
        {
          "output_type": "stream",
          "name": "stderr",
          "text": [
            " 43%|████▎     | 490/1139 [00:17<00:35, 18.15it/s]"
          ]
        },
        {
          "output_type": "stream",
          "name": "stdout",
          "text": [
            "DF is LOAD!\n",
            "diagrams_basic_coccoc\n",
            "Sum_and_conc is OK!\n",
            "DF is LOAD!\n",
            "diagrams_basic_cn1c(-c2ccc(-c3ccc(-c4ccc(-c5n(c)c6ccccc6[n+]5c)cc4)cc3)cc2)[n+](c)c2ccccc21\n",
            "Sum_and_conc is OK!\n",
            "DF is LOAD!\n",
            "diagrams_basic_cc(o)c1ccccc1\n",
            "Sum_and_conc is OK!\n",
            "DF is LOAD!\n",
            "diagrams_basic_cc(c)(c)c1cc2ccc3c(n(c4ccccc4)c4ccccc4)cc(n(c4ccccc4)c4ccccc4)c4ccc(c1)c2c34\n",
            "Sum_and_conc is OK!\n",
            "DF is LOAD!\n"
          ]
        },
        {
          "output_type": "stream",
          "name": "stderr",
          "text": [
            " 43%|████▎     | 495/1139 [00:17<00:31, 20.50it/s]"
          ]
        },
        {
          "output_type": "stream",
          "name": "stdout",
          "text": [
            "diagrams_basic_o=[n+]([o-])c1ccccc1\n",
            "Sum_and_conc is OK!\n",
            "DF is LOAD!\n",
            "diagrams_basic_cc(c)(c)c1ccc2c(c1)c1cc(c(c)(c)c)ccc1n2-c1ccc(c#cc2ccc3c4ccc(c#cc5ccc(c=o)cc5)cc4n(-c4ccc(c(f)(f)f)cc4)c3c2)cc1\n",
            "Sum_and_conc is OK!\n",
            "DF is LOAD!\n",
            "diagrams_basic_cc(c)(c)c1ccc(c2=c(c3ccc(n(c4ccccc4)c4ccccc4)cc3)s(=o)(=o)c3c2sc(-c2ccc(n(c4ccccc4)c4ccccc4)cc2)c3-c2ccc(c(c)(c)c)cc2)cc1\n",
            "Sum_and_conc is OK!\n",
            "DF is LOAD!\n",
            "diagrams_basic_c1=ccccc1\n",
            "Sum_and_conc is OK!\n",
            "DF is LOAD!\n",
            "diagrams_basic_o=s1(=o)cccc1\n",
            "Sum_and_conc is OK!\n",
            "DF is LOAD!\n"
          ]
        },
        {
          "output_type": "stream",
          "name": "stderr",
          "text": [
            "\r 44%|████▎     | 498/1139 [00:17<00:30, 21.28it/s]"
          ]
        },
        {
          "output_type": "stream",
          "name": "stdout",
          "text": [
            "diagrams_basic_c1ccc(n2n=c(c3ccc4ccc5cccc6ccc3c4c56)cc2c2ccc3ccc4cccc5ccc2c3c45)cc1\n",
            "Sum_and_conc is OK!\n",
            "DF is LOAD!\n",
            "diagrams_basic_c1ccc2c(c1)c1ccccc1n2-c1ccc2sc3ccc(-n4c5ccccc5c5cccnc54)cc3c2c1\n",
            "Sum_and_conc is OK!\n",
            "DF is LOAD!\n",
            "diagrams_basic_occoc1ccccc1\n",
            "Sum_and_conc is OK!\n",
            "DF is LOAD!\n",
            "diagrams_basic_cc1ccc(c)cc1\n",
            "Sum_and_conc is OK!\n",
            "DF is LOAD!\n",
            "diagrams_basic_ccccccccc1(cccccccc)c2ccccc2-c2ccc(-c3ccc(-c4ccc(c5=c(c6ccccc6)c(c6ccccc6)=c(c6ccc(-c7ccc(-c8ccc9c(c8)c(cccccccc)(cccccccc)c8ccccc8-9)s7)c7c6n=s=n7)[si]5(c)c)c5c4n=s=n5)s3)cc21\n",
            "Sum_and_conc is OK!\n",
            "DF is LOAD!\n"
          ]
        },
        {
          "output_type": "stream",
          "name": "stderr",
          "text": [
            " 44%|████▍     | 504/1139 [00:17<00:28, 22.08it/s]"
          ]
        },
        {
          "output_type": "stream",
          "name": "stdout",
          "text": [
            "diagrams_basic_ccccccoc1cc(c=c2c(=c(c#n)c#n)c3ccccc3c2=c(c#n)c#n)c(occcccc)cc1c=c1c(=c(c#n)c#n)c2ccccc2c1=c(c#n)c#n\n",
            "Sum_and_conc is OK!\n",
            "DF is LOAD!\n",
            "diagrams_basic_c1ccnc1\n",
            "Sum_and_conc is OK!\n",
            "DF is LOAD!\n",
            "diagrams_basic_ccccccoc1cc(c=c2c(=o)c3ccccc3c2=o)c(occcccc)cc1c=c1c(=o)c2ccccc2c1=o\n",
            "Sum_and_conc is OK!\n",
            "DF is LOAD!\n",
            "diagrams_basic_cc(c)[si](c#cc1c2nsnc2c(c#c[si](c(c)c)(c(c)c)c(c)c)c2nc3c4ccccc4c(=o)c4ccccc4c3nc12)(c(c)c)c(c)c\n",
            "Sum_and_conc is OK!\n",
            "DF is LOAD!\n",
            "diagrams_basic_n#ccco\n",
            "Sum_and_conc is OK!\n"
          ]
        },
        {
          "output_type": "stream",
          "name": "stderr",
          "text": [
            "\r 45%|████▍     | 507/1139 [00:17<00:35, 17.59it/s]"
          ]
        },
        {
          "output_type": "stream",
          "name": "stdout",
          "text": [
            "DF is LOAD!\n",
            "diagrams_basic_ccccccn1c(=o)c2cccc3c(-c4ccc(-c5cc(-c6ccc(cl)cc6)n(-c6ccccc6)n5)s4)ccc(c23)c1=o\n",
            "Sum_and_conc is OK!\n",
            "DF is LOAD!\n",
            "diagrams_basic_co\n",
            "Sum_and_conc is OK!\n",
            "DF is LOAD!\n",
            "diagrams_basic_fc(f)(f)c1ccc2oc3nc4oc5ccc(n(c6ccccc6)c6ccccc6)cc5c4cc3c2c1\n",
            "Sum_and_conc is OK!\n"
          ]
        },
        {
          "output_type": "stream",
          "name": "stderr",
          "text": [
            "\r 45%|████▍     | 509/1139 [00:18<00:36, 17.21it/s]"
          ]
        },
        {
          "output_type": "stream",
          "name": "stdout",
          "text": [
            "DF is LOAD!\n",
            "diagrams_basic_ccccn1c(-c2ccc(-c3ccc(-c4ccc(-c5n(cccc)c6cc(c)ccc6[n+]5cccc)cc4)cc3)cc2)[n+](cccc)c2ccc(c)cc21\n",
            "Sum_and_conc is OK!\n",
            "DF is LOAD!\n",
            "diagrams_basic_cc(c)[si](c#cc1c2nsnc2c(c#c[si](c(c)c)(c(c)c)c(c)c)c2nc3c(nc12)c1c2ccccc2c3c2ccccc21)(c(c)c)c(c)c\n",
            "Sum_and_conc is OK!\n",
            "DF is LOAD!\n",
            "diagrams_basic_cc[n+](=o)[o-]\n",
            "Sum_and_conc is OK!\n"
          ]
        },
        {
          "output_type": "stream",
          "name": "stderr",
          "text": [
            " 45%|████▌     | 513/1139 [00:18<00:42, 14.88it/s]"
          ]
        },
        {
          "output_type": "stream",
          "name": "stdout",
          "text": [
            "DF is LOAD!\n",
            "diagrams_basic_o=c1c(cl)c(nc2ccccc2-c2nc3ccccc3s2)c1=o\n",
            "Sum_and_conc is OK!\n",
            "DF is LOAD!\n",
            "diagrams_basic_cc(=o)cc(c)c\n",
            "Sum_and_conc is OK!\n",
            "DF is LOAD!\n",
            "diagrams_basic_brcbr\n",
            "Sum_and_conc is OK!\n"
          ]
        },
        {
          "output_type": "stream",
          "name": "stderr",
          "text": [
            "\r 45%|████▌     | 515/1139 [00:18<00:43, 14.21it/s]"
          ]
        },
        {
          "output_type": "stream",
          "name": "stdout",
          "text": [
            "DF is LOAD!\n",
            "diagrams_basic_c=c(cl)cl\n",
            "Sum_and_conc is OK!\n",
            "DF is LOAD!\n",
            "diagrams_basic_cc(c)(c)c1ccc(-c2c(-c3ccc4c5ccccc5n(-c5ccccc5)c4c3)c(c#n)c(-c3ccc4c5ccccc5n(-c5ccccc5)c4c3)c(-c3ccc(c(c)(c)c)cc3)c2-c2ccc(c(c)(c)c)cc2)cc1\n",
            "Sum_and_conc is OK!\n",
            "DF is LOAD!\n",
            "diagrams_basic_coc1ccc(c(=c(c2ccccc2)c2ccc(-c3c4c(c(-c5ccc(c(=c(c6ccc(oc)cc6)c6ccc(oc)cc6)c6ccccc6)cc5)c5nsnc35)n=s=n4)cc2)c2ccc(oc)cc2)cc1\n",
            "Sum_and_conc is OK!\n"
          ]
        },
        {
          "output_type": "stream",
          "name": "stderr",
          "text": [
            " 46%|████▌     | 520/1139 [00:18<00:36, 17.04it/s]"
          ]
        },
        {
          "output_type": "stream",
          "name": "stdout",
          "text": [
            "DF is LOAD!\n",
            "diagrams_basic_c1coco1\n",
            "Sum_and_conc is OK!\n",
            "DF is LOAD!\n",
            "diagrams_basic_n#cc1ccccc1\n",
            "Sum_and_conc is OK!\n",
            "DF is LOAD!\n",
            "diagrams_basic_ccccn1c(=o)c2=c(c3ccc(c=c4c5ccccc5c(=o)c5ccccc54)cc3)n(cccc)c(=o)c2=c1c1ccc(c=c2c3ccccc3c(=o)c3ccccc32)cc1\n",
            "Sum_and_conc is OK!\n",
            "DF is LOAD!\n",
            "diagrams_basic_o=c1c=cc2cc3ccccc3c(=o)n21\n",
            "Sum_and_conc is OK!\n",
            "DF is LOAD!\n",
            "diagrams_basic_clcc(cl)cl\n",
            "Sum_and_conc is OK!\n",
            "DF is LOAD!\n",
            "diagrams_basic_ccccccccn1c(=o)c2=c(c3ccc(-c4ccc(c(=c(c5ccccc5)c5ccccc5)c5ccc(n(c)c)cc5)cc4)cc3)n(cccccccc)c(=o)c2=c1c1ccc(-c2ccc(c(=c(c3ccccc3)c3ccccc3)c3ccc(n(c)c)cc3)cc2)cc1\n",
            "Sum_and_conc is OK!\n",
            "DF is LOAD!\n",
            "diagrams_basic_n#cc1cc(c#n)c(-c2cc(-n3c4ccccc4c4ccccc43)cc(-n3c4ccccc4c4ccccc43)c2)cc1-c1cc(-n2c3ccccc3c3ccccc32)cc(-n2c3ccccc3c3ccccc32)c1\n"
          ]
        },
        {
          "output_type": "stream",
          "name": "stderr",
          "text": [
            " 46%|████▋     | 528/1139 [00:19<00:24, 25.02it/s]"
          ]
        },
        {
          "output_type": "stream",
          "name": "stdout",
          "text": [
            "Sum_and_conc is OK!\n",
            "DF is LOAD!\n",
            "diagrams_basic_c1ccc(c2=c(c3ccccn3)[si](c3ccccc3)(c3ccccc3)c3ccccc32)cc1\n",
            "Sum_and_conc is OK!\n",
            "DF is LOAD!\n",
            "diagrams_basic_c[si]1(c2ccccc2)c(c2ccc3c4ccccc4n(-c4ccccc4)c3c2)=c(c2ccccc2)c(c2ccccc2)=c1c1ccc2c3ccccc3n(-c3ccccc3)c2c1\n",
            "Sum_and_conc is OK!\n",
            "DF is LOAD!\n",
            "diagrams_basic_cc(c)(c)c1ccc(c2=c(c3ccc(-n4c5ccccc5c5ccccc54)cc3)s(=o)(=o)c3c2sc(-c2ccc(-n4c5ccccc5c5ccccc54)cc2)c3-c2ccc(c(c)(c)c)cc2)cc1\n",
            "Sum_and_conc is OK!\n",
            "DF is LOAD!\n",
            "diagrams_basic_o=co\n",
            "Sum_and_conc is OK!\n",
            "DF is LOAD!\n",
            "diagrams_basic_o=s1(=o)c2ccc(-c3ccc(-n4c5ccccc5c5ccccc54)cc3)cc2c2(c3ccccc3-c3ccccc32)c2cc(-c3ccc(-n4c5ccccc5c5ccccc54)cc3)ccc21\n",
            "Sum_and_conc is OK!\n",
            "DF is LOAD!\n",
            "diagrams_basic_ccccl\n",
            "Sum_and_conc is OK!\n"
          ]
        },
        {
          "output_type": "stream",
          "name": "stderr",
          "text": [
            " 47%|████▋     | 536/1139 [00:19<00:19, 30.99it/s]"
          ]
        },
        {
          "output_type": "stream",
          "name": "stdout",
          "text": [
            "DF is LOAD!\n",
            "diagrams_basic_ccccc(cc)cn1c2cc(c#n)ccc2c2ccc(c#cc3ccc4ccc5ccc(c#cc6ccc7c8ccc(c#n)cc8n(cc(cc)cccc)c7c6)c6ccc3c4c56)cc21\n",
            "Sum_and_conc is OK!\n",
            "DF is LOAD!\n",
            "diagrams_basic_cc1(c)c2ccccc2n(c2ccc(-c3nc(-c4ccccn4)n(-c4ccccc4)n3)cc2)c2ccccc21\n",
            "Sum_and_conc is OK!\n",
            "DF is LOAD!\n",
            "diagrams_basic_occcl\n",
            "Sum_and_conc is OK!\n",
            "DF is LOAD!\n",
            "diagrams_basic_cc(c)(c)c1ccc(c2=c(c3ccc(-n4c5ccc(c(c)(c)c)cc5c5cc(c(c)(c)c)ccc54)cc3)s(=o)(=o)c3c2sc(-c2ccc(-n4c5ccc(c(c)(c)c)cc5c5cc(c(c)(c)c)ccc54)cc2)c3-c2ccc(c(c)(c)c)cc2)cc1\n",
            "Sum_and_conc is OK!\n",
            "DF is LOAD!\n",
            "diagrams_basic_c1ccc2c(c1)-c1ccccc1c21c2ccccc2-c2c(-c3ccncc3)cccc21\n",
            "Sum_and_conc is OK!\n",
            "DF is LOAD!\n",
            "diagrams_basic_ccn1c(-c2ccc(n(c3ccccc3)c3cccc4ccccc34)cc2)c(-c2ccc3ccccc3c2)c(-c2ccc3ccccc3c2)c1-c1ccc(n(c2ccccc2)c2cccc3ccccc23)cc1\n",
            "Sum_and_conc is OK!\n",
            "DF is LOAD!\n",
            "diagrams_basic_coc1ccccc1\n",
            "Sum_and_conc is OK!\n",
            "DF is LOAD!\n",
            "diagrams_basic_cc(c)(c)c1ccc(-c2nc3c4ccc(-c5cc6ccccc6c6ccccc56)cc4c4cc(-c5cc6ccccc6c6ccccc56)ccc4c3n2-c2ccc(c(c)(c)c)cc2)cc1\n",
            "Sum_and_conc is OK!\n"
          ]
        },
        {
          "output_type": "stream",
          "name": "stderr",
          "text": [
            " 48%|████▊     | 546/1139 [00:19<00:16, 36.85it/s]"
          ]
        },
        {
          "output_type": "stream",
          "name": "stdout",
          "text": [
            "DF is LOAD!\n",
            "diagrams_basic_cn(c)c1ccc(-c2ccc(-c3ccc(n(c)c)cc3)c3nc(-c4ccccc4)c(-c4ccccc4)nc23)cc1\n",
            "Sum_and_conc is OK!\n",
            "DF is LOAD!\n",
            "diagrams_basic_c1ccc2c(c1)c1ccccc1n2-c1ccc2sc3ccc(-n4c5ccccc5c5ccccc54)cc3c2c1\n",
            "Sum_and_conc is OK!\n",
            "DF is LOAD!\n",
            "diagrams_basic_cn(c)c1ccc(c2=cc3cc(cl)nc[n+]3[b-](f)(f)o2)cc1\n",
            "Sum_and_conc is OK!\n",
            "DF is LOAD!\n",
            "diagrams_basic_o=s1(=o)c(c2ccsc2)=c(c2ccsc2)c2ccccc21\n",
            "Sum_and_conc is OK!\n",
            "DF is LOAD!\n",
            "diagrams_basic_cc(=o)occn1c(=o)c2cccc3c(oc4ccc(c=o)cc4)ccc(c23)c1=o\n",
            "Sum_and_conc is OK!\n",
            "DF is LOAD!\n",
            "diagrams_basic_cc(c)(c)c1ccc(-n2c(-c3ccc(-c4cc(-c5ccccc5)c(-c5ccccc5)c(-c5ccccc5)c4-c4ccccc4)cc3)nc3c4ccccc4c4ccccc4c32)cc1\n",
            "Sum_and_conc is OK!\n",
            "DF is LOAD!\n",
            "diagrams_basic_c1ccc(-c2nc(-c3ccccc3)nc(-c3ccc(n4c5ccccc5c5(c6ccccc64)c4ccccc4n(c4ccc(-c6nc(-c7ccccc7)nc(-c7ccccc7)n6)cc4)c4ccccc45)cc3)n2)cc1\n",
            "Sum_and_conc is OK!\n",
            "DF is LOAD!\n",
            "diagrams_basic_fc(f)(f)c1ccc(c2=cc3ccccc3[si]2(c2ccccc2)c2ccccc2)cc1\n",
            "Sum_and_conc is OK!\n",
            "DF is LOAD!\n",
            "diagrams_basic_cc(c)(c)c1cccc(c(c)(c)c)c1o\n",
            "Sum_and_conc is OK!\n",
            "DF is LOAD!\n",
            "diagrams_basic_o=cc1ccc(c=c(c2ccccc2)c2ccccc2)cc1\n",
            "Sum_and_conc is OK!\n"
          ]
        },
        {
          "output_type": "stream",
          "name": "stderr",
          "text": [
            " 49%|████▉     | 557/1139 [00:19<00:14, 40.87it/s]"
          ]
        },
        {
          "output_type": "stream",
          "name": "stdout",
          "text": [
            "DF is LOAD!\n",
            "diagrams_basic_coccc#n\n",
            "Sum_and_conc is OK!\n",
            "DF is LOAD!\n",
            "diagrams_basic_cc(c)(c)c1ccc(-c2nc3c4ccc(-c5ccccc5)cc4c4cc(-c5ccccc5)ccc4c3n2-c2ccc(c(c)(c)c)cc2)cc1\n",
            "Sum_and_conc is OK!\n",
            "DF is LOAD!\n",
            "diagrams_basic_ccccccccn1c(=o)c2=c(c3ccc(c=c4c5ccccc5c(=o)c5ccccc54)cc3)n(cccccccc)c(=o)c2=c1c1ccc(c=c2c3ccccc3c(=o)c3ccccc32)cc1\n",
            "Sum_and_conc is OK!\n",
            "DF is LOAD!\n",
            "diagrams_basic_n#cc1ccccc1n1c2ccccc2c(c2ccccc2)(c2ccccc2)c2ccccc21\n",
            "Sum_and_conc is OK!\n",
            "DF is LOAD!\n",
            "diagrams_basic_ccccccc1(cccccc)c2cc(-c3ccc(-c4ccc(-c5ccc(-c6ccc7c(c6)c(cccccc)(cccccc)c6cc(-n8c9ccccc9c9ccccc98)ccc6-7)s5)c5nsnc45)s3)ccc2-c2ccc(-n3c4ccccc4c4ccccc43)cc21\n",
            "Sum_and_conc is OK!\n",
            "DF is LOAD!\n",
            "diagrams_basic_coc1ccc(n(c2ccc(oc)cc2)c2cc(n(c3ccc(oc)cc3)c3ccc(oc)cc3)c3ccc4cc(c(c)(c)c)cc5ccc2c3c54)cc1\n",
            "Sum_and_conc is OK!\n",
            "DF is LOAD!\n",
            "diagrams_basic_nc1cccc(o)c1\n",
            "Sum_and_conc is OK!\n",
            "DF is LOAD!\n",
            "diagrams_basic_occcc1ccccc1\n",
            "Sum_and_conc is OK!\n",
            "DF is LOAD!\n",
            "diagrams_basic_fc1c(f)c(f)c(f)c(f)c1f\n",
            "Sum_and_conc is OK!\n",
            "DF is LOAD!\n"
          ]
        },
        {
          "output_type": "stream",
          "name": "stderr",
          "text": [
            "\r 49%|████▉     | 562/1139 [00:19<00:13, 41.66it/s]"
          ]
        },
        {
          "output_type": "stream",
          "name": "stdout",
          "text": [
            "diagrams_basic_fc(f)(f)c1ccc2oc3nc4oc5ccc(n6c7ccccc7oc7ccccc76)cc5c4cc3c2c1\n",
            "Sum_and_conc is OK!\n",
            "DF is LOAD!\n",
            "diagrams_basic_cc1c(c(=o)c2ccc3c4cccc5cccc(c6cccc2c63)c54)c2ccc3cccc4c5cccc6ccc1c(c65)c2c34\n",
            "Sum_and_conc is OK!\n",
            "DF is LOAD!\n",
            "diagrams_basic_ccccn1c(=o)c2ccc3c4ccc5c6c(cc(-c7ccc(c(=c(c8ccccc8)c8ccccc8)c8ccccc8)cc7)c(c7ccc(c2c37)c1=o)c64)c(=o)n(cccc)c5=o\n",
            "Sum_and_conc is OK!\n",
            "DF is LOAD!\n",
            "diagrams_basic_cc1ccccc1n(c1ccccc1c)c1ccc2ccc3c(n(c4ccccc4c)c4ccccc4c)ccc4ccc1c2c43\n",
            "Sum_and_conc is OK!\n",
            "DF is LOAD!\n",
            "diagrams_basic_f[b-]1(f)n2c(nc(-c3ccccc3)c2-c2ccccc2)-c2cccc[n+]21\n",
            "Sum_and_conc is OK!\n",
            "DF is LOAD!\n",
            "diagrams_basic_coc1c2ccccc2c(oc)c2c(c#cc3ccccc3)c3cc4sccc4cc3c(c#cc3ccccc3)c12\n",
            "Sum_and_conc is OK!\n",
            "DF is LOAD!\n",
            "diagrams_basic_fc1ccc(-c2cc3c4c(c2)ccc2cc(-c5ccc(f)cc5)cc(c2-4)cc3)cc1\n",
            "Sum_and_conc is OK!\n",
            "DF is LOAD!\n",
            "diagrams_basic_cn(c=o)c1ccccc1\n",
            "Sum_and_conc is OK!\n",
            "DF is LOAD!\n",
            "diagrams_basic_c1ccc(c(=c(c2ccccc2)c2ccc(-c3ccc(-c4ccc(-c5sc(-c6ccc(c(=c(c7ccccc7)c7ccccc7)c7ccccc7)cc6)cc5-c5ccc(c(=c(c6ccccc6)c6ccccc6)c6ccccc6)cc5)c5nsnc45)s3)cc2)c2ccccc2)cc1\n",
            "Sum_and_conc is OK!\n"
          ]
        },
        {
          "output_type": "stream",
          "name": "stderr",
          "text": [
            " 50%|█████     | 572/1139 [00:20<00:13, 40.91it/s]"
          ]
        },
        {
          "output_type": "stream",
          "name": "stdout",
          "text": [
            "DF is LOAD!\n",
            "diagrams_basic_ccccccccn1c(=o)c2ccc3c4c(-c5ccc(n(c6ccccc6)c6ccccc6)cc5)cc5c6c(ccc(c7c(-c8ccc(n(c9ccccc9)c9ccccc9)cc8)cc(c2c37)c1=o)c64)c(=o)n(cccccccc)c5=o\n",
            "Sum_and_conc is OK!\n",
            "DF is LOAD!\n",
            "diagrams_basic_ccccccn1c(=o)c2cccc3c(-c4ccc(-c5cc(-c6ccccc6)nn5-c5ccccc5)s4)ccc(c23)c1=o\n",
            "Sum_and_conc is OK!\n",
            "DF is LOAD!\n",
            "diagrams_basic_cc(c)[si]1(c(c)c)c2cc(c=o)ccc2-c2ccc(n(c)c)cc21\n",
            "Sum_and_conc is OK!\n",
            "DF is LOAD!\n",
            "diagrams_basic_c1ccc(c2=c(c3ccccc3)c3cccc4c3c(cc3nc5cc(-c6ccc(n(c7ccccc7)c7ccccc7)cc6)c(-c6ccc(n(c7ccccc7)c7ccccc7)cc6)cc5nc34)o2)cc1\n",
            "Sum_and_conc is OK!\n",
            "DF is LOAD!\n",
            "diagrams_basic_cc1=[n+]2c(=c(c3ccc(c(=c(c4ccccc4)c4ccccc4)c4ccccc4)cc3)c3ccc(c)n3[b-]2(f)f)c=c1\n",
            "Sum_and_conc is OK!\n",
            "DF is LOAD!\n",
            "diagrams_basic_o=c1c2cc(-n3c4ccccc4c4ccccc43)ccc2s(=o)(=o)c2ccc(-n3c4ccccc4c4ccccc43)cc21\n",
            "Sum_and_conc is OK!\n",
            "DF is LOAD!\n",
            "diagrams_basic_clc(cl)c(cl)(cl)cl\n",
            "Sum_and_conc is OK!\n",
            "DF is LOAD!\n",
            "diagrams_basic_cc(c)(c)n1c(=o)c2cc3ccc4cccc5ccc(c2c1=o)c3c45\n",
            "Sum_and_conc is OK!\n",
            "DF is LOAD!\n",
            "diagrams_basic_cc1ccc2c(c1)c(c1ccccc1)(c1ccccc1)c1cc(c)ccc1n2c1ccc2c(c1)sc1ccccc1b2c1c(c(c)c)cc(c(c)c)cc1c(c)c\n",
            "Sum_and_conc is OK!\n"
          ]
        },
        {
          "output_type": "stream",
          "name": "stderr",
          "text": [
            " 51%|█████     | 583/1139 [00:20<00:12, 43.51it/s]"
          ]
        },
        {
          "output_type": "stream",
          "name": "stdout",
          "text": [
            "DF is LOAD!\n",
            "diagrams_basic_cc(c)(c)c1ccc(-c2ccc(-c3c4c(nc5ccccc35)-c3cc5c(cc3cc4)-c3nc4ccccc4c(-c4ccc(-c6ccc(c(c)(c)c)cc6)cc4)c3cc5)cc2)cc1\n",
            "Sum_and_conc is OK!\n",
            "DF is LOAD!\n",
            "diagrams_basic_ccn(cc)s(=o)(=o)n(cc)cc\n",
            "Sum_and_conc is OK!\n",
            "DF is LOAD!\n",
            "diagrams_basic_c1csc(-c2ccc(-c3ccc(-c4cccs4)s3)s2)c1\n",
            "Sum_and_conc is OK!\n",
            "DF is LOAD!\n",
            "diagrams_basic_c1ccc2cc(-c3c4ccccc4c(-c4ccc(-n5c6ccccc6c6ccccc65)cc4)c4ccccc34)ccc2c1\n",
            "Sum_and_conc is OK!\n",
            "DF is LOAD!\n",
            "diagrams_basic_o=p(c1ccccc1)(c1ccccc1)c1ccc(-c2ccc3c(c2)c2ccccc2n3-c2ccccc2)cc1\n",
            "Sum_and_conc is OK!\n",
            "DF is LOAD!\n",
            "diagrams_basic_cc1ccc(c2=nc3cccc4[n+]3[b-](f)(o2)oc(c2ccc(c)cc2)=n4)cc1\n",
            "Sum_and_conc is OK!\n",
            "DF is LOAD!\n",
            "diagrams_basic_coc(=o)c1ccc(-c2ccc(-c3nnc(-c4ccc(-c5nnc(-c6ccc(-c7ccc(c(=o)oc)cc7)s6)o5)cc4)o3)s2)cc1\n",
            "Sum_and_conc is OK!\n",
            "DF is LOAD!\n",
            "diagrams_basic_cc1=c(c2ccc(c(=c(c3ccccc3)c3ccccc3)c3ccccc3)cc2)c(c)=[n+]2c1=c(c1ccc(-c3ccc(c(=c(c4ccccc4)c4ccccc4)c4ccccc4)cc3)cc1)c1c(c)c(-c3ccc(c(=c(c4ccccc4)c4ccccc4)c4ccccc4)cc3)c(c)n1[b-]2(f)f\n",
            "Sum_and_conc is OK!\n",
            "DF is LOAD!\n",
            "diagrams_basic_o=cc1ccc2c(c1)c1ccccc1n2-c1cc2ccccc2c2ccccc12\n",
            "Sum_and_conc is OK!\n",
            "DF is LOAD!\n",
            "diagrams_basic_cccccoccccc"
          ]
        },
        {
          "output_type": "stream",
          "name": "stderr",
          "text": [
            "\r 52%|█████▏    | 588/1139 [00:20<00:13, 41.65it/s]"
          ]
        },
        {
          "output_type": "stream",
          "name": "stdout",
          "text": [
            "\n",
            "Sum_and_conc is OK!\n",
            "DF is LOAD!\n",
            "diagrams_basic_ccccccc1(cccccc)c2cc(-c3nc(-c4ccc5c(c4)c(cccccc)(cccccc)c4cc(n6c7ccccc7sc7ccccc76)ccc4-5)nc(-c4ccc5c(c4)c(cccccc)(cccccc)c4cc(n6c7ccccc7sc7ccccc76)ccc4-5)n3)ccc2-c2ccc(n3c4ccccc4sc4ccccc43)cc21\n",
            "Sum_and_conc is OK!\n",
            "DF is LOAD!\n",
            "diagrams_basic_o=s1(=o)c(c2cccs2)=c(c2cccs2)c2ccccc21\n",
            "Sum_and_conc is OK!\n",
            "DF is LOAD!\n",
            "diagrams_basic_c1ccc2c(c1)c1ccccc1n2-c1ccc2cc(-c3ccc(-c4ccc(-c5cc6ccc(-n7c8ccccc8c8ccccc87)cc6o5)cc4)cc3)oc2c1\n",
            "Sum_and_conc is OK!\n",
            "DF is LOAD!\n",
            "diagrams_basic_ccc1(cc)c2ccccc2-c2ccc(c#cc3cc(c#cc4ccc5c(c4)c(cc)(cc)c4ccccc4-5)c4ccc5c(c#cc6ccc7c(c6)c(cc)(cc)c6ccccc6-7)cc(c#cc6ccc7c(c6)c(cc)(cc)c6ccccc6-7)c6ccc3c4c65)cc21\n",
            "Sum_and_conc is OK!\n",
            "DF is LOAD!\n",
            "diagrams_basic_c1ccc2cc(-c3c4ccccc4c(-c4nccc5ccccc45)c4ccccc34)ccc2c1\n",
            "Sum_and_conc is OK!\n",
            "DF is LOAD!\n",
            "diagrams_basic_cc1co1\n",
            "Sum_and_conc is OK!\n",
            "DF is LOAD!\n",
            "diagrams_basic_coc1c2ccccc2c(oc)c2c(c#cc(c)(c)c)c3cc4sccc4cc3c(c#cc(c)(c)c)c12\n",
            "Sum_and_conc is OK!\n",
            "DF is LOAD!\n",
            "diagrams_basic_coc1ccc(-c2cc3c4c(c2)ccc2cc(-c5ccc(oc)cc5)cc(c2-4)cc3)cc1\n",
            "Sum_and_conc is OK!\n"
          ]
        },
        {
          "output_type": "stream",
          "name": "stderr",
          "text": [
            " 53%|█████▎    | 598/1139 [00:20<00:13, 40.37it/s]"
          ]
        },
        {
          "output_type": "stream",
          "name": "stdout",
          "text": [
            "DF is LOAD!\n",
            "diagrams_basic_ccccn(cccc)c1ccc2nc3c4ccccc4c(=o)c(oc(=c(c(f)(c(f)(f)f)c(f)(f)f)c(f)(c(f)(f)f)c(f)(f)f)c(f)(f)f)c-3oc2c1\n",
            "Sum_and_conc is OK!\n",
            "DF is LOAD!\n",
            "diagrams_basic_cccccc(cc)c1(c(cc)ccccc)c2ccccc2-c2ccc(c#cc3cc(c#cc4ccc5c(c4)c(c(cc)ccccc)(c(cc)ccccc)c4ccccc4-5)c4ccc5c(c#cc6ccc7c(c6)c(c(cc)ccccc)(c(cc)ccccc)c6ccccc6-7)cc(c#cc6ccc7c(c6)c(c(cc)ccccc)(c(cc)ccccc)c6ccccc6-7)c6ccc3c4c65)cc21\n",
            "Sum_and_conc is OK!\n",
            "DF is LOAD!\n",
            "diagrams_basic_coc1cccc(oc)c1o\n",
            "Sum_and_conc is OK!\n",
            "DF is LOAD!\n",
            "diagrams_basic_cc1c(c(=o)c2c(f)cc(f)cc2f)c2ccc3cccc4c5cccc6ccc1c(c65)c2c34\n",
            "Sum_and_conc is OK!\n",
            "DF is LOAD!\n",
            "diagrams_basic_cn(c)c1ccc(c2=nc3sc4cc(f)ccc4[n+]3[b-](f)(f)o2)cc1\n",
            "Sum_and_conc is OK!\n",
            "DF is LOAD!\n",
            "diagrams_basic_n#cc1cc2nc3c(nc2cc1c#n)c1c2ccc(n(c4ccccc4)c4ccccc4)cc2c3c2ccc(n(c3ccccc3)c3ccccc3)cc21\n",
            "Sum_and_conc is OK!\n",
            "DF is LOAD!\n",
            "diagrams_basic_oc1ccccc1\n",
            "Sum_and_conc is OK!\n",
            "DF is LOAD!\n",
            "diagrams_basic_c1ccc2c(c1)c1ccccc1n2-c1ccc(-c2ccc(-n3c4ccccc4c4ccccc43)nc2-n2c3ccccc3c3ccccc32)nn1\n",
            "Sum_and_conc is OK!\n",
            "DF is LOAD!\n"
          ]
        },
        {
          "output_type": "stream",
          "name": "stderr",
          "text": [
            " 53%|█████▎    | 608/1139 [00:20<00:12, 41.35it/s]"
          ]
        },
        {
          "output_type": "stream",
          "name": "stdout",
          "text": [
            "diagrams_basic_c1ccc(-n2c(-c3cccc(-c4c5ccccc5c(-c5cccc(-n6c7ccccc7c7ccccc76)c5)c5ccccc45)c3)nc3c4ccccc4c4ccccc4c32)cc1\n",
            "Sum_and_conc is OK!\n",
            "DF is LOAD!\n",
            "diagrams_basic_cc(=o)c1ccc(-c2ccc3c(c2)c(=o)c2cc(-c4ccc(c(c)=o)cc4)ccc2-3)cc1\n",
            "Sum_and_conc is OK!\n",
            "DF is LOAD!\n",
            "diagrams_basic_cc1ccc(-n2c3ccc(-c4ccc(-c5nc6ccccc6n5-c5ccccc5)cc4)cc3c3cc(-c4ccc(-c5nc6ccccc6n5-c5ccccc5)cc4)ccc32)cc1\n",
            "Sum_and_conc is OK!\n",
            "DF is LOAD!\n",
            "diagrams_basic_c1ccc(cocc2ccccc2)cc1\n",
            "Sum_and_conc is OK!\n",
            "DF is LOAD!\n",
            "diagrams_basic_ccococc\n",
            "Sum_and_conc is OK!\n",
            "DF is LOAD!\n",
            "diagrams_basic_cc1cc(c)c(-c2cc(-c3c(c)cc(c)cc3c)c3ccc4c(-c5c(c)cc(c)cc5c)cc(-c5c(c)cc(c)cc5c)c5ccc2c3c54)c(c)c1\n",
            "Sum_and_conc is OK!\n",
            "DF is LOAD!\n",
            "diagrams_basic_occco\n",
            "Sum_and_conc is OK!\n",
            "DF is LOAD!\n",
            "diagrams_basic_ccc(n)co\n",
            "Sum_and_conc is OK!\n",
            "DF is LOAD!\n"
          ]
        },
        {
          "output_type": "stream",
          "name": "stderr",
          "text": [
            "\r 54%|█████▍    | 613/1139 [00:21<00:13, 39.89it/s]"
          ]
        },
        {
          "output_type": "stream",
          "name": "stdout",
          "text": [
            "diagrams_basic_cc(c)(c)c1ccc2c(c1)c1cc(c(c)(c)c)ccc1n2-c1ccc2oc3nc4oc5cc(c(f)(f)f)ccc5c4cc3c2c1\n",
            "Sum_and_conc is OK!\n",
            "DF is LOAD!\n",
            "diagrams_basic_c=cc1ccccc1\n",
            "Sum_and_conc is OK!\n",
            "DF is LOAD!\n",
            "diagrams_basic_c(#cc1ccc(c#cc2ccc(n(c3ccccc3)c3ccccc3)cc2)c2nsnc12)c1ccc(n(c2ccccc2)c2ccccc2)cc1\n",
            "Sum_and_conc is OK!\n",
            "DF is LOAD!\n",
            "diagrams_basic_cc1(c)c2ccccc2n(c2ccc(-c3nnc(-c4ccccc4)o3)cc2)c2ccccc21\n",
            "Sum_and_conc is OK!\n",
            "DF is LOAD!\n",
            "diagrams_basic_n#cc1=cc(br)=cc(c#n)=p1(c1ccccc1)c1ccccc1\n",
            "Sum_and_conc is OK!\n",
            "DF is LOAD!\n",
            "diagrams_basic_c1ccc(-c2nc3c4ccccc4c4ccccc4c3n2-c2ccc(-c3nc4c5ccccc5c5ccccc5c4n3-c3ccccc3)cc2)cc1\n",
            "Sum_and_conc is OK!\n",
            "DF is LOAD!\n",
            "diagrams_basic_n#cc1ccccn1\n",
            "Sum_and_conc is OK!\n",
            "DF is LOAD!\n",
            "diagrams_basic_c1ccc(n(c2ccccc2)c2ccc(-c3ccc4c(c3)c3(c5cc(-c6ccc(n(c7ccccc7)c7ccccc7)cc6)ccc5-4)c4ccccc4n(c4ccccc4)c4ccccc43)cc2)cc1\n",
            "Sum_and_conc is OK!\n",
            "DF is LOAD!\n",
            "diagrams_basic_c(#cc1ccc2c(c1)c1cc(c#cc3ccccc3)ccc1n2-c1cc2ccccc2c2ccccc12)c1ccccc1\n",
            "Sum_and_conc is OK!\n"
          ]
        },
        {
          "output_type": "stream",
          "name": "stderr",
          "text": [
            " 55%|█████▍    | 623/1139 [00:21<00:12, 41.23it/s]"
          ]
        },
        {
          "output_type": "stream",
          "name": "stdout",
          "text": [
            "DF is LOAD!\n",
            "diagrams_basic_ccccccn1c(=o)c2cc(c#cc3cccs3)c3c4c(cc(c#cc5cccs5)c(c24)c1=o)c(=o)n(cccccc)c3=o\n",
            "Sum_and_conc is OK!\n",
            "DF is LOAD!\n",
            "diagrams_basic_f[b-]1(f)oc(c2ccccc2)=nc2sc(-c3ccccc3)n[n+]21\n",
            "Sum_and_conc is OK!\n",
            "DF is LOAD!\n",
            "diagrams_basic_c1cncc(-c2ccc(-c3c4ccccc4c(-c4ccc(-c5cccnc5)cc4)c4ccccc34)cc2)c1\n",
            "Sum_and_conc is OK!\n",
            "DF is LOAD!\n",
            "diagrams_basic_cc1(c)c2cccc(-c3nc(-c4ccccc4)nc(-c4ccccc4)n3)c2oc2c(n3c4ccccc4sc4ccccc43)cccc21\n",
            "Sum_and_conc is OK!\n",
            "DF is LOAD!\n",
            "diagrams_basic_clc(cl)cl\n",
            "Sum_and_conc is OK!\n",
            "DF is LOAD!\n",
            "diagrams_basic_c1ccc(-c2nc3ccccc3nc2-c2cc(-n3c4ccccc4c4ccccc43)cc(-n3c4ccccc4c4ccccc43)c2)cc1\n",
            "Sum_and_conc is OK!\n",
            "DF is LOAD!\n",
            "diagrams_basic_cc1(c)c2ccccc2n(c2ccc(-c3nnc(-c4cc(-c5ccccc5)c(-c5ccccc5)c(-c5ccccc5)c4-c4ccccc4)o3)cc2)c2ccccc21\n",
            "Sum_and_conc is OK!\n",
            "DF is LOAD!\n",
            "diagrams_basic_cc(c)(c)c1cc(-c2cc3c(cc(-c4cc(c(c)(c)c)cc(c(c)(c)c)c4)n3-c3ccc(c(=c(c4ccccc4)c4ccccc4)c4ccccc4)cc3)n2-c2ccc(c(=c(c3ccccc3)c3ccccc3)c3ccccc3)cc2)cc(c(c)(c)c)c1\n",
            "Sum_and_conc is OK!\n",
            "DF is LOAD!\n",
            "diagrams_basic_occ1ccccc1\n",
            "Sum_and_conc is OK!\n"
          ]
        },
        {
          "output_type": "stream",
          "name": "stderr",
          "text": [
            " 56%|█████▌    | 633/1139 [00:21<00:11, 42.73it/s]"
          ]
        },
        {
          "output_type": "stream",
          "name": "stdout",
          "text": [
            "DF is LOAD!\n",
            "diagrams_basic_cscs(c)=o\n",
            "Sum_and_conc is OK!\n",
            "DF is LOAD!\n",
            "diagrams_basic_cn(c)c1ccc(c2=nc3scc(-c4ccc(n(c)c)cc4)[n+]3[b-](f)(f)o2)cc1\n",
            "Sum_and_conc is OK!\n",
            "DF is LOAD!\n",
            "diagrams_basic_cc1ccs(=o)(=o)c1\n",
            "Sum_and_conc is OK!\n",
            "DF is LOAD!\n",
            "diagrams_basic_ccccn1c(=o)c2=c(c3ccc(-c4ccc(c=o)s4)cc3)n(cccc)c(=o)c2=c1c1ccc(-c2ccc(n(c3ccc(oc)cc3)c3ccc(oc)cc3)cc2)cc1\n",
            "Sum_and_conc is OK!\n",
            "DF is LOAD!\n",
            "diagrams_basic_ccn1c(-c2ccc(-c3ccc4c(c3)c(c3ccccc3)(c3ccccc3)c3ccccc3-4)cc2)c(-c2ccc3ccccc3c2)c(-c2ccc3ccccc3c2)c1-c1ccc(-c2ccc3c(c2)c(c2ccccc2)(c2ccccc2)c2ccccc2-3)cc1\n",
            "Sum_and_conc is OK!\n",
            "DF is LOAD!\n",
            "diagrams_basic_ccc1=c(c)c2=cc3cscc3b(o)n2c1=o\n",
            "Sum_and_conc is OK!\n",
            "DF is LOAD!\n",
            "diagrams_basic_cccccccccccccccc\n",
            "Sum_and_conc is OK!\n",
            "DF is LOAD!\n",
            "diagrams_basic_cs(c)=o\n",
            "Sum_and_conc is OK!\n",
            "DF is LOAD!\n",
            "diagrams_basic_cc1c(-c2ccc(n3c4ccccc4c(c)(c)c4ccccc43)cc2)ncnc1-c1ccc(n2c3ccccc3c(c)(c)c3ccccc32)cc1\n",
            "Sum_and_conc is OK!\n"
          ]
        },
        {
          "output_type": "stream",
          "name": "stderr",
          "text": [
            " 57%|█████▋    | 644/1139 [00:21<00:11, 43.39it/s]"
          ]
        },
        {
          "output_type": "stream",
          "name": "stdout",
          "text": [
            "DF is LOAD!\n",
            "diagrams_basic_o=c(c1ccc(n2c3ccccc3oc3ccccc32)cc1)c1ccc2sc3ccccc3c2c1\n",
            "Sum_and_conc is OK!\n",
            "DF is LOAD!\n",
            "diagrams_basic_n#cc(c#n)=cc1ccc(n(c2ccc(-n3c4ccccc4c4ccccc43)cc2)c2ccc(-n3c4ccccc4c4ccccc43)cc2)cc1\n",
            "Sum_and_conc is OK!\n",
            "DF is LOAD!\n",
            "diagrams_basic_s=c=s\n",
            "Sum_and_conc is OK!\n",
            "DF is LOAD!\n",
            "diagrams_basic_cccccccl\n",
            "Sum_and_conc is OK!\n",
            "DF is LOAD!\n",
            "diagrams_basic_ccn(cc)c1ccc2c(c1)oc(=o)c1c(c)nc3c(c(-c4ccccc4)nn3c)c12\n",
            "Sum_and_conc is OK!\n",
            "DF is LOAD!\n",
            "diagrams_basic_c1ccc(-n2c(-c3ccc(-c4c5ccccc5c(-c5cccc(-n6c7ccccc7c7ccccc76)c5)c5ccccc45)cc3)nc3c4ccccc4c4ccccc4c32)cc1\n",
            "Sum_and_conc is OK!\n",
            "DF is LOAD!\n",
            "diagrams_basic_ccc[si](ccc)(ccc)c1cc2ccc3cccc4ccc(c1c(=o)nc(c)(c)c)c2c34\n",
            "Sum_and_conc is OK!\n",
            "DF is LOAD!\n",
            "diagrams_basic_o=c1c2ccc(-c3ccc(n(c4ccccc4)c4ccccc4)cc3)cc2c(=o)c2ccc(-c3ccc(n(c4ccccc4)c4ccccc4)cc3)cc21\n",
            "Sum_and_conc is OK!\n",
            "DF is LOAD!\n",
            "diagrams_basic_ccccoc(=o)c1ccccc1c(=o)occcc\n",
            "Sum_and_conc is OK!\n"
          ]
        },
        {
          "output_type": "stream",
          "name": "stderr",
          "text": [
            "\r 57%|█████▋    | 649/1139 [00:21<00:11, 43.11it/s]"
          ]
        },
        {
          "output_type": "stream",
          "name": "stdout",
          "text": [
            "DF is LOAD!\n",
            "diagrams_basic_o=c(c1ccc2c3c(cccc13)-c1cccc3c1c2cc=c3)c1c(cc2ccccc2)c2ccc3cccc4c5cccc6ccc1c(c65)c2c34\n",
            "Sum_and_conc is OK!\n",
            "DF is LOAD!\n",
            "diagrams_basic_o=p(c1ccccc1)(c1ccccc1)n1c2ccccc2c2cc(-n3c4ccccc4c4cc(-n5c6ccccc6c6ccccc65)ccc43)ccc21\n",
            "Sum_and_conc is OK!\n",
            "DF is LOAD!\n",
            "diagrams_basic_ccccoc(c)=o\n",
            "Sum_and_conc is OK!\n",
            "DF is LOAD!\n",
            "diagrams_basic_ccccccccn1c(=o)c2ccc3c4c(-c5ccc(n(c6ccccc6)c6ccccc6)cc5)cc5c6c(cc(-c7ccc(n(c8ccccc8)c8ccccc8)cc7)c(c7ccc(c2c37)c1=o)c64)c(=o)n(cccccccc)c5=o\n",
            "Sum_and_conc is OK!\n",
            "DF is LOAD!\n",
            "diagrams_basic_ici\n",
            "Sum_and_conc is OK!\n",
            "DF is LOAD!\n",
            "diagrams_basic_f[b-]1(f)n2cccc2c(c2ccc(c#cc3ccc(c(=c(c4ccccc4)c4ccccc4)c4ccccc4)cc3)cc2)=c2c=cc=[n+]21\n",
            "Sum_and_conc is OK!\n",
            "DF is LOAD!\n",
            "diagrams_basic_cnc(c)=o\n",
            "Sum_and_conc is OK!\n",
            "DF is LOAD!\n",
            "diagrams_basic_ccccn(cccc)c1ccc(c#cc2cc(c#cc3cc(c(f)(f)f)cc(c(f)(f)f)c3)c(c#cc3cc(c(f)(f)f)cc(c(f)(f)f)c3)cc2c#cc2ccc(n(cccc)cccc)cc2)cc1\n",
            "Sum_and_conc is OK!\n",
            "DF is LOAD!\n",
            "diagrams_basic_ccn(cc)c1ccc2cc(-c3cn4ccccc4n3)c(=o)oc2c1\n",
            "Sum_and_conc is OK!\n"
          ]
        },
        {
          "output_type": "stream",
          "name": "stderr",
          "text": [
            " 58%|█████▊    | 659/1139 [00:22<00:10, 43.93it/s]"
          ]
        },
        {
          "output_type": "stream",
          "name": "stdout",
          "text": [
            "DF is LOAD!\n",
            "diagrams_basic_c1ccc2c(c1)c1ccccc1n2p1(n2c3ccccc3c3ccccc32)=np(n2c3ccccc3c3ccccc32)(n2c3ccccc3c3ccccc32)=np(n2c3ccccc3c3ccccc32)(n2c3ccccc3c3ccccc32)=n1\n",
            "Sum_and_conc is OK!\n",
            "DF is LOAD!\n",
            "diagrams_basic_cc(c)(c)c1ccc2c(c1)c1cc(c(c)(c)c)ccc1n2-c1ccc(-c2ccc3c(c2)c2(c4cc(-c5ccc(-n6c7ccc(c(c)(c)c)cc7c7cc(c(c)(c)c)ccc76)cc5)ccc4-3)c3ccccc3s(=o)(=o)c3ccccc32)cc1\n",
            "Sum_and_conc is OK!\n",
            "DF is LOAD!\n",
            "diagrams_basic_o=c1ccccc1\n",
            "Sum_and_conc is OK!\n",
            "DF is LOAD!\n",
            "diagrams_basic_cc1cc(-n2c3ccccc3c3ccccc32)ccc1-c1ccc(s(=o)(=o)c2ccccc2)cc1c\n",
            "Sum_and_conc is OK!\n",
            "DF is LOAD!\n",
            "diagrams_basic_cc(c)n(c#n)c(c)c\n",
            "Sum_and_conc is OK!\n",
            "DF is LOAD!\n",
            "diagrams_basic_c1ccc(-n2c(-c3cccc4ccccc34)nc3c4cccc5ccc6cccc(c6c54)c32)cc1\n",
            "Sum_and_conc is OK!\n",
            "DF is LOAD!\n",
            "diagrams_basic_c1ccc2c(c1)c1ccccc1n2-c1ccc(-c2cc3ccc(-c4ccc5cc(-c6ccc(-n7c8ccccc8c8ccccc87)cc6)oc5c4)cc3o2)cc1\n",
            "Sum_and_conc is OK!\n",
            "DF is LOAD!\n",
            "diagrams_basic_c1ccc(c2ccccc2)cc1\n",
            "Sum_and_conc is OK!\n",
            "DF is LOAD!\n",
            "diagrams_basic_c1cc2c3c(c1)occccccccoc1cccc(c1-c1c4ccccc4c-3c3ccccc13)occcccccco2\n",
            "Sum_and_conc is OK!\n",
            "DF is LOAD!\n"
          ]
        },
        {
          "output_type": "stream",
          "name": "stderr",
          "text": [
            " 59%|█████▊    | 669/1139 [00:22<00:10, 43.29it/s]"
          ]
        },
        {
          "output_type": "stream",
          "name": "stdout",
          "text": [
            "diagrams_basic_cc(c)(c)c1cccc2c1oc1nc3oc4cc(-n5c6ccccc6c6ccccc65)ccc4c3cc12\n",
            "Sum_and_conc is OK!\n",
            "DF is LOAD!\n",
            "diagrams_basic_cc1cc(c)cc(o)c1\n",
            "Sum_and_conc is OK!\n",
            "DF is LOAD!\n",
            "diagrams_basic_ccc1ccc2ccc(-c3ccccc3)nn12\n",
            "Sum_and_conc is OK!\n",
            "DF is LOAD!\n",
            "diagrams_basic_c1ccc(-c2nc3ccccc3nc2-c2ccc(-n3c4ccccc4c4ccccc43)cc2)cc1\n",
            "Sum_and_conc is OK!\n",
            "DF is LOAD!\n",
            "diagrams_basic_o=c1c2cc(cl)ccc2nc2n1[b-](f)(f)[n+]1ccccc1-2\n",
            "Sum_and_conc is OK!\n",
            "DF is LOAD!\n",
            "diagrams_basic_ccccccc1(cccccc)c2cc(-c3nc(-c4ccc5c(c4)c(cccccc)(cccccc)c4cc(n6c7ccccc7oc7ccccc76)ccc4-5)nc(-c4ccc5c(c4)c(cccccc)(cccccc)c4cc(n6c7ccccc7oc7ccccc76)ccc4-5)n3)ccc2-c2ccc(n3c4ccccc4oc4ccccc43)cc21\n",
            "Sum_and_conc is OK!\n",
            "DF is LOAD!\n",
            "diagrams_basic_c#cco\n",
            "Sum_and_conc is OK!\n",
            "DF is LOAD!\n",
            "diagrams_basic_coc(=o)c1=c2c=cc(c(=c(c3ccccc3)c3ccccc3)c3ccccc3)=[n+]2[b-](f)(f)n2c1ccc2c(=c(c1ccccc1)c1ccccc1)c1ccccc1\n",
            "Sum_and_conc is OK!\n",
            "DF is LOAD!\n",
            "diagrams_basic_cccccl\n",
            "Sum_and_conc is OK!\n",
            "DF is LOAD!\n",
            "diagrams_basic_n#cc1ccc(-c2ccc3c(c2)c(=o)c2cc(-c4ccc(n(c5ccccc5)c5ccccc5)cc4)ccc2-3)cc1\n",
            "Sum_and_conc is OK!"
          ]
        },
        {
          "output_type": "stream",
          "name": "stderr",
          "text": [
            " 60%|█████▉    | 679/1139 [00:22<00:10, 44.66it/s]"
          ]
        },
        {
          "output_type": "stream",
          "name": "stdout",
          "text": [
            "\n",
            "DF is LOAD!\n",
            "diagrams_basic_clc1ccccn1\n",
            "Sum_and_conc is OK!\n",
            "DF is LOAD!\n",
            "diagrams_basic_ccccccccn1c(=o)c2ccc3c4c(-c5ccc(-n6c7ccccc7c7ccccc76)cc5)cc5c6c(cc(-c7ccc(-n8c9ccccc9c9ccccc98)cc7)c(c7ccc(c2c37)c1=o)c64)c(=o)n(cccccccc)c5=o\n",
            "Sum_and_conc is OK!\n",
            "DF is LOAD!\n",
            "diagrams_basic_c1ccc2c(c1)cccc2\n",
            "Sum_and_conc is OK!\n",
            "DF is LOAD!\n",
            "diagrams_basic_occscco\n",
            "Sum_and_conc is OK!\n",
            "DF is LOAD!\n",
            "diagrams_basic_ccoc1ccc2cc(-c3ccc(c)cc3)c(=o)oc2c1\n",
            "Sum_and_conc is OK!\n",
            "DF is LOAD!\n",
            "diagrams_basic_o=c1oc(=o)c2ccc(n(c3ccccc3)c3ccc4ccccc4c3)c3cccc1c23\n",
            "Sum_and_conc is OK!\n",
            "DF is LOAD!\n",
            "diagrams_basic_cccccccco\n",
            "Sum_and_conc is OK!\n",
            "DF is LOAD!\n",
            "diagrams_basic_o=p1(c2ccccc2)c2ccccc2-c2sc3ccccc3c21\n",
            "Sum_and_conc is OK!\n",
            "DF is LOAD!\n",
            "diagrams_basic_ccocco\n",
            "Sum_and_conc is OK!\n"
          ]
        },
        {
          "output_type": "stream",
          "name": "stderr",
          "text": [
            " 60%|██████    | 689/1139 [00:22<00:09, 45.05it/s]"
          ]
        },
        {
          "output_type": "stream",
          "name": "stdout",
          "text": [
            "DF is LOAD!\n",
            "diagrams_basic_c1cncc(-c2ccc(-c3c4ccccc4c(-c4ccc(-c5cccnc5)cc4)c4cc(-c5cccnc5)ccc34)cc2)c1\n",
            "Sum_and_conc is OK!\n",
            "DF is LOAD!\n",
            "diagrams_basic_ccn1cccc1=o\n",
            "Sum_and_conc is OK!\n",
            "DF is LOAD!\n",
            "diagrams_basic_coc1ccc(n(c2ccccc2)c2ccc(oc)cc2)cc1\n",
            "Sum_and_conc is OK!\n",
            "DF is LOAD!\n",
            "diagrams_basic_ccoc(=o)[c@h](c)o\n",
            "Sum_and_conc is OK!\n",
            "DF is LOAD!\n",
            "diagrams_basic_ccc1=c(c)c2=cc3cc4c(cc3b(o)n2c1=o)oco4\n",
            "Sum_and_conc is OK!\n",
            "DF is LOAD!\n",
            "diagrams_basic_ccccoc1ccc2cc(-c3ccc(c)cc3)c(=o)oc2c1\n",
            "Sum_and_conc is OK!\n",
            "DF is LOAD!\n",
            "diagrams_basic_c1ccc(-n2c3ccccc3c3cc(-c4cccc(-n5c6cccnc6c6c7sc8ccccc8c7ccc65)c4)ccc32)cc1\n",
            "Sum_and_conc is OK!\n",
            "DF is LOAD!\n",
            "diagrams_basic_c1ccc2c(c1)oc1nc3oc4ccc(-n5c6ccccc6c6ccccc65)cc4c3cc12\n",
            "Sum_and_conc is OK!\n",
            "DF is LOAD!\n",
            "diagrams_basic_n#cc1ccc(-n2c(-c3ccc(-c4ccc(-c5nc6c7ccccc7c7ccccc7c6n5-c5ccc(c#n)c6ccccc56)cc4)cc3)nc3c4ccccc4c4ccccc4c32)c2ccccc12\n",
            "Sum_and_conc is OK!\n"
          ]
        },
        {
          "output_type": "stream",
          "name": "stderr",
          "text": [
            "\r 61%|██████    | 694/1139 [00:22<00:10, 43.61it/s]"
          ]
        },
        {
          "output_type": "stream",
          "name": "stdout",
          "text": [
            "DF is LOAD!\n",
            "diagrams_basic_ccn(cc)c1cc2ccc3cc(c#n)cc4ccc(c1)c2c34\n",
            "Sum_and_conc is OK!\n",
            "DF is LOAD!\n",
            "diagrams_basic_c1ccc2c(c1)cc1c-2sc2c1cc1ccccc1-2\n",
            "Sum_and_conc is OK!\n",
            "DF is LOAD!\n",
            "diagrams_basic_c1ccc2c(c1)c1ccccc1n2-c1cc(-c2nc3ccccn3n2)cc(-n2c3ccccc3c3ccccc32)c1\n",
            "Sum_and_conc is OK!\n",
            "DF is LOAD!\n",
            "diagrams_basic_n#cc1cc(c#n)c(-c2ccc(n(c3ccccc3)c3ccccc3)cc2)cc1-c1ccc(n(c2ccccc2)c2ccccc2)cc1\n",
            "Sum_and_conc is OK!\n",
            "DF is LOAD!\n",
            "diagrams_basic_cc1nn(-c2ccccc2)c2c1c(=o)oc1ccc(-n3c4ccccc4c4ccccc43)cc12\n",
            "Sum_and_conc is OK!\n",
            "DF is LOAD!\n",
            "diagrams_basic_c1ccc(n(c2ccccc2)c2ccc3ccc4c(n(c5ccccc5)c5ccccc5)ccc5ccc2c3c54)cc1\n",
            "Sum_and_conc is OK!\n",
            "DF is LOAD!\n",
            "diagrams_basic_cc1cc(c)c(b(c2c(c)cc(c)cc2c)c2cc3ccc4ccccc4c3c3c2cc(n(c)c)c2ccccc23)c(c)c1\n",
            "Sum_and_conc is OK!\n",
            "DF is LOAD!\n",
            "diagrams_basic_c1ccc2c(-c3c4ccccc4c(-c4ccc(-c5ccc(-n6c7ccccc7c7ccccc76)cc5)cc4)c4ccccc34)cccc2c1\n",
            "Sum_and_conc is OK!\n",
            "DF is LOAD!\n",
            "diagrams_basic_cc[si](cc)(cc)c1cc2ccc3cccc4ccc(c1c(=o)nc(c)(c)c)c2c34\n",
            "Sum_and_conc is OK!\n"
          ]
        },
        {
          "output_type": "stream",
          "name": "stderr",
          "text": [
            " 62%|██████▏   | 706/1139 [00:23<00:09, 46.62it/s]"
          ]
        },
        {
          "output_type": "stream",
          "name": "stdout",
          "text": [
            "DF is LOAD!\n",
            "diagrams_basic_ccccn1c2ccccc2c2ccc3c4cc(-c5ccc(oc)cc5)ccc4n(cccc)c3c21\n",
            "Sum_and_conc is OK!\n",
            "DF is LOAD!\n",
            "diagrams_basic_coc1ccc2cc(-c3ccc(c)cc3)c(=o)oc2c1\n",
            "Sum_and_conc is OK!\n",
            "DF is LOAD!\n",
            "diagrams_basic_oc1ccc(f)cc1\n",
            "Sum_and_conc is OK!\n",
            "DF is LOAD!\n",
            "diagrams_basic_occccco\n",
            "Sum_and_conc is OK!\n",
            "DF is LOAD!\n",
            "diagrams_basic_cc(c)(c)c1ccccc1o\n",
            "Sum_and_conc is OK!\n",
            "DF is LOAD!\n",
            "diagrams_basic_ccn(cc)c1ccc2c(c1)oc(=o)c1c(c)nc3c(c(-c4ccccc4)nn3-c3ccccc3)c12\n",
            "Sum_and_conc is OK!\n",
            "DF is LOAD!\n",
            "diagrams_basic_f[b-]1(f)oc(c2ccc(c(f)(f)f)cc2)=cc2cc(cl)nc[n+]21\n",
            "Sum_and_conc is OK!\n",
            "DF is LOAD!\n",
            "diagrams_basic_c1ccc(-c2ccc(-c3ccccc3)c3nsnc23)cc1\n",
            "Sum_and_conc is OK!\n",
            "DF is LOAD!\n",
            "diagrams_basic_n#cc(c#n)=cc1ccc(n(c2ccccc2)c2ccc(n(c3ccccc3)c3ccccc3)cc2)cc1\n",
            "Sum_and_conc is OK!\n"
          ]
        },
        {
          "output_type": "stream",
          "name": "stderr",
          "text": [
            " 63%|██████▎   | 716/1139 [00:23<00:09, 42.41it/s]"
          ]
        },
        {
          "output_type": "stream",
          "name": "stdout",
          "text": [
            "DF is LOAD!\n",
            "diagrams_basic_cc(c)(c)c1ccc2oc3nc4oc5ccc(-n6c7ccccc7c7ccccc76)cc5c4cc3c2c1\n",
            "Sum_and_conc is OK!\n",
            "DF is LOAD!\n",
            "diagrams_basic_o\n",
            "Sum_and_conc is OK!\n",
            "DF is LOAD!\n",
            "diagrams_basic_ccn(cc)c1ccc(-c2nc3c(nc2-c2ccc(b(c4c(c)cc(c)cc4c)c4c(c)cc(c)cc4c)cc2)c2ccccc2n3c)cc1\n",
            "Sum_and_conc is OK!\n",
            "DF is LOAD!\n",
            "diagrams_basic_cc1cc(c)c(b(c2c(c)cc(c)cc2c)n2c3ccccc3c(c3ccccc3)(c3ccccc3)c3ccccc32)c(c)c1\n",
            "Sum_and_conc is OK!\n",
            "DF is LOAD!\n",
            "diagrams_basic_o=s1(=o)c2ccccc2oc2cc(n3c4ccccc4c4(c5ccccc53)c3ccccc3n(c3ccc5c(c3)oc3ccccc3s5(=o)=o)c3ccccc34)ccc21\n",
            "Sum_and_conc is OK!\n",
            "DF is LOAD!\n",
            "diagrams_basic_c1ccc(c(=c(c2ccccc2)c2ccc(n(c3ccccc3)c3ccc(-c4ccc(-c5ccc(n(c6ccccc6)c6ccc(c(=c(c7ccccc7)c7ccccc7)c7ccccc7)cc6)cc5)c5nsnc45)cc3)cc2)c2ccccc2)cc1\n",
            "Sum_and_conc is OK!\n",
            "DF is LOAD!\n",
            "diagrams_basic_ccccccccccccccccccccn1c(=o)c2cc(c#cc3ccccc3)c3c4c(cc(c#cc5ccccc5)c(c24)c1=o)c(=o)n(cccccccccccccccccccc)c3=o\n",
            "Sum_and_conc is OK!\n",
            "DF is LOAD!\n",
            "diagrams_basic_ccccccccc1(cccccccc)c2ccccc2-c2ccc(-c3nnc(-c4ccc(-n5c6ccc(c(c)(c)c)cc6c6cc(c(c)(c)c)ccc65)cc4)o3)cc21\n",
            "Sum_and_conc is OK!\n",
            "DF is LOAD!\n",
            "diagrams_basic_o=p(c1ccccc1)(c1ccccc1)n1c2ccccc2c2cc(-n3c4ccccc4c4ccccc43)ccc21\n",
            "Sum_and_conc is OK!\n"
          ]
        },
        {
          "output_type": "stream",
          "name": "stderr",
          "text": [
            " 64%|██████▎   | 726/1139 [00:23<00:09, 42.56it/s]"
          ]
        },
        {
          "output_type": "stream",
          "name": "stdout",
          "text": [
            "DF is LOAD!\n",
            "diagrams_basic_o=c(o)c1cc2c(cc3ccc4cccc5ccc2c3c45)[nh]1\n",
            "Sum_and_conc is OK!\n",
            "DF is LOAD!\n",
            "diagrams_basic_c1ccc(n(c2ccccc2)c2ccc3c4cccc5c(n(c6ccccc6)c6ccccc6)ccc(c6cccc2c63)c54)cc1\n",
            "Sum_and_conc is OK!\n",
            "DF is LOAD!\n",
            "diagrams_basic_ccccn(cccc)c1ccc(c#cc2cc(c#cc3ccc(n(cccc)cccc)cc3)c(c#cc3ccc(c(f)(f)f)cc3)cc2c#cc2ccc(c(f)(f)f)cc2)cc1\n",
            "Sum_and_conc is OK!\n",
            "DF is LOAD!\n",
            "diagrams_basic_cc1ccc(o)cc1\n",
            "Sum_and_conc is OK!\n",
            "DF is LOAD!\n",
            "diagrams_basic_cc(c)[si](c#cc1c2cc3ccccc3cc2c(c#c[si](c(c)c)(c(c)c)c(c)c)c2nc3c(nc12)c1c2ccccc2c3c2ccccc21)(c(c)c)c(c)c\n",
            "Sum_and_conc is OK!\n",
            "DF is LOAD!\n",
            "diagrams_basic_clc(cl)(cl)br\n",
            "Sum_and_conc is OK!\n",
            "DF is LOAD!\n",
            "diagrams_basic_o=c1c2cc(f)ccc2nc2n1[b-](f)(f)[n+]1ccccc1-2\n",
            "Sum_and_conc is OK!\n",
            "DF is LOAD!\n",
            "diagrams_basic_oc(c(f)(f)f)c(f)(f)f\n",
            "Sum_and_conc is OK!\n",
            "DF is LOAD!\n",
            "diagrams_basic_cc1cc(o)ccc1cl\n",
            "Sum_and_conc is OK!\n"
          ]
        },
        {
          "output_type": "stream",
          "name": "stderr",
          "text": [
            "\r 64%|██████▍   | 731/1139 [00:23<00:10, 40.63it/s]"
          ]
        },
        {
          "output_type": "stream",
          "name": "stdout",
          "text": [
            "DF is LOAD!\n",
            "diagrams_basic_cc(c)(c)c1cc2c(c(c(c)(c)c)c1)o[b-](f)(f)[n+]1c-2nc(-c2ccccc2)c2ccccc21\n",
            "Sum_and_conc is OK!\n",
            "DF is LOAD!\n",
            "diagrams_basic_ccccn1c2ccccc2c2ccc3c4cc(-c5cccc(f)c5)ccc4n(cccc)c3c21\n",
            "Sum_and_conc is OK!\n",
            "DF is LOAD!\n",
            "diagrams_basic_cc1cc(-c2c3ccccc3c(-c3ccc4ccccc4c3)c3ccccc23)c(c)cc1-c1ccc(n(c2ccccc2)c2ccccc2)cc1\n",
            "Sum_and_conc is OK!\n",
            "DF is LOAD!\n",
            "diagrams_basic_ccccn1c2ccc(-c3ccccc3)cc2c2ccc3c4cc(-c5ccccc5)ccc4n(cccc)c3c21\n",
            "Sum_and_conc is OK!\n",
            "DF is LOAD!\n",
            "diagrams_basic_ccccccn1c(=o)c2cccc3c(-c4ccc(-c5cc(-c6ccc(c)cc6)nn5-c5ccccc5)s4)ccc(c23)c1=o\n",
            "Sum_and_conc is OK!\n",
            "DF is LOAD!\n",
            "diagrams_basic_cc(c)(c)c1ccc2c(c1)c1cc(c(c)(c)c)ccc1n2-c1cccc(-c2nc(-c3cccc(-n4c5ccc(c(c)(c)c)cc5c5cc(c(c)(c)c)ccc54)c3)nc(-c3cccc(p(=o)(c4ccccc4)c4ccccc4)c3)n2)c1\n",
            "Sum_and_conc is OK!\n",
            "DF is LOAD!\n",
            "diagrams_basic_ccoc(=o)cc(c)=o\n",
            "Sum_and_conc is OK!\n",
            "DF is LOAD!\n",
            "diagrams_basic_o=[n+]([o-])c1ccc2c(ccc3[n+]2[b-](f)(f)n2c-3cc3c4ccccc4c4ccccc4c32)c1\n",
            "Sum_and_conc is OK!\n"
          ]
        },
        {
          "output_type": "stream",
          "name": "stderr",
          "text": [
            " 65%|██████▌   | 741/1139 [00:24<00:10, 36.39it/s]"
          ]
        },
        {
          "output_type": "stream",
          "name": "stdout",
          "text": [
            "DF is LOAD!\n",
            "diagrams_basic_occ(f)(f)f\n",
            "Sum_and_conc is OK!\n",
            "DF is LOAD!\n",
            "diagrams_basic_n#cc1c(n2ccccc2)cc(-c2cccs2)c2c1ccc1ccccc1-2\n",
            "Sum_and_conc is OK!\n",
            "DF is LOAD!\n",
            "diagrams_basic_cc(c)[si](c#cc1c2ccccc2c(c#c[si](c(c)c)(c(c)c)c(c)c)c2nc3c(nc12)c1c2ccccc2c3c2ccccc21)(c(c)c)c(c)c\n",
            "Sum_and_conc is OK!\n",
            "DF is LOAD!\n",
            "diagrams_basic_ccccccccccco\n",
            "Sum_and_conc is OK!\n",
            "DF is LOAD!\n",
            "diagrams_basic_c1ccc(-c2cc(-c3nnc(-c4ccc(n5c6ccccc6oc6ccccc65)cc4)o3)c(-c3ccccc3)c(-c3ccccc3)c2-c2ccccc2)cc1\n",
            "Sum_and_conc is OK!\n",
            "DF is LOAD!\n",
            "diagrams_basic_cc(c)cc(=o)cc(c)c\n",
            "Sum_and_conc is OK!\n",
            "DF is LOAD!\n"
          ]
        },
        {
          "output_type": "stream",
          "name": "stderr",
          "text": [
            "\r 65%|██████▌   | 746/1139 [00:24<00:10, 37.45it/s]"
          ]
        },
        {
          "output_type": "stream",
          "name": "stdout",
          "text": [
            "diagrams_basic_cc1cc(c(c)(c)c)c(o)c(c(c)(c)c)c1\n",
            "Sum_and_conc is OK!\n",
            "DF is LOAD!\n",
            "diagrams_basic_ccc1ccccc1o\n",
            "Sum_and_conc is OK!\n",
            "DF is LOAD!\n",
            "diagrams_basic_cc(c)[si]1(c(c)c)c2cc(n(c)c)ccc2-c2ccc(c(f)(f)f)cc21\n",
            "Sum_and_conc is OK!\n",
            "DF is LOAD!\n",
            "diagrams_basic_cc1ccc(-c2nnc(-c3ccc4ccc5cccc6ccc3c4c56)o2)cc1\n",
            "Sum_and_conc is OK!\n",
            "DF is LOAD!\n",
            "diagrams_basic_c1ccc2c(-c3ccncc3)c3c(nc2c1)-c1cc2c(cc1cc3)-c1nc3ccccc3c(-c3ccncc3)c1cc2\n",
            "Sum_and_conc is OK!\n",
            "DF is LOAD!\n",
            "diagrams_basic_cc(c)(c)c1ccc2oc3nc4oc5ccc(-n6c7ccc(c(c)(c)c)cc7c7cc(c(c)(c)c)ccc76)cc5c4cc3c2c1\n",
            "Sum_and_conc is OK!\n",
            "DF is LOAD!\n",
            "diagrams_basic_c1ccc2c(c1)-c1ccccc1c21c2ccccc2-c2oc3c(c21)c1(c2ccccc2-c2ccccc21)c1ccccc1-3\n",
            "Sum_and_conc is OK!\n",
            "DF is LOAD!\n",
            "diagrams_basic_ccccccn1c(=o)c2cc(c#cc3ccccc3)c3c4c(cc(c#cc5ccccc5)c(c24)c1=o)c(=o)n(cccccc)c3=o\n",
            "Sum_and_conc is OK!\n",
            "DF is LOAD!\n",
            "diagrams_basic_cc1cc(n2c3ccccc3c(c)(c)c3ccccc32)ccc1-c1ncnc(-c2ccc(n3c4ccccc4c(c)(c)c4ccccc43)cc2c)c1c\n",
            "Sum_and_conc is OK!\n"
          ]
        },
        {
          "output_type": "stream",
          "name": "stderr",
          "text": [
            " 66%|██████▋   | 755/1139 [00:24<00:10, 35.39it/s]"
          ]
        },
        {
          "output_type": "stream",
          "name": "stdout",
          "text": [
            "DF is LOAD!\n",
            "diagrams_basic_cc1ccc2c(c1)c1cc(c)ccc1n2-c1cc(-c2nc(-c3ccccc3)nc(-c3ccccc3)n2)cc(-n2c3ccc(c)cc3c3cc(c)ccc32)c1-n1c2ccc(c)cc2c2cc(c)ccc21\n",
            "Sum_and_conc is OK!\n",
            "DF is LOAD!\n",
            "diagrams_basic_cccc(c)=o\n",
            "Sum_and_conc is OK!\n",
            "DF is LOAD!\n",
            "diagrams_basic_c1cc2sccc2s1\n",
            "Sum_and_conc is OK!\n",
            "DF is LOAD!\n",
            "diagrams_basic_o=cc1ccc(n(c2ccccc2)c2ccc(n(c3ccccc3)c3ccccc3)cc2)cc1\n",
            "Sum_and_conc is OK!\n",
            "DF is LOAD!\n",
            "diagrams_basic_coc1ccc(n(c2ccc(oc)cc2)c2ccc3ccc4c(b(c5c(c)cc(c)cc5c)c5c(c)cc(c)cc5c)ccc5ccc2c3c54)cc1\n",
            "Sum_and_conc is OK!\n",
            "DF is LOAD!\n",
            "diagrams_basic_c1ccc(-c2nnc(-c3ccc(n4c5ccccc5oc5ccccc54)cc3)o2)cc1\n",
            "Sum_and_conc is OK!\n",
            "DF is LOAD!\n"
          ]
        },
        {
          "output_type": "stream",
          "name": "stderr",
          "text": [
            " 67%|██████▋   | 764/1139 [00:24<00:09, 38.61it/s]"
          ]
        },
        {
          "output_type": "stream",
          "name": "stdout",
          "text": [
            "diagrams_basic_cc(c)c(=o)c(c)c\n",
            "Sum_and_conc is OK!\n",
            "DF is LOAD!\n",
            "diagrams_basic_o=c1c2ccc(-c3ccc(n(c4ccccc4)c4ccccc4)cc3)cc2s(=o)(=o)c2cccc(-c3ccc(n(c4ccccc4)c4ccccc4)cc3)c21\n",
            "Sum_and_conc is OK!\n",
            "DF is LOAD!\n",
            "diagrams_basic_cc1(c)c2cccc(-c3nc(-c4ccccc4)nc(-c4ccccc4)n3)c2oc2c(-n3c4ccccc4c4ccccc43)cccc21\n",
            "Sum_and_conc is OK!\n",
            "DF is LOAD!\n",
            "diagrams_basic_cc1cc(c2=c(c3cc(c)sc3c)p(=o)(c3ccccc3)c3ccccc32)c(c)s1\n",
            "Sum_and_conc is OK!\n",
            "DF is LOAD!\n",
            "diagrams_basic_cn(c)c1ccc(c2=c(c3ccccc3)c3oc4ccccc4[n+]3[b-](f)(f)o2)cc1\n",
            "Sum_and_conc is OK!\n",
            "DF is LOAD!\n",
            "diagrams_basic_c(=c(c1ccccc1)c1ccccc1)c1ccc(-c2ccc(-c3nc4c5ccccc5c5ccccc5c4n3-c3cccc(-c4ccc(c=c(c5ccccc5)c5ccccc5)cc4)c3)cc2)cc1\n",
            "Sum_and_conc is OK!\n",
            "DF is LOAD!\n",
            "diagrams_basic_cc1ccc(c(=o)c2c(c)c3ccc4cccc5c6cccc7ccc2c(c76)c3c45)cc1\n",
            "Sum_and_conc is OK!\n",
            "DF is LOAD!\n",
            "diagrams_basic_cc(c)(c)c1ccc(-c2c(-c3ccc(-n4c5ccccc5c5ccccc54)cc3)cc(-c3ccc(-n4c5ccccc5c5ccccc54)cc3)c(-c3ccc(c(c)(c)c)cc3)c2-c2ccc(c(c)(c)c)cc2)cc1\n",
            "Sum_and_conc is OK!\n",
            "DF is LOAD!\n",
            "diagrams_basic_c1cc2c3c(c1)ccc1[n+]3[b-]3(oc4cccc5ccc6[n+](c45)[b-](o2)(o3)n2c-6cc3c4ccccc4c4ccccc4c32)n2c-1cc1c3ccccc3c3ccccc3c12\n",
            "Sum_and_conc is OK!\n"
          ]
        },
        {
          "output_type": "stream",
          "name": "stderr",
          "text": [
            "\r 68%|██████▊   | 769/1139 [00:24<00:09, 39.54it/s]"
          ]
        },
        {
          "output_type": "stream",
          "name": "stdout",
          "text": [
            "DF is LOAD!\n",
            "diagrams_basic_cc(c)=o\n",
            "Sum_and_conc is OK!\n",
            "DF is LOAD!\n",
            "diagrams_basic_c1ccc2c(-c3c4ccccc4c(-c4ccc(-n5c6ccccc6c6ccccc65)cc4)c4ccccc34)cccc2c1\n",
            "Sum_and_conc is OK!\n",
            "DF is LOAD!\n",
            "diagrams_basic_cccco\n",
            "Sum_and_conc is OK!\n",
            "DF is LOAD!\n",
            "diagrams_basic_o=c1occo1\n",
            "Sum_and_conc is OK!\n",
            "DF is LOAD!\n",
            "diagrams_basic_cn(c)c1ccc2nc(-c3ccc(c(=o)nc4ccccc4)cc3)sc2c1\n",
            "Sum_and_conc is OK!\n",
            "DF is LOAD!\n",
            "diagrams_basic_clcc(cl)ccl\n",
            "Sum_and_conc is OK!\n",
            "DF is LOAD!\n",
            "diagrams_basic_coc=o\n",
            "Sum_and_conc is OK!\n",
            "DF is LOAD!\n",
            "diagrams_basic_ccccn1c(=o)c2ccc3c4ccc5c6c(cc(br)c(c7ccc(c2c37)c1=o)c64)c(=o)n(cccc)c5=o\n",
            "Sum_and_conc is OK!\n",
            "DF is LOAD!\n",
            "diagrams_basic_c1cncc(-c2cccc3c2-c2ccccc2c32c3ccccc3-c3ccccc32)c1\n",
            "Sum_and_conc is OK!\n",
            "DF is LOAD!\n",
            "diagrams_basic_cc(c)(c)c1ccc(c2=c(c3ccc(c(c)(c)c)cc3)[si](c3ccccc3)(c3ccccc3)c3ccccc32)cc1\n",
            "Sum_and_conc is OK!\n"
          ]
        },
        {
          "output_type": "stream",
          "name": "stderr",
          "text": [
            " 68%|██████▊   | 780/1139 [00:25<00:08, 40.18it/s]"
          ]
        },
        {
          "output_type": "stream",
          "name": "stdout",
          "text": [
            "DF is LOAD!\n",
            "diagrams_basic_cc(c)(c)c1ccc2c(c1)c1cc(c(c)(c)c)ccc1n2-c1ccc(c#cc2ccc(c#cc3ccc(c=c(c#n)c#n)cc3)cc2)cc1\n",
            "Sum_and_conc is OK!\n",
            "DF is LOAD!\n",
            "diagrams_basic_clc1ccccc1n1c2c(sc3ccccc23)sc2sc3ccccc3c21\n",
            "Sum_and_conc is OK!\n",
            "DF is LOAD!\n",
            "diagrams_basic_cccoccc\n",
            "Sum_and_conc is OK!\n",
            "DF is LOAD!\n",
            "diagrams_basic_ccccccccc1(cccccccc)c2cc(-c3ccc(c(f)(f)f)cc3)ccc2-c2ccc(n(c3ccc(-n4c5ccccc5c5ccccc54)cc3)c3ccc4c(c3)c(cccccccc)(cccccccc)c3cc(-c5ccc(c(f)(f)f)cc5)ccc3-4)cc21\n",
            "Sum_and_conc is OK!\n",
            "DF is LOAD!\n",
            "diagrams_basic_clc1ccc(c2=c(c3ccc(cl)cc3)c3cccc4c3c(cc3nc5ccccc5nc34)o2)cc1\n",
            "Sum_and_conc is OK!\n",
            "DF is LOAD!\n",
            "diagrams_basic_f[b-]1(f)oc(c2ccccc2)=c(c2ccccc2)c2oc3ccccc3[n+]21\n",
            "Sum_and_conc is OK!\n",
            "DF is LOAD!\n",
            "diagrams_basic_ccoc(=o)c1(o)c2cc3ccc4cccc5ccc(c2c(=o)n1c(c)(c)c)c3c45\n",
            "Sum_and_conc is OK!\n",
            "DF is LOAD!\n",
            "diagrams_basic_cc1cc(c)c(b(c2c(c)cc(c)cc2c)c2c(c)cccc2-n2c3ccccc3c3ccccc32)c(c)c1\n",
            "Sum_and_conc is OK!\n"
          ]
        },
        {
          "output_type": "stream",
          "name": "stderr",
          "text": [
            " 69%|██████▉   | 790/1139 [00:25<00:08, 41.57it/s]"
          ]
        },
        {
          "output_type": "stream",
          "name": "stdout",
          "text": [
            "DF is LOAD!\n",
            "diagrams_basic_coc1ccc(-n2c(-c3ccc(-c4cncc5ccccc45)cc3)nc3c4ccccc4c4ccccc4c32)cc1\n",
            "Sum_and_conc is OK!\n",
            "DF is LOAD!\n",
            "diagrams_basic_ccccccccc\n",
            "Sum_and_conc is OK!\n",
            "DF is LOAD!\n",
            "diagrams_basic_c1ccc2c(c1)ob1oc3ccccc3-c3c1c-2c1c2c3-c3ccccc3ob2oc2ccccc2-1\n",
            "Sum_and_conc is OK!\n",
            "DF is LOAD!\n",
            "diagrams_basic_c1=c(c2ccccc2)c(c2ccccc2)=cc1c1ccccc1\n",
            "Sum_and_conc is OK!\n",
            "DF is LOAD!\n",
            "diagrams_basic_c1ccc(-c2nc3c4ccccc4c4ccccc4c3n2-c2ccccc2)cc1\n",
            "Sum_and_conc is OK!\n",
            "DF is LOAD!\n",
            "diagrams_basic_cn(c)c#n\n",
            "Sum_and_conc is OK!\n",
            "DF is LOAD!\n",
            "diagrams_basic_cc1ccc(n(c2ccc(c)cc2)c2ccc(-c3cc4c(cc(-c5ccc(n(c6ccc(c)cc6)c6ccc(c)cc6)cc5)c5nsnc54)c4nsnc34)cc2)cc1\n",
            "Sum_and_conc is OK!\n",
            "DF is LOAD!\n",
            "diagrams_basic_coc1ccc2c(c1)c1ccccc1n2-c1nc2ccccc2nc1-n1c2ccccc2c2cc(oc)ccc21\n",
            "Sum_and_conc is OK!\n",
            "DF is LOAD!\n",
            "diagrams_basic_ccccn1c2ccccc2c2ccc3c4cc(-c5ccccc5)ccc4n(cccc)c3c21\n",
            "Sum_and_conc is OK!\n",
            "DF is LOAD!\n",
            "diagrams_basic_ccccccn1c(=o)c2cccc3c(-c4ccc(-c5cc(-c6cccc7ccccc67)nn5-c5ccccc5)s4)ccc(c23)c1=o\n",
            "Sum_and_conc is OK!\n"
          ]
        },
        {
          "output_type": "stream",
          "name": "stderr",
          "text": [
            " 70%|███████   | 800/1139 [00:25<00:08, 41.56it/s]"
          ]
        },
        {
          "output_type": "stream",
          "name": "stdout",
          "text": [
            "DF is LOAD!\n",
            "diagrams_basic_cc(=o)oc1cccc(o)c1\n",
            "Sum_and_conc is OK!\n",
            "DF is LOAD!\n",
            "diagrams_basic_c1ccc(-c2ccc(-c3ccccc3)cc2)cc1\n",
            "Sum_and_conc is OK!\n",
            "DF is LOAD!\n",
            "diagrams_basic_occoccocco\n",
            "Sum_and_conc is OK!\n",
            "DF is LOAD!\n",
            "diagrams_basic_c1cc2c3c(c1)occccccoc1cccc(c1-c1c4ccccc4c-3c3ccccc13)occcccco2\n",
            "Sum_and_conc is OK!\n",
            "DF is LOAD!\n",
            "diagrams_basic_cc1(c)c2ccccc2-c2cc3c(cc21)n(c1ccc(-c2nc(-c4ccc(n5c6ccccc6c(c6ccccc6)(c6ccccc6)c6cc7c(cc65)c(c)(c)c5ccccc5-7)cc4)nc(-c4ccc(n5c6ccccc6c(c6ccccc6)(c6ccccc6)c6cc7c(cc65)c(c)(c)c5ccccc5-7)cc4)n2)cc1)c1ccccc1c3(c1ccccc1)c1ccccc1\n",
            "Sum_and_conc is OK!\n",
            "DF is LOAD!\n",
            "diagrams_basic_ccn(cc)c1ccc(-c2nc3c4ccccc4n(c)c3nc2-c2ccc(b(c3c(c)cc(c)cc3c)c3c(c)cc(c)cc3c)cc2)cc1\n",
            "Sum_and_conc is OK!\n",
            "DF is LOAD!\n",
            "diagrams_basic_cc(c)(c)c1cc2c(c(c(c)(c)c)c1)o[b-](f)(f)[n+]1c-2[nh]c(=o)c2ccccc21\n",
            "Sum_and_conc is OK!\n",
            "DF is LOAD!\n",
            "diagrams_basic_o=c(o)c(f)(f)f\n",
            "Sum_and_conc is OK!\n",
            "DF is LOAD!\n",
            "diagrams_basic_coc1c2ccccc2c(oc)c2c(c#c[si](c(c)c)(c(c)c)c(c)c)c3cc4ccccc4cc3c(c#c[si](c(c)c)(c(c)c)c(c)c)c12\n",
            "Sum_and_conc is OK!\n"
          ]
        },
        {
          "output_type": "stream",
          "name": "stderr",
          "text": [
            " 71%|███████   | 810/1139 [00:25<00:07, 43.09it/s]"
          ]
        },
        {
          "output_type": "stream",
          "name": "stdout",
          "text": [
            "DF is LOAD!\n",
            "diagrams_basic_cc(c)cco\n",
            "Sum_and_conc is OK!\n",
            "DF is LOAD!\n",
            "diagrams_basic_ccocc\n",
            "Sum_and_conc is OK!\n",
            "DF is LOAD!\n",
            "diagrams_basic_cn(c)c1ccc(c2=nc3scc(-c4ccc([n+](=o)[o-])cc4)[n+]3[b-](f)(f)o2)cc1\n",
            "Sum_and_conc is OK!\n",
            "DF is LOAD!\n",
            "diagrams_basic_cc(c)(c)c1ccc(-n2c(-c3ccc(-c4ccc(n(c5ccccc5)c5ccccc5)cc4)s3)nc3c4ccccc4c4ccccc4c32)cc1\n",
            "Sum_and_conc is OK!\n",
            "DF is LOAD!\n",
            "diagrams_basic_o=c1oc2ccccc2cc1-c1cn2ccccc2n1\n",
            "Sum_and_conc is OK!\n",
            "DF is LOAD!\n",
            "diagrams_basic_fc(f)(f)c1ccccc1\n",
            "Sum_and_conc is OK!\n",
            "DF is LOAD!\n",
            "diagrams_basic_coc(=o)c1cc2c(cc3ccc4cccc5ccc2c3c45)[nh]1\n",
            "Sum_and_conc is OK!\n",
            "DF is LOAD!\n",
            "diagrams_basic_cc1cccc(o)c1\n",
            "Sum_and_conc is OK!\n",
            "DF is LOAD!\n",
            "diagrams_basic_ccn(cc)c(c)=o\n",
            "Sum_and_conc is OK!\n",
            "DF is LOAD!\n",
            "diagrams_basic_cc1ccc(n(c2ccc(c)cc2)c2ccc3c4cccc5c(n(c6ccc(c)cc6)c6ccc(c)cc6)ccc(c6cccc2c63)c54)cc1"
          ]
        },
        {
          "output_type": "stream",
          "name": "stderr",
          "text": [
            "\r 72%|███████▏  | 815/1139 [00:25<00:07, 41.64it/s]"
          ]
        },
        {
          "output_type": "stream",
          "name": "stdout",
          "text": [
            "\n",
            "Sum_and_conc is OK!\n",
            "DF is LOAD!\n",
            "diagrams_basic_c1ccc(-c2cc(-c3ccc(n4c5ccccc5c5(c6ccccc64)c4ccccc4n(c4ccc(-c6cc(-c7ccccc7)nc(-c7ccccc7)n6)cc4)c4ccccc45)cc3)nc(-c3ccccc3)n2)cc1\n",
            "Sum_and_conc is OK!\n",
            "DF is LOAD!\n",
            "diagrams_basic_c=c(c)c(=o)oc\n",
            "Sum_and_conc is OK!\n",
            "DF is LOAD!\n",
            "diagrams_basic_n#cc1cc(c#n)c(-c2cc(-n3c4ccccc4c4ccccc43)cc(-n3c4ccccc4c4ccccc43)c2)cc1-c1ccc(n(c2ccccc2)c2ccccc2)cc1\n",
            "Sum_and_conc is OK!\n",
            "DF is LOAD!\n",
            "diagrams_basic_ccop(=o)(occ)occ\n",
            "Sum_and_conc is OK!\n",
            "DF is LOAD!\n",
            "diagrams_basic_c1cc(-c2c3ccccc3c(-c3ccc4ccccc4c3)c3ccccc23)cc(-n2c3ccccc3c3ccccc32)c1\n",
            "Sum_and_conc is OK!\n",
            "DF is LOAD!\n",
            "diagrams_basic_o=p(c1ccccc1)(c1ccccc1)n1c2ccccc2c2cc(-n3c4ccccc4c4cc(-n5c6ccccc6c6cc(-n7c8ccccc8c8ccccc87)ccc65)ccc43)ccc21\n",
            "Sum_and_conc is OK!\n",
            "DF is LOAD!\n",
            "diagrams_basic_cc(c)(c)c1ccc2c(c1)c1cc(c(c)(c)c)ccc1n2-c1ccc(s(=o)(=o)c2ccc(s(=o)(=o)c3ccc(-n4c5ccc(c(c)(c)c)cc5c5cc(c(c)(c)c)ccc54)cc3)cc2)cc1\n",
            "Sum_and_conc is OK!\n"
          ]
        },
        {
          "output_type": "stream",
          "name": "stderr",
          "text": [
            " 72%|███████▏  | 825/1139 [00:26<00:07, 40.85it/s]"
          ]
        },
        {
          "output_type": "stream",
          "name": "stdout",
          "text": [
            "DF is LOAD!\n",
            "diagrams_basic_cc1ccc(o)c(c(c)(c)c)c1\n",
            "Sum_and_conc is OK!\n",
            "DF is LOAD!\n",
            "diagrams_basic_coc1ccc(c2=cc(c3ccccc3)=c(c3ccccc3)c2)c2ccccc12\n",
            "Sum_and_conc is OK!\n",
            "DF is LOAD!\n",
            "diagrams_basic_cc(c)(c)c1ccc(-c2nnc(-c3ccc4ccc5cccc6ccc3c4c56)o2)cc1\n",
            "Sum_and_conc is OK!\n",
            "DF is LOAD!\n",
            "diagrams_basic_o=cc1ccc(-c2ccc3c(c2)c(=o)c2cc(-c4ccc(c=o)cc4)ccc2-3)cc1\n",
            "Sum_and_conc is OK!\n",
            "DF is LOAD!\n",
            "diagrams_basic_ccccccc1ccc(-c2ccc(c#n)cc2)cc1\n",
            "Sum_and_conc is OK!\n",
            "DF is LOAD!\n",
            "diagrams_basic_cc(c)(c)c1ccc2c(c1)c1cc(c(c)(c)c)ccc1n2-c1ccc2oc3nc4oc5ccc(c(f)(f)f)cc5c4cc3c2c1\n",
            "Sum_and_conc is OK!\n",
            "DF is LOAD!\n",
            "diagrams_basic_coc1ccc(c(=c(c2ccccc2)c2cccc(c=c(c#n)c#n)c2)c2ccc(oc)cc2)cc1\n",
            "Sum_and_conc is OK!\n",
            "DF is LOAD!\n",
            "diagrams_basic_cc1ccc(o)cc1c\n",
            "Sum_and_conc is OK!\n",
            "DF is LOAD!\n",
            "diagrams_basic_o=s(=o)(c1ccc2c(c1)c1ccccc1n2-c1ccccc1)c1ccc2c(c1)c1ccccc1n2-c1ccccc1\n",
            "Sum_and_conc is OK!"
          ]
        },
        {
          "output_type": "stream",
          "name": "stderr",
          "text": [
            " 73%|███████▎  | 835/1139 [00:26<00:07, 42.66it/s]"
          ]
        },
        {
          "output_type": "stream",
          "name": "stdout",
          "text": [
            "\n",
            "DF is LOAD!\n",
            "diagrams_basic_c#cc1ccccc1\n",
            "Sum_and_conc is OK!\n",
            "DF is LOAD!\n",
            "diagrams_basic_ccccccccc1ccc(-c2ccc(-c3cc(-c4ccc(-c5ccc(cccccccc)s5)c5nsnc45)c4ccc5c(-c6ccc(-c7ccc(cccccccc)s7)c7nsnc67)cc(-c6ccc(-c7ccc(cccccccc)s7)c7nsnc67)c6ccc3c4c65)c3nsnc23)s1\n",
            "Sum_and_conc is OK!\n",
            "DF is LOAD!\n",
            "diagrams_basic_cc1cc(c)cc(c)c1\n",
            "Sum_and_conc is OK!\n",
            "DF is LOAD!\n",
            "diagrams_basic_ccccc(=o)cccc\n",
            "Sum_and_conc is OK!\n",
            "DF is LOAD!\n",
            "diagrams_basic_ccn(cc)c1ccc2c(c1)oc(=o)c1cc3c(c)nn(-c4ccccc4)c3nc12\n",
            "Sum_and_conc is OK!\n",
            "DF is LOAD!\n",
            "diagrams_basic_[2h]c(cl)(cl)cl\n",
            "Sum_and_conc is OK!\n",
            "DF is LOAD!\n",
            "diagrams_basic_clccocccl\n",
            "Sum_and_conc is OK!\n",
            "DF is LOAD!\n",
            "diagrams_basic_o=p(c1ccccc1)(c1ccccc1)n1c2ccccc2c2ccccc21\n",
            "Sum_and_conc is OK!\n",
            "DF is LOAD!\n",
            "diagrams_basic_o=c1c2ccccc2sc2ccc(-n3c4ccccc4c4ccccc43)cc12\n",
            "Sum_and_conc is OK!\n"
          ]
        },
        {
          "output_type": "stream",
          "name": "stderr",
          "text": [
            " 74%|███████▍  | 846/1139 [00:26<00:06, 44.79it/s]"
          ]
        },
        {
          "output_type": "stream",
          "name": "stdout",
          "text": [
            "DF is LOAD!\n",
            "diagrams_basic_cc1cccc(o)c1c\n",
            "Sum_and_conc is OK!\n",
            "DF is LOAD!\n",
            "diagrams_basic_c1ccc(-n2c(-c3ccc(-c4ccc5c(c4)c4(c6ccccc6-c6ccccc64)c4cc(-c6ccc(-c7nc8ccccc8n7-c7ccccc7)cc6)c6ccccc6c4-5)cc3)nc3ccccc32)cc1\n",
            "Sum_and_conc is OK!\n",
            "DF is LOAD!\n",
            "diagrams_basic_ccccc1(c2ccccc2)nc2c(-c3ccc(oc)cc3)ccc(-c3ccc(oc)cc3)c2n=c1c1ccccc1\n",
            "Sum_and_conc is OK!\n",
            "DF is LOAD!\n",
            "diagrams_basic_c[p+]1(c2ccccc2)c2=c(c3ccccc31)s(=o)(=o)c1ccccc12\n",
            "Sum_and_conc is OK!\n",
            "DF is LOAD!\n",
            "diagrams_basic_o=p(c1ccccc1)(c1ccccc1)c1cccc(-c2nc3ccccc3n2-c2cccc(p(=o)(c3ccccc3)c3ccccc3)c2)c1\n",
            "Sum_and_conc is OK!\n",
            "DF is LOAD!\n",
            "diagrams_basic_fc1ccccn1\n",
            "Sum_and_conc is OK!\n",
            "DF is LOAD!\n",
            "diagrams_basic_cc(c)(c)c1ccc2oc3nc4oc5ccc(n6c7ccccc7oc7ccccc76)cc5c4cc3c2c1\n",
            "Sum_and_conc is OK!\n",
            "DF is LOAD!\n",
            "diagrams_basic_ccn1c(-c2ccc(-c3ccc4c(c3)c3(c5ccccc5-c5ccccc53)c3ccccc3-4)cc2)c(-c2ccc3ccccc3c2)c(-c2ccc3ccccc3c2)c1-c1ccc(-c2ccc3c(c2)c2(c4ccccc4-c4ccccc42)c2ccccc2-3)cc1\n",
            "Sum_and_conc is OK!\n",
            "DF is LOAD!\n",
            "diagrams_basic_cn1ccn(c)c1=o\n",
            "Sum_and_conc is OK!\n",
            "DF is LOAD!\n",
            "diagrams_basic_cc(c)(c)c1ccc2c(c1)c1cc(c(c)(c)c)ccc1n2-c1ccc(c#cc2ccc3c4ccc(c#cc5ccc(c=c(c#n)c#n)cc5)cc4n(-c4ccc(c(f)(f)f)cc4)c3c2)cc1\n"
          ]
        },
        {
          "output_type": "stream",
          "name": "stderr",
          "text": [
            "\r 75%|███████▍  | 851/1139 [00:26<00:06, 42.82it/s]"
          ]
        },
        {
          "output_type": "stream",
          "name": "stdout",
          "text": [
            "Sum_and_conc is OK!\n",
            "DF is LOAD!\n",
            "diagrams_basic_cn(c1ccccc1)c1ccc(-c2ccc(-c3ccc(n(c)c4ccccc4)cc3)c3nc(-c4ccccc4)c(-c4ccccc4)nc23)cc1\n",
            "Sum_and_conc is OK!\n",
            "DF is LOAD!\n",
            "diagrams_basic_c1cncc(-c2ccc(-c3c4ccc(-c5cccnc5)cc4c(-c4ccc(-c5cccnc5)cc4)c4ccc(-c5cccnc5)cc34)cc2)c1\n",
            "Sum_and_conc is OK!\n",
            "DF is LOAD!\n",
            "diagrams_basic_c1ccc2c(c1)c1ccccc1n2-c1ccc(-c2ccc(-c3ccc(-n4c5ccccc5c5ccccc54)nc3-n3c4ccccc4c4ccccc43)nn2)c(-n2c3ccccc3c3ccccc32)n1\n",
            "Sum_and_conc is OK!\n",
            "DF is LOAD!\n",
            "diagrams_basic_n#cc(cl)(cl)cl\n",
            "Sum_and_conc is OK!\n",
            "DF is LOAD!\n",
            "diagrams_basic_coc1c2ccccc2c(oc)c2c(c#cc(c)(c)c)c3cc4ccccc4cc3c(c#cc(c)(c)c)c12\n",
            "Sum_and_conc is OK!\n",
            "DF is LOAD!\n",
            "diagrams_basic_c1ccoc1\n",
            "Sum_and_conc is OK!\n",
            "DF is LOAD!\n",
            "diagrams_basic_n#cc1ccc(-n2c(-c3ccc(-c4ccc(-n5c6ccccc6c6ccccc65)cc4)s3)nc3c4ccccc4c4ccccc4c32)c2ccccc12\n",
            "Sum_and_conc is OK!\n",
            "DF is LOAD!\n",
            "diagrams_basic_o=s1(=o)c2ccc(-c3ccc(n(c4ccccc4)c4ccccc4)cc3)cc2c2(c3ccccc3-c3ccccc32)c2cc(-c3ccc(n(c4ccccc4)c4ccccc4)cc3)ccc21\n"
          ]
        },
        {
          "output_type": "stream",
          "name": "stderr",
          "text": [
            " 76%|███████▌  | 861/1139 [00:27<00:06, 40.66it/s]"
          ]
        },
        {
          "output_type": "stream",
          "name": "stdout",
          "text": [
            "Sum_and_conc is OK!\n",
            "DF is LOAD!\n",
            "diagrams_basic_cop(=o)(oc)oc\n",
            "Sum_and_conc is OK!\n",
            "DF is LOAD!\n",
            "diagrams_basic_cc(c)c1ccccc1o\n",
            "Sum_and_conc is OK!\n",
            "DF is LOAD!\n",
            "diagrams_basic_ccc1(cc)c2cc(-c3ccc(-c4ccccc4)cc3-c3ccccc3)ccc2-c2cc3c(cc21)-c1ccc(-c2ccc(-c4ccccc4)cc2-c2ccccc2)cc1c3(cc)cc\n",
            "Sum_and_conc is OK!\n",
            "DF is LOAD!\n",
            "diagrams_basic_ccc1(cc)c2ccccc2-c2ccc(c#cc3ccc4ccc5cccc6ccc3c4c56)cc21\n",
            "Sum_and_conc is OK!\n",
            "DF is LOAD!\n",
            "diagrams_basic_c1ccc(-c2nc(-c3ccc(n4c5ccccc5oc5ccccc54)cc3)nn2-c2ccc(n3c4ccccc4oc4ccccc43)cc2)nc1\n",
            "Sum_and_conc is OK!\n",
            "DF is LOAD!\n",
            "diagrams_basic_ccn(cc)c1ccc2cc(-c3cn4cc(c)ccc4n3)c(=o)oc2c1\n",
            "Sum_and_conc is OK!\n",
            "DF is LOAD!\n",
            "diagrams_basic_coc1ccc(-n2c(-c3ccc(-c4cncc5ccccc45)cc3)nc(-c3ccccc3)c2-c2ccccc2)cc1\n",
            "Sum_and_conc is OK!\n"
          ]
        },
        {
          "output_type": "stream",
          "name": "stderr",
          "text": [
            "\r 76%|███████▌  | 866/1139 [00:27<00:06, 39.39it/s]"
          ]
        },
        {
          "output_type": "stream",
          "name": "stdout",
          "text": [
            "DF is LOAD!\n",
            "diagrams_basic_clc(cl)c(cl)cl\n",
            "Sum_and_conc is OK!\n",
            "DF is LOAD!\n",
            "diagrams_basic_occocco\n",
            "Sum_and_conc is OK!\n",
            "DF is LOAD!\n",
            "diagrams_basic_o=c1oc(=o)c2ccc(n(c3ccccc3)c3c4ccccc4cc4ccccc34)c3cccc1c23\n",
            "Sum_and_conc is OK!\n",
            "DF is LOAD!\n",
            "diagrams_basic_ccoccoccocc\n",
            "Sum_and_conc is OK!\n",
            "DF is LOAD!\n",
            "diagrams_basic_ccccc(cc)cn1c2cc(c#n)ccc2c2ccc(c#cc3cc(c#cc4ccc5c6ccc(c#n)cc6n(cc(cc)cccc)c5c4)c4ccc5c(c#cc6ccc7c8ccc(c#n)cc8n(cc(cc)cccc)c7c6)cc(c#cc6ccc7c8ccc(c#n)cc8n(cc(cc)cccc)c7c6)c6ccc3c4c65)cc21\n",
            "Sum_and_conc is OK!\n",
            "DF is LOAD!\n",
            "diagrams_basic_cc1ccc(-n2c(-c3ccc(n(c4ccc(-c5ccc(n(c6ccc(-c7nc8c9ccccc9c9ccccc9c8n7-c7ccc(c)cc7)cc6)c6ccc(-c7nc8c9ccccc9c9ccccc9c8n7-c7ccc(c)cc7)cc6)cc5)cc4)c4ccc(-c5nc6c7ccccc7c7ccccc7c6n5-c5ccc(c)cc5)cc4)cc3)nc3c4ccccc4c4ccccc4c32)cc1\n",
            "Sum_and_conc is OK!\n",
            "DF is LOAD!\n",
            "diagrams_basic_occcco\n",
            "Sum_and_conc is OK!\n",
            "DF is LOAD!\n",
            "diagrams_basic_o=c1c2ccc(-c3ccc(n(c4ccccc4)c4ccccc4)cc3)cc2sc2cccc(-c3ccc(n(c4ccccc4)c4ccccc4)cc3)c12\n",
            "Sum_and_conc is OK!\n",
            "DF is LOAD!\n",
            "diagrams_basic_cc(c)c(c)o\n",
            "Sum_and_conc is OK!\n"
          ]
        },
        {
          "output_type": "stream",
          "name": "stderr",
          "text": [
            " 77%|███████▋  | 876/1139 [00:27<00:06, 40.64it/s]"
          ]
        },
        {
          "output_type": "stream",
          "name": "stdout",
          "text": [
            "DF is LOAD!\n",
            "diagrams_basic_cc1cc(c)c(b(c2ccc3c(c2)c2cc(b(c4c(c)cc(c)cc4c)c4c(c)cc(c)cc4c)ccc2n3-c2ccc(c(=c(c3ccccc3)c3ccccc3)c3ccccc3)cc2)c2c(c)cc(c)cc2c)c(c)c1\n",
            "Sum_and_conc is OK!\n",
            "DF is LOAD!\n",
            "diagrams_basic_c1ccc(n(c2ccccc2)c2ccc(-c3ccc4c(c3)c3(c5ccccc5oc5ccccc53)c3cc(-c5ccc(n(c6ccccc6)c6ccccc6)cc5)ccc3-4)cc2)cc1\n",
            "Sum_and_conc is OK!\n",
            "DF is LOAD!\n",
            "diagrams_basic_cn(c)c1ccc(c2=nc3sc4cc(cl)ccc4[n+]3[b-](f)(f)o2)cc1\n",
            "Sum_and_conc is OK!\n",
            "DF is LOAD!\n",
            "diagrams_basic_ccccn(cccc)cccc\n",
            "Sum_and_conc is OK!\n",
            "DF is LOAD!\n",
            "diagrams_basic_ccccn(cccc)c1ccc2nc3c4ccccc4c(=o)c(-c4ccccc4)c-3oc2c1\n",
            "Sum_and_conc is OK!\n",
            "DF is LOAD!\n",
            "diagrams_basic_cn(c)c1ccc(-c2ccc(-c3cc(n4ccccc4)c(c#n)c4c3-c3ccccc3cc4)s2)cc1\n",
            "Sum_and_conc is OK!\n",
            "DF is LOAD!\n",
            "diagrams_basic_occo\n",
            "Sum_and_conc is OK!\n",
            "DF is LOAD!\n",
            "diagrams_basic_cc(c)(c)c1cc2ccc3c(n(c4ccc(f)cc4)c4ccc(f)cc4)cc(n(c4ccc(f)cc4)c4ccc(f)cc4)c4ccc(c1)c2c34\n",
            "Sum_and_conc is OK!\n",
            "DF is LOAD!\n",
            "diagrams_basic_ccccc(cc)cn1c2cc(c#n)ccc2c2ccc(c#cc3ccc4ccc5c(c#cc6ccc7c8ccc(c#n)cc8n(cc(cc)cccc)c7c6)cc(c#cc6ccc7c8ccc(c#n)cc8n(cc(cc)cccc)c7c6)c6ccc3c4c56)cc21\n",
            "Sum_and_conc is OK!\n"
          ]
        },
        {
          "output_type": "stream",
          "name": "stderr",
          "text": [
            " 78%|███████▊  | 886/1139 [00:27<00:05, 43.74it/s]"
          ]
        },
        {
          "output_type": "stream",
          "name": "stdout",
          "text": [
            "DF is LOAD!\n",
            "diagrams_basic_cnc=o\n",
            "Sum_and_conc is OK!\n",
            "DF is LOAD!\n",
            "diagrams_basic_ccoc(=o)ccl\n",
            "Sum_and_conc is OK!\n",
            "DF is LOAD!\n",
            "diagrams_basic_c1ccc2c(c1)c1ccccc1n2-c1ccc2c(c1)c1ccccc1n2-c1ccc(-n2c3ccccc3c3cc(-n4c5ccccc5c5ccccc54)ccc32)cc1\n",
            "Sum_and_conc is OK!\n",
            "DF is LOAD!\n",
            "diagrams_basic_cc(c)[si](c#cc1c2nc3ccccc3nc2c(c#c[si](c(c)c)(c(c)c)c(c)c)c2nc3c4ccccc4c(=o)c4ccccc4c3nc12)(c(c)c)c(c)c\n",
            "Sum_and_conc is OK!\n",
            "DF is LOAD!\n",
            "diagrams_basic_c1ccc(-n2c(-c3cccc4ccccc34)nc3c4ccccc4c4ccccc4c32)cc1\n",
            "Sum_and_conc is OK!\n",
            "DF is LOAD!\n",
            "diagrams_basic_coc(=o)c1c(c(=o)oc)c2ccc(-c3ccccc3)nn2c1c\n",
            "Sum_and_conc is OK!\n",
            "DF is LOAD!\n",
            "diagrams_basic_c[si](c)(c)[si](c1cc2sc3cc([si]([si](c)(c)c)([si](c)(c)c)[si](c)(c)c)sc3c2s1)([si](c)(c)c)[si](c)(c)c\n",
            "Sum_and_conc is OK!\n",
            "DF is LOAD!\n",
            "diagrams_basic_cc1cc(c#n)ccc1n1c2ccccc2c(c2ccccc2)(c2ccccc2)c2ccccc21\n",
            "Sum_and_conc is OK!\n",
            "DF is LOAD!\n",
            "diagrams_basic_ccco\n",
            "Sum_and_conc is OK!\n",
            "DF is LOAD!\n",
            "diagrams_basic_coc1cc(c2=cc(c3ccccc3)=c(c3ccccc3)c2)cc(oc)c1oc\n",
            "Sum_and_conc is OK!\n"
          ]
        },
        {
          "output_type": "stream",
          "name": "stderr",
          "text": [
            " 79%|███████▊  | 896/1139 [00:27<00:05, 43.44it/s]"
          ]
        },
        {
          "output_type": "stream",
          "name": "stdout",
          "text": [
            "DF is LOAD!\n",
            "diagrams_basic_ccc(c)=o\n",
            "Sum_and_conc is OK!\n",
            "DF is LOAD!\n",
            "diagrams_basic_c1ccc(-c2ccc(-c3ccc(-c4ccccc4)cc3)cc2)cc1\n",
            "Sum_and_conc is OK!\n",
            "DF is LOAD!\n",
            "diagrams_basic_ccccccc\n",
            "Sum_and_conc is OK!\n",
            "DF is LOAD!\n",
            "diagrams_basic_ccccccn1c2ccc(-c3ccc(-c4ccccc4)c4nsnc34)cc2sc2cc(-c3ccc(-c4ccccc4)c4nsnc34)ccc21\n",
            "Sum_and_conc is OK!\n",
            "DF is LOAD!\n",
            "diagrams_basic_c1ccc(-n2c(-c3c(-n4c5ccccc5c5ccccc54)cccc3-n3c4ccccc4c4ccccc43)nc3ccccc32)cc1\n",
            "Sum_and_conc is OK!\n",
            "DF is LOAD!\n",
            "diagrams_basic_fc1cccc(f)n1\n",
            "Sum_and_conc is OK!\n",
            "DF is LOAD!\n",
            "diagrams_basic_n#cc1cccc(-c2cccc(-c3nc(-c4cccc(-c5cccc(c#n)c5)c4)nc(-c4cccc(-c5cccc(c#n)c5)c4)n3)c2)c1\n",
            "Sum_and_conc is OK!\n",
            "DF is LOAD!\n",
            "diagrams_basic_c1ccc(-c2nc(-c3ccc(-c4cncc5ccccc45)cc3)[nh]c2-c2ccccc2)cc1\n",
            "Sum_and_conc is OK!\n",
            "DF is LOAD!\n",
            "diagrams_basic_c1ccc(-c2nc3ccccc3nc2-c2cc(-c3nc4ccccc4nc3-c3ccccc3)cc(-n3c4ccccc4c4ccccc43)c2)cc1\n",
            "Sum_and_conc is OK!\n"
          ]
        },
        {
          "output_type": "stream",
          "name": "stderr",
          "text": [
            " 80%|███████▉  | 906/1139 [00:28<00:05, 44.70it/s]"
          ]
        },
        {
          "output_type": "stream",
          "name": "stdout",
          "text": [
            "DF is LOAD!\n",
            "diagrams_basic_cn(c)c(=o)n(c)c\n",
            "Sum_and_conc is OK!\n",
            "DF is LOAD!\n",
            "diagrams_basic_coc1ccc(n(c2ccc(oc)cc2)c2ccc3c4cccc5c(n(c6ccc(oc)cc6)c6ccc(oc)cc6)ccc(c6cccc2c63)c54)cc1\n",
            "Sum_and_conc is OK!\n",
            "DF is LOAD!\n",
            "diagrams_basic_cc1ccc(-c2cc3ccccc3oc2=o)cc1\n",
            "Sum_and_conc is OK!\n",
            "DF is LOAD!\n",
            "diagrams_basic_f[b-]1(f)oc2ccccc2-c2nc(-c3ccccc3)c3ccccc3[n+]21\n",
            "Sum_and_conc is OK!\n",
            "DF is LOAD!\n",
            "diagrams_basic_ccc(o)co\n",
            "Sum_and_conc is OK!\n",
            "DF is LOAD!\n",
            "diagrams_basic_cc(c)(c)c1ccc(-c2nc3c4ccc(-c5c6ccccc6cc6ccccc56)cc4c4cc(-c5c6ccccc6cc6ccccc56)ccc4c3n2-c2ccc(c(c)(c)c)cc2)cc1\n",
            "Sum_and_conc is OK!\n",
            "DF is LOAD!\n",
            "diagrams_basic_o=c1ccco1\n",
            "Sum_and_conc is OK!\n",
            "DF is LOAD!\n",
            "diagrams_basic_ccccccc1ccc(-c2ccc(-c3cc(-c4ccc(-c5ccc(cccccc)s5)s4)c4ccc5c(-c6ccc(-c7ccc(cccccc)s7)s6)cc(-c6ccc(-c7ccc(cccccc)s7)s6)c6ccc3c4c65)s2)s1\n",
            "Sum_and_conc is OK!\n",
            "DF is LOAD!\n",
            "diagrams_basic_ccccccn1c(=o)c2cccc3c(-c4ccc(-c5cc(-c6ccccc6)n(-c6ccccc6)n5)s4)ccc(c23)c1=o\n",
            "Sum_and_conc is OK!\n",
            "DF is LOAD!\n",
            "diagrams_basic_ccccccccn1c(=o)c2=c(c3ccc(c(=c(c4ccccc4)c4ccccc4)c4ccccc4)cc3)n(cccccccc)c(=o)c2=c1c1ccc(c(=c(c2ccccc2)c2ccccc2)c2ccccc2)cc1\n",
            "Sum_and_conc is OK!\n"
          ]
        },
        {
          "output_type": "stream",
          "name": "stderr",
          "text": [
            " 80%|████████  | 916/1139 [00:28<00:05, 44.18it/s]"
          ]
        },
        {
          "output_type": "stream",
          "name": "stdout",
          "text": [
            "DF is LOAD!\n",
            "diagrams_basic_cc(c)(c)c1ccc(-c2c(-c3ccc(n(c4ccccc4)c4ccccc4)cc3)c(c#n)c(-c3ccc(n(c4ccccc4)c4ccccc4)cc3)c(-c3ccc(c(c)(c)c)cc3)c2-c2ccc(c(c)(c)c)cc2)cc1\n",
            "Sum_and_conc is OK!\n",
            "DF is LOAD!\n",
            "diagrams_basic_c=cc1ccc(-c2ccc(-c3nnc(-c4ccc(-c5nnc(-c6ccc(-c7ccc(c=c)cc7)s6)o5)cc4)o3)s2)cc1\n",
            "Sum_and_conc is OK!\n",
            "DF is LOAD!\n",
            "diagrams_basic_c1ccc(n(c2ccccc2)c2ccc(-c3ccc4c(c3)c3(c5ccccc5sc5ccccc53)c3cc(-c5ccc(n(c6ccccc6)c6ccccc6)cc5)ccc3-4)cc2)cc1\n",
            "Sum_and_conc is OK!\n",
            "DF is LOAD!\n",
            "diagrams_basic_coc(=o)c1c(c(=o)oc)c2ccc(c)nn2c1c\n",
            "Sum_and_conc is OK!\n",
            "DF is LOAD!\n",
            "diagrams_basic_cc(c)[si](c#cc1c2nc3c(nc2c(c#c[si](c(c)c)(c(c)c)c(c)c)c2nc4c(nc12)c1c2ccccc2c4c2ccccc21)c1c2ccccc2c3c2ccccc21)(c(c)c)c(c)c\n",
            "Sum_and_conc is OK!\n",
            "DF is LOAD!\n",
            "diagrams_basic_cc1ccccn1\n",
            "Sum_and_conc is OK!\n",
            "DF is LOAD!\n",
            "diagrams_basic_o=c1c(n(c2ccccc2)c2ccccc2)c([o-])c1=[n+](c1ccccc1)c1ccccc1\n",
            "Sum_and_conc is OK!\n",
            "DF is LOAD!\n",
            "diagrams_basic_ccccc1(c2ccccc2)nc2ccccc2n=c1c1ccccc1\n",
            "Sum_and_conc is OK!\n",
            "DF is LOAD!\n",
            "diagrams_basic_cn(c)c=o\n",
            "Sum_and_conc is OK!\n",
            "DF is LOAD!\n",
            "diagrams_basic_ccoc(c)=o\n",
            "Sum_and_conc is OK!\n"
          ]
        },
        {
          "output_type": "stream",
          "name": "stderr",
          "text": [
            " 81%|████████▏ | 926/1139 [00:28<00:04, 44.15it/s]"
          ]
        },
        {
          "output_type": "stream",
          "name": "stdout",
          "text": [
            "DF is LOAD!\n",
            "diagrams_basic_cc(c)(c)c1ccc2oc3nc4oc5ccc(n(c6ccccc6)c6ccccc6)cc5c4cc3c2c1\n",
            "Sum_and_conc is OK!\n",
            "DF is LOAD!\n",
            "diagrams_basic_cc(o)c(c)o\n",
            "Sum_and_conc is OK!\n",
            "DF is LOAD!\n",
            "diagrams_basic_cc1ccc(c(c)c)cc1o\n",
            "Sum_and_conc is OK!\n",
            "DF is LOAD!\n",
            "diagrams_basic_occoccoccocco\n",
            "Sum_and_conc is OK!\n",
            "DF is LOAD!\n",
            "diagrams_basic_c1ccc2c(c1)sc1ccc(-n3c4ccccc4c4ccccc43)cc1s2\n",
            "Sum_and_conc is OK!\n",
            "DF is LOAD!\n",
            "diagrams_basic_ccccccc1ccc(-n2c3[n+](c4c5ccccc5c5ccccc5c42)[b-](c)(c)c2ccccc2-3)cc1\n",
            "Sum_and_conc is OK!\n",
            "DF is LOAD!\n",
            "diagrams_basic_c[si](c)(c)[si](c1cc2sc([si]([si](c)(c)c)([si](c)(c)c)[si](c)(c)c)cc2s1)([si](c)(c)c)[si](c)(c)c\n",
            "Sum_and_conc is OK!\n",
            "DF is LOAD!\n",
            "diagrams_basic_cc(c)(c)c1ccc2c(c1)c1cc(c(c)(c)c)ccc1n2-c1ccc(-n2c3ccc(c(c)(c)c)cc3c3cc(c(c)(c)c)ccc32)c(c(=o)c2ccncc2)c1\n",
            "Sum_and_conc is OK!\n",
            "DF is LOAD!\n",
            "diagrams_basic_o=c1oc(=o)c2ccc(n(c3ccccc3)c3ccc4ccc5cccc6ccc3c4c56)c3cccc1c23\n",
            "Sum_and_conc is OK!\n"
          ]
        },
        {
          "output_type": "stream",
          "name": "stderr",
          "text": [
            "\r 82%|████████▏ | 931/1139 [00:28<00:05, 40.15it/s]"
          ]
        },
        {
          "output_type": "stream",
          "name": "stdout",
          "text": [
            "DF is LOAD!\n",
            "diagrams_basic_cn(c)c1ccc(n2c3sc4ccccc4c3sc3sc4ccccc4c32)cc1\n",
            "Sum_and_conc is OK!\n",
            "DF is LOAD!\n",
            "diagrams_basic_c1ccc(-c2cc(-c3ccc4c(c3)c3(c5ccccc5-c5ccccc53)c3cc(-c5cc(-c6ccccn6)nc(-c6ccccn6)c5)ccc3-4)cc(-c3ccccn3)n2)nc1\n",
            "Sum_and_conc is OK!\n",
            "DF is LOAD!\n",
            "diagrams_basic_n#cc1=cc(c#cc2ccccc2)=cc(c#n)=p1(c1ccccc1)c1ccccc1\n",
            "Sum_and_conc is OK!\n",
            "DF is LOAD!\n",
            "diagrams_basic_cc1ccc2c(c1)c(c1ccccc1)(c1ccccc1)c1cc(c)ccc1n2c1ccc2c(c1)n(c1ccccc1)c1ccccc1b2c1c(c(c)c)cc(c(c)c)cc1c(c)c\n",
            "Sum_and_conc is OK!\n",
            "DF is LOAD!\n",
            "diagrams_basic_nc1cccc2c1ccc1[n+]2[b-](f)(f)n2c-1cc1c3ccccc3c3ccccc3c12\n",
            "Sum_and_conc is OK!\n",
            "DF is LOAD!\n",
            "diagrams_basic_o=c1c2ccccc2s(=o)(=o)c2ccc(-n3c4ccccc4c4ccccc43)cc21\n",
            "Sum_and_conc is OK!\n",
            "DF is LOAD!\n",
            "diagrams_basic_c1ccc2c(c1)c1ccccc1n2-c1ccc(-c2ccc(-n3c4ccccc4c4ccccc43)cc2)cc1\n",
            "Sum_and_conc is OK!\n"
          ]
        },
        {
          "output_type": "stream",
          "name": "stderr",
          "text": [
            " 83%|████████▎ | 941/1139 [00:28<00:04, 41.65it/s]"
          ]
        },
        {
          "output_type": "stream",
          "name": "stdout",
          "text": [
            "DF is LOAD!\n",
            "diagrams_basic_cn(c)c1ccccc1\n",
            "Sum_and_conc is OK!\n",
            "DF is LOAD!\n",
            "diagrams_basic_cc(c)(c)c1ccc2c(c1)c1cc(c(c)(c)c)ccc1n2-c1cccc(-c2nc(-c3cccc(p(=o)(c4ccccc4)c4ccccc4)c3)nc(-c3cccc(p(=o)(c4ccccc4)c4ccccc4)c3)n2)c1\n",
            "Sum_and_conc is OK!\n",
            "DF is LOAD!\n",
            "diagrams_basic_n#cc1cccc(n2c3ccccc3c(c3ccccc3)(c3ccccc3)c3ccccc32)c1\n",
            "Sum_and_conc is OK!\n",
            "DF is LOAD!\n",
            "diagrams_basic_ccccccn1c(=o)c2cccc3c(-c4ccc(-c5cc(-c6ccc(cl)cc6)nn5-c5ccccc5)s4)ccc(c23)c1=o\n",
            "Sum_and_conc is OK!\n",
            "DF is LOAD!\n",
            "diagrams_basic_c1ccc(-c2nc3c4ccccc4c4ccccc4c3n2-c2cccc(-c3nc4c5ccccc5c5ccccc5c4n3-c3ccccc3)c2)cc1\n",
            "Sum_and_conc is OK!\n",
            "DF is LOAD!\n",
            "diagrams_basic_cc(c)(c)nc(=o)c1c([si](c)(c)c)cc2ccc3cccc4ccc1c2c34\n",
            "Sum_and_conc is OK!\n",
            "DF is LOAD!\n",
            "diagrams_basic_cccc(c)o\n",
            "Sum_and_conc is OK!\n",
            "DF is LOAD!\n",
            "diagrams_basic_oc1ccccc1cl\n",
            "Sum_and_conc is OK!\n",
            "DF is LOAD!\n",
            "diagrams_basic_cc#n\n",
            "Sum_and_conc is OK!\n"
          ]
        },
        {
          "output_type": "stream",
          "name": "stderr",
          "text": [
            " 83%|████████▎ | 951/1139 [00:29<00:04, 41.62it/s]"
          ]
        },
        {
          "output_type": "stream",
          "name": "stdout",
          "text": [
            "DF is LOAD!\n",
            "diagrams_basic_f[b-]1(f)oc(c2ccccc2)=cc2cc3[n+](c[n+]21)[b-](f)(f)oc(c1ccccc1)=c3\n",
            "Sum_and_conc is OK!\n",
            "DF is LOAD!\n",
            "diagrams_basic_c1ccc(c2=c(c3ccccc3)c3cccc4c3c(cc3nc5ccccc5nc34)o2)cc1\n",
            "Sum_and_conc is OK!\n",
            "DF is LOAD!\n",
            "diagrams_basic_c[si]1(c)c(c2ccc(-c3ccccc3)c3c2n=s=n3)=c(c2ccccc2)c(c2ccccc2)=c1c1ccc(-c2ccccc2)c2c1n=s=n2\n",
            "Sum_and_conc is OK!\n",
            "DF is LOAD!\n",
            "diagrams_basic_clcccccl\n",
            "Sum_and_conc is OK!\n",
            "DF is LOAD!\n",
            "diagrams_basic_cn(c)c(=o)c1ccc(-c2nc3ccc(n(c)c)cc3s2)cc1\n",
            "Sum_and_conc is OK!\n",
            "DF is LOAD!\n",
            "diagrams_basic_coc1ccc(c2=c(c3ccc(oc)cc3)c3cccc4c5c(cc(c34)o2)=nc2c=c(br)c(br)=cc2n=5)cc1\n",
            "Sum_and_conc is OK!\n",
            "DF is LOAD!\n",
            "diagrams_basic_ccoc(=o)c1ccc(c2=c(c3ccccc3)c3oc4ccccc4[n+]3[b-](f)(f)o2)cc1\n",
            "Sum_and_conc is OK!\n",
            "DF is LOAD!\n",
            "diagrams_basic_cc1ccc(n(c2ccc(c)cc2)c2c([o-])c(=[n+](c3ccc(c)cc3)c3ccc(c)cc3)c2=o)cc1\n",
            "Sum_and_conc is OK!\n",
            "DF is LOAD!\n",
            "diagrams_basic_ccccccccn1c(=o)c2ccc3c4c(-c5ccc6c(c5)c5ccccc5n6-c5ccccc5)cc5c6c(ccc(c7c(-c8ccc9c(c8)c8ccccc8n9-c8ccccc8)cc(c2c37)c1=o)c64)c(=o)n(cccccccc)c5=o\n",
            "Sum_and_conc is OK!\n"
          ]
        },
        {
          "output_type": "stream",
          "name": "stderr",
          "text": [
            " 84%|████████▍ | 961/1139 [00:29<00:04, 42.19it/s]"
          ]
        },
        {
          "output_type": "stream",
          "name": "stdout",
          "text": [
            "DF is LOAD!\n",
            "diagrams_basic_cc(c)c(o)c(c)c\n",
            "Sum_and_conc is OK!\n",
            "DF is LOAD!\n",
            "diagrams_basic_cn(c)c1ccc(c2=nc3sc4c(f)c(f)c(f)c(f)c4[n+]3[b-](f)(f)o2)cc1\n",
            "Sum_and_conc is OK!\n",
            "DF is LOAD!\n",
            "diagrams_basic_coc(=o)c(cl)(cl)cl\n",
            "Sum_and_conc is OK!\n",
            "DF is LOAD!\n",
            "diagrams_basic_c1ccc(-c2nc(-c3ccc(n4c5ccccc5sc5ccccc54)cc3)nn2-c2ccc(n3c4ccccc4sc4ccccc43)cc2)nc1\n",
            "Sum_and_conc is OK!\n",
            "DF is LOAD!\n",
            "diagrams_basic_ccoc(=o)c1ccccc1\n",
            "Sum_and_conc is OK!\n",
            "DF is LOAD!\n",
            "diagrams_basic_ccccn1c2ccccc2c2ccc(c#cc3ccc4ccc5cccc6ccc3c4c56)cc21\n",
            "Sum_and_conc is OK!\n",
            "DF is LOAD!\n",
            "diagrams_basic_fc1cccc(f)c1\n",
            "Sum_and_conc is OK!\n",
            "DF is LOAD!\n",
            "diagrams_basic_ccn(cc)c1ccc(c(=c(c2ccc(b(c3c(c)cc(c)cc3c)c3c(c)cc(c)cc3c)cc2)c2ccc(b(c3c(c)cc(c)cc3c)c3c(c)cc(c)cc3c)cc2)c2ccc(n(cc)cc)cc2)cc1\n",
            "Sum_and_conc is OK!\n",
            "DF is LOAD!\n",
            "diagrams_basic_brc1cccnc1\n",
            "Sum_and_conc is OK!\n"
          ]
        },
        {
          "output_type": "stream",
          "name": "stderr",
          "text": [
            " 85%|████████▌ | 971/1139 [00:29<00:03, 43.03it/s]"
          ]
        },
        {
          "output_type": "stream",
          "name": "stdout",
          "text": [
            "DF is LOAD!\n",
            "diagrams_basic_cc1=c(c)c2cccc3c2c(cc2nc4ccccc4nc23)o1\n",
            "Sum_and_conc is OK!\n",
            "DF is LOAD!\n",
            "diagrams_basic_n#cc1c(n2c3ccccc3c(c3ccccc3)(c3ccccc3)c3ccccc32)cccc1n1c2ccccc2c(c2ccccc2)(c2ccccc2)c2ccccc21\n",
            "Sum_and_conc is OK!\n",
            "DF is LOAD!\n",
            "diagrams_basic_ccccn1c(=o)c2=c(c3ccc(-c4ccc(n(c5ccc(oc)cc5)c5ccc(oc)cc5)cc4)cc3)n(cccc)c(=o)c2=c1c1ccc(-c2ccc(n(c3ccc(oc)cc3)c3ccc(oc)cc3)cc2)cc1\n",
            "Sum_and_conc is OK!\n",
            "DF is LOAD!\n",
            "diagrams_basic_o=c1c2ccc(-c3ccc(n(c4ccccc4)c4ccccc4)cc3)cc2sc2cc(-c3ccc(n(c4ccccc4)c4ccccc4)cc3)ccc12\n",
            "Sum_and_conc is OK!\n",
            "DF is LOAD!\n",
            "diagrams_basic_ccn(cc)c1ccc2c(c1)oc(=o)c1cnc3c(c(c)nn3-c3ccccc3)c12\n",
            "Sum_and_conc is OK!\n",
            "DF is LOAD!\n",
            "diagrams_basic_fc1ccccc1\n",
            "Sum_and_conc is OK!\n",
            "DF is LOAD!\n",
            "diagrams_basic_o=p(c1ccccc1)(c1ccccc1)c1ccc(-c2cccc(-n3c4ccccc4c4ccccc43)c2)cc1\n",
            "Sum_and_conc is OK!\n",
            "DF is LOAD!\n",
            "diagrams_basic_cc(c)(c)c1ccc2c(c1)oc1nc3oc4ccc(-n5c6ccccc6c6ccccc65)cc4c3cc12\n",
            "Sum_and_conc is OK!\n",
            "DF is LOAD!\n",
            "diagrams_basic_cn1cccc1=s\n",
            "Sum_and_conc is OK!\n",
            "DF is LOAD!\n"
          ]
        },
        {
          "output_type": "stream",
          "name": "stderr",
          "text": [
            "\r 86%|████████▌ | 977/1139 [00:29<00:03, 45.73it/s]"
          ]
        },
        {
          "output_type": "stream",
          "name": "stdout",
          "text": [
            "diagrams_basic_n#cc(c#n)=cc1ccc2c(c1)c1ccccc1n2-c1cc2ccccc2c2ccccc12\n",
            "Sum_and_conc is OK!\n",
            "DF is LOAD!\n",
            "diagrams_basic_brc1cccc(br)c1\n",
            "Sum_and_conc is OK!\n",
            "DF is LOAD!\n",
            "diagrams_basic_c1ccc2nc(-n3c4ccccc4c4ccccc43)c(-n3c4ccccc4c4ccccc43)nc2c1\n",
            "Sum_and_conc is OK!\n",
            "DF is LOAD!\n",
            "diagrams_basic_cc(c)(c)c1ccc(o)c(c(c)(c)c)c1\n",
            "Sum_and_conc is OK!\n",
            "DF is LOAD!\n",
            "diagrams_basic_c1ccc2c(-c3ccc(-c4nc5c6ccccc6c6ccccc6c5[nh]4)cc3)cncc2c1\n",
            "Sum_and_conc is OK!\n",
            "DF is LOAD!\n",
            "diagrams_basic_c1ccc(c2=nc3cccc4[n+]3[b-](c3ccccc3)(n2)nc(c2ccccc2)=n4)cc1\n",
            "Sum_and_conc is OK!\n",
            "DF is LOAD!\n",
            "diagrams_basic_coc1ccc(c2=cc3ccccc3[si]2(c2ccccc2)c2ccccc2)cc1\n",
            "Sum_and_conc is OK!\n",
            "DF is LOAD!\n",
            "diagrams_basic_cn(c)c1ccc(c2=nc3scc(-c4ccc(c#n)cc4)[n+]3[b-](f)(f)o2)cc1\n",
            "Sum_and_conc is OK!\n",
            "DF is LOAD!\n",
            "diagrams_basic_o=s1(=o)c2ccc(-c3ccc4c(c3)c3ccccc3n4-c3ccccc3)cc2c2(c3cc(-c4ccc5c(c4)c4ccccc4n5-c4ccccc4)ccc31)c1cc(-c3ccc4c(c3)c3ccccc3n4-c3ccccc3)ccc1s(=o)(=o)c1ccc(-c3ccc4c(c3)c3ccccc3n4-c3ccccc3)cc12\n",
            "Sum_and_conc is OK!\n",
            "DF is LOAD!\n",
            "diagrams_basic_cc(c)(c)c1ccc(-n2c(-c3ccc(-c4ccc(n(c5ccccc5)c5ccccc5)cc4)cc3)nc3c4ccccc4c4ccccc4c32)cc1\n",
            "Sum_and_conc is OK!\n"
          ]
        },
        {
          "output_type": "stream",
          "name": "stderr",
          "text": [
            " 87%|████████▋ | 987/1139 [00:29<00:03, 42.24it/s]"
          ]
        },
        {
          "output_type": "stream",
          "name": "stdout",
          "text": [
            "DF is LOAD!\n",
            "diagrams_basic_ccccccccn1c(=o)c2ccc3c4c(-c5ccc6c7ccccc7n(-c7ccccc7)c6c5)cc5c6c(cc(-c7ccc8c9ccccc9n(-c9ccccc9)c8c7)c(c7ccc(c2c37)c1=o)c64)c(=o)n(cccccccc)c5=o\n",
            "Sum_and_conc is OK!\n",
            "DF is LOAD!\n",
            "diagrams_basic_cc(c)(c)c1ccc(-c2nc3ccccc3nc2-c2cc(-c3nc4ccccc4nc3-c3ccc(c(c)(c)c)cc3)cc(-n3c4ccccc4c4ccccc43)c2)cc1\n",
            "Sum_and_conc is OK!\n",
            "DF is LOAD!\n",
            "diagrams_basic_cc(c)(c)c1ccc(-c2c(-c3ccc(-n4c5ccccc5c5ccccc54)cc3)c(c#n)c(-c3ccc(-n4c5ccccc5c5ccccc54)cc3)c(-c3ccc(c(c)(c)c)cc3)c2-c2ccc(c(c)(c)c)cc2)cc1\n",
            "Sum_and_conc is OK!\n",
            "DF is LOAD!\n",
            "diagrams_basic_coc(=o)c1=c(c(=o)oc)c2=c[c@h]3c4ccccc4[c@]2([se]1)c1ccccc13\n",
            "Sum_and_conc is OK!\n",
            "DF is LOAD!\n",
            "diagrams_basic_cn(c)c1ccc(-c2ccc(-c3cc(n4ccccc4)c(c#n)c4c3-c3ccccc3cc4)cc2)cc1\n",
            "Sum_and_conc is OK!\n",
            "DF is LOAD!\n",
            "diagrams_basic_cc(c)(c)c1ccc2oc3nc4oc5ccc(-n6c7ccccc7c7cc(-n8c9ccccc9c9ccccc98)ccc76)cc5c4cc3c2c1\n",
            "Sum_and_conc is OK!\n",
            "DF is LOAD!\n",
            "diagrams_basic_cn1c2ccc3c(c2-c2ccccc2s1(=o)=o)-c1ccccc1s(=o)(=o)n3c\n",
            "Sum_and_conc is OK!\n",
            "DF is LOAD!\n",
            "diagrams_basic_cc(c)(c)c1ccc(-n2c(-c3ccc(-c4ccc(-c5c(-c6ccccc6)nc6ccccn56)cc4)cc3)nc3c4ccccc4c4ccccc4c32)cc1\n",
            "Sum_and_conc is OK!\n",
            "DF is LOAD!\n",
            "diagrams_basic_clc1ccccc1cl\n",
            "Sum_and_conc is OK!\n",
            "DF is LOAD!\n",
            "diagrams_basic_coc1ccc2ccccc2c1c1=cc(c2ccccc2)=c(c2ccccc2)c1\n",
            "Sum_and_conc is OK!\n"
          ]
        },
        {
          "output_type": "stream",
          "name": "stderr",
          "text": [
            " 88%|████████▊ | 998/1139 [00:30<00:02, 47.42it/s]"
          ]
        },
        {
          "output_type": "stream",
          "name": "stdout",
          "text": [
            "DF is LOAD!\n",
            "diagrams_basic_fc(f)(f)c(cl)(cl)cl\n",
            "Sum_and_conc is OK!\n",
            "DF is LOAD!\n",
            "diagrams_basic_o=p(c1ccccc1)(c1ccccc1)c1ccc(-n2c(-c3ccccc3p(=o)(c3ccccc3)c3ccccc3)nc3ccccc32)cc1\n",
            "Sum_and_conc is OK!\n",
            "DF is LOAD!\n",
            "diagrams_basic_coc1cc(-c2nnc(-c3ccc4ccc5cccc6ccc3c4c56)o2)cc(oc)c1oc\n",
            "Sum_and_conc is OK!\n",
            "DF is LOAD!\n",
            "diagrams_basic_c1ccc(n2n=c(c3c4ccccc4cc4ccccc34)cc2c2ccc3ccc4cccc5ccc2c3c45)cc1\n",
            "Sum_and_conc is OK!\n",
            "DF is LOAD!\n",
            "diagrams_basic_cccccccccccc\n",
            "Sum_and_conc is OK!\n",
            "DF is LOAD!\n",
            "diagrams_basic_c1ccc(c(=c(c2ccccc2)c2ccc(-c3ccc(-c4ccc(c(=c(c5ccccc5)c5ccccc5)c5ccccc5)cc4)c4nsnc34)cc2)c2ccccc2)cc1\n",
            "Sum_and_conc is OK!\n",
            "DF is LOAD!\n",
            "diagrams_basic_ccoc=o\n",
            "Sum_and_conc is OK!\n",
            "DF is LOAD!\n",
            "diagrams_basic_clc(cl)=c(cl)cl\n",
            "Sum_and_conc is OK!\n",
            "DF is LOAD!\n",
            "diagrams_basic_fc1ccccc1f\n",
            "Sum_and_conc is OK!\n",
            "DF is LOAD!\n",
            "diagrams_basic_ccc(c)co\n",
            "Sum_and_conc is OK!\n"
          ]
        },
        {
          "output_type": "stream",
          "name": "stderr",
          "text": [
            " 89%|████████▊ | 1009/1139 [00:30<00:02, 48.32it/s]"
          ]
        },
        {
          "output_type": "stream",
          "name": "stdout",
          "text": [
            "DF is LOAD!\n",
            "diagrams_basic_ccn(cc)c1ccc2c(c1)oc(=o)c1c(c)nc3c(cnn3-c3ccccc3)c12\n",
            "Sum_and_conc is OK!\n",
            "DF is LOAD!\n",
            "diagrams_basic_o=s(=o)(c1ccc(-c2ccc(-c3nc4c5ccccc5c5ccccc5c4n3-c3ccccc3)cc2)cc1)c1ccc(-c2ccc(-c3nc4c5ccccc5c5ccccc5c4n3-c3ccccc3)cc2)cc1\n",
            "Sum_and_conc is OK!\n",
            "DF is LOAD!\n",
            "diagrams_basic_cn(c)c1ccc(c2=nc3scc[n+]3[b-](f)(f)o2)cc1\n",
            "Sum_and_conc is OK!\n",
            "DF is LOAD!\n",
            "diagrams_basic_cbr\n",
            "Sum_and_conc is OK!\n",
            "DF is LOAD!\n",
            "diagrams_basic_n#cc1=cc(c=o)=cc(c#n)=p1(c1ccccc1)c1ccccc1\n",
            "Sum_and_conc is OK!\n",
            "DF is LOAD!\n",
            "diagrams_basic_coc1ccc(o)cc1\n",
            "Sum_and_conc is OK!\n",
            "DF is LOAD!\n",
            "diagrams_basic_o=cc1ccc(n(c2ccc(-n3c4ccccc4c4ccccc43)cc2)c2ccc(-n3c4ccccc4c4ccccc43)cc2)cc1\n",
            "Sum_and_conc is OK!\n",
            "DF is LOAD!\n",
            "diagrams_basic_ccccn1c2ccccc2c2ccc3c4cc(-c5ccc6ccccc6c5)ccc4n(cccc)c3c21\n",
            "Sum_and_conc is OK!\n",
            "DF is LOAD!\n",
            "diagrams_basic_n#cc1ccc(o)cc1\n",
            "Sum_and_conc is OK!\n",
            "DF is LOAD!\n",
            "diagrams_basic_cc(c)(c)c1ccc2c(c1)c1cc(c(c)(c)c)ccc1n2-c1ccc(-c2nc(-c3ccc(p(=o)(c4ccccc4)c4ccccc4)cc3)nc(-c3ccc(p(=o)(c4ccccc4)c4ccccc4)cc3)n2)cc1\n",
            "Sum_and_conc is OK!\n",
            "DF is LOAD!\n",
            "diagrams_basic_c1ccc(-c2c3c(nc4ccccc24)-c2cc4c(cc2cc3)-c2nc3ccccc3c(-c3ccccc3)c2cc4)cc1\n",
            "Sum_and_conc is OK!\n"
          ]
        },
        {
          "output_type": "stream",
          "name": "stderr",
          "text": [
            " 90%|████████▉ | 1021/1139 [00:30<00:02, 49.11it/s]"
          ]
        },
        {
          "output_type": "stream",
          "name": "stdout",
          "text": [
            "DF is LOAD!\n",
            "diagrams_basic_ccccccccn1c(=o)c2=c(c3ccc(br)cc3)n(cccccccc)c(=o)c2=c1c1ccc(br)cc1\n",
            "Sum_and_conc is OK!\n",
            "DF is LOAD!\n",
            "diagrams_basic_cccccccccccccccccl\n",
            "Sum_and_conc is OK!\n",
            "DF is LOAD!\n",
            "diagrams_basic_o=c(c1ccc2c3c(cccc13)-c1cccc3c1c2cc=c3)c1c(ccc2ccccc2)c2ccc3cccc4c5cccc6ccc1c(c65)c2c34\n",
            "Sum_and_conc is OK!\n",
            "DF is LOAD!\n",
            "diagrams_basic_ccc1cccc(o)c1\n",
            "Sum_and_conc is OK!\n",
            "DF is LOAD!\n",
            "diagrams_basic_cc1c(c(=o)c2ccc3ccc4cccc5ccc2c3c45)c2ccc3cccc4c5cccc6ccc1c(c65)c2c34\n",
            "Sum_and_conc is OK!\n",
            "DF is LOAD!\n",
            "diagrams_basic_coc1ccc(n(c2ccc(c=c(c3ccccc3)c3ccccc3)cc2)c2ccc(c=c(c3ccccc3)c3ccccc3)cc2)cc1\n",
            "Sum_and_conc is OK!\n",
            "DF is LOAD!\n",
            "diagrams_basic_o=p1(c2ccccc2)c(c2ccsc2)=c(c2ccsc2)c2ccccc21\n",
            "Sum_and_conc is OK!\n",
            "DF is LOAD!\n",
            "diagrams_basic_[2h]oc\n",
            "Sum_and_conc is OK!\n",
            "DF is LOAD!\n",
            "diagrams_basic_c1ccc(-n2c3ccccc3c3cc(-c4cccc(-n5c6ccccc6c6ncccc65)c4)ccc32)cc1\n",
            "Sum_and_conc is OK!\n",
            "DF is LOAD!\n",
            "diagrams_basic_coc1ccc(c2=nc3cccc4[n+]3[b-](f)(o2)oc(c2ccc(oc)cc2)=n4)cc1\n",
            "Sum_and_conc is OK!\n"
          ]
        },
        {
          "output_type": "stream",
          "name": "stderr",
          "text": [
            "\r 90%|█████████ | 1026/1139 [00:30<00:02, 45.11it/s]"
          ]
        },
        {
          "output_type": "stream",
          "name": "stdout",
          "text": [
            "DF is LOAD!\n",
            "diagrams_basic_c1ccc(-n2c3ccccc3c3cc([si](c4ccccc4)(c4ccccc4)c4ccc5c(c4)c4ccccc4n5-c4ccccc4)ccc32)cc1\n",
            "Sum_and_conc is OK!\n",
            "DF is LOAD!\n",
            "diagrams_basic_cc(o)co\n",
            "Sum_and_conc is OK!\n",
            "DF is LOAD!\n",
            "diagrams_basic_ccccc1(c2ccccc2)nc2c(-c3ccc(n(c4ccccc4)c4ccccc4)cc3)ccc(-c3ccc(n(c4ccccc4)c4ccccc4)cc3)c2n=c1c1ccccc1\n",
            "Sum_and_conc is OK!\n",
            "DF is LOAD!\n",
            "diagrams_basic_ccccn1c(=o)c2ccc3c4c(-c5ccc(c(=c(c6ccccc6)c6ccccc6)c6ccccc6)cc5)cc5c6c(ccc(c7c(-c8ccc(c(=c(c9ccccc9)c9ccccc9)c9ccccc9)cc8)cc(c2c37)c1=o)c64)c(=o)n(cccc)c5=o\n",
            "Sum_and_conc is OK!\n",
            "DF is LOAD!\n",
            "diagrams_basic_c1cc(-n2c3ccccc3c3ccccc32)nc(-n2c3ccccc3c3ccccc32)c1\n",
            "Sum_and_conc is OK!\n",
            "DF is LOAD!\n",
            "diagrams_basic_fc(f)(f)c1c(-n2c3ccccc3c3ccccc32)c(-n2c3ccccc3c3ccccc32)c(-n2c3ccccc3c3ccccc32)c(-n2c3ccccc3c3ccccc32)c1-n1c2ccccc2c2ccccc21\n",
            "Sum_and_conc is OK!\n",
            "DF is LOAD!\n",
            "diagrams_basic_c1ccc2c(c1)c1ccccc1n2-c1ccc(n(c2ccc(-n3c4ccccc4c4ccccc43)cc2)c2ccc(-n3c4ccccc4c4ccccc43)cc2)cc1\n",
            "Sum_and_conc is OK!\n",
            "DF is LOAD!\n",
            "diagrams_basic_ccccco\n",
            "Sum_and_conc is OK!\n"
          ]
        },
        {
          "output_type": "stream",
          "name": "stderr",
          "text": [
            " 91%|█████████ | 1036/1139 [00:31<00:02, 41.96it/s]"
          ]
        },
        {
          "output_type": "stream",
          "name": "stdout",
          "text": [
            "DF is LOAD!\n",
            "diagrams_basic_ccn1c(-c2ccc(-c3ccc(-c4ccc(-c5n(cc)c6ccccc6[n+]5cc)cc4)cc3)cc2)[n+](cc)c2ccccc21\n",
            "Sum_and_conc is OK!\n",
            "DF is LOAD!\n",
            "diagrams_basic_o=p1(c2ccccc2)c2=c(c3ccccc31)s(=o)(=o)c1ccccc12\n",
            "Sum_and_conc is OK!\n",
            "DF is LOAD!\n",
            "diagrams_basic_occc1ccccc1\n",
            "Sum_and_conc is OK!\n",
            "DF is LOAD!\n",
            "diagrams_basic_ccc(c)cc\n",
            "Sum_and_conc is OK!\n",
            "DF is LOAD!\n",
            "diagrams_basic_cc(c)(c)c1ccc(-n2c(-c3ccc(-c4cccc(-c5c(-c6ccccc6)nc6ccccn56)c4)cc3)nc3c4ccccc4c4ccccc4c32)cc1\n",
            "Sum_and_conc is OK!\n",
            "DF is LOAD!\n",
            "diagrams_basic_cc1ccc2c(c1)c(c1ccccc1)(c1ccccc1)c1cc(c)ccc1n2c1cc(c(c)c)c(b2c3ccccc3sc3ccccc32)c(c(c)c)c1\n",
            "Sum_and_conc is OK!\n",
            "DF is LOAD!\n",
            "diagrams_basic_c1ccc(n(c2ccccc2)c2ccc(-c3ccc4c(c3)c3(c5cc(-c6ccc(n(c7ccccc7)c7ccccc7)cc6)ccc5o4)c4ccccc4-c4ccccc43)cc2)cc1\n",
            "Sum_and_conc is OK!\n",
            "DF is LOAD!\n",
            "diagrams_basic_c1ccc(c2=c(c3ccccc3)c3cccc4c3c(cc3nc5cc(-c6ccccc6)c(-c6ccccc6)cc5nc34)o2)cc1\n",
            "Sum_and_conc is OK!\n"
          ]
        },
        {
          "output_type": "stream",
          "name": "stderr",
          "text": [
            "\r 91%|█████████▏| 1041/1139 [00:31<00:02, 39.70it/s]"
          ]
        },
        {
          "output_type": "stream",
          "name": "stdout",
          "text": [
            "DF is LOAD!\n",
            "diagrams_basic_o=p(c1ccccc1)(c1ccccc1)c1ccc(-c2nc3ccccc3n2-c2cccc(p(=o)(c3ccccc3)c3ccccc3)c2)cc1\n",
            "Sum_and_conc is OK!\n",
            "DF is LOAD!\n",
            "diagrams_basic_n#cc1=cc(c2ccccc2)=cc(c#n)=p1(c1ccccc1)c1ccccc1\n",
            "Sum_and_conc is OK!\n",
            "DF is LOAD!\n",
            "diagrams_basic_o=p1(c2ccccc2)c(c2cccs2)=c(c2cccs2)c2ccccc21\n",
            "Sum_and_conc is OK!\n",
            "DF is LOAD!\n",
            "diagrams_basic_cc1c(c(=o)c2ccccc2cl)c2ccc3cccc4c5cccc6ccc1c(c65)c2c34\n",
            "Sum_and_conc is OK!\n",
            "DF is LOAD!\n",
            "diagrams_basic_cc1cc(n2c3ccccc3c(c)(c)c3ccccc32)ccc1-c1cc(-c2ccc(n3c4ccccc4c(c)(c)c4ccccc43)cc2c)ncn1\n",
            "Sum_and_conc is OK!\n",
            "DF is LOAD!\n",
            "diagrams_basic_cc[si](c)(c)c1cc2ccc3cccc4ccc(c1c(=o)nc(c)(c)c)c2c34\n",
            "Sum_and_conc is OK!\n",
            "DF is LOAD!\n",
            "diagrams_basic_o=s1(=o)c2ccccc2c2(c3cc(-c4ccc(n(c5ccccc5)c5ccccc5)cc4)ccc3-c3ccc(-c4ccc(n(c5ccccc5)c5ccccc5)cc4)cc32)c2ccccc21\n",
            "Sum_and_conc is OK!\n",
            "DF is LOAD!\n",
            "diagrams_basic_n#cc1ccc(n2c3ccccc3c(c3ccccc3)(c3ccccc3)c3ccccc32)cc1\n",
            "Sum_and_conc is OK!\n"
          ]
        },
        {
          "output_type": "stream",
          "name": "stderr",
          "text": [
            " 92%|█████████▏| 1050/1139 [00:31<00:03, 29.54it/s]"
          ]
        },
        {
          "output_type": "stream",
          "name": "stdout",
          "text": [
            "DF is LOAD!\n",
            "diagrams_basic_ccc1ccc(-c2ccc(-c3nnc(-c4ccc(-c5nnc(-c6ccc(-c7ccc(cc)cc7)s6)o5)cc4)o3)s2)cc1\n",
            "Sum_and_conc is OK!\n",
            "DF is LOAD!\n",
            "diagrams_basic_cc(c)[si]1(c(c)c)c2cc(c#n)ccc2-c2ccc(n(c3ccccc3)c3ccccc3)cc21\n",
            "Sum_and_conc is OK!\n",
            "DF is LOAD!\n",
            "diagrams_basic_o=c(oc1ccccc1)c1ccccc1o\n",
            "Sum_and_conc is OK!\n",
            "DF is LOAD!\n",
            "diagrams_basic_o=c1c2cc(i)ccc2nc2n1[b-](f)(f)[n+]1ccccc1-2\n",
            "Sum_and_conc is OK!\n",
            "DF is LOAD!\n"
          ]
        },
        {
          "output_type": "stream",
          "name": "stderr",
          "text": [
            "\r 93%|█████████▎| 1054/1139 [00:31<00:02, 28.50it/s]"
          ]
        },
        {
          "output_type": "stream",
          "name": "stdout",
          "text": [
            "diagrams_basic_ccccccn(cccccc)c1=c(c#n)c2c(c(-c3ccc(c=c(c#n)c#n)s3)c3c(c2-c2ccc(c=c(c#n)c#n)s2)cc(n(cccccc)cccccc)=c3c#n)c1\n",
            "Sum_and_conc is OK!\n",
            "DF is LOAD!\n",
            "diagrams_basic_coc1ccc(-c2ccc(-c3ccc(oc)cc3)c3nc(-c4ccccc4)c(-c4ccccc4)nc23)cc1\n",
            "Sum_and_conc is OK!\n",
            "DF is LOAD!\n",
            "diagrams_basic_c1cc2sc3ccsc3c2s1\n",
            "Sum_and_conc is OK!\n",
            "DF is LOAD!\n",
            "diagrams_basic_ccccc1=c(cccc)c2cccc3c2c(cc2nc4ccccc4nc23)o1\n",
            "Sum_and_conc is OK!\n",
            "DF is LOAD!\n",
            "diagrams_basic_c1ccc(-c2nc(-c3ccccc3)nc(-c3cc(-n4c5ccccc5c5ccccc54)c(-n4c5ccccc5c5ccccc54)c(-n4c5ccccc5c5ccccc54)c3)n2)cc1\n",
            "Sum_and_conc is OK!\n",
            "DF is LOAD!\n",
            "diagrams_basic_cc1ccccc1o\n",
            "Sum_and_conc is OK!\n",
            "DF is LOAD!\n",
            "diagrams_basic_n#cc1c(n2ccccc2)cc(-c2ccc(-c3ccccc3)cc2)c2c1ccc1ccccc1-2\n",
            "Sum_and_conc is OK!\n"
          ]
        },
        {
          "output_type": "stream",
          "name": "stderr",
          "text": [
            " 93%|█████████▎| 1062/1139 [00:31<00:02, 29.67it/s]"
          ]
        },
        {
          "output_type": "stream",
          "name": "stdout",
          "text": [
            "DF is LOAD!\n",
            "diagrams_basic_clc=c(cl)cl\n",
            "Sum_and_conc is OK!\n",
            "DF is LOAD!\n",
            "diagrams_basic_ccccc(cc)cn1c(=o)c2cccc3c(c#cc4ccc(n(c5ccccc5)c5ccccc5)cc4)ccc(c23)c1=o\n",
            "Sum_and_conc is OK!\n",
            "DF is LOAD!\n",
            "diagrams_basic_coc1ccc(c(=c(c2ccc(oc)cc2)c2ccc(oc)cc2)c2ccc(c=c(c#n)c#n)cc2)cc1\n",
            "Sum_and_conc is OK!\n",
            "DF is LOAD!\n",
            "diagrams_basic_cc(c)(c)c1cc(-n2c(-c3ccc(c(=c(c4ccccc4)c4ccccc4)c4ccccc4)cc3)cc3c2cc(-c2ccc(c(=c(c4ccccc4)c4ccccc4)c4ccccc4)cc2)n3-c2cc(c(c)(c)c)cc(c(c)(c)c)c2)cc(c(c)(c)c)c1\n",
            "Sum_and_conc is OK!\n",
            "DF is LOAD!\n",
            "diagrams_basic_coc(=o)oc\n",
            "Sum_and_conc is OK!\n",
            "DF is LOAD!\n",
            "diagrams_basic_ccccc1c2c(nc3ccccc13)-c1cc3c(cc1cc2)-c1nc2ccccc2c(cccc)c1cc3\n",
            "Sum_and_conc is OK!\n",
            "DF is LOAD!\n"
          ]
        },
        {
          "output_type": "stream",
          "name": "stderr",
          "text": [
            " 94%|█████████▍| 1070/1139 [00:32<00:02, 31.89it/s]"
          ]
        },
        {
          "output_type": "stream",
          "name": "stdout",
          "text": [
            "diagrams_basic_cn(c)c1ccc(c2=nc3sc4cc(c(f)(f)f)ccc4[n+]3[b-](f)(f)o2)cc1\n",
            "Sum_and_conc is OK!\n",
            "DF is LOAD!\n",
            "diagrams_basic_cc(=o)o\n",
            "Sum_and_conc is OK!\n",
            "DF is LOAD!\n",
            "diagrams_basic_c1ccc(-c2c3ccccc3c(-c3ccc4ccccc4c3)c3ccccc23)nc1\n",
            "Sum_and_conc is OK!\n",
            "DF is LOAD!\n",
            "diagrams_basic_n#cc1c(c#n)c2cc(cl)c(cl)cc2c2cc(cl)c(cl)cc12\n",
            "Sum_and_conc is OK!\n",
            "DF is LOAD!\n",
            "diagrams_basic_ccc#n\n",
            "Sum_and_conc is OK!\n",
            "DF is LOAD!\n",
            "diagrams_basic_cc1cc(c)c(c)c(-c2cc(-c3c(c)c(c)cc(c)c3c)c3ccc4c(-c5c(c)c(c)cc(c)c5c)cc(-c5c(c)c(c)cc(c)c5c)c5ccc2c3c54)c1c\n",
            "Sum_and_conc is OK!\n",
            "DF is LOAD!\n",
            "diagrams_basic_brc(br)br\n",
            "Sum_and_conc is OK!\n",
            "DF is LOAD!\n",
            "diagrams_basic_n#cc1c(n2ccccc2)cc(-c2ccc(br)s2)c2c1ccc1ccccc1-2\n",
            "Sum_and_conc is OK!\n"
          ]
        },
        {
          "output_type": "stream",
          "name": "stderr",
          "text": [
            "\r 94%|█████████▍| 1075/1139 [00:32<00:01, 33.68it/s]"
          ]
        },
        {
          "output_type": "stream",
          "name": "stdout",
          "text": [
            "DF is LOAD!\n",
            "diagrams_basic_f[b-]12oc(c3ccccc3)=nc3cccc([n+]31)n=c(c1ccccc1)o2\n",
            "Sum_and_conc is OK!\n",
            "DF is LOAD!\n",
            "diagrams_basic_fc(f)(cl)c(f)(cl)cl\n",
            "Sum_and_conc is OK!\n",
            "DF is LOAD!\n",
            "diagrams_basic_c1ccc(c(=c(c2ccccc2)c2ccc(n(c3ccccc3)c3ccc(-c4cnc(-c5ccc(n(c6ccccc6)c6ccc(c(=c(c7ccccc7)c7ccccc7)c7ccccc7)cc6)cc5)c5nsnc45)cc3)cc2)c2ccccc2)cc1\n",
            "Sum_and_conc is OK!\n",
            "DF is LOAD!\n",
            "diagrams_basic_cc1ccc(c)c(c)c1c\n",
            "Sum_and_conc is OK!\n",
            "DF is LOAD!\n",
            "diagrams_basic_cn1cccn(c)c1=o\n",
            "Sum_and_conc is OK!\n",
            "DF is LOAD!\n",
            "diagrams_basic_clc(cl)(cl)cl\n",
            "Sum_and_conc is OK!\n",
            "DF is LOAD!\n",
            "diagrams_basic_cc(c)(c)c1ccc2c(c1)c1cc(c(c)(c)c)ccc1n2-c1cc(n2c3ccccc3c(c3ccccc3)(c3ccccc3)c3ccccc32)cc(-n2c3ccc(c(c)(c)c)cc3c3cc(c(c)(c)c)ccc32)c1c#n\n",
            "Sum_and_conc is OK!\n",
            "DF is LOAD!\n",
            "diagrams_basic_n#cc1c(n2ccccc2)cc(-c2ccc(-c3ccccc3)s2)c2c1ccc1ccccc1-2\n",
            "Sum_and_conc is OK!\n",
            "DF is LOAD!\n",
            "diagrams_basic_cn(c)c1ccc(c2=c(c3ccccc3)c3sc4ccccc4[n+]3[b-](f)(f)o2)cc1\n",
            "Sum_and_conc is OK!"
          ]
        },
        {
          "output_type": "stream",
          "name": "stderr",
          "text": [
            " 95%|█████████▌| 1084/1139 [00:32<00:01, 35.06it/s]"
          ]
        },
        {
          "output_type": "stream",
          "name": "stdout",
          "text": [
            "\n",
            "DF is LOAD!\n",
            "diagrams_basic_ccn1c(-c2ccc(oc)cc2)c(-c2ccc3ccccc3c2)c(-c2ccc3ccccc3c2)c1-c1ccc(oc)cc1\n",
            "Sum_and_conc is OK!\n",
            "DF is LOAD!\n",
            "diagrams_basic_fc1ccc(-c2cc3ccc4cc(-c5ccc(f)cc5)cc5ccc(c2)c3c45)cc1\n",
            "Sum_and_conc is OK!\n",
            "DF is LOAD!\n",
            "diagrams_basic_cc(=o)c(cl)(cl)cl\n",
            "Sum_and_conc is OK!\n",
            "DF is LOAD!\n",
            "diagrams_basic_cc1=c(c2ccccc2)oc2cc3nc4ccccc4nc3c3cccc1c23\n",
            "Sum_and_conc is OK!\n",
            "DF is LOAD!\n",
            "diagrams_basic_oc1cccc1\n",
            "Sum_and_conc is OK!\n",
            "DF is LOAD!\n",
            "diagrams_basic_c=cocc\n",
            "Sum_and_conc is OK!\n",
            "DF is LOAD!\n",
            "diagrams_basic_o=c1c2ccccc2-c2ccc(-c3ccc(n(c4ccccc4)c4ccccc4)cc3)cc21\n",
            "Sum_and_conc is OK!\n"
          ]
        },
        {
          "output_type": "stream",
          "name": "stderr",
          "text": [
            " 96%|█████████▌| 1093/1139 [00:32<00:01, 35.91it/s]"
          ]
        },
        {
          "output_type": "stream",
          "name": "stdout",
          "text": [
            "DF is LOAD!\n",
            "diagrams_basic_clc(cl)=c(cl)c(cl)(cl)cl\n",
            "Sum_and_conc is OK!\n",
            "DF is LOAD!\n",
            "diagrams_basic_cc(c)[si]1(c(c)c)c2cc(c=o)ccc2-c2ccc(n(c3ccccc3)c3ccccc3)cc21\n",
            "Sum_and_conc is OK!\n",
            "DF is LOAD!\n",
            "diagrams_basic_cc1cc(br)ccc1br\n",
            "Sum_and_conc is OK!\n",
            "DF is LOAD!\n",
            "diagrams_basic_coc1c2ccccc2c(oc)c2c(c#c[si](c(c)c)(c(c)c)c(c)c)c3cc4sccc4cc3c(c#c[si](c(c)c)(c(c)c)c(c)c)c12\n",
            "Sum_and_conc is OK!\n",
            "DF is LOAD!\n",
            "diagrams_basic_c[si]1(c)c(c2ccc(-c3ccc(n(c4ccccc4)c4ccccc4)s3)c3c2n=s=n3)=c(c2ccccc2)c(c2ccccc2)=c1c1ccc(-c2ccc(n(c3ccccc3)c3ccccc3)s2)c2c1n=s=n2\n",
            "Sum_and_conc is OK!\n",
            "DF is LOAD!\n",
            "diagrams_basic_cccccccccco\n",
            "Sum_and_conc is OK!\n",
            "DF is LOAD!\n",
            "diagrams_basic_n#ccc1ccccc1\n",
            "Sum_and_conc is OK!\n",
            "DF is LOAD!\n",
            "diagrams_basic_fc1cc(f)c(f)c(f)c1f\n",
            "Sum_and_conc is OK!\n"
          ]
        },
        {
          "output_type": "stream",
          "name": "stderr",
          "text": [
            " 97%|█████████▋| 1103/1139 [00:33<00:00, 39.30it/s]"
          ]
        },
        {
          "output_type": "stream",
          "name": "stdout",
          "text": [
            "DF is LOAD!\n",
            "diagrams_basic_[2h]oc([2h])([2h])c(f)(f)f\n",
            "Sum_and_conc is OK!\n",
            "DF is LOAD!\n",
            "diagrams_basic_cc(c)[si]1(c(c)c)c2ccccc2-c2ccc(n(c)c)cc21\n",
            "Sum_and_conc is OK!\n",
            "DF is LOAD!\n",
            "diagrams_basic_cc(c)[si](c#cc1c2ccccc2c(c#c[si](c(c)c)(c(c)c)c(c)c)c2nc3cc4c(cc3nc12)c1c2ccccc2c4c2ccccc21)(c(c)c)c(c)c\n",
            "Sum_and_conc is OK!\n",
            "DF is LOAD!\n",
            "diagrams_basic_oc1ccc(cl)cc1\n",
            "Sum_and_conc is OK!\n",
            "DF is LOAD!\n",
            "diagrams_basic_cc1ccncc1\n",
            "Sum_and_conc is OK!\n",
            "DF is LOAD!\n",
            "diagrams_basic_ccccc1(cccc)c2ccccc2-c2ccc(-c3c4c(nc5ccccc35)-c3cc5c(cc3cc4)-c3nc4ccccc4c(-c4ccc6c(c4)c(cccc)(cccc)c4ccccc4-6)c3cc5)cc21\n",
            "Sum_and_conc is OK!\n",
            "DF is LOAD!\n",
            "diagrams_basic_c1ccc2ccccc2c1\n",
            "Sum_and_conc is OK!\n",
            "DF is LOAD!\n",
            "diagrams_basic_cc1ccc2c(c1)c(c#n)c(c#n)c1cc(c)ccc12\n",
            "Sum_and_conc is OK!\n",
            "DF is LOAD!\n",
            "diagrams_basic_ccccccn1c2c(c3ccccc31)-c1c(c3ccccc3n1cccccc)-c1c(c3ccccc3n1cccccc)-c1c-2c2ccccc2n1cccccc\n",
            "Sum_and_conc is OK!\n",
            "DF is LOAD!\n"
          ]
        },
        {
          "output_type": "stream",
          "name": "stderr",
          "text": [
            " 98%|█████████▊| 1113/1139 [00:33<00:00, 41.23it/s]"
          ]
        },
        {
          "output_type": "stream",
          "name": "stdout",
          "text": [
            "diagrams_basic_coc1ccccc1oc\n",
            "Sum_and_conc is OK!\n",
            "DF is LOAD!\n",
            "diagrams_basic_cn(c)c1ccc(c2=nc3scc(-c4ccccc4)[n+]3[b-](f)(f)o2)cc1\n",
            "Sum_and_conc is OK!\n",
            "DF is LOAD!\n",
            "diagrams_basic_coc1cc(o)cc(oc)c1\n",
            "Sum_and_conc is OK!\n",
            "DF is LOAD!\n",
            "diagrams_basic_ccccccccccccccccccccn1c(=o)c2cc(c#cc3cccs3)c3c4c(cc(c#cc5cccs5)c(c24)c1=o)c(=o)n(cccccccccccccccccccc)c3=o\n",
            "Sum_and_conc is OK!\n",
            "DF is LOAD!\n",
            "diagrams_basic_c1ccc2c(-c3ccc(-n4c5ccccc5c5ccccc54)cc3)c3c(nc2c1)-c1cc2c(cc1cc3)-c1nc3ccccc3c(-c3ccc(-n4c5ccccc5c5ccccc54)cc3)c1cc2\n",
            "Sum_and_conc is OK!\n",
            "DF is LOAD!\n",
            "diagrams_basic_coc(=o)c1=c2c(c)=c(c(=c(c3ccccc3)c3ccccc3)c3ccccc3)c(c)=[n+]2[b-](f)(f)n2c(c)c(c(=c(c3ccccc3)c3ccccc3)c3ccccc3)c(c)c21\n",
            "Sum_and_conc is OK!\n",
            "DF is LOAD!\n",
            "diagrams_basic_c1csc(-c2cccs2)c1\n",
            "Sum_and_conc is OK!\n",
            "DF is LOAD!\n",
            "diagrams_basic_ccccc1(cccc)c2cc(c#cc3ccc4ccc5cccc6ccc3c4c56)ccc2-c2ccc(c#cc3ccc4ccc5cccc6ccc3c4c56)cc21\n",
            "Sum_and_conc is OK!\n",
            "DF is LOAD!\n",
            "diagrams_basic_c1ccc(-c2cccc3c2-c2ccccc2c32c3ccccc3-c3ccccc32)nc1\n",
            "Sum_and_conc is OK!\n",
            "DF is LOAD!\n"
          ]
        },
        {
          "output_type": "stream",
          "name": "stderr",
          "text": [
            "\r 98%|█████████▊| 1118/1139 [00:33<00:00, 35.96it/s]"
          ]
        },
        {
          "output_type": "stream",
          "name": "stdout",
          "text": [
            "diagrams_basic_ccccn1c2ccc(-c3ccc(oc)cc3)cc2c2ccc3c4cc(-c5ccc(oc)cc5)ccc4n(cccc)c3c21\n",
            "Sum_and_conc is OK!\n",
            "DF is LOAD!\n",
            "diagrams_basic_clccl\n",
            "Sum_and_conc is OK!\n",
            "DF is LOAD!\n",
            "diagrams_basic_cn(c)c1ccc(-c2cccc3nsnc23)cc1\n",
            "Sum_and_conc is OK!\n",
            "DF is LOAD!\n",
            "diagrams_basic_n#cc1c(-n2c3ccccc3c3ccccc32)cc(n2c3ccccc3c(c3ccccc3)(c3ccccc3)c3ccccc32)cc1-n1c2ccccc2c2ccccc21\n",
            "Sum_and_conc is OK!\n",
            "DF is LOAD!\n",
            "diagrams_basic_c1ccc(-n2nc(-c3ccc(n4c5ccccc5sc5ccccc54)cc3)nc2-c2ccccn2)cc1\n",
            "Sum_and_conc is OK!\n",
            "DF is LOAD!\n",
            "diagrams_basic_cccc1c(c(=o)c2ccc3c4c(cccc24)-c2cccc4c2c3cc=c4)c2ccc3cccc4c5cccc6ccc1c(c65)c2c34\n",
            "Sum_and_conc is OK!\n",
            "DF is LOAD!\n",
            "diagrams_basic_c1cc2ccc3cc4[nh]ccc4c4ccc(c1)c2c34\n",
            "Sum_and_conc is OK!\n"
          ]
        },
        {
          "output_type": "stream",
          "name": "stderr",
          "text": [
            " 99%|█████████▉| 1127/1139 [00:33<00:00, 35.62it/s]"
          ]
        },
        {
          "output_type": "stream",
          "name": "stdout",
          "text": [
            "DF is LOAD!\n",
            "diagrams_basic_n#cc1c(c#n)c2cc(cl)ccc2c2ccc(cl)cc12\n",
            "Sum_and_conc is OK!\n",
            "DF is LOAD!\n",
            "diagrams_basic_c1=c(c2ccc(n(c3ccccc3)c3ccccc3)cc2)ccc(c2ccc(n(c3ccccc3)c3ccccc3)cc2)=c1\n",
            "Sum_and_conc is OK!\n",
            "DF is LOAD!\n",
            "diagrams_basic_ccn(cc)c1ccc2c(c1)oc(=o)c1cc3cnn(-c4ccccc4)c3nc12\n",
            "Sum_and_conc is OK!\n",
            "DF is LOAD!\n",
            "diagrams_basic_o=s(=o)(c1cccc(-n2c3ccccc3c3ccccc32)c1)c1cccc(-n2c3ccccc3c3ccccc32)c1\n",
            "Sum_and_conc is OK!\n",
            "DF is LOAD!\n",
            "diagrams_basic_cc1(c)c2ccccc2n(c2cccc(n3c4ccccc4c(c)(c)c4ccccc43)c2)c2ccccc21\n",
            "Sum_and_conc is OK!\n",
            "DF is LOAD!\n",
            "diagrams_basic_n#cc1c(c#n)c2ccccc2c2ccccc12\n",
            "Sum_and_conc is OK!\n",
            "DF is LOAD!\n",
            "diagrams_basic_c1ccc(-c2c3ccccc3c(-c3ccc(-c4cccnc4)cc3)c3ccccc23)cc1\n",
            "Sum_and_conc is OK!\n",
            "DF is LOAD!\n"
          ]
        },
        {
          "output_type": "stream",
          "name": "stderr",
          "text": [
            "\r 99%|█████████▉| 1131/1139 [00:33<00:00, 35.90it/s]"
          ]
        },
        {
          "output_type": "stream",
          "name": "stdout",
          "text": [
            "diagrams_basic_cc1ccc(o)c(c)c1\n",
            "Sum_and_conc is OK!\n",
            "DF is LOAD!\n",
            "diagrams_basic_fc1ccc(c2=c(c3ccc(f)cc3)c3cccc4c3c(cc3nc5ccccc5nc34)o2)cc1\n",
            "Sum_and_conc is OK!\n",
            "DF is LOAD!\n",
            "diagrams_basic_cccc(=o)ccc\n",
            "Sum_and_conc is OK!\n",
            "DF is LOAD!\n",
            "diagrams_basic_ccc(o)cc\n",
            "Sum_and_conc is OK!\n",
            "DF is LOAD!\n",
            "diagrams_basic_o=p(c1ccccc1)(c1ccccc1)c1ccc(-c2ccc3c4ccccc4n(-c4ccccc4)c3c2)cc1\n",
            "Sum_and_conc is OK!\n",
            "DF is LOAD!\n",
            "diagrams_basic_c[si](c)(c)[si](c1ccc([si]([si](c)(c)c)([si](c)(c)c)[si](c)(c)c)s1)([si](c)(c)c)[si](c)(c)c\n",
            "Sum_and_conc is OK!\n",
            "DF is LOAD!\n",
            "diagrams_basic_ccccc(cc)cn1c2cc(c#n)ccc2c2ccc(c#cc3ccc4ccc5cccc6ccc3c4c56)cc21\n",
            "Sum_and_conc is OK!\n"
          ]
        },
        {
          "output_type": "stream",
          "name": "stderr",
          "text": [
            "100%|██████████| 1139/1139 [00:34<00:00, 33.41it/s]"
          ]
        },
        {
          "output_type": "stream",
          "name": "stdout",
          "text": [
            "DF is LOAD!\n",
            "diagrams_basic_cc1c2c(nc3ccccc13)-c1cc3c(cc1cc2)-c1nc2ccccc2c(c)c1cc3\n",
            "Sum_and_conc is OK!\n",
            "DF is LOAD!\n",
            "diagrams_basic_nc1ccc2c(ccc3[n+]2[b-](f)(f)n2c-3cc3c4ccccc4c4ccccc4c32)c1\n",
            "Sum_and_conc is OK!\n",
            "DF is LOAD!\n",
            "diagrams_basic_clc1ccc(cl)c(cl)c1\n",
            "Sum_and_conc is OK!\n",
            "DF is LOAD!\n",
            "diagrams_basic_ccccop(=o)(occcc)occcc\n",
            "Sum_and_conc is OK!\n",
            "DF is LOAD!\n",
            "diagrams_basic_cc1ccc(c2=nc3cccc4[n+]3[b-](c3ccccc3)(n2)nc(c2ccc(c)cc2)=n4)cc1\n",
            "Sum_and_conc is OK!\n",
            "DF is LOAD!\n"
          ]
        },
        {
          "output_type": "stream",
          "name": "stderr",
          "text": [
            "\n"
          ]
        }
      ]
    },
    {
      "cell_type": "code",
      "source": [
        "name"
      ],
      "metadata": {
        "colab": {
          "base_uri": "https://localhost:8080/",
          "height": 35
        },
        "id": "ZDJcnK4Y6oam",
        "outputId": "1f3ef30a-919a-43b4-88d6-1b1e1bd80785"
      },
      "execution_count": null,
      "outputs": [
        {
          "output_type": "execute_result",
          "data": {
            "text/plain": [
              "'diagrams_basic_cc1ccc(c2=nc3cccc4[n+]3[b-](c3ccccc3)(n2)nc(c2ccc(c)cc2)=n4)cc1'"
            ],
            "application/vnd.google.colaboratory.intrinsic+json": {
              "type": "string"
            }
          },
          "metadata": {},
          "execution_count": 55
        }
      ]
    },
    {
      "cell_type": "code",
      "source": [
        "topology_full = {}\n",
        "for i in tqdm(range(20236)):\n",
        "  try:\n",
        "    org_top = pd.read_csv(f'/content/drive/MyDrive/MSU_AI_Photocatal/Datasets/Topology/topology_features_organic_compounds/diagrams_basic_{i}_conc.csv')\n",
        "    solv = Solvent[i]\n",
        "    solv_top = pd.read_csv(f'/content/drive/MyDrive/MSU_AI_Photocatal/Datasets/Topology/topology_features_organic_compounds_solv/diagrams_basic_{solv.lower()}_conc.csv')\n",
        "    full = pd.concat([org_top, solv_top],axis=1).drop(['Unnamed: 0'],axis=1)\n",
        "    topology_full[f'{i}'] = np.array(full).squeeze()\n",
        "  except:\n",
        "    print(f'{i} not work')\n",
        "    org_top = pd.read_csv(f'/content/drive/MyDrive/MSU_AI_Photocatal/Datasets/Topology/topology_features_organic_compounds/diagrams_basic_{i}_conc.csv').drop(['Unnamed: 0'],axis=1)\n",
        "    topology_full[f'{i}'] = np.append(np.array(org_top).squeeze(),np.array([0.0 for _ in range(12)]).squeeze())"
      ],
      "metadata": {
        "colab": {
          "base_uri": "https://localhost:8080/"
        },
        "id": "oFQxJiS31isd",
        "outputId": "55ad897b-7a26-46c7-cd6d-4c5aa5301d64"
      },
      "execution_count": null,
      "outputs": [
        {
          "output_type": "stream",
          "name": "stderr",
          "text": [
            "  8%|▊         | 1571/20236 [00:14<02:38, 118.09it/s]"
          ]
        },
        {
          "output_type": "stream",
          "name": "stdout",
          "text": [
            "1548 not work\n",
            "1549 not work\n",
            "1550 not work\n",
            "1551 not work\n",
            "1552 not work\n",
            "1553 not work\n",
            "1554 not work\n",
            "1555 not work\n",
            "1556 not work\n",
            "1557 not work\n",
            "1558 not work\n",
            "1559 not work\n",
            "1560 not work\n",
            "1561 not work\n",
            "1562 not work\n",
            "1563 not work\n",
            "1564 not work\n",
            "1565 not work\n",
            "1566 not work\n",
            "1567 not work\n",
            "1568 not work\n",
            "1569 not work\n",
            "1570 not work\n"
          ]
        },
        {
          "output_type": "stream",
          "name": "stderr",
          "text": [
            " 12%|█▏        | 2440/20236 [00:21<02:15, 131.37it/s]"
          ]
        },
        {
          "output_type": "stream",
          "name": "stdout",
          "text": [
            "2416 not work\n",
            "2417 not work\n"
          ]
        },
        {
          "output_type": "stream",
          "name": "stderr",
          "text": [
            " 19%|█▉        | 3889/20236 [00:33<02:22, 114.60it/s]"
          ]
        },
        {
          "output_type": "stream",
          "name": "stdout",
          "text": [
            "3866 not work\n",
            "3867 not work\n",
            "3868 not work\n",
            "3869 not work\n",
            "3875 not work\n",
            "3876 not work\n",
            "3877 not work\n",
            "3878 not work\n",
            "3879 not work\n"
          ]
        },
        {
          "output_type": "stream",
          "name": "stderr",
          "text": [
            " 23%|██▎       | 4642/20236 [00:40<02:23, 108.60it/s]"
          ]
        },
        {
          "output_type": "stream",
          "name": "stdout",
          "text": [
            "4629 not work\n",
            "4631 not work\n",
            "4633 not work\n"
          ]
        },
        {
          "output_type": "stream",
          "name": "stderr",
          "text": [
            " 24%|██▎       | 4801/20236 [00:41<01:53, 136.57it/s]"
          ]
        },
        {
          "output_type": "stream",
          "name": "stdout",
          "text": [
            "4776 not work\n"
          ]
        },
        {
          "output_type": "stream",
          "name": "stderr",
          "text": [
            " 28%|██▊       | 5683/20236 [00:48<01:52, 129.63it/s]"
          ]
        },
        {
          "output_type": "stream",
          "name": "stdout",
          "text": [
            "5663 not work\n",
            "5664 not work\n"
          ]
        },
        {
          "output_type": "stream",
          "name": "stderr",
          "text": [
            " 31%|███       | 6196/20236 [00:53<02:06, 111.22it/s]"
          ]
        },
        {
          "output_type": "stream",
          "name": "stdout",
          "text": [
            "6192 not work\n",
            "6197 not work\n",
            "6198 not work\n",
            "6199 not work\n"
          ]
        },
        {
          "output_type": "stream",
          "name": "stderr",
          "text": [
            " 33%|███▎      | 6756/20236 [00:58<01:59, 112.51it/s]"
          ]
        },
        {
          "output_type": "stream",
          "name": "stdout",
          "text": [
            "6735 not work\n",
            "6736 not work\n"
          ]
        },
        {
          "output_type": "stream",
          "name": "stderr",
          "text": [
            " 36%|███▌      | 7258/20236 [01:02<02:08, 100.67it/s]"
          ]
        },
        {
          "output_type": "stream",
          "name": "stdout",
          "text": [
            "7249 not work\n"
          ]
        },
        {
          "output_type": "stream",
          "name": "stderr",
          "text": [
            " 37%|███▋      | 7548/20236 [01:05<01:44, 121.13it/s]"
          ]
        },
        {
          "output_type": "stream",
          "name": "stdout",
          "text": [
            "7534 not work\n",
            "7543 not work\n",
            "7545 not work\n",
            "7547 not work\n",
            "7552 not work\n",
            "7554 not work\n"
          ]
        },
        {
          "output_type": "stream",
          "name": "stderr",
          "text": [
            " 37%|███▋      | 7573/20236 [01:05<02:01, 104.53it/s]"
          ]
        },
        {
          "output_type": "stream",
          "name": "stdout",
          "text": [
            "7556 not work\n",
            "7560 not work\n",
            "7562 not work\n"
          ]
        },
        {
          "output_type": "stream",
          "name": "stderr",
          "text": [
            " 46%|████▌     | 9325/20236 [01:19<01:26, 126.81it/s]"
          ]
        },
        {
          "output_type": "stream",
          "name": "stdout",
          "text": [
            "9300 not work\n"
          ]
        },
        {
          "output_type": "stream",
          "name": "stderr",
          "text": [
            " 50%|████▉     | 10052/20236 [01:25<01:31, 111.85it/s]"
          ]
        },
        {
          "output_type": "stream",
          "name": "stdout",
          "text": [
            "10035 not work\n"
          ]
        },
        {
          "output_type": "stream",
          "name": "stderr",
          "text": [
            " 58%|█████▊    | 11694/20236 [01:40<01:08, 124.05it/s]"
          ]
        },
        {
          "output_type": "stream",
          "name": "stdout",
          "text": [
            "11677 not work\n"
          ]
        },
        {
          "output_type": "stream",
          "name": "stderr",
          "text": [
            " 62%|██████▏   | 12578/20236 [01:46<00:59, 129.20it/s]"
          ]
        },
        {
          "output_type": "stream",
          "name": "stdout",
          "text": [
            "12564 not work\n",
            "12565 not work\n",
            "12566 not work\n",
            "12567 not work\n",
            "12587 not work\n"
          ]
        },
        {
          "output_type": "stream",
          "name": "stderr",
          "text": [
            " 62%|██████▏   | 12618/20236 [01:46<01:02, 122.56it/s]"
          ]
        },
        {
          "output_type": "stream",
          "name": "stdout",
          "text": [
            "12594 not work\n",
            "12601 not work\n",
            "12608 not work\n"
          ]
        },
        {
          "output_type": "stream",
          "name": "stderr",
          "text": [
            " 64%|██████▎   | 12851/20236 [01:49<01:05, 113.44it/s]"
          ]
        },
        {
          "output_type": "stream",
          "name": "stdout",
          "text": [
            "12836 not work\n"
          ]
        },
        {
          "output_type": "stream",
          "name": "stderr",
          "text": [
            " 64%|██████▎   | 12876/20236 [01:49<01:04, 114.45it/s]"
          ]
        },
        {
          "output_type": "stream",
          "name": "stdout",
          "text": [
            "12862 not work\n"
          ]
        },
        {
          "output_type": "stream",
          "name": "stderr",
          "text": [
            " 67%|██████▋   | 13465/20236 [02:00<02:11, 51.35it/s]"
          ]
        },
        {
          "output_type": "stream",
          "name": "stdout",
          "text": [
            "13459 not work\n",
            "13460 not work\n",
            "13461 not work\n",
            "13462 not work\n",
            "13463 not work\n",
            "13464 not work\n",
            "13465 not work\n",
            "13466 not work\n"
          ]
        },
        {
          "output_type": "stream",
          "name": "stderr",
          "text": [
            " 67%|██████▋   | 13649/20236 [02:03<02:20, 46.81it/s]"
          ]
        },
        {
          "output_type": "stream",
          "name": "stdout",
          "text": [
            "13642 not work\n",
            "13643 not work\n",
            "13644 not work\n",
            "13645 not work\n",
            "13646 not work\n"
          ]
        },
        {
          "output_type": "stream",
          "name": "stderr",
          "text": [
            " 68%|██████▊   | 13727/20236 [02:04<01:16, 85.45it/s]"
          ]
        },
        {
          "output_type": "stream",
          "name": "stdout",
          "text": [
            "13713 not work\n",
            "13714 not work\n",
            "13715 not work\n",
            "13716 not work\n",
            "13717 not work\n",
            "13718 not work\n",
            "13719 not work\n"
          ]
        },
        {
          "output_type": "stream",
          "name": "stderr",
          "text": [
            " 70%|███████   | 14222/20236 [02:08<00:47, 125.39it/s]"
          ]
        },
        {
          "output_type": "stream",
          "name": "stdout",
          "text": [
            "14199 not work\n"
          ]
        },
        {
          "output_type": "stream",
          "name": "stderr",
          "text": [
            " 71%|███████   | 14360/20236 [02:09<00:46, 126.51it/s]"
          ]
        },
        {
          "output_type": "stream",
          "name": "stdout",
          "text": [
            "14345 not work\n",
            "14346 not work\n",
            "14347 not work\n",
            "14348 not work\n",
            "14349 not work\n",
            "14364 not work\n",
            "14366 not work\n",
            "14368 not work\n"
          ]
        },
        {
          "output_type": "stream",
          "name": "stderr",
          "text": [
            " 74%|███████▎  | 14914/20236 [02:13<00:42, 124.61it/s]"
          ]
        },
        {
          "output_type": "stream",
          "name": "stdout",
          "text": [
            "14894 not work\n",
            "14895 not work\n",
            "14896 not work\n"
          ]
        },
        {
          "output_type": "stream",
          "name": "stderr",
          "text": [
            " 78%|███████▊  | 15699/20236 [02:20<00:36, 124.55it/s]"
          ]
        },
        {
          "output_type": "stream",
          "name": "stdout",
          "text": [
            "15672 not work\n"
          ]
        },
        {
          "output_type": "stream",
          "name": "stderr",
          "text": [
            " 80%|████████  | 16229/20236 [02:25<00:35, 114.10it/s]"
          ]
        },
        {
          "output_type": "stream",
          "name": "stdout",
          "text": [
            "16210 not work\n"
          ]
        },
        {
          "output_type": "stream",
          "name": "stderr",
          "text": [
            " 80%|████████  | 16265/20236 [02:25<00:35, 110.72it/s]"
          ]
        },
        {
          "output_type": "stream",
          "name": "stdout",
          "text": [
            "16247 not work\n",
            "16248 not work\n"
          ]
        },
        {
          "output_type": "stream",
          "name": "stderr",
          "text": [
            " 82%|████████▏ | 16566/20236 [02:28<00:35, 103.72it/s]"
          ]
        },
        {
          "output_type": "stream",
          "name": "stdout",
          "text": [
            "16553 not work\n",
            "16554 not work\n",
            "16555 not work\n",
            "16556 not work\n",
            "16558 not work\n",
            "16560 not work\n"
          ]
        },
        {
          "output_type": "stream",
          "name": "stderr",
          "text": [
            " 82%|████████▏ | 16587/20236 [02:29<00:40, 90.74it/s]"
          ]
        },
        {
          "output_type": "stream",
          "name": "stdout",
          "text": [
            "16574 not work\n",
            "16575 not work\n",
            "16576 not work\n",
            "16577 not work\n",
            "16578 not work\n",
            "16579 not work\n",
            "16580 not work\n",
            "16581 not work\n",
            "16582 not work\n",
            "16583 not work\n",
            "16584 not work\n",
            "16585 not work\n",
            "16586 not work\n",
            "16587 not work\n",
            "16588 not work\n",
            "16589 not work\n",
            "16590 not work\n",
            "16591 not work\n",
            "16592 not work\n",
            "16593 not work"
          ]
        },
        {
          "output_type": "stream",
          "name": "stderr",
          "text": [
            " 82%|████████▏ | 16607/20236 [02:29<00:39, 92.20it/s]"
          ]
        },
        {
          "output_type": "stream",
          "name": "stdout",
          "text": [
            "\n",
            "16596 not work\n",
            "16600 not work\n",
            "16601 not work\n",
            "16602 not work\n",
            "16603 not work\n",
            "16604 not work\n",
            "16605 not work\n",
            "16606 not work\n",
            "16607 not work\n",
            "16608 not work\n",
            "16609 not work\n",
            "16610 not work\n",
            "16611 not work\n"
          ]
        },
        {
          "output_type": "stream",
          "name": "stderr",
          "text": [
            " 82%|████████▏ | 16628/20236 [02:29<00:38, 93.67it/s]"
          ]
        },
        {
          "output_type": "stream",
          "name": "stdout",
          "text": [
            "16612 not work\n",
            "16620 not work\n",
            "16621 not work\n",
            "16622 not work\n",
            "16623 not work\n",
            "16624 not work\n"
          ]
        },
        {
          "output_type": "stream",
          "name": "stderr",
          "text": [
            " 82%|████████▏ | 16649/20236 [02:29<00:37, 96.38it/s]"
          ]
        },
        {
          "output_type": "stream",
          "name": "stdout",
          "text": [
            "16632 not work\n",
            "16643 not work\n"
          ]
        },
        {
          "output_type": "stream",
          "name": "stderr",
          "text": [
            " 82%|████████▏ | 16671/20236 [02:29<00:35, 99.99it/s]"
          ]
        },
        {
          "output_type": "stream",
          "name": "stdout",
          "text": [
            "16653 not work\n"
          ]
        },
        {
          "output_type": "stream",
          "name": "stderr",
          "text": [
            " 83%|████████▎ | 16805/20236 [02:31<00:36, 93.76it/s] "
          ]
        },
        {
          "output_type": "stream",
          "name": "stdout",
          "text": [
            "16791 not work\n"
          ]
        },
        {
          "output_type": "stream",
          "name": "stderr",
          "text": [
            " 83%|████████▎ | 16876/20236 [02:32<00:36, 92.43it/s]"
          ]
        },
        {
          "output_type": "stream",
          "name": "stdout",
          "text": [
            "16864 not work\n",
            "16865 not work\n",
            "16866 not work\n",
            "16867 not work\n",
            "16868 not work\n",
            "16869 not work\n",
            "16870 not work\n",
            "16871 not work\n",
            "16872 not work\n",
            "16873 not work\n",
            "16874 not work\n"
          ]
        },
        {
          "output_type": "stream",
          "name": "stderr",
          "text": [
            " 84%|████████▍ | 17011/20236 [02:33<00:25, 125.26it/s]"
          ]
        },
        {
          "output_type": "stream",
          "name": "stdout",
          "text": [
            "16994 not work\n",
            "17000 not work\n",
            "17009 not work\n",
            "17010 not work\n",
            "17014 not work\n",
            "17016 not work\n"
          ]
        },
        {
          "output_type": "stream",
          "name": "stderr",
          "text": [
            " 86%|████████▌ | 17429/20236 [02:36<00:21, 132.64it/s]"
          ]
        },
        {
          "output_type": "stream",
          "name": "stdout",
          "text": [
            "17406 not work\n"
          ]
        },
        {
          "output_type": "stream",
          "name": "stderr",
          "text": [
            " 87%|████████▋ | 17610/20236 [02:37<00:18, 140.31it/s]"
          ]
        },
        {
          "output_type": "stream",
          "name": "stdout",
          "text": [
            "17595 not work\n",
            "17596 not work\n",
            "17597 not work\n",
            "17598 not work\n",
            "17604 not work\n",
            "17605 not work\n",
            "17607 not work\n",
            "17608 not work\n"
          ]
        },
        {
          "output_type": "stream",
          "name": "stderr",
          "text": [
            " 87%|████████▋ | 17655/20236 [02:37<00:18, 142.33it/s]"
          ]
        },
        {
          "output_type": "stream",
          "name": "stdout",
          "text": [
            "17629 not work\n",
            "17630 not work\n"
          ]
        },
        {
          "output_type": "stream",
          "name": "stderr",
          "text": [
            " 91%|█████████▏| 18514/20236 [02:44<00:14, 120.83it/s]"
          ]
        },
        {
          "output_type": "stream",
          "name": "stdout",
          "text": [
            "18489 not work\n",
            "18490 not work\n",
            "18491 not work\n",
            "18492 not work\n"
          ]
        },
        {
          "output_type": "stream",
          "name": "stderr",
          "text": [
            " 93%|█████████▎| 18821/20236 [02:47<00:12, 115.68it/s]"
          ]
        },
        {
          "output_type": "stream",
          "name": "stdout",
          "text": [
            "18806 not work\n",
            "18807 not work\n",
            "18808 not work\n",
            "18809 not work\n",
            "18810 not work\n"
          ]
        },
        {
          "output_type": "stream",
          "name": "stderr",
          "text": [
            " 96%|█████████▋| 19489/20236 [02:53<00:06, 113.07it/s]"
          ]
        },
        {
          "output_type": "stream",
          "name": "stdout",
          "text": [
            "19466 not work\n",
            "19467 not work\n",
            "19468 not work\n",
            "19469 not work\n",
            "19470 not work\n",
            "19471 not work\n",
            "19472 not work\n"
          ]
        },
        {
          "output_type": "stream",
          "name": "stderr",
          "text": [
            " 98%|█████████▊| 19743/20236 [02:55<00:04, 115.42it/s]"
          ]
        },
        {
          "output_type": "stream",
          "name": "stdout",
          "text": [
            "19730 not work\n",
            "19731 not work\n",
            "19732 not work\n",
            "19733 not work\n",
            "19734 not work\n",
            "19735 not work\n",
            "19736 not work\n"
          ]
        },
        {
          "output_type": "stream",
          "name": "stderr",
          "text": [
            " 99%|█████████▉| 20052/20236 [02:58<00:01, 103.75it/s]"
          ]
        },
        {
          "output_type": "stream",
          "name": "stdout",
          "text": [
            "20043 not work\n",
            "20044 not work\n",
            "20048 not work\n"
          ]
        },
        {
          "output_type": "stream",
          "name": "stderr",
          "text": [
            "100%|██████████| 20236/20236 [03:00<00:00, 112.20it/s]\n"
          ]
        }
      ]
    },
    {
      "cell_type": "code",
      "source": [
        "columns_metal = ['sum_H_0', 'sum_H_1','sum_H_2', 'mean_H_0', 'mean_H_1','mean_H_2', 'std_H_0', 'std_H_1','std_H_2', 'entropy_H_0', 'entropy_H_1','entropy_H_2']\n",
        "columns_solv = ['solv_sum_H_0', 'solv_sum_H_1','solv_sum_H_2', 'solv_mean_H_0', 'solv_mean_H_1','solv_mean_H_2', 'solv_std_H_0', 'solv_std_H_1','solv_std_H_2', 'solv_entropy_H_0', 'solv_entropy_H_1','solv_entropy_H_2']\n",
        "full_topol = columns_metal + columns_solv\n",
        "topol_feat = pd.DataFrame.from_dict(topology_full, orient='index',columns = full_topol)\n",
        "topol_feat"
      ],
      "metadata": {
        "colab": {
          "base_uri": "https://localhost:8080/",
          "height": 444
        },
        "id": "_R36OtUd670p",
        "outputId": "08237835-7484-4adb-85fd-253fccaa66de"
      },
      "execution_count": null,
      "outputs": [
        {
          "output_type": "execute_result",
          "data": {
            "text/plain": [
              "          sum_H_0    sum_H_1   sum_H_2  mean_H_0  mean_H_1  mean_H_2  \\\n",
              "0       23.246843   1.980698  0.665151  1.291491  0.990349  0.332575   \n",
              "1       22.197383   1.980732  0.585642  1.305728  0.990366  0.292821   \n",
              "2      213.914595  23.742402  3.444077  1.258321  0.552149  0.111099   \n",
              "3       48.280739   5.812330  1.622419  1.304885  0.968722  0.324484   \n",
              "4       48.269103   5.813468  1.621350  1.304570  0.968911  0.324270   \n",
              "...           ...        ...       ...       ...       ...       ...   \n",
              "20231   56.185477   5.674320  0.824869  1.276943  0.709290  0.274956   \n",
              "20232   59.941951   5.505393  1.355778  1.275361  0.786485  0.225963   \n",
              "20233   67.728887   7.936710  1.210606  1.277904  0.793671  0.172944   \n",
              "20234   67.699562   6.415555  1.681675  1.277350  0.801944  0.240239   \n",
              "20235   78.361056   8.345664  2.021316  1.284607  0.834566  0.252664   \n",
              "\n",
              "        std_H_0   std_H_1   std_H_2  entropy_H_0  ...  solv_sum_H_2  \\\n",
              "0      0.156088  0.027592  0.011348     2.882842  ...           0.0   \n",
              "1      0.138862  0.026226  0.026327     2.827431  ...           0.0   \n",
              "2      0.190422  0.254299  0.115261     5.124547  ...           0.0   \n",
              "3      0.162590  0.114124  0.026252     3.603055  ...           0.0   \n",
              "4      0.162509  0.113469  0.027055     3.603060  ...           0.0   \n",
              "...         ...       ...       ...          ...  ...           ...   \n",
              "20231  0.165026  0.344678  0.054739     3.775771  ...           0.0   \n",
              "20232  0.168100  0.336267  0.091661     3.841420  ...           0.0   \n",
              "20233  0.168933  0.331740  0.076605     3.961498  ...           0.0   \n",
              "20234  0.166222  0.349262  0.092728     3.961762  ...           0.0   \n",
              "20235  0.164009  0.346930  0.093635     4.102626  ...           0.0   \n",
              "\n",
              "       solv_mean_H_0  solv_mean_H_1  solv_mean_H_2  solv_std_H_0  \\\n",
              "0           0.969301       0.000000            0.0      0.000561   \n",
              "1           0.969301       0.000000            0.0      0.000561   \n",
              "2           1.601740       0.000000            0.0      0.293662   \n",
              "3           1.181075       0.000000            0.0      0.139617   \n",
              "4           1.296972       0.000000            0.0      0.301253   \n",
              "...              ...            ...            ...           ...   \n",
              "20231       1.223888       0.815529            0.0      0.143131   \n",
              "20232       1.223888       0.815529            0.0      0.143131   \n",
              "20233       1.223888       0.815529            0.0      0.143131   \n",
              "20234       1.223888       0.815529            0.0      0.143131   \n",
              "20235       1.223888       0.815529            0.0      0.143131   \n",
              "\n",
              "       solv_std_H_1  solv_std_H_2  solv_entropy_H_0  solv_entropy_H_1  \\\n",
              "0               0.0           0.0          0.693147               NaN   \n",
              "1               0.0           0.0          0.693147               NaN   \n",
              "2               0.0           0.0          1.368031               NaN   \n",
              "3               0.0           0.0          1.602776               NaN   \n",
              "4               0.0           0.0          2.171758               NaN   \n",
              "...             ...           ...               ...               ...   \n",
              "20231           0.0           0.0          2.072589              -0.0   \n",
              "20232           0.0           0.0          2.072589              -0.0   \n",
              "20233           0.0           0.0          2.072589              -0.0   \n",
              "20234           0.0           0.0          2.072589              -0.0   \n",
              "20235           0.0           0.0          2.072589              -0.0   \n",
              "\n",
              "       solv_entropy_H_2  \n",
              "0                   NaN  \n",
              "1                   NaN  \n",
              "2                   NaN  \n",
              "3                   NaN  \n",
              "4                   NaN  \n",
              "...                 ...  \n",
              "20231               NaN  \n",
              "20232               NaN  \n",
              "20233               NaN  \n",
              "20234               NaN  \n",
              "20235               NaN  \n",
              "\n",
              "[20236 rows x 24 columns]"
            ],
            "text/html": [
              "\n",
              "  <div id=\"df-caa0120e-f29d-4c2d-9683-2dd30619e3cf\" class=\"colab-df-container\">\n",
              "    <div>\n",
              "<style scoped>\n",
              "    .dataframe tbody tr th:only-of-type {\n",
              "        vertical-align: middle;\n",
              "    }\n",
              "\n",
              "    .dataframe tbody tr th {\n",
              "        vertical-align: top;\n",
              "    }\n",
              "\n",
              "    .dataframe thead th {\n",
              "        text-align: right;\n",
              "    }\n",
              "</style>\n",
              "<table border=\"1\" class=\"dataframe\">\n",
              "  <thead>\n",
              "    <tr style=\"text-align: right;\">\n",
              "      <th></th>\n",
              "      <th>sum_H_0</th>\n",
              "      <th>sum_H_1</th>\n",
              "      <th>sum_H_2</th>\n",
              "      <th>mean_H_0</th>\n",
              "      <th>mean_H_1</th>\n",
              "      <th>mean_H_2</th>\n",
              "      <th>std_H_0</th>\n",
              "      <th>std_H_1</th>\n",
              "      <th>std_H_2</th>\n",
              "      <th>entropy_H_0</th>\n",
              "      <th>...</th>\n",
              "      <th>solv_sum_H_2</th>\n",
              "      <th>solv_mean_H_0</th>\n",
              "      <th>solv_mean_H_1</th>\n",
              "      <th>solv_mean_H_2</th>\n",
              "      <th>solv_std_H_0</th>\n",
              "      <th>solv_std_H_1</th>\n",
              "      <th>solv_std_H_2</th>\n",
              "      <th>solv_entropy_H_0</th>\n",
              "      <th>solv_entropy_H_1</th>\n",
              "      <th>solv_entropy_H_2</th>\n",
              "    </tr>\n",
              "  </thead>\n",
              "  <tbody>\n",
              "    <tr>\n",
              "      <th>0</th>\n",
              "      <td>23.246843</td>\n",
              "      <td>1.980698</td>\n",
              "      <td>0.665151</td>\n",
              "      <td>1.291491</td>\n",
              "      <td>0.990349</td>\n",
              "      <td>0.332575</td>\n",
              "      <td>0.156088</td>\n",
              "      <td>0.027592</td>\n",
              "      <td>0.011348</td>\n",
              "      <td>2.882842</td>\n",
              "      <td>...</td>\n",
              "      <td>0.0</td>\n",
              "      <td>0.969301</td>\n",
              "      <td>0.000000</td>\n",
              "      <td>0.0</td>\n",
              "      <td>0.000561</td>\n",
              "      <td>0.0</td>\n",
              "      <td>0.0</td>\n",
              "      <td>0.693147</td>\n",
              "      <td>NaN</td>\n",
              "      <td>NaN</td>\n",
              "    </tr>\n",
              "    <tr>\n",
              "      <th>1</th>\n",
              "      <td>22.197383</td>\n",
              "      <td>1.980732</td>\n",
              "      <td>0.585642</td>\n",
              "      <td>1.305728</td>\n",
              "      <td>0.990366</td>\n",
              "      <td>0.292821</td>\n",
              "      <td>0.138862</td>\n",
              "      <td>0.026226</td>\n",
              "      <td>0.026327</td>\n",
              "      <td>2.827431</td>\n",
              "      <td>...</td>\n",
              "      <td>0.0</td>\n",
              "      <td>0.969301</td>\n",
              "      <td>0.000000</td>\n",
              "      <td>0.0</td>\n",
              "      <td>0.000561</td>\n",
              "      <td>0.0</td>\n",
              "      <td>0.0</td>\n",
              "      <td>0.693147</td>\n",
              "      <td>NaN</td>\n",
              "      <td>NaN</td>\n",
              "    </tr>\n",
              "    <tr>\n",
              "      <th>2</th>\n",
              "      <td>213.914595</td>\n",
              "      <td>23.742402</td>\n",
              "      <td>3.444077</td>\n",
              "      <td>1.258321</td>\n",
              "      <td>0.552149</td>\n",
              "      <td>0.111099</td>\n",
              "      <td>0.190422</td>\n",
              "      <td>0.254299</td>\n",
              "      <td>0.115261</td>\n",
              "      <td>5.124547</td>\n",
              "      <td>...</td>\n",
              "      <td>0.0</td>\n",
              "      <td>1.601740</td>\n",
              "      <td>0.000000</td>\n",
              "      <td>0.0</td>\n",
              "      <td>0.293662</td>\n",
              "      <td>0.0</td>\n",
              "      <td>0.0</td>\n",
              "      <td>1.368031</td>\n",
              "      <td>NaN</td>\n",
              "      <td>NaN</td>\n",
              "    </tr>\n",
              "    <tr>\n",
              "      <th>3</th>\n",
              "      <td>48.280739</td>\n",
              "      <td>5.812330</td>\n",
              "      <td>1.622419</td>\n",
              "      <td>1.304885</td>\n",
              "      <td>0.968722</td>\n",
              "      <td>0.324484</td>\n",
              "      <td>0.162590</td>\n",
              "      <td>0.114124</td>\n",
              "      <td>0.026252</td>\n",
              "      <td>3.603055</td>\n",
              "      <td>...</td>\n",
              "      <td>0.0</td>\n",
              "      <td>1.181075</td>\n",
              "      <td>0.000000</td>\n",
              "      <td>0.0</td>\n",
              "      <td>0.139617</td>\n",
              "      <td>0.0</td>\n",
              "      <td>0.0</td>\n",
              "      <td>1.602776</td>\n",
              "      <td>NaN</td>\n",
              "      <td>NaN</td>\n",
              "    </tr>\n",
              "    <tr>\n",
              "      <th>4</th>\n",
              "      <td>48.269103</td>\n",
              "      <td>5.813468</td>\n",
              "      <td>1.621350</td>\n",
              "      <td>1.304570</td>\n",
              "      <td>0.968911</td>\n",
              "      <td>0.324270</td>\n",
              "      <td>0.162509</td>\n",
              "      <td>0.113469</td>\n",
              "      <td>0.027055</td>\n",
              "      <td>3.603060</td>\n",
              "      <td>...</td>\n",
              "      <td>0.0</td>\n",
              "      <td>1.296972</td>\n",
              "      <td>0.000000</td>\n",
              "      <td>0.0</td>\n",
              "      <td>0.301253</td>\n",
              "      <td>0.0</td>\n",
              "      <td>0.0</td>\n",
              "      <td>2.171758</td>\n",
              "      <td>NaN</td>\n",
              "      <td>NaN</td>\n",
              "    </tr>\n",
              "    <tr>\n",
              "      <th>...</th>\n",
              "      <td>...</td>\n",
              "      <td>...</td>\n",
              "      <td>...</td>\n",
              "      <td>...</td>\n",
              "      <td>...</td>\n",
              "      <td>...</td>\n",
              "      <td>...</td>\n",
              "      <td>...</td>\n",
              "      <td>...</td>\n",
              "      <td>...</td>\n",
              "      <td>...</td>\n",
              "      <td>...</td>\n",
              "      <td>...</td>\n",
              "      <td>...</td>\n",
              "      <td>...</td>\n",
              "      <td>...</td>\n",
              "      <td>...</td>\n",
              "      <td>...</td>\n",
              "      <td>...</td>\n",
              "      <td>...</td>\n",
              "      <td>...</td>\n",
              "    </tr>\n",
              "    <tr>\n",
              "      <th>20231</th>\n",
              "      <td>56.185477</td>\n",
              "      <td>5.674320</td>\n",
              "      <td>0.824869</td>\n",
              "      <td>1.276943</td>\n",
              "      <td>0.709290</td>\n",
              "      <td>0.274956</td>\n",
              "      <td>0.165026</td>\n",
              "      <td>0.344678</td>\n",
              "      <td>0.054739</td>\n",
              "      <td>3.775771</td>\n",
              "      <td>...</td>\n",
              "      <td>0.0</td>\n",
              "      <td>1.223888</td>\n",
              "      <td>0.815529</td>\n",
              "      <td>0.0</td>\n",
              "      <td>0.143131</td>\n",
              "      <td>0.0</td>\n",
              "      <td>0.0</td>\n",
              "      <td>2.072589</td>\n",
              "      <td>-0.0</td>\n",
              "      <td>NaN</td>\n",
              "    </tr>\n",
              "    <tr>\n",
              "      <th>20232</th>\n",
              "      <td>59.941951</td>\n",
              "      <td>5.505393</td>\n",
              "      <td>1.355778</td>\n",
              "      <td>1.275361</td>\n",
              "      <td>0.786485</td>\n",
              "      <td>0.225963</td>\n",
              "      <td>0.168100</td>\n",
              "      <td>0.336267</td>\n",
              "      <td>0.091661</td>\n",
              "      <td>3.841420</td>\n",
              "      <td>...</td>\n",
              "      <td>0.0</td>\n",
              "      <td>1.223888</td>\n",
              "      <td>0.815529</td>\n",
              "      <td>0.0</td>\n",
              "      <td>0.143131</td>\n",
              "      <td>0.0</td>\n",
              "      <td>0.0</td>\n",
              "      <td>2.072589</td>\n",
              "      <td>-0.0</td>\n",
              "      <td>NaN</td>\n",
              "    </tr>\n",
              "    <tr>\n",
              "      <th>20233</th>\n",
              "      <td>67.728887</td>\n",
              "      <td>7.936710</td>\n",
              "      <td>1.210606</td>\n",
              "      <td>1.277904</td>\n",
              "      <td>0.793671</td>\n",
              "      <td>0.172944</td>\n",
              "      <td>0.168933</td>\n",
              "      <td>0.331740</td>\n",
              "      <td>0.076605</td>\n",
              "      <td>3.961498</td>\n",
              "      <td>...</td>\n",
              "      <td>0.0</td>\n",
              "      <td>1.223888</td>\n",
              "      <td>0.815529</td>\n",
              "      <td>0.0</td>\n",
              "      <td>0.143131</td>\n",
              "      <td>0.0</td>\n",
              "      <td>0.0</td>\n",
              "      <td>2.072589</td>\n",
              "      <td>-0.0</td>\n",
              "      <td>NaN</td>\n",
              "    </tr>\n",
              "    <tr>\n",
              "      <th>20234</th>\n",
              "      <td>67.699562</td>\n",
              "      <td>6.415555</td>\n",
              "      <td>1.681675</td>\n",
              "      <td>1.277350</td>\n",
              "      <td>0.801944</td>\n",
              "      <td>0.240239</td>\n",
              "      <td>0.166222</td>\n",
              "      <td>0.349262</td>\n",
              "      <td>0.092728</td>\n",
              "      <td>3.961762</td>\n",
              "      <td>...</td>\n",
              "      <td>0.0</td>\n",
              "      <td>1.223888</td>\n",
              "      <td>0.815529</td>\n",
              "      <td>0.0</td>\n",
              "      <td>0.143131</td>\n",
              "      <td>0.0</td>\n",
              "      <td>0.0</td>\n",
              "      <td>2.072589</td>\n",
              "      <td>-0.0</td>\n",
              "      <td>NaN</td>\n",
              "    </tr>\n",
              "    <tr>\n",
              "      <th>20235</th>\n",
              "      <td>78.361056</td>\n",
              "      <td>8.345664</td>\n",
              "      <td>2.021316</td>\n",
              "      <td>1.284607</td>\n",
              "      <td>0.834566</td>\n",
              "      <td>0.252664</td>\n",
              "      <td>0.164009</td>\n",
              "      <td>0.346930</td>\n",
              "      <td>0.093635</td>\n",
              "      <td>4.102626</td>\n",
              "      <td>...</td>\n",
              "      <td>0.0</td>\n",
              "      <td>1.223888</td>\n",
              "      <td>0.815529</td>\n",
              "      <td>0.0</td>\n",
              "      <td>0.143131</td>\n",
              "      <td>0.0</td>\n",
              "      <td>0.0</td>\n",
              "      <td>2.072589</td>\n",
              "      <td>-0.0</td>\n",
              "      <td>NaN</td>\n",
              "    </tr>\n",
              "  </tbody>\n",
              "</table>\n",
              "<p>20236 rows × 24 columns</p>\n",
              "</div>\n",
              "    <div class=\"colab-df-buttons\">\n",
              "\n",
              "  <div class=\"colab-df-container\">\n",
              "    <button class=\"colab-df-convert\" onclick=\"convertToInteractive('df-caa0120e-f29d-4c2d-9683-2dd30619e3cf')\"\n",
              "            title=\"Convert this dataframe to an interactive table.\"\n",
              "            style=\"display:none;\">\n",
              "\n",
              "  <svg xmlns=\"http://www.w3.org/2000/svg\" height=\"24px\" viewBox=\"0 -960 960 960\">\n",
              "    <path d=\"M120-120v-720h720v720H120Zm60-500h600v-160H180v160Zm220 220h160v-160H400v160Zm0 220h160v-160H400v160ZM180-400h160v-160H180v160Zm440 0h160v-160H620v160ZM180-180h160v-160H180v160Zm440 0h160v-160H620v160Z\"/>\n",
              "  </svg>\n",
              "    </button>\n",
              "\n",
              "  <style>\n",
              "    .colab-df-container {\n",
              "      display:flex;\n",
              "      gap: 12px;\n",
              "    }\n",
              "\n",
              "    .colab-df-convert {\n",
              "      background-color: #E8F0FE;\n",
              "      border: none;\n",
              "      border-radius: 50%;\n",
              "      cursor: pointer;\n",
              "      display: none;\n",
              "      fill: #1967D2;\n",
              "      height: 32px;\n",
              "      padding: 0 0 0 0;\n",
              "      width: 32px;\n",
              "    }\n",
              "\n",
              "    .colab-df-convert:hover {\n",
              "      background-color: #E2EBFA;\n",
              "      box-shadow: 0px 1px 2px rgba(60, 64, 67, 0.3), 0px 1px 3px 1px rgba(60, 64, 67, 0.15);\n",
              "      fill: #174EA6;\n",
              "    }\n",
              "\n",
              "    .colab-df-buttons div {\n",
              "      margin-bottom: 4px;\n",
              "    }\n",
              "\n",
              "    [theme=dark] .colab-df-convert {\n",
              "      background-color: #3B4455;\n",
              "      fill: #D2E3FC;\n",
              "    }\n",
              "\n",
              "    [theme=dark] .colab-df-convert:hover {\n",
              "      background-color: #434B5C;\n",
              "      box-shadow: 0px 1px 3px 1px rgba(0, 0, 0, 0.15);\n",
              "      filter: drop-shadow(0px 1px 2px rgba(0, 0, 0, 0.3));\n",
              "      fill: #FFFFFF;\n",
              "    }\n",
              "  </style>\n",
              "\n",
              "    <script>\n",
              "      const buttonEl =\n",
              "        document.querySelector('#df-caa0120e-f29d-4c2d-9683-2dd30619e3cf button.colab-df-convert');\n",
              "      buttonEl.style.display =\n",
              "        google.colab.kernel.accessAllowed ? 'block' : 'none';\n",
              "\n",
              "      async function convertToInteractive(key) {\n",
              "        const element = document.querySelector('#df-caa0120e-f29d-4c2d-9683-2dd30619e3cf');\n",
              "        const dataTable =\n",
              "          await google.colab.kernel.invokeFunction('convertToInteractive',\n",
              "                                                    [key], {});\n",
              "        if (!dataTable) return;\n",
              "\n",
              "        const docLinkHtml = 'Like what you see? Visit the ' +\n",
              "          '<a target=\"_blank\" href=https://colab.research.google.com/notebooks/data_table.ipynb>data table notebook</a>'\n",
              "          + ' to learn more about interactive tables.';\n",
              "        element.innerHTML = '';\n",
              "        dataTable['output_type'] = 'display_data';\n",
              "        await google.colab.output.renderOutput(dataTable, element);\n",
              "        const docLink = document.createElement('div');\n",
              "        docLink.innerHTML = docLinkHtml;\n",
              "        element.appendChild(docLink);\n",
              "      }\n",
              "    </script>\n",
              "  </div>\n",
              "\n",
              "\n",
              "<div id=\"df-9f711bad-913a-4800-8b43-832f636f5f64\">\n",
              "  <button class=\"colab-df-quickchart\" onclick=\"quickchart('df-9f711bad-913a-4800-8b43-832f636f5f64')\"\n",
              "            title=\"Suggest charts\"\n",
              "            style=\"display:none;\">\n",
              "\n",
              "<svg xmlns=\"http://www.w3.org/2000/svg\" height=\"24px\"viewBox=\"0 0 24 24\"\n",
              "     width=\"24px\">\n",
              "    <g>\n",
              "        <path d=\"M19 3H5c-1.1 0-2 .9-2 2v14c0 1.1.9 2 2 2h14c1.1 0 2-.9 2-2V5c0-1.1-.9-2-2-2zM9 17H7v-7h2v7zm4 0h-2V7h2v10zm4 0h-2v-4h2v4z\"/>\n",
              "    </g>\n",
              "</svg>\n",
              "  </button>\n",
              "\n",
              "<style>\n",
              "  .colab-df-quickchart {\n",
              "      --bg-color: #E8F0FE;\n",
              "      --fill-color: #1967D2;\n",
              "      --hover-bg-color: #E2EBFA;\n",
              "      --hover-fill-color: #174EA6;\n",
              "      --disabled-fill-color: #AAA;\n",
              "      --disabled-bg-color: #DDD;\n",
              "  }\n",
              "\n",
              "  [theme=dark] .colab-df-quickchart {\n",
              "      --bg-color: #3B4455;\n",
              "      --fill-color: #D2E3FC;\n",
              "      --hover-bg-color: #434B5C;\n",
              "      --hover-fill-color: #FFFFFF;\n",
              "      --disabled-bg-color: #3B4455;\n",
              "      --disabled-fill-color: #666;\n",
              "  }\n",
              "\n",
              "  .colab-df-quickchart {\n",
              "    background-color: var(--bg-color);\n",
              "    border: none;\n",
              "    border-radius: 50%;\n",
              "    cursor: pointer;\n",
              "    display: none;\n",
              "    fill: var(--fill-color);\n",
              "    height: 32px;\n",
              "    padding: 0;\n",
              "    width: 32px;\n",
              "  }\n",
              "\n",
              "  .colab-df-quickchart:hover {\n",
              "    background-color: var(--hover-bg-color);\n",
              "    box-shadow: 0 1px 2px rgba(60, 64, 67, 0.3), 0 1px 3px 1px rgba(60, 64, 67, 0.15);\n",
              "    fill: var(--button-hover-fill-color);\n",
              "  }\n",
              "\n",
              "  .colab-df-quickchart-complete:disabled,\n",
              "  .colab-df-quickchart-complete:disabled:hover {\n",
              "    background-color: var(--disabled-bg-color);\n",
              "    fill: var(--disabled-fill-color);\n",
              "    box-shadow: none;\n",
              "  }\n",
              "\n",
              "  .colab-df-spinner {\n",
              "    border: 2px solid var(--fill-color);\n",
              "    border-color: transparent;\n",
              "    border-bottom-color: var(--fill-color);\n",
              "    animation:\n",
              "      spin 1s steps(1) infinite;\n",
              "  }\n",
              "\n",
              "  @keyframes spin {\n",
              "    0% {\n",
              "      border-color: transparent;\n",
              "      border-bottom-color: var(--fill-color);\n",
              "      border-left-color: var(--fill-color);\n",
              "    }\n",
              "    20% {\n",
              "      border-color: transparent;\n",
              "      border-left-color: var(--fill-color);\n",
              "      border-top-color: var(--fill-color);\n",
              "    }\n",
              "    30% {\n",
              "      border-color: transparent;\n",
              "      border-left-color: var(--fill-color);\n",
              "      border-top-color: var(--fill-color);\n",
              "      border-right-color: var(--fill-color);\n",
              "    }\n",
              "    40% {\n",
              "      border-color: transparent;\n",
              "      border-right-color: var(--fill-color);\n",
              "      border-top-color: var(--fill-color);\n",
              "    }\n",
              "    60% {\n",
              "      border-color: transparent;\n",
              "      border-right-color: var(--fill-color);\n",
              "    }\n",
              "    80% {\n",
              "      border-color: transparent;\n",
              "      border-right-color: var(--fill-color);\n",
              "      border-bottom-color: var(--fill-color);\n",
              "    }\n",
              "    90% {\n",
              "      border-color: transparent;\n",
              "      border-bottom-color: var(--fill-color);\n",
              "    }\n",
              "  }\n",
              "</style>\n",
              "\n",
              "  <script>\n",
              "    async function quickchart(key) {\n",
              "      const quickchartButtonEl =\n",
              "        document.querySelector('#' + key + ' button');\n",
              "      quickchartButtonEl.disabled = true;  // To prevent multiple clicks.\n",
              "      quickchartButtonEl.classList.add('colab-df-spinner');\n",
              "      try {\n",
              "        const charts = await google.colab.kernel.invokeFunction(\n",
              "            'suggestCharts', [key], {});\n",
              "      } catch (error) {\n",
              "        console.error('Error during call to suggestCharts:', error);\n",
              "      }\n",
              "      quickchartButtonEl.classList.remove('colab-df-spinner');\n",
              "      quickchartButtonEl.classList.add('colab-df-quickchart-complete');\n",
              "    }\n",
              "    (() => {\n",
              "      let quickchartButtonEl =\n",
              "        document.querySelector('#df-9f711bad-913a-4800-8b43-832f636f5f64 button');\n",
              "      quickchartButtonEl.style.display =\n",
              "        google.colab.kernel.accessAllowed ? 'block' : 'none';\n",
              "    })();\n",
              "  </script>\n",
              "</div>\n",
              "    </div>\n",
              "  </div>\n"
            ]
          },
          "metadata": {},
          "execution_count": 71
        }
      ]
    },
    {
      "cell_type": "code",
      "source": [
        "topol_feat.to_csv('/content/drive/MyDrive/MSU_AI_Photocatal/Datasets/Topology/Topology_features_organic_compounds.csv')"
      ],
      "metadata": {
        "id": "zlRrT5Vb-Fv4"
      },
      "execution_count": null,
      "outputs": []
    },
    {
      "cell_type": "markdown",
      "source": [
        "# SLATM"
      ],
      "metadata": {
        "id": "q9J1ufIKTFcU"
      }
    },
    {
      "cell_type": "markdown",
      "source": [
        "## Unzip coordinates"
      ],
      "metadata": {
        "id": "PP9BRnNN-LTi"
      }
    },
    {
      "cell_type": "code",
      "source": [
        "from IPython.display import clear_output\n",
        "!unzip /content/drive/MyDrive/MSU_AI_Photocatal/Datasets/Coordinates_xyz/Organic_compounds_optimize_MM_coordinates.zip\n",
        "!unzip /content/drive/MyDrive/MSU_AI_Photocatal/Datasets/Coordinates_xyz/Organic_compounds_optimize_XTB_coordinates.zip\n",
        "!unzip /content/drive/MyDrive/MSU_AI_Photocatal/Datasets/Coordinates_xyz/Organic_compounds_solvents_optimize_XTB_coordinates.zip\n",
        "clear_output()"
      ],
      "metadata": {
        "id": "z3EVXnH0-NDW"
      },
      "execution_count": null,
      "outputs": []
    },
    {
      "cell_type": "markdown",
      "source": [
        "## Preparing SLATM of organic compounds"
      ],
      "metadata": {
        "id": "vQ-Ujk1sYmod"
      }
    },
    {
      "cell_type": "code",
      "source": [
        "from qml import Compound\n",
        "from tqdm import tqdm\n",
        "import warnings\n",
        "import os\n",
        "slatm_ds = []\n",
        "filenames = []\n",
        "path_to_folder = \"/content/Result_xyz\"\n",
        "for filename in tqdm(os.listdir(path_to_folder)): # prepare mol representation of molecules from .xyz files\n",
        "  try:\n",
        "    mol = Compound(xyz = os.path.join(path_to_folder, filename))\n",
        "    slatm_ds.append(mol)\n",
        "    filenames.append(filename.split('.')[0])\n",
        "  except:\n",
        "    print(f'{filename} not work, load from /content/Input_xtb')\n",
        "    mol = Compound(xyz = os.path.join('/content/Input_xtb', filename))\n",
        "    slatm_ds.append(mol)\n",
        "    filenames.append(filename.split('.')[0])"
      ],
      "metadata": {
        "id": "GikWUInoTE0f",
        "colab": {
          "base_uri": "https://localhost:8080/"
        },
        "outputId": "552e2cee-4def-4847-a0f6-958f2f56305d"
      },
      "execution_count": null,
      "outputs": [
        {
          "output_type": "stream",
          "name": "stderr",
          "text": [
            " 70%|███████   | 14173/20236 [00:13<00:04, 1496.20it/s]"
          ]
        },
        {
          "output_type": "stream",
          "name": "stdout",
          "text": [
            "6477.xyz not work\n"
          ]
        },
        {
          "output_type": "stream",
          "name": "stderr",
          "text": [
            "100%|██████████| 20236/20236 [00:20<00:00, 990.52it/s]\n"
          ]
        }
      ]
    },
    {
      "cell_type": "code",
      "source": [
        "from qml.representations import get_slatm_mbtypes\n",
        "\n",
        "mbtypes = get_slatm_mbtypes([mol.nuclear_charges for compound in slatm_ds]) # make charge distribution for organic compounds"
      ],
      "metadata": {
        "id": "PC4C1jacXyXS"
      },
      "execution_count": null,
      "outputs": []
    },
    {
      "cell_type": "code",
      "source": [
        "SLATM_df = {}\n",
        "\n",
        "for filename in tqdm(range(20236)): # make slatm for organic compounds\n",
        "  try:\n",
        "    mol = Compound(xyz = os.path.join('/content/Result_xyz', f'{filename}.xyz'))\n",
        "    mol.generate_slatm(mbtypes)\n",
        "    SLATM_df[f'{filename}'] = mol.representation\n",
        "  except: # fill the bag from GFN2-xTB\n",
        "    print(f'{filename} not work')\n",
        "    mol = Compound(xyz = os.path.join('/content/Input_xtb', f'{filename}.xyz'))\n",
        "    mol.generate_slatm(mbtypes)\n",
        "    SLATM_df[f'{filename}'] = mol.representation"
      ],
      "metadata": {
        "id": "msPzfiSOX2LP",
        "colab": {
          "base_uri": "https://localhost:8080/"
        },
        "outputId": "21366b64-cc38-4698-bf1e-32d82a0e97d5"
      },
      "execution_count": null,
      "outputs": [
        {
          "output_type": "stream",
          "name": "stderr",
          "text": [
            " 32%|███▏      | 6486/20236 [03:23<04:53, 46.80it/s]"
          ]
        },
        {
          "output_type": "stream",
          "name": "stdout",
          "text": [
            "6477 not work\n"
          ]
        },
        {
          "output_type": "stream",
          "name": "stderr",
          "text": [
            "100%|██████████| 20236/20236 [11:52<00:00, 28.41it/s]\n"
          ]
        }
      ]
    },
    {
      "cell_type": "code",
      "source": [
        "sl_df = pd.DataFrame(SLATM_df).T"
      ],
      "metadata": {
        "id": "S4OzTVW2X-w9"
      },
      "execution_count": null,
      "outputs": []
    },
    {
      "cell_type": "markdown",
      "source": [
        "## Preparing SLATM dataset for organic compounds and solvents"
      ],
      "metadata": {
        "id": "CVxLiuFYZCrv"
      }
    },
    {
      "cell_type": "code",
      "source": [
        "from qml import Compound\n",
        "from tqdm import tqdm\n",
        "import os\n",
        "slatm_ds_solv = []\n",
        "filenames_solv = []\n",
        "path_to_folder = \"/content/Solvent\"\n",
        "for filename in tqdm(os.listdir(path_to_folder)):\n",
        "    mol = Compound(xyz = os.path.join(path_to_folder, filename))\n",
        "    slatm_ds_solv.append(mol)\n",
        "    filenames_solv.append(filename.split('.')[0])"
      ],
      "metadata": {
        "id": "n4Lp4EIFZIbt",
        "colab": {
          "base_uri": "https://localhost:8080/"
        },
        "outputId": "812004d4-57fa-4362-d2b5-391647e1be26"
      },
      "execution_count": null,
      "outputs": [
        {
          "output_type": "stream",
          "name": "stderr",
          "text": [
            "100%|██████████| 1145/1145 [00:01<00:00, 574.40it/s]\n"
          ]
        }
      ]
    },
    {
      "cell_type": "code",
      "source": [
        "from qml.representations import get_slatm_mbtypes\n",
        "\n",
        "mbtypes_solv = get_slatm_mbtypes([mol.nuclear_charges for compound in slatm_ds_solv])"
      ],
      "metadata": {
        "id": "J8Qp1kOhZiN7"
      },
      "execution_count": null,
      "outputs": []
    },
    {
      "cell_type": "code",
      "source": [
        "for file in tqdm(os.listdir(\"/content/Solvent\")): # do it, else u have problem with register\n",
        "  print(file)\n",
        "  os.rename(f'/content/Solvent/{file}',f'/content/Solvent/{file.lower()}')"
      ],
      "metadata": {
        "id": "EP0SQrYMaiDG"
      },
      "execution_count": null,
      "outputs": []
    },
    {
      "cell_type": "code",
      "source": [
        "SLATM_df_solv = {}\n",
        "for filename in tqdm(range(20236)):\n",
        "  #print(filename)\n",
        "  try:\n",
        "    sol = start_db['Solvent'][filename].lower()\n",
        "    solv = Compound(xyz = os.path.join(\"/content/Solvent\", f'{sol}.xyz'))\n",
        "    solv.generate_slatm(mbtypes_solv)\n",
        "    solvent = solv.representation\n",
        "    SLATM_df_solv[f'{filename}'] = np.append(SLATM_df[f'{filename}'],solvent)\n",
        "  except:\n",
        "    print(f'{filename} not work')\n",
        "    SLATM_df_solv[f'{filename}'] = np.append(SLATM_df[f'{filename}'],np.array([np.float16(0) for i in range(len(solvent))]))"
      ],
      "metadata": {
        "id": "FFus0x_-Zw35"
      },
      "execution_count": null,
      "outputs": []
    },
    {
      "cell_type": "code",
      "source": [
        "sl_df_full = pd.DataFrame(SLATM_df_solv).T\n",
        "sl_df_full"
      ],
      "metadata": {
        "id": "zDMMR8-0a0f_"
      },
      "execution_count": null,
      "outputs": []
    },
    {
      "cell_type": "code",
      "source": [
        "sl_df_full.to_csv('/content/drive/MyDrive/MSU_AI_Photocatal/Datasets/Organic_compounds_descriptors/SLATM_organic_compounds_with_solv.csv')"
      ],
      "metadata": {
        "id": "143OuLdSa6kG"
      },
      "execution_count": null,
      "outputs": []
    },
    {
      "cell_type": "markdown",
      "source": [
        "# Coulomb matrix"
      ],
      "metadata": {
        "id": "JmqI4AHCd37d"
      }
    },
    {
      "cell_type": "markdown",
      "source": [
        "## Unzip coordinates"
      ],
      "metadata": {
        "id": "Oh8qjSgeEQrO"
      }
    },
    {
      "cell_type": "code",
      "source": [
        "from IPython.display import clear_output\n",
        "!unzip /content/drive/MyDrive/MSU_AI_Photocatal/Datasets/Coordinates_xyz/Organic_compounds_optimize_MM_coordinates.zip\n",
        "!unzip /content/drive/MyDrive/MSU_AI_Photocatal/Datasets/Coordinates_xyz/Organic_compounds_optimize_XTB_coordinates.zip\n",
        "!unzip /content/drive/MyDrive/MSU_AI_Photocatal/Datasets/Coordinates_xyz/Organic_compounds_solvents_optimize_XTB_coordinates.zip\n",
        "clear_output()"
      ],
      "metadata": {
        "id": "1IM4bBVtESgE"
      },
      "execution_count": null,
      "outputs": []
    },
    {
      "cell_type": "code",
      "source": [],
      "metadata": {
        "id": "I3DrQUMQxKD-"
      },
      "execution_count": null,
      "outputs": []
    },
    {
      "cell_type": "markdown",
      "source": [
        "## Import libraries"
      ],
      "metadata": {
        "id": "UAb1pkdkENj5"
      }
    },
    {
      "cell_type": "code",
      "source": [
        "from dscribe.descriptors import CoulombMatrix\n",
        "import ase\n",
        "from ase.build import molecule\n",
        "from tqdm import tqdm\n",
        "import os\n",
        "import pandas as pd\n",
        "import numpy as np"
      ],
      "metadata": {
        "id": "8DSXrfV2d7o9",
        "colab": {
          "base_uri": "https://localhost:8080/",
          "height": 383
        },
        "outputId": "441ab63c-b906-4a06-eac5-5b2da9f84bb0"
      },
      "execution_count": 4,
      "outputs": [
        {
          "output_type": "error",
          "ename": "ModuleNotFoundError",
          "evalue": "ignored",
          "traceback": [
            "\u001b[0;31m---------------------------------------------------------------------------\u001b[0m",
            "\u001b[0;31mModuleNotFoundError\u001b[0m                       Traceback (most recent call last)",
            "\u001b[0;32m<ipython-input-4-0e775dffe693>\u001b[0m in \u001b[0;36m<cell line: 1>\u001b[0;34m()\u001b[0m\n\u001b[0;32m----> 1\u001b[0;31m \u001b[0;32mfrom\u001b[0m \u001b[0mdscribe\u001b[0m\u001b[0;34m.\u001b[0m\u001b[0mdescriptors\u001b[0m \u001b[0;32mimport\u001b[0m \u001b[0mCoulombMatrix\u001b[0m\u001b[0;34m\u001b[0m\u001b[0;34m\u001b[0m\u001b[0m\n\u001b[0m\u001b[1;32m      2\u001b[0m \u001b[0;32mimport\u001b[0m \u001b[0mase\u001b[0m\u001b[0;34m\u001b[0m\u001b[0;34m\u001b[0m\u001b[0m\n\u001b[1;32m      3\u001b[0m \u001b[0;32mfrom\u001b[0m \u001b[0mase\u001b[0m\u001b[0;34m.\u001b[0m\u001b[0mbuild\u001b[0m \u001b[0;32mimport\u001b[0m \u001b[0mmolecule\u001b[0m\u001b[0;34m\u001b[0m\u001b[0;34m\u001b[0m\u001b[0m\n\u001b[1;32m      4\u001b[0m \u001b[0;32mfrom\u001b[0m \u001b[0mtqdm\u001b[0m \u001b[0;32mimport\u001b[0m \u001b[0mtqdm\u001b[0m\u001b[0;34m\u001b[0m\u001b[0;34m\u001b[0m\u001b[0m\n\u001b[1;32m      5\u001b[0m \u001b[0;32mimport\u001b[0m \u001b[0mos\u001b[0m\u001b[0;34m\u001b[0m\u001b[0;34m\u001b[0m\u001b[0m\n",
            "\u001b[0;31mModuleNotFoundError\u001b[0m: No module named 'dscribe'",
            "",
            "\u001b[0;31m---------------------------------------------------------------------------\u001b[0;32m\nNOTE: If your import is failing due to a missing package, you can\nmanually install dependencies using either !pip or !apt.\n\nTo view examples of installing some common dependencies, click the\n\"Open Examples\" button below.\n\u001b[0;31m---------------------------------------------------------------------------\u001b[0m\n"
          ],
          "errorDetails": {
            "actions": [
              {
                "action": "open_url",
                "actionText": "Open Examples",
                "url": "/notebooks/snippets/importing_libraries.ipynb"
              }
            ]
          }
        }
      ]
    },
    {
      "cell_type": "code",
      "source": [
        "#prepare organic compounds\n",
        "directory = '/content/Result_xyz'\n",
        "cm = CoulombMatrix(\n",
        "        n_atoms_max=387, # this number cover metal complexes and organic compounds datasets\n",
        ")\n",
        "j=0\n",
        "# iterate over files in\n",
        "# that directory\n",
        "list_of_CM = []\n",
        "for filename in tqdm(sorted(os.listdir(directory))):\n",
        "  comp = filename.split('.')[0]\n",
        "  try:\n",
        "    molecule = ase.io.read(f'{directory}/{filename}')\n",
        "    cms = cm.create(molecule)\n",
        "    cms_quad = cms.reshape(387,387)\n",
        "    cms=pd.DataFrame(cms)\n",
        "    cms_quad = pd.DataFrame(cms_quad)\n",
        "    cms_quad.to_csv(f'/content/drive/MyDrive/MSU_AI_Photocatal/Datasets/Coulomb_matrix/Organic_compounds/{comp}.csv')\n",
        "  except:\n",
        "    print(f'{filename} not optimized by XTB')\n",
        "    molecule = ase.io.read(f'/content/Input_xtb/{filename}')\n",
        "    cms = cm.create(molecule)\n",
        "    cms_quad = cms.reshape(387,387)\n",
        "    cms=pd.DataFrame(cms)\n",
        "    cms_quad = pd.DataFrame(cms_quad)\n",
        "    cms_quad.to_csv(f'/content/drive/MyDrive/MSU_AI_Photocatal/Datasets/Coulomb_matrix/Organic_compounds/{comp}.csv')"
      ],
      "metadata": {
        "id": "oTmww9qFi5hf",
        "colab": {
          "base_uri": "https://localhost:8080/"
        },
        "outputId": "48a0e120-04f5-468a-b4b3-dce5e5e52237"
      },
      "execution_count": null,
      "outputs": [
        {
          "output_type": "stream",
          "name": "stderr",
          "text": [
            " 81%|████████  | 16357/20236 [01:07<00:19, 200.90it/s]"
          ]
        },
        {
          "output_type": "stream",
          "name": "stdout",
          "text": [
            "6477.xyz not optimized by XTB\n"
          ]
        },
        {
          "output_type": "stream",
          "name": "stderr",
          "text": [
            "100%|██████████| 20236/20236 [01:19<00:00, 254.93it/s]\n"
          ]
        }
      ]
    },
    {
      "cell_type": "code",
      "source": [
        "#prepare organic compounds solvents\n",
        "directory = '/content/Solvent'\n",
        "cm = CoulombMatrix(\n",
        "        n_atoms_max=387, # this number cover metal complexes and organic compounds datasets\n",
        ")\n",
        "j=0\n",
        "# iterate over files in\n",
        "# that directory\n",
        "list_of_CM = []\n",
        "for filename in tqdm(sorted(os.listdir(directory))):\n",
        "  solv = filename.split('.')[0]\n",
        "  try:\n",
        "    molecule = ase.io.read(f'{directory}/{filename}')\n",
        "    cms = cm.create(molecule)\n",
        "    cms_quad = cms.reshape(387,387)\n",
        "    cms_quad.to_csv(f'/content/drive/MyDrive/MSU_AI_Photocatal/Datasets/Coulomb_matrix/Organic_compounds_solv/{solv}.csv')\n",
        "  except:\n",
        "    print(f'{filename} not solvent')\n",
        "    cms_quad = np.zeros((387,387))\n",
        "    cms_quad = pd.DataFrame(cms_quad)\n",
        "    cms_quad.to_csv(f'/content/drive/MyDrive/MSU_AI_Photocatal/Datasets/Coulomb_matrix/Organic_compounds_solv/{solv}.csv')"
      ],
      "metadata": {
        "id": "BFVi66cnkPaB",
        "colab": {
          "base_uri": "https://localhost:8080/"
        },
        "outputId": "3feda92f-7f50-4803-ace1-0c69be0de2b9"
      },
      "execution_count": null,
      "outputs": [
        {
          "output_type": "stream",
          "name": "stderr",
          "text": [
            "  6%|▌         | 66/1145 [00:00<00:09, 116.85it/s]"
          ]
        },
        {
          "output_type": "stream",
          "name": "stdout",
          "text": [
            "c1cc[c@h]2cccc[c@h]2c1.xyz not solvent\n"
          ]
        },
        {
          "output_type": "stream",
          "name": "stderr",
          "text": [
            " 68%|██████▊   | 773/1145 [00:06<00:01, 295.10it/s]"
          ]
        },
        {
          "output_type": "stream",
          "name": "stdout",
          "text": [
            "ccoc(=o)[c@h](c)o.xyz not solvent\n",
            "cn(c)c1ccc2nc(-c3ccc(c(=o)oc[c@h](nc(=o)oc(c)(c)c)c(=o)occ4ccccc4)cc3)sc2c1.xyz not solvent\n"
          ]
        },
        {
          "output_type": "stream",
          "name": "stderr",
          "text": [
            " 74%|███████▎  | 844/1145 [00:06<00:00, 310.46it/s]"
          ]
        },
        {
          "output_type": "stream",
          "name": "stdout",
          "text": [
            "coc(=o)c1=c(c(=o)oc)c2=c[c@h]3c4ccccc4[c@]2([se]1)c1ccccc13.xyz not solvent\n",
            "coc(=o)c1=c(c(=o)oc)c2=c[c@h]3c4ccccc4[c@]2(s1)c1ccccc13.xyz not solvent\n"
          ]
        },
        {
          "output_type": "stream",
          "name": "stderr",
          "text": [
            "100%|██████████| 1145/1145 [00:07<00:00, 145.62it/s]\n"
          ]
        }
      ]
    },
    {
      "cell_type": "code",
      "source": [
        "for file in tqdm(os.listdir(\"/content/drive/MyDrive/MSU_AI_Photocatal/Datasets/Coulomb_matrix/Organic_compounds_solv\")): # do it, else u have problem with register\n",
        "  print(file)\n",
        "  os.rename(f'/content/drive/MyDrive/MSU_AI_Photocatal/Datasets/Coulomb_matrix/Organic_compounds_solv/{file}',f'/content/drive/MyDrive/MSU_AI_Photocatal/Datasets/Coulomb_matrix/Organic_compounds_solv/{file.lower()}')"
      ],
      "metadata": {
        "id": "s0kxjvvWxOtm"
      },
      "execution_count": null,
      "outputs": []
    },
    {
      "cell_type": "markdown",
      "source": [
        "### Load organic compounds dataset"
      ],
      "metadata": {
        "id": "RIhFR73FSFrS"
      }
    },
    {
      "cell_type": "code",
      "source": [
        "start_db = pd.read_csv('/content/drive/MyDrive/MSU_AI_Photocatal/Datasets/Target_dataset/Organic_compound_final_dataset.csv')"
      ],
      "metadata": {
        "id": "i3lISW96SKfU"
      },
      "execution_count": 2,
      "outputs": []
    },
    {
      "cell_type": "markdown",
      "source": [
        "## Prepare PCA Coulomb matrix"
      ],
      "metadata": {
        "id": "RN2GAdKAkFjb"
      }
    },
    {
      "cell_type": "code",
      "source": [
        "from tqdm import tqdm\n",
        "import os\n",
        "import pandas as pd\n",
        "import numpy as np"
      ],
      "metadata": {
        "id": "nwfBtQxwyzLu"
      },
      "execution_count": 1,
      "outputs": []
    },
    {
      "cell_type": "code",
      "source": [
        "from sklearn.decomposition import PCA\n",
        "from tqdm import tqdm\n",
        "directory = '/content/drive/MyDrive/MSU_AI_Photocatal/Datasets/Coulomb_matrix/Organic_compounds'\n",
        "directory_solv = \"/content/drive/MyDrive/MSU_AI_Photocatal/Datasets/Coulomb_matrix/Organic_compounds_solv\"\n",
        "# iterate over files in\n",
        "# that directory\n",
        "list_of_CM = []\n",
        "list_of_CM_solv = []\n",
        "for i in tqdm(range(20236)):\n",
        "  try:\n",
        "    pca = PCA(n_components=5)\n",
        "    pca_solv = PCA(n_components=5)\n",
        "    f = os.path.join(directory, str(i))\n",
        "    solv = os.path.join(directory_solv, start_db['Solvent'][i].lower())\n",
        "    df = pd.read_csv(f'{f}.csv')\n",
        "    df = df.drop(['Unnamed: 0'],axis=1)\n",
        "    df_solv = pd.read_csv(f'{solv}.csv')\n",
        "    df_solv = df_solv.drop(['Unnamed: 0'],axis=1)\n",
        "    CM_array = df.to_numpy()\n",
        "    CM_array_solv = df_solv.to_numpy()\n",
        "    pca.fit(CM_array)\n",
        "    pca_solv.fit(CM_array_solv)\n",
        "    #print(pca.explained_variance_ratio_) # if you want to check variavnce - uncomment\n",
        "    #print(pca_solv.explained_variance_ratio_)\n",
        "    CM_array = pca.transform(CM_array)\n",
        "    CM_array_solv = pca_solv.transform(CM_array_solv)\n",
        "    CM_new_2 = np.append(CM_array.flatten(),CM_array_solv.flatten())\n",
        "    list_of_CM.append(CM_new_2)\n",
        "  except:\n",
        "    solv = start_db['Solvent'][i].lower()\n",
        "    print(f'{solv} not work')\n",
        "    pca = PCA(n_components=5)\n",
        "    f = os.path.join(directory, str(i))\n",
        "    df = pd.read_csv(f'{f}.csv')\n",
        "    df = df.drop(['Unnamed: 0'],axis=1)\n",
        "    CM_array = df.to_numpy()\n",
        "    pca.fit(CM_array)\n",
        "    CM_array = pca.transform(CM_array)\n",
        "    CM_new_2 = np.append(CM_array,np.array([0 for i in range(1935)]))\n",
        "    list_of_CM.append(CM_new_2)"
      ],
      "metadata": {
        "id": "pVDw1akbnOPS"
      },
      "execution_count": null,
      "outputs": []
    },
    {
      "cell_type": "code",
      "source": [
        "name_first = [f'CM_{i}' for i in range(1935)]\n",
        "name_solv =  [f'CM_solv_{i}' for i in range(1935)]\n",
        "full_name = np.append(name_first,name_solv)\n",
        "CM_pca = pd.DataFrame(list_of_CM, columns=full_name )\n",
        "\n",
        "CM_pca.to_csv('/content/drive/MyDrive/MSU_AI_Photocatal/Datasets/Organic_compounds_descriptors/CM_pca_organic_compounds_with_solv.csv')"
      ],
      "metadata": {
        "id": "P56HrV4apiw2"
      },
      "execution_count": null,
      "outputs": []
    },
    {
      "cell_type": "markdown",
      "source": [
        "## Prepare Small Coulomb matrix"
      ],
      "metadata": {
        "id": "gAXI-7RAkwrs"
      }
    },
    {
      "cell_type": "code",
      "source": [
        "from sklearn.decomposition import PCA\n",
        "from tqdm import tqdm\n",
        "directory = '/content/drive/MyDrive/MSU_AI_Photocatal/Datasets/Coulomb_matrix/Organic_compounds'\n",
        "directory_solv = \"/content/drive/MyDrive/MSU_AI_Photocatal/Datasets/Coulomb_matrix/Organic_compounds_solv\"\n",
        "# iterate over files in\n",
        "# that directory\n",
        "list_of_CM = []\n",
        "list_of_CM_solv = []\n",
        "for i in tqdm(range(20236)):\n",
        "  try:\n",
        "    f = os.path.join(directory, str(i))\n",
        "    solv = os.path.join(directory_solv, start_db['Solvent'][i].lower())\n",
        "    df = pd.read_csv(f'{f}.csv')\n",
        "    df = df.drop(['Unnamed: 0'],axis=1)\n",
        "    df_solv = pd.read_csv(f'{solv}.csv')\n",
        "    df_solv = df_solv.drop(['Unnamed: 0'],axis=1)\n",
        "    CM_array = df.to_numpy()[:10,:10]\n",
        "    CM_array_solv = df_solv.to_numpy()[:10,:10]\n",
        "    CM_new = np.append(CM_array.flatten(),CM_array_solv.flatten())\n",
        "    #print('We are work')\n",
        "    list_of_CM.append(CM_new)\n",
        "  except:\n",
        "    solv = start_db['Solvent'][i].lower()\n",
        "    print(f'{solv} not work')\n",
        "    f = os.path.join(directory, str(i))\n",
        "    df = pd.read_csv(f'{f}.csv')\n",
        "    df = df.drop(['Unnamed: 0'],axis=1)\n",
        "    CM_array = df.to_numpy()[:10,:10]\n",
        "    CM_array= np.append(CM_array.flatten(),np.array([float(0) for i in range(100)]))\n",
        "    list_of_CM.append(CM_new)\n",
        "\n"
      ],
      "metadata": {
        "id": "kdZjvo5wkwFQ"
      },
      "execution_count": null,
      "outputs": []
    },
    {
      "cell_type": "code",
      "source": [
        "name_first = [f'CM_{i}' for i in range(100)]\n",
        "name_solv =  [f'CM_solv_{i}' for i in range(100)]\n",
        "full_name = np.append(name_first,name_solv)\n",
        "CM_small = pd.DataFrame(list_of_CM, columns=full_name)\n",
        "\n",
        "CM_small.to_csv('/content/drive/MyDrive/MSU_AI_Photocatal/Datasets/Organic_compounds_descriptors/Organic_compounds_coulomb_matrix_10x10.csv')"
      ],
      "metadata": {
        "id": "2FRYKO1sjRKn"
      },
      "execution_count": null,
      "outputs": []
    }
  ]
}